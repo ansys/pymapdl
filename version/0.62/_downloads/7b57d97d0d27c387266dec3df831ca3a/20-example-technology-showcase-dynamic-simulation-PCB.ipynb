{
  "cells": [
    {
      "cell_type": "code",
      "execution_count": null,
      "metadata": {
        "collapsed": false
      },
      "outputs": [],
      "source": [
        "%matplotlib inline"
      ]
    },
    {
      "cell_type": "markdown",
      "metadata": {},
      "source": [
        "# Dynamic simulation of a printed circuit board assembly {#ref_dynamic_simulation_printed_circuit_board}\r\n\r\nThis examples shows how to use PyMAPDL to import an existing FE model\r\nand to run a modal and PSD analysis. PyDPF modules are also used for\r\npost-processing.\r\n\r\nThis example is inspired from the model and analysis defined in Chapter\r\n20 of the Mechanical APDL Technology Showcase Manual.\r\n\r\n## Additional Packages Used\r\n\r\n-   [Matplotlib](https://matplotlib.org) is used for plotting purposes.\r\n"
      ]
    },
    {
      "cell_type": "markdown",
      "metadata": {},
      "source": [
        "# Starting MAPDL as a service and importing an external model\r\n\r\nThe original FE model is given in the Ansys Mechanical APDL Technology\r\nShowcase Manual. The .cdb contains a FE model of a single circuit board.\r\nThe model is meshed with SOLID186, SHELL181 and BEAM188 elements. All\r\ncomponents of the PCB model is assigned with linear elastic isotropic\r\nmaterials. Bonded and flexible surface-to-surface contact pairs are used\r\nto define the contact between the IC packages and the circuit board.\r\n"
      ]
    },
    {
      "cell_type": "code",
      "execution_count": null,
      "metadata": {
        "collapsed": false
      },
      "outputs": [],
      "source": [
        "import matplotlib.pyplot as plt\n\nfrom ansys.mapdl.core import launch_mapdl\nfrom ansys.mapdl.core.examples import download_tech_demo_data\n\n# start MAPDL as a service\nmapdl = launch_mapdl()\nprint(mapdl)\n\n# read model of single circuit board\n# download the cdb file\npcb_mesh_file = download_tech_demo_data(\"td-20\", \"pcb_mesh_file.cdb\")\n\n# enter preprocessor and read in cdb\nmapdl.prep7()\nmapdl.cdread(\"COMB\", pcb_mesh_file)\nmapdl.allsel()\nmapdl.eplot(background=\"w\")\nmapdl.cmsel(\"all\")"
      ]
    },
    {
      "cell_type": "markdown",
      "metadata": {},
      "source": [
        "# Creating the complete layered model\r\n\r\nThe original model will be duplicated to create a layered PCB of three\r\nlayers that are binded together.\r\n"
      ]
    },
    {
      "cell_type": "code",
      "execution_count": null,
      "metadata": {
        "collapsed": false
      },
      "outputs": [],
      "source": [
        "# duplicate single PCB to get three layers\n# get the maximum node number for the single layers PCB in the input file\nmax_nodenum = mapdl.get(\"max_nodenum\", \"node\", \"\", \"num\", \"max\")\n\n# generate additional PCBs offset by 20 mm in the -y direction\nmapdl.egen(3, max_nodenum, \"all\", dy=-20)\n\n\n# bind the three layers together\n# select components of interest\nmapdl.cmsel(\"s\", \"N_JOINT_BOARD\")\nmapdl.cmsel(\"a\", \"N_JOINT_LEGS\")\nmapdl.cmsel(\"a\", \"N_BASE\")\n\n# get number of currently selected nodes\nnb_selected_nodes = mapdl.mesh.n_node\ncurrent_node = 0\nqueries = mapdl.queries\n\n# also select similar nodes for copies of the single PCB\n# and couple all dofs at the interface\nfor node_id in range(1, nb_selected_nodes + 1):\n    current_node = queries.ndnext(current_node)\n    mapdl.nsel(\"a\", \"node\", \"\", current_node + max_nodenum)\n    mapdl.nsel(\"a\", \"node\", \"\", current_node + 2 * max_nodenum)\nmapdl.cpintf(\"all\")\n\n# define fixed support boundary condition\n# get max coupled set number\ncp_max = mapdl.get(\"cp_max\", \"cp\", 0, \"max\")\n\n# unselect nodes scoped in CP equations\nmapdl.nsel(\"u\", \"cp\", \"\", 1, \"cp_max\")\n\n# create named selection for base excitation\nmapdl.cm(\"n_base_excite\", \"node\")\n\n# fix displacement for base excitation nodes\nmapdl.d(\"all\", \"all\")\n\n# select all and plot the model using MAPDL's plotter and VTK's\nmapdl.allsel(\"all\")\nmapdl.cmsel(\"all\")\nmapdl.graphics(\"power\")\nmapdl.rgb(\"index\", 100, 100, 100, 0)\nmapdl.rgb(\"index\", 80, 80, 80, 13)\nmapdl.rgb(\"index\", 60, 60, 60, 14)\nmapdl.rgb(\"index\", 0, 0, 0, 15)\nmapdl.triad(\"rbot\")\nmapdl.pnum(\"type\", 1)\nmapdl.number(1)\nmapdl.hbc(1, \"on\")\nmapdl.pbc(\"all\", \"\", 1)\nmapdl.view(1, 1, 1, 1)\nmapdl.eplot(vtk=False)\nmapdl.eplot(vtk=True)"
      ]
    },
    {
      "cell_type": "markdown",
      "metadata": {},
      "source": [
        "# Run modal analysis\r\n\r\nA modal analysis is run using Block Lanzos. Only 10 modes are extracted\r\nfor the sake of run times, but using a higher number of nodes is\r\nrecommended (suggestion: 300 modes).\r\n"
      ]
    },
    {
      "cell_type": "code",
      "execution_count": null,
      "metadata": {
        "collapsed": false
      },
      "outputs": [],
      "source": [
        "# enter solution processor and define analysis settings\nmapdl.slashsolu()\nmapdl.antype(\"modal\")\n# set number of modes to extract\n# using a higher number of modes is recommended\nnb_modes = 10\n# use Block Lanzos to extract specified number of modes\nmapdl.modopt(\"lanb\", nb_modes)\nmapdl.mxpand(nb_modes)\noutput = mapdl.solve()\nprint(output)"
      ]
    },
    {
      "cell_type": "markdown",
      "metadata": {},
      "source": [
        "# Post-processing the modal results\r\n\r\nThis sections illustrates different methods to post-process the results\r\nof the modal analysis : PyMAPDL method, PyMAPDL result reader,\r\nPyDPF-Post and PyDPF-Core. All methods lead to the same result and are\r\njust given as an example of how each module can be used. The methods\r\nusing DPF modules are commented in the code due to CI/CD issues but will\r\nrun locally if uncommented.\r\n"
      ]
    },
    {
      "cell_type": "code",
      "execution_count": null,
      "metadata": {
        "collapsed": false
      },
      "outputs": [],
      "source": [
        "# using MAPDL methods\nmapdl.post1()\nmapdl.set(1, 1)\nmapdl.plnsol(\"u\", \"sum\")\n\n# using PyMAPDL result reader\nmapdl_result = mapdl.result\nmapdl_result.plot_nodal_displacement(0)\n\n# Using DPF-Post\n\n# from ansys.dpf import post\n# solution_path = 'file.rst'\n# solution = post.load_solution(solution_path)\n# print(solution)\n# displacement = solution.displacement(time_scoping=1)\n# total_deformation = displacement.norm\n# total_deformation.plot_contour(show_edges=True)\n\n# Using DPF-Core\n\n# from ansys.dpf import core\n# model = core.Model(solution_path)\n# results = model.results\n# print(results)\n# displacements = results.displacement()\n# total_def = core.operators.math.norm_fc(displacements)\n# total_def_container = total_def.outputs.fields_container()\n# mesh = model.metadata.meshed_region\n# mesh.plot(total_def_container.get_field_by_time_id(1))"
      ]
    },
    {
      "cell_type": "markdown",
      "metadata": {},
      "source": [
        "# Run PSD analysis\r\n\r\nThe response spectrum analysis is defined, solved and post-processed.\r\n"
      ]
    },
    {
      "cell_type": "code",
      "execution_count": null,
      "metadata": {
        "collapsed": false
      },
      "outputs": [],
      "source": [
        "# define PSD analysis with input spectrum\nmapdl.slashsolu()\nmapdl.antype(\"spectr\")\n\n# power spectral density\nmapdl.spopt(\"psd\")\n\n# use input table 1 with acceleration spectrum in terms of acceleration due to gravity\nmapdl.psdunit(1, \"accg\", 9.81 * 1000)\n\n# define the frequency points in the input table 1\nmapdl.psdfrq(1, \"\", 1, 40, 50, 70.71678, 100, 700, 900)\n\n# define the PSD values in the input table 1\nmapdl.psdval(1, 0.01, 0.01, 0.1, 1, 10, 10, 1)\n\n# set the damping ratio as 5%\nmapdl.dmprat(0.05)\n\n# apply base excitation on the set of nodes N_BASE_EXCITE in the y-direction from table 1\nmapdl.d(\"N_BASE_EXCITE\", \"uy\", 1)\n\n# calculate the participation factor for PSD with base excitation from input table 1\nmapdl.pfact(1, \"base\")\n\n# write the displacent solution relative to the base excitation to the results file from the PSD analysis\nmapdl.psdres(\"disp\", \"rel\")\n\n# write the absolute velocity solution to the results file from the PSD analysis\nmapdl.psdres(\"velo\", \"abs\")\n\n# write the absolute acceleration solution to the results file from the PSD analysis\nmapdl.psdres(\"acel\", \"abs\")\n\n# combine only those modes whose significance level exceeds 0.0001\nmapdl.psdcom()\noutput = mapdl.solve()\nprint(output)"
      ]
    },
    {
      "cell_type": "markdown",
      "metadata": {},
      "source": [
        "# Post-process PSD analysis\r\n\r\nThe response spectrum analysis is post-processed. First, the standard\r\nMAPDL POST1 postprocessor is used. Then, the MAPDL time-history POST26\r\npostprocessor is used to generate the response power spectral density.\r\n\r\n::: note\r\n::: title\r\nNote\r\n:::\r\n\r\nThe graph generated through POST26 is exported as a picture in the\r\nworking directory. Finally, the results from POST26 are saved to Python\r\nvariables to be plotted in the Python environment with the use of\r\nMatplotlib library.\r\n:::\r\n"
      ]
    },
    {
      "cell_type": "markdown",
      "metadata": {},
      "source": [
        "# Post-process PSD analysis in POST1\r\n"
      ]
    },
    {
      "cell_type": "code",
      "execution_count": null,
      "metadata": {
        "collapsed": false
      },
      "outputs": [],
      "source": [
        "mapdl.post1()\nmapdl.set(1, 1)\nmapdl.plnsol(\"u\", \"sum\")\nmapdl.set(\"last\")\nmapdl.plnsol(\"u\", \"sum\")"
      ]
    },
    {
      "cell_type": "markdown",
      "metadata": {},
      "source": [
        "# Post-process PSD analysis in POST26 (time-history post-processing)\r\n"
      ]
    },
    {
      "cell_type": "code",
      "execution_count": null,
      "metadata": {
        "collapsed": false
      },
      "outputs": [],
      "source": [
        "mapdl.post26()\n\n# allow storage for 200 variables\nmapdl.numvar(200)\nmapdl.cmsel(\"s\", \"MY_MONITOR\")\nmonitored_node = mapdl.queries.ndnext(0)\nmapdl.store(\"psd\")\n\n# store the psd analysis u_y data for the node MYMONITOR as the reference no 2\nmapdl.nsol(2, monitored_node, \"u\", \"y\")\n\n# compute the response power spectral density for displacement associated with variable 2\nmapdl.rpsd(3, 2)\nmapdl.show(\"png\")\n\n# plot the variable 3\nmapdl.plvar(3)\n\n# print the variable 3\nmapdl.prvar(3)\n\n# x-axis is set for Log X scale\nmapdl.gropt(\"logx\", 1)\n\n# y-axis is set for Log X scale\nmapdl.gropt(\"logy\", 1)\n\n# plot the variable 3\nmapdl.plvar(3)\nmapdl.show(\"close\")"
      ]
    },
    {
      "cell_type": "markdown",
      "metadata": {},
      "source": [
        "# Post-process PSD analysis using Matplotlib\r\n"
      ]
    },
    {
      "cell_type": "code",
      "execution_count": null,
      "metadata": {
        "collapsed": false
      },
      "outputs": [],
      "source": [
        "# store MAPDL results to python variables\nmapdl.dim(\"frequencies\", \"array\", 4000, 1)\nmapdl.dim(\"response\", \"array\", 4000, 1)\nmapdl.vget(\"frequencies(1)\", 1)\nmapdl.vget(\"response(1)\", 3)\nfrequencies = mapdl.parameters[\"frequencies\"]\nresponse = mapdl.parameters[\"response\"]\n\n# use Matplotlib to create graph\nfig = plt.figure()\nax = fig.add_subplot(111)\nplt.xscale(\"log\")\nplt.yscale(\"log\")\nax.plot(frequencies, response)\nax.set_xlabel(\"Frequencies\")\nax.set_ylabel(\"Response power spectral density\")"
      ]
    },
    {
      "cell_type": "markdown",
      "metadata": {},
      "source": [
        "Exit MAPDL\r\n"
      ]
    },
    {
      "cell_type": "code",
      "execution_count": null,
      "metadata": {
        "collapsed": false
      },
      "outputs": [],
      "source": [
        "mapdl.exit()"
      ]
    }
  ],
  "metadata": {
    "kernelspec": {
      "display_name": "Python 3",
      "language": "python",
      "name": "python3"
    },
    "language_info": {
      "codemirror_mode": {
        "name": "ipython",
        "version": 3
      },
      "file_extension": ".py",
      "mimetype": "text/x-python",
      "name": "python",
      "nbconvert_exporter": "python",
      "pygments_lexer": "ipython3",
      "version": "3.9.7"
    }
  },
  "nbformat": 4,
  "nbformat_minor": 0
}