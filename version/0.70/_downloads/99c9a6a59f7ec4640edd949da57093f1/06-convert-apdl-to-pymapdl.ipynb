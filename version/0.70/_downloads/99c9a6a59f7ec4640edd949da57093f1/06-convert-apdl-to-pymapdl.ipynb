{
  "cells": [
    {
      "cell_type": "markdown",
      "metadata": {},
      "source": [
        "Converting APDL scripts to PyMAPDL {#ref_converting_apdl_to_pymapdl_example}\n==================================\n\nPyMAPDL offers two functions for converting APDL scripts to PyMAPDL\nscripts,\n\n-   `convert_apdl_block()`, which works with strings\n-   `convert_script()`, which works with files\n\nThis example converts a modified version of the APDL verification\nexample 45.\n"
      ]
    },
    {
      "cell_type": "code",
      "execution_count": null,
      "metadata": {
        "collapsed": false
      },
      "outputs": [],
      "source": [
        "import tempfile\n\nfrom ansys.mapdl.core import convert_apdl_block, convert_script\n\napdl_script = \"\"\"\n/COM,ANSYS MEDIA REL. 2023R2 (05/12/2023) REF. VERIF. MANUAL: REL. 2023R2\n/VERIFY,VM45\n/PREP7\n/TITLE, VM45, NATURAL FREQUENCY OF A SPRING-MASS SYSTEM\nC*** VIBRATION THEORY AND APPLICATIONS, THOMSON, 2ND PRINTING, PAGE 6, EX. 1.2-2\nANTYPE,MODAL\nMODOPT,LANB,1\nET,1,COMBIN14,,,2     ! TWO-DIMENSIONAL LONGITUDINAL SPRING\nET,2,MASS21,,,4       ! TWO-DIMENSIONAL MASS\nR,1,48\nR,2,.006477\nN,1\nN,2,,1\nE,1,2\nTYPE,2\nREAL,2\nE,2\nOUTPR,ALL,1\nOUTRES,ALL,0\nD,1,ALL\nD,2,UX\nFINISH\n/SOLU\nSOLVE\n*GET,FREQ,MODE,1,FREQ\n*DIM,LABEL,CHAR,1,2\n*DIM,VALUE,,1,3\nLABEL(1,1) = '      F,'\nLABEL(1,2) = ' (Hz)   '\n*VFILL,VALUE(1,1),DATA,13.701\n*VFILL,VALUE(1,2),DATA,FREQ\n*VFILL,VALUE(1,3),DATA,ABS(FREQ/13.701)\n/COM\n/OUT,vm45,vrt\n/COM,------------------- VM45 RESULTS COMPARISON ---------------\n/COM,\n/COM,                 |   TARGET   |   Mechanical APDL   |   RATIO\n/COM,\n*VWRITE,LABEL(1,1),LABEL(1,2),VALUE(1,1),VALUE(1,2),VALUE(1,3)\n(1X,A8,A8,'   ',F10.3,'  ',F14.3,'   ',1F15.3)\n/COM,-----------------------------------------------------------\n\n/OUT\nFINISH\n*LIST,vm45,vrt\n\"\"\""
      ]
    },
    {
      "cell_type": "markdown",
      "metadata": {},
      "source": [
        "Convert a string inline\n=======================\n\nCalling the `convert_apdl_block()` function converts the supplied string\nto a list of translated lines of code.\n"
      ]
    },
    {
      "cell_type": "code",
      "execution_count": null,
      "metadata": {
        "collapsed": false
      },
      "outputs": [],
      "source": [
        "result = convert_apdl_block(apdl_script)\nprint(result)"
      ]
    },
    {
      "cell_type": "markdown",
      "metadata": {},
      "source": [
        "Quality of Life kwargs\n======================\n\nThis function also includes several kwargs that cover common use cases\nwhen converting from APDL to PyMAPDL, such as adding the necessary\nPython imports when `add_imports` is set to `True` or adding the\n`mapdl.exit()` command to the end when `auto_exit` is set to `True`.\n\nSome of the most useful kwargs follow.\n\n-   `only_commands`: Convert the commands without adding any boilerplate\n    such as `mapdl=launch...` or `mapdl.exit`.\n-   `print_com`: Change `/COM` commands to `print()` commands.\n-   `clear_at_start`: Call the `mapdl.clear()` method after the\n    [launch\\_mapdl]{.title-ref}\\` function.\n-   `add_imports` Add Python import lines at the start of the script.\n-   `auto_exit`: If `True`, append the `mapdl.exit()` method to the end\n    of the file.\n-   `cleanup_output`: If `True`, format output using `autopep8` (if you\n    have this Python package installed).\n"
      ]
    },
    {
      "cell_type": "code",
      "execution_count": null,
      "metadata": {
        "collapsed": false
      },
      "outputs": [],
      "source": [
        "result = convert_apdl_block(\n    apdl_script, print_com=True, clear_at_start=True, add_imports=True, auto_exit=True\n)\nprint(result)"
      ]
    },
    {
      "cell_type": "markdown",
      "metadata": {},
      "source": [
        "Convert from a file\n===================\n\nThe `convert_script` function provides all the same functionality but\nconverts from a file to a list of translated strings. Additionally, it\nprovides an option for saving the result to a file automatically, which\nthe `convert_apdl_block()` function does not provide.\n"
      ]
    },
    {
      "cell_type": "code",
      "execution_count": null,
      "metadata": {
        "collapsed": false
      },
      "outputs": [],
      "source": [
        "new_file, filename = tempfile.mkstemp(suffix=\".inp\")\nwith open(filename, \"w\") as f:\n    f.write(apdl_script)\nresult = convert_script(\n    filename, print_com=True, clear_at_start=True, add_imports=True, auto_exit=True\n)\nprint(\"\\n\".join(result))"
      ]
    },
    {
      "cell_type": "markdown",
      "metadata": {},
      "source": [
        "Command-line interface\n======================\n\nYou can access the `convert_script` function in the terminal using a CLI\n(command-line interface). Assuming a virtual environment is activated,\nyou can use the following command to convert a file named `mapdl.in` to\na `mapdl.out` file.\n\n``` {.console}\n$ pymapdl convert -f mapdl.dat --print_com --clear_at_start --add_imports --auto_exit --output mapdl.out\n```\n\nYou can even build the input on the fly using the `echo` command:\n\n``` {.console}\n$ echo -e \"/prep7\\nblock,0,1,0,1,0,1\" | pymapdl convert -oc\nmapdl.prep7()\nmapdl.block(0, 1, 0, 1, 0, 1)\n```\n"
      ]
    }
  ],
  "metadata": {
    "kernelspec": {
      "display_name": "Python 3",
      "language": "python",
      "name": "python3"
    },
    "language_info": {
      "codemirror_mode": {
        "name": "ipython",
        "version": 3
      },
      "file_extension": ".py",
      "mimetype": "text/x-python",
      "name": "python",
      "nbconvert_exporter": "python",
      "pygments_lexer": "ipython3",
      "version": "3.12.11"
    }
  },
  "nbformat": 4,
  "nbformat_minor": 0
}