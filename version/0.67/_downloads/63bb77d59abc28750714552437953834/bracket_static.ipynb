{
  "cells": [
    {
      "cell_type": "markdown",
      "metadata": {},
      "source": [
        "Static analysis of a corner bracket {#ref_static_analysis_bracket}\n===================================\n\nThis is an example adapted from a classic Ansys APDL tutorial [Static\nAnalysis of a Corner\nBracket](https://ansyshelp.ansys.com/account/Secured?returnurl=/Views/Secured/corp/v231/en/ans_tut/structural_cb.html)\n\nProblem specification\n---------------------\n\n  --------------- --------------------------------------------------------\n  Applicable      Ansys Multiphysics, Ansys Mechanical, Ansys Structural\n  Products:       \n\n  Level of        Easy\n  Difficulty:     \n\n  Interactive     60 to 90 minutes\n  Time Required:  \n\n  Discipline:     Structural\n\n  Analysis Type:  Linear static\n\n  Element Types   [PLANE183]()\n  Used:           \n\n  Features        Solid modeling including primitives, boolean operations,\n  Demonstrated:   and fillets; tapered pressure load deformed shape and\n                  stress displays; listing of reaction forces;\n\n  Help Resources: Structural Static Analysis and [PLANE183]()\n  --------------- --------------------------------------------------------\n\nProblem description\n-------------------\n\nThis is a simple, single-load-step, structural static analysis of a\ncorner angle bracket. The upper-left pin hole is constrained (welded)\naround its entire circumference, and a tapered pressure load is applied\nto the bottom of the lower-right pin hole. The US customary system of\nunits is used. The objective is to demonstrate how Mechanical APDL is\ntypical used in an analysis.\n\n### Bracket model\n\nThe dimensions of the corner bracket are shown in the following figure.\nThe bracket is made of A36 steel with a Young\\'s modulus of $3\\cdot10^7$\npsi and Poisson\\'s ratio of $0.27$.\n\n![**Bracket model\ndimensions**](../../../images/bracket_dimensions.png){width=\"400px\"}\n\n### Approach and assumptions\n\nBecause the bracket is thin in the z direction (1/2-inch thickness)\ncompared to its x and y dimensions, and because the pressure load acts\nonly in the x-y plane, assume plane stress for the analysis.\n\nThe approach is to use solid modeling to generate the 2D model and\nautomatically mesh it with nodes and elements. An alternative approach\nwould be to create the nodes and elements directly.\n"
      ]
    },
    {
      "cell_type": "markdown",
      "metadata": {},
      "source": [
        "Launching MAPDL\n===============\n"
      ]
    },
    {
      "cell_type": "code",
      "execution_count": null,
      "metadata": {
        "collapsed": false
      },
      "outputs": [],
      "source": [
        "from ansys.mapdl.core import launch_mapdl\n\njobName = \"bracket\"  # optional\nmapdl = launch_mapdl(jobname=jobName)"
      ]
    },
    {
      "cell_type": "markdown",
      "metadata": {},
      "source": [
        "Build the geometry\n==================\n\nDefine rectangles\n-----------------\n\nThere are several ways to create the model geometry within Mechanical\nAPDL, and some are more convenient than others. The first step is to\nrecognize that you can construct the bracket easily with combinations of\nrectangles and circle primitives.\n\nSelect an arbitrary global origin location, and then define the\nrectangle and circle primitives relative to that origin. For this\nanalysis, use the center of the upper-left hole. Begin by defining a\nrectangle relative to that location.\n\nThe APDL command\n`mapdl.prep7() <ansys.mapdl.core.Mapdl.rectng>`{.interpreted-text\nrole=\"meth\"} is used to create a rectangle with `X1`, `X2`, `Y1`, and\n`Y2` dimensions. In PyMAPDL the\n`mapdl() <ansys.mapdl.core.Mapdl>`{.interpreted-text role=\"class\"} class\nis used to call the APDL command.\n\n### Dimension box 1\n\nEnter the following:\n\n``` {.python}\nX1 = 0\nX2 = 6\nY1 = -1\nY2 = 1\n```\n\nOr use a Python list to store the dimensions:\n"
      ]
    },
    {
      "cell_type": "code",
      "execution_count": null,
      "metadata": {
        "collapsed": false
      },
      "outputs": [],
      "source": [
        "box1 = [0, 6, -1, 1]"
      ]
    },
    {
      "cell_type": "markdown",
      "metadata": {},
      "source": [
        "Dimension box 2\n===============\n\nEnter the following:\n"
      ]
    },
    {
      "cell_type": "code",
      "execution_count": null,
      "metadata": {
        "collapsed": false
      },
      "outputs": [],
      "source": [
        "box2 = [4, 6, -1, -3]"
      ]
    },
    {
      "cell_type": "markdown",
      "metadata": {},
      "source": [
        "The `mapdl.prep7() <ansys.mapdl.core.Mapdl.prep7>`{.interpreted-text\nrole=\"meth\"} command starts the APDL preprocessor to start the build up\nof the analysis. This is the processor where the model geometry is\ncreated.\n"
      ]
    },
    {
      "cell_type": "code",
      "execution_count": null,
      "metadata": {
        "collapsed": false
      },
      "outputs": [],
      "source": [
        "mapdl.prep7()"
      ]
    },
    {
      "cell_type": "markdown",
      "metadata": {},
      "source": [
        "Parameterize as much as possible, taking advantage of Python features\nsuch as the Python `list <python.list>`{.interpreted-text role=\"class\"}\nor `dict <python.dict>`{.interpreted-text role=\"class\"} class. Good\npractice would be to have all parameters near or at the top of the input\nfile. However, for this interactive tutorial, they are inline.\n"
      ]
    },
    {
      "cell_type": "code",
      "execution_count": null,
      "metadata": {
        "collapsed": false
      },
      "outputs": [],
      "source": [
        "# build your cubes\nmapdl.rectng(box1[0], box1[1], box1[2], box1[3])"
      ]
    },
    {
      "cell_type": "markdown",
      "metadata": {},
      "source": [
        "In Python, you can use the `*` to unpack an object in a function call.\nFor example:\n"
      ]
    },
    {
      "cell_type": "code",
      "execution_count": null,
      "metadata": {
        "collapsed": false
      },
      "outputs": [],
      "source": [
        "mapdl.rectng(*box2)  # prints the id of the created area"
      ]
    },
    {
      "cell_type": "markdown",
      "metadata": {},
      "source": [
        "Plot areas\n==========\n\nPyMAPDL plots can be controlled through arguments passed to the\ndifferent plot methods, such as\n`mapdl.aplot() <ansys.mapdl.core.Mapdl.aplot>`{.interpreted-text\nrole=\"meth\"}.\n\nThe area plot shows both rectangles, which are areas, in the same color.\nTo more clearly distinguish between areas, turn on area numbers. For\nmore information, see the\n`mapdl.aplot() <ansys.mapdl.core.Mapdl.aplot>`{.interpreted-text\nrole=\"meth\"} method.\n"
      ]
    },
    {
      "cell_type": "code",
      "execution_count": null,
      "metadata": {
        "collapsed": false
      },
      "outputs": [],
      "source": [
        "mapdl.aplot(cpos=\"xy\", show_lines=True)"
      ]
    },
    {
      "cell_type": "markdown",
      "metadata": {},
      "source": [
        "::: {.note}\n::: {.title}\nNote\n:::\n\nIf you download the Jupyter Notebook version of [this example](), you\ncan take advantage of Jupyter Notebook features. For example, you can\nright-click a command to display contextual help.\n:::\n"
      ]
    },
    {
      "cell_type": "markdown",
      "metadata": {},
      "source": [
        "Create first circle\n===================\n\nWith the use of logic and Boolean geometrical operations, you can use\nthe original geometric parameters (`box1`, `box2`) to locate the\ncircles.\n\nCreate the half circle at each end of the bracket. You first create a\nfull circle on each end and then combine the circles and rectangles with\na Boolean add operation (discussed in [Subtract pin holes from\nbracket]()).\n\nThe APDL command to create the circles is\n`mapdl.cyl4() <ansys.mapdl.core.Mapdl.cyl4>`{.interpreted-text\nrole=\"meth\"}.\n\nThe first circle area is located on the left side at the X,Y location,\nand its radius is $1$.\n"
      ]
    },
    {
      "cell_type": "code",
      "execution_count": null,
      "metadata": {
        "collapsed": false
      },
      "outputs": [],
      "source": [
        "# Create first circle\nradius = 1\ncircle1_X = box1[0]\ncircle1_Y = (box1[2] + box1[3]) / 2\nmapdl.cyl4(circle1_X, circle1_Y, radius)\n\nmapdl.aplot(vtk=True, cpos=\"xy\", show_lines=True)"
      ]
    },
    {
      "cell_type": "markdown",
      "metadata": {},
      "source": [
        "Create second circle\n====================\n\nCreate the second circle at the X,Y location:\n"
      ]
    },
    {
      "cell_type": "code",
      "execution_count": null,
      "metadata": {
        "collapsed": false
      },
      "outputs": [],
      "source": [
        "circle2_X = (box2[0] + box2[1]) / 2\ncircle2_Y = box2[3]"
      ]
    },
    {
      "cell_type": "markdown",
      "metadata": {},
      "source": [
        "Use these parameter values to create the new area with the same radius\nof $1$ as the first circle area.\n"
      ]
    },
    {
      "cell_type": "code",
      "execution_count": null,
      "metadata": {
        "collapsed": false
      },
      "outputs": [],
      "source": [
        "mapdl.cyl4(circle2_X, circle2_Y, radius)\nmapdl.aplot(vtk=True, cpos=\"xy\", show_lines=True)"
      ]
    },
    {
      "cell_type": "markdown",
      "metadata": {},
      "source": [
        "Add areas\n=========\n\nNow that the appropriate pieces of the model (rectangles and circles)\nare defined, add them together so the model becomes one continuous area.\nUse the Boolean add operation\n`mapdl.aadd() <ansys.mapdl.core.Mapdl.aadd>`{.interpreted-text\nrole=\"meth\"} to add the areas together.\n\nUse the `all` argument to add all areas.\n"
      ]
    },
    {
      "cell_type": "code",
      "execution_count": null,
      "metadata": {
        "collapsed": false
      },
      "outputs": [],
      "source": [
        "mapdl.aadd(\"all\")  # Prints the ID of the created area"
      ]
    },
    {
      "cell_type": "markdown",
      "metadata": {},
      "source": [
        "Create line fillet\n==================\n\nThe right angle between the two boxes can be improved using a fillet\nwith a radius of $0.4$. You can do this by selecting the lines around\nthis area and creating the fillet.\n\nUse the APDL\n`mapdl.lsel() <ansys.mapdl.core.Mapdl.lsel>`{.interpreted-text\nrole=\"meth\"} method to select lines. Here, the X and Y locations of the\nlines are used to create the boxes for creating your selection.\n\nAfter selecting the line, you need to write it to a parameter so you can\nuse it to generate the fillet line. This is done using the\n`mapdl.get() <ansys.mapdl.core.Mapdl.get>`{.interpreted-text\nrole=\"meth\"} method.\n\nBecause you have selected one line, you can use the `MAX` and `NUM`\narguments for the\n`mapdl.get() <ansys.mapdl.core.Mapdl.get>`{.interpreted-text\nrole=\"meth\"} method.\n\nSelect first line for fillet\n"
      ]
    },
    {
      "cell_type": "code",
      "execution_count": null,
      "metadata": {
        "collapsed": false
      },
      "outputs": [],
      "source": [
        "line1 = mapdl.lsel(\"S\", \"LOC\", \"Y\", box1[2])\nl1 = mapdl.get(\"line1\", \"LINE\", 0, \"NUM\", \"MAX\")"
      ]
    },
    {
      "cell_type": "markdown",
      "metadata": {},
      "source": [
        "If you write the command to a Python parameter (`line1`), you can use\neither the APDL parameter `l1` or the Python parameter `line1` when you\ncreate the fillet line.\n\nSelect second line for fillet and create Python parameter\n"
      ]
    },
    {
      "cell_type": "code",
      "execution_count": null,
      "metadata": {
        "collapsed": false
      },
      "outputs": [],
      "source": [
        "line2 = mapdl.lsel(\"S\", \"LOC\", \"X\", box2[0])\nl2 = mapdl.get(\"line2\", \"LINE\", 0, \"NUM\", \"MAX\")"
      ]
    },
    {
      "cell_type": "markdown",
      "metadata": {},
      "source": [
        "Once you have both lines selected, you can use the PyMAPDL command\n`mapdl.lfillt() <ansys.mapdl.core.Mapdl.lfillt>`{.interpreted-text\nrole=\"meth\"} to generate the fillet between the lines.\n\n**Note** that Python could return a list if more than one line is\nselected.\n"
      ]
    },
    {
      "cell_type": "markdown",
      "metadata": {},
      "source": [
        "Here you use a mix of the APDL parameter as a string `line1` and the\n`l2` Python parameter to create the fillet line.\n\nCreate fillet line using selected line (parameter names)\n"
      ]
    },
    {
      "cell_type": "code",
      "execution_count": null,
      "metadata": {
        "collapsed": false
      },
      "outputs": [],
      "source": [
        "fillet_radius = 0.4\nmapdl.allsel()\nline3 = mapdl.lfillt(\"line1\", l2, fillet_radius)\n\nmapdl.allsel()\nmapdl.lplot(vtk=True, cpos=\"xy\")"
      ]
    },
    {
      "cell_type": "markdown",
      "metadata": {},
      "source": [
        "Create fillet area\n==================\n\nTo create the area delineated by `line1`, `line2`, and newly created\n`line3`, use the\n`mapdl.al() <ansys.mapdl.core.Mapdl.al>`{.interpreted-text role=\"meth\"}\nmethod. The three lines are the input. If you select them all, you can\nuse the `'ALL'` argument to create the area.\n\nFirst you have to reselect the newly created lines in the fillet area.\nTo do this, you can use the `fillet_radius` parameter and the\n`mapdl.lsel() <ansys.mapdl.core.Mapdl.lsel>`{.interpreted-text\nrole=\"meth\"} command.\n\nFor the two newly created straight lines, the length is the same as the\n`fillet_radius` value. Thus, you can use the length argument with the\n`mapdl.lsel() <ansys.mapdl.core.Mapdl.lsel>`{.interpreted-text\nrole=\"meth\"} command.\n"
      ]
    },
    {
      "cell_type": "code",
      "execution_count": null,
      "metadata": {
        "collapsed": false
      },
      "outputs": [],
      "source": [
        "mapdl.allsel()\n\n# Select lines for the area\nmapdl.lsel(\"S\", \"LENGTH\", \"\", fillet_radius)"
      ]
    },
    {
      "cell_type": "markdown",
      "metadata": {},
      "source": [
        "Additionally, you need to get the fillet line itself (`line3`). You can\nuse the `mapdl.lsel() <ansys.mapdl.core.Mapdl.lsel>`{.interpreted-text\nrole=\"meth\"} command again with either the `'RADIUS'` argument if there\nis only one line with that radius in the model or more directly use the\nparameter name of the line. Note the `'A'` to additionally select items.\n"
      ]
    },
    {
      "cell_type": "code",
      "execution_count": null,
      "metadata": {
        "collapsed": false
      },
      "outputs": [],
      "source": [
        "mapdl.lsel(\"A\", \"LINE\", \"\", line3)\n\n# plotting ares\nmapdl.lplot(vtk=True, cpos=\"xy\", show_line_numbering=True)"
      ]
    },
    {
      "cell_type": "markdown",
      "metadata": {},
      "source": [
        "Then use `mapdl.al() <ansys.mapdl.core.Mapdl.al>`{.interpreted-text\nrole=\"meth\"} command to create the areas from the lines.\n"
      ]
    },
    {
      "cell_type": "code",
      "execution_count": null,
      "metadata": {
        "collapsed": false
      },
      "outputs": [],
      "source": [
        "# Create the area\nmapdl.al(\"ALL\")  # Prints the ID of the newly created area"
      ]
    },
    {
      "cell_type": "markdown",
      "metadata": {},
      "source": [
        "Add areas together\n==================\n\nAppend all areas again with the\n`mapdl.aadd() <ansys.mapdl.core.Mapdl.aadd> command`{.interpreted-text\nrole=\"meth\"}. Because you have only the two areas to combine, use the\n`'ALL'` argument.\n"
      ]
    },
    {
      "cell_type": "code",
      "execution_count": null,
      "metadata": {
        "collapsed": false
      },
      "outputs": [],
      "source": [
        "# Add the area to the main area\nmapdl.aadd(\"all\")\nmapdl.aplot(vtk=True, cpos=\"xy\", show_lines=True)"
      ]
    },
    {
      "cell_type": "markdown",
      "metadata": {},
      "source": [
        "Create first pin hole\n=====================\n\nThe first pin hole is located at the left side of the first box. Thus,\nyou can use the box dimensions to locate your new circle.\n\nThe X value (center) of the pin hole is at the first coordinate of the\n`box1` (`X1`). The Y value is the average of the two `box1` Y values:\n"
      ]
    },
    {
      "cell_type": "code",
      "execution_count": null,
      "metadata": {
        "collapsed": false
      },
      "outputs": [],
      "source": [
        "# Create the first pinhole\npinhole_radius = 0.4\npinhole1_X = box1[0]\npinhole1_Y = (box1[2] + box1[3]) / 2\n\npinhole1 = mapdl.cyl4(pinhole1_X, pinhole1_Y, pinhole_radius)"
      ]
    },
    {
      "cell_type": "markdown",
      "metadata": {},
      "source": [
        "Because you have two pin hole circles, you use the command twice.\n\n::: {.note}\n::: {.title}\nNote\n:::\n\nSome of these areas are set to parameters to use later in the analysis.\nThis allows you to use the lines to create the areas with the\n`mapdl.asll() <ansys.mapdl.core.Mapdl.asll>`{.interpreted-text\nrole=\"meth\"} command.\n:::\n"
      ]
    },
    {
      "cell_type": "markdown",
      "metadata": {},
      "source": [
        "Create second pin hole\n======================\n\nThe second pin hole is located at the bottom of the second box, so again\nwe can use the box 2 dimensions to locate the circle. For this pinhole\nthe dimensions are:\n"
      ]
    },
    {
      "cell_type": "code",
      "execution_count": null,
      "metadata": {
        "collapsed": false
      },
      "outputs": [],
      "source": [
        "pinhole2_X = (box2[0] + box2[1]) / 2\npinhole2_Y = box2[3]\n\npinhole2 = mapdl.cyl4(pinhole2_X, pinhole2_Y, pinhole_radius)\npinhole2_lines = mapdl.asll(\"S\", 0)"
      ]
    },
    {
      "cell_type": "markdown",
      "metadata": {},
      "source": [
        "Subtract pin holes from bracket\n===============================\n\nIf you use the\n`mapdl.aplot() <ansys.mapdl.core.Mapdl.aplot>`{.interpreted-text\nrole=\"meth\"} command with lines, at this point, you have created two\ncircle areas overlapping the bracket. You can use the\n`mapdl.asba() <ansys.mapdl.core.Mapdl.asba>`{.interpreted-text\nrole=\"meth\"} command, which is the Boolean command to subtract areas, to\nremove the circles from the bracket.\n"
      ]
    },
    {
      "cell_type": "code",
      "execution_count": null,
      "metadata": {
        "collapsed": false
      },
      "outputs": [],
      "source": [
        "# Remove pin hole areas from bracket\nmapdl.asba(\"all\", pinhole1)\nbracket = mapdl.asba(\"all\", pinhole2)\nmapdl.aplot(vtk=True, show_lines=True, cpos=\"xy\")"
      ]
    },
    {
      "cell_type": "markdown",
      "metadata": {},
      "source": [
        "Model definition\n================\n\nDefine material properties\n--------------------------\n\nThere is only one material property to define for the bracket, A36\nSteel, with given values for the Young\\'s modulus of elasticity and\nPoisson\\'s ratio.\n"
      ]
    },
    {
      "cell_type": "code",
      "execution_count": null,
      "metadata": {
        "collapsed": false
      },
      "outputs": [],
      "source": [
        "ex = 30e6  # Young's Modulus\nprxy = 0.27  # Poisson's ratio"
      ]
    },
    {
      "cell_type": "markdown",
      "metadata": {},
      "source": [
        "Use the `mapdl.mp() <ansys.mapdl.core.Mapdl.mp>`{.interpreted-text\nrole=\"meth\"} command to define material properties in PyMAPDL.\n"
      ]
    },
    {
      "cell_type": "code",
      "execution_count": null,
      "metadata": {
        "collapsed": false
      },
      "outputs": [],
      "source": [
        "mapdl.mp(\"EX\", 1, ex)\nmapdl.mp(\"PRXY\", 1, prxy)"
      ]
    },
    {
      "cell_type": "markdown",
      "metadata": {},
      "source": [
        "Define element types and options\n================================\n\nYou use the `mapdl.et() <ansys.mapdl.core.Mapdl.et>`{.interpreted-text\nrole=\"meth\"} command to select an element .\n\nIn any analysis, you select elements from a library of element types and\ndefine the appropriate ones for the analysis. In this case, only one\nelement type is used: [PLANE183](), a 2D, quadratic, structural,\nhigher-order element.\n\nA higher-order element enables you to have a coarser mesh than with\nlower-order elements while still maintaining solution accuracy. Also,\nMechanical APDL generates some triangle-shaped elements in the mesh that\nwould otherwise be inaccurate when using lower-order elements.\n\nOptions for [PLANE183]{.title-ref}\n----------------------------------\n\nSpecify plane stress with thickness as an option for [PLANE183]().\n(Thickness is defined as a real constant in [Define real constants]()).\nSelect plane stress with the thickness option for the element behavior.\nThe thickness option is set using the element keyoption 3. For more\ninformation, see the [PLANE183]() element definition in the Ansys Help.\n"
      ]
    },
    {
      "cell_type": "code",
      "execution_count": null,
      "metadata": {
        "collapsed": false
      },
      "outputs": [],
      "source": [
        "# define a ``PLANE183`` element type with thickness\nmapdl.et(1, \"PLANE183\", kop3=3)"
      ]
    },
    {
      "cell_type": "markdown",
      "metadata": {},
      "source": [
        "Define real constants\n=====================\n\nAssuming plane stress with thickness, enter the thickness as a real\nconstant for [PLANE183]():\n\nYou use the `mapdl.r() <ansys.mapdl.core.Mapdl.r>`{.interpreted-text\nrole=\"meth\"} command to set real constants.\n"
      ]
    },
    {
      "cell_type": "code",
      "execution_count": null,
      "metadata": {
        "collapsed": false
      },
      "outputs": [],
      "source": [
        "# Set element thickness\nthick = 0.5\nmapdl.r(1, thick)  # thickness of 0.5 length units)"
      ]
    },
    {
      "cell_type": "markdown",
      "metadata": {},
      "source": [
        "Mesh\n====\n\nYou can mesh the model without specifying mesh-size controls. If you are\nunsure of how to determine mesh density, you can allow Mechanical APDL\nto apply a default mesh. For this model, however, you want to specify a\nglobal element size to control overall mesh density. Set global size\ncontrol using the\n`mapdl.esize() <ansys.mapdl.core.Mapdl.esize>`{.interpreted-text\nrole=\"meth\"} command. Set a size of $0.5$ or a slightly smaller value to\nimprove the mesh.\n\nMesh the areas using the\n`mapdl.amesh() <ansys.mapdl.core.Mapdl.amesh>`{.interpreted-text\nrole=\"meth\"} command. Your mesh may vary slightly from the mesh shown.\nYou may see slightly different results during postprocessing.\n\nNow you can use the\n`mapdl.eplot() <ansys.mapdl.core.Mapdl.eplot>`{.interpreted-text\nrole=\"meth\"} command to see the mesh.\n"
      ]
    },
    {
      "cell_type": "code",
      "execution_count": null,
      "metadata": {
        "collapsed": false
      },
      "outputs": [],
      "source": [
        "element_size = 0.5\nmapdl.esize(element_size)\nmapdl.amesh(bracket)\nmapdl.eplot(\n    vtk=True,\n    cpos=\"xy\",\n    show_edges=True,\n    show_axes=False,\n    line_width=2,\n    background=\"w\",\n)"
      ]
    },
    {
      "cell_type": "markdown",
      "metadata": {},
      "source": [
        "Boundary conditions\n===================\n\nLoading is considered part of the\n`mapdl.solu() <ansys.mapdl.core.Mapdl.solu>`{.interpreted-text\nrole=\"meth\"} command or the solution processor in APDL. But it can be\nalso done in the preprocessor with\n`mapdl.prep7() <ansys.mapdl.core.Mapdl.prep7>`{.interpreted-text\nrole=\"meth\"} command.\n\nYou can activate the solution processor by calling the\n`mapdl.solution() <ansys.mapdl.core.solution.Solution>`{.interpreted-text\nrole=\"class\"} class, by using the\n`mapdl.slashsolu() <ansys.mapdl.core.Mapdl.slashsolu>`{.interpreted-text\nrole=\"meth\"} command, or by using\n`mapdl.run(\"/solu\") <ansys.mapdl.core.Mapdl.run>`{.interpreted-text\nrole=\"meth\"} to call the APDL `/SOLU` command.\n"
      ]
    },
    {
      "cell_type": "code",
      "execution_count": null,
      "metadata": {
        "collapsed": false
      },
      "outputs": [],
      "source": [
        "mapdl.allsel()\nmapdl.solution()"
      ]
    },
    {
      "cell_type": "markdown",
      "metadata": {},
      "source": [
        "Set the analysis type with the\n`mapdl.antype() <ansys.mapdl.core.Mapdl.antype>`{.interpreted-text\nrole=\"meth\"} command.\n"
      ]
    },
    {
      "cell_type": "code",
      "execution_count": null,
      "metadata": {
        "collapsed": false
      },
      "outputs": [],
      "source": [
        "mapdl.antype(\"STATIC\")"
      ]
    },
    {
      "cell_type": "markdown",
      "metadata": {},
      "source": [
        "Apply displacement constraints\n==============================\n\nThis is where you add boundary conditions to the model. First, you want\nto fix the model by setting a zero displacement at the first pin hole.\nYou can apply displacement constraints directly to lines.\n\nTo do this without the graphical interface, you would need to replot the\nlines. Or you can use Booleans and generate the lines from the pin hole\nlocations/box parameters. By using the parameters that you have created,\nyou can select the lines and fix one end of the bracket.\n\nPick the four lines around the left-hand hole using the\n`mapdl.lsel() <ansys.mapdl.core.Mapdl.lsel>`{.interpreted-text\nrole=\"meth\"} command and the `pinehole1` parameters.\n"
      ]
    },
    {
      "cell_type": "code",
      "execution_count": null,
      "metadata": {
        "collapsed": false
      },
      "outputs": [],
      "source": [
        "bc1 = mapdl.lsel(\n    \"S\", \"LOC\", \"X\", pinhole1_X - pinhole_radius, pinhole1_X + pinhole_radius\n)\nprint(f\"Number of lines selected : {len(bc1)}\")"
      ]
    },
    {
      "cell_type": "markdown",
      "metadata": {},
      "source": [
        "Then for loading, select and apply the boundary condition to the nodes\nattached to those lines using the\n`mapdl.nsll() <ansys.mapdl.core.Mapdl.nsll>`{.interpreted-text\nrole=\"meth\"} command.\n"
      ]
    },
    {
      "cell_type": "code",
      "execution_count": null,
      "metadata": {
        "collapsed": false
      },
      "outputs": [],
      "source": [
        "fixNodes = mapdl.nsll(type_=\"S\")"
      ]
    },
    {
      "cell_type": "markdown",
      "metadata": {},
      "source": [
        "Next use the `mapdl.d() <ansys.mapdl.core.Mapdl.d>`{.interpreted-text\nrole=\"meth\"} command to set the displacement to zero (fixed constraint).\n"
      ]
    },
    {
      "cell_type": "code",
      "execution_count": null,
      "metadata": {
        "collapsed": false
      },
      "outputs": [],
      "source": [
        "# Set up boundary conditions\nmapdl.d(\"ALL\", \"ALL\", 0)  # The 0 is not required since default is zero\n\n# Selecting everything again\nmapdl.allsel()"
      ]
    },
    {
      "cell_type": "markdown",
      "metadata": {},
      "source": [
        "Apply pressure load\n===================\n\nApply the tapered pressure load to the bottom-right pin hole. In this\ncase, tapered means varying linearly. When a circle is created in\nMechanical APDL, four lines define the perimeter; therefore, apply the\npressure to two lines making up the lower half of the circle. Because\nthe pressure tapers from a maximum value (500 psi) at the bottom of the\ncircle to a minimum value (50 psi) at the sides, apply pressure in two\nseparate steps, with reverse tapering values for each line.\n"
      ]
    },
    {
      "cell_type": "code",
      "execution_count": null,
      "metadata": {
        "collapsed": false
      },
      "outputs": [],
      "source": [
        "p1 = 50\np2 = 500"
      ]
    },
    {
      "cell_type": "markdown",
      "metadata": {},
      "source": [
        "The Mechanical APDL convention for pressure loading is that a positive\nload value represents pressure into the surface (compressive).\n\nTo pick the line, use the same\n`mapdl.lsel() <ansys.mapdl.core.Mapdl.lsel>`{.interpreted-text\nrole=\"meth\"} command used in the previous cell block and then convert\nthe lines to a nodal selection with the\n`mapdl.nsel() <ansys.mapdl.core.Mapdl.nsel>`{.interpreted-text\nrole=\"meth\"} command.\n\nNote we have a slightly more complicated picking procedure for the two\nquarters of the full circle. A method to select the lines would be to\nselect the lower half of the second pinhole circle.\n"
      ]
    },
    {
      "cell_type": "code",
      "execution_count": null,
      "metadata": {
        "collapsed": false
      },
      "outputs": [],
      "source": [
        "mapdl.lsel(\"S\", \"LOC\", \"Y\", pinhole2_Y - pinhole_radius, pinhole2_Y)"
      ]
    },
    {
      "cell_type": "markdown",
      "metadata": {},
      "source": [
        "Now repick from that selection the lines that are less than the X center\nof that pin hole.\n"
      ]
    },
    {
      "cell_type": "code",
      "execution_count": null,
      "metadata": {
        "collapsed": false
      },
      "outputs": [],
      "source": [
        "mapdl.lsel(\"R\", \"LOC\", \"X\", 0, pinhole2_X)\n\nmapdl.lplot(vtk=True, cpos=\"xy\")"
      ]
    },
    {
      "cell_type": "markdown",
      "metadata": {},
      "source": [
        "Once you have the correct line, use the\n`mapdl.sf() <ansys.mapdl.core.Mapdl.sf>`{.interpreted-text role=\"meth\"}\ncommand to load the line with the varying surface load.\n"
      ]
    },
    {
      "cell_type": "code",
      "execution_count": null,
      "metadata": {
        "collapsed": false
      },
      "outputs": [],
      "source": [
        "# Here you load the left side of the lower half of second pin hole.\nmapdl.sf(\"ALL\", \"PRES\", p1, p2)\nmapdl.allsel()"
      ]
    },
    {
      "cell_type": "markdown",
      "metadata": {},
      "source": [
        "Repeat the procedure for the second pin hole.\n"
      ]
    },
    {
      "cell_type": "code",
      "execution_count": null,
      "metadata": {
        "collapsed": false
      },
      "outputs": [],
      "source": [
        "mapdl.lsel(\"S\", \"LOC\", \"Y\", pinhole2_Y - pinhole_radius, pinhole2_Y)\nmapdl.lsel(\"R\", \"LOC\", \"X\", pinhole2_X, pinhole2_X + pinhole_radius)\n\nmapdl.lplot(\n    vtk=True,\n    cpos=\"xy\",\n    show_line_numbering=True,\n)\n\nmapdl.sf(\"ALL\", \"PRES\", p2, p1)\nmapdl.allsel()"
      ]
    },
    {
      "cell_type": "markdown",
      "metadata": {},
      "source": [
        "Solution\n========\n\nTo solve an Ansys FE analysis, the solution processor must be activated,\nusing the\n`mapdl.solution() <ansys.mapdl.core.solution.Solution>`{.interpreted-text\nrole=\"class\"} class or the\n`mapdl.slashsolu() <ansys.mapdl.core.Mapdl.slashsolu>`{.interpreted-text\nrole=\"meth\"} command. This was done a few steps earlier.\n\nThe model is ready to be solved using the\n`mapdl.solve() <ansys.mapdl.core.Mapdl.solve>`{.interpreted-text\nrole=\"meth\"} command.\n"
      ]
    },
    {
      "cell_type": "code",
      "execution_count": null,
      "metadata": {
        "collapsed": false
      },
      "outputs": [],
      "source": [
        "# Solve the model\noutput = mapdl.solve()\nprint(output)"
      ]
    },
    {
      "cell_type": "markdown",
      "metadata": {},
      "source": [
        "Mechanical APDL stores the results of this single-load-step problem in\nthe database and in the results file, `Jobname.RST`{.interpreted-text\nrole=\"file\"} (or `Jobname.RTH`{.interpreted-text role=\"file\"} for\nthermal or `Jobname.RMG`{.interpreted-text role=\"file\"} for magnetic).\nThe database can contain only one set of results at any given time, so\nin a multiple-load-step or multiple-substep analysis, Mechanical APDL\nstores only the final solution in the database.\n\nMechanical APDL stores all solutions in the results file.\n\nReview the results\n==================\n\nThis step represents the beginning of the postprocessing phase.\n\n::: {.note}\n::: {.title}\nNote\n:::\n\nThe results you see may vary slightly from what is shown due to\nvariations in the mesh.\n:::\n\nEnter the postprocessor\n-----------------------\n\nThe Ansys APDL postprocessor is a separate processor called with the\n`mapdl.post1() <ansys.mapdl.core.Mapdl.post1>`{.interpreted-text\nrole=\"meth\"} command.\n"
      ]
    },
    {
      "cell_type": "code",
      "execution_count": null,
      "metadata": {
        "collapsed": false
      },
      "outputs": [],
      "source": [
        "mapdl.post1()"
      ]
    },
    {
      "cell_type": "markdown",
      "metadata": {},
      "source": [
        "Plot the deformed shape\n=======================\n\nHere `mapdl.result <ansys.mapdl.core.Mapdl.result>`{.interpreted-text\nrole=\"class\"} is used to retrieve the results and for plotting.\n"
      ]
    },
    {
      "cell_type": "code",
      "execution_count": null,
      "metadata": {
        "collapsed": false
      },
      "outputs": [],
      "source": [
        "# Plot displacement\nresult = mapdl.result\nresult_set = 0  # Plotting the first results\ndisp_fact = 1e10\nresult.plot_nodal_displacement(\n    result_set,\n    cpos=\"xy\",\n    displacement_factor=5,\n    show_displacement=True,\n    show_edges=True,\n)"
      ]
    },
    {
      "cell_type": "markdown",
      "metadata": {},
      "source": [
        "Plot the von Mises equivalent stress\n====================================\n\nYou can also generate stress plots using the\n`mapdl.plot_principal_nodal_stress() <ansys.mapdl.core.Mapdl.plot_principal_nodal_stress>`{.interpreted-text\nrole=\"meth\"} command.\n"
      ]
    },
    {
      "cell_type": "code",
      "execution_count": null,
      "metadata": {
        "collapsed": false
      },
      "outputs": [],
      "source": [
        "result.plot_principal_nodal_stress(\n    0,\n    \"SEQV\",\n    cpos=\"xy\",\n    background=\"w\",\n    text_color=\"k\",\n    add_text=True,\n    show_edges=True,\n)"
      ]
    },
    {
      "cell_type": "markdown",
      "metadata": {},
      "source": [
        "Obtain von Mises stresses.\n"
      ]
    },
    {
      "cell_type": "code",
      "execution_count": null,
      "metadata": {
        "collapsed": false
      },
      "outputs": [],
      "source": [
        "nnum, stress = result.principal_nodal_stress(0)\n\n# Von Mises stress is the last column in the stress results\nvon_mises = stress[:, -1]"
      ]
    },
    {
      "cell_type": "markdown",
      "metadata": {},
      "source": [
        "List reaction solution\n======================\n\nTo list the FY reactions forces use the APDL\n`mapdl.prrsol() <ansys.mapdl.core.Mapdl.prrsol>`{.interpreted-text\nrole=\"meth\"} command which print the constrained node reaction solution.\n\nYou can use the\n`to_dataframe <ansys.mapdl.core.commands.CommandListingOutput>`{.interpreted-text\nrole=\"meth\"} command to convert the output to a dataframe for more\nstatic print:\n"
      ]
    },
    {
      "cell_type": "code",
      "execution_count": null,
      "metadata": {
        "collapsed": false
      },
      "outputs": [],
      "source": [
        "reactForces = mapdl.prrsol(lab=\"FY\").to_dataframe(columns=[\"NODE\", \"FY\"])\nprint(reactForces)"
      ]
    },
    {
      "cell_type": "markdown",
      "metadata": {},
      "source": [
        "The values shown are representative and may vary from the values that\nyou obtain. Many other options are available for reviewing results in\nthe general postprocessor. You can see some of these other options in\nother tutorials, such. as the [Ansys tutorial guide]().\n"
      ]
    },
    {
      "cell_type": "markdown",
      "metadata": {},
      "source": [
        "Exit Mechanical APDL\n====================\n\nExit Mechanical APDL once you have finished.\n"
      ]
    },
    {
      "cell_type": "code",
      "execution_count": null,
      "metadata": {
        "collapsed": false
      },
      "outputs": [],
      "source": [
        "mapdl.exit()"
      ]
    },
    {
      "cell_type": "markdown",
      "metadata": {},
      "source": [
        "\n"
      ]
    }
  ],
  "metadata": {
    "kernelspec": {
      "display_name": "Python 3",
      "language": "python",
      "name": "python3"
    },
    "language_info": {
      "codemirror_mode": {
        "name": "ipython",
        "version": 3
      },
      "file_extension": ".py",
      "mimetype": "text/x-python",
      "name": "python",
      "nbconvert_exporter": "python",
      "pygments_lexer": "ipython3",
      "version": "3.10.13"
    }
  },
  "nbformat": 4,
  "nbformat_minor": 0
}