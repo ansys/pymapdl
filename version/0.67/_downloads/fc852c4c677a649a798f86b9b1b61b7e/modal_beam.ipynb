{
  "cells": [
    {
      "cell_type": "markdown",
      "metadata": {},
      "source": [
        "MAPDL modal beam analysis example {#ref_modal_beam}\n=================================\n\nThis example demonstrates how to perform a simple modal analysis and\nanimate its results.\n\nObjective\n---------\n\nThis example models a simple 3D elastic beam made of BEAM188 elements.\nThese beams elements are made of a linear elastic material similar to\nsteel, and have a rectangular section.\n\nProcedure\n---------\n\n-   Launch MAPDL instance\n-   Material properties\n-   Geometry\n-   Finite element model\n-   Boundary conditions\n-   Solving the model\n-   Post-processing\n-   Stop MAPDL\n"
      ]
    },
    {
      "cell_type": "markdown",
      "metadata": {},
      "source": [
        "Launch MAPDL instance\n=====================\n\nLaunch MAPDL with interactive plotting\n"
      ]
    },
    {
      "cell_type": "code",
      "execution_count": null,
      "metadata": {
        "collapsed": false
      },
      "outputs": [],
      "source": [
        "from ansys.mapdl.core import launch_mapdl\n\nnmodes = 10\n# start MAPDL\nmapdl = launch_mapdl()\nprint(mapdl)"
      ]
    },
    {
      "cell_type": "markdown",
      "metadata": {},
      "source": [
        "Define material\n===============\n\nDefine material\n"
      ]
    },
    {
      "cell_type": "code",
      "execution_count": null,
      "metadata": {
        "collapsed": false
      },
      "outputs": [],
      "source": [
        "mapdl.prep7()\nmapdl.mp(\"EX\", 1, 2.1e11)\nmapdl.mp(\"PRXY\", 1, 0.3)\nmapdl.mp(\"DENS\", 1, 7800)"
      ]
    },
    {
      "cell_type": "markdown",
      "metadata": {},
      "source": [
        "Create geometry\n===============\n\nCreate keypoints and line\n"
      ]
    },
    {
      "cell_type": "code",
      "execution_count": null,
      "metadata": {
        "collapsed": false
      },
      "outputs": [],
      "source": [
        "mapdl.k(1)\nmapdl.k(2, 10)\nmapdl.l(1, 2)\nmapdl.lplot()"
      ]
    },
    {
      "cell_type": "markdown",
      "metadata": {},
      "source": [
        "Define finite element model\n===========================\n\nDefine element type/section type - Rectangular beam section.\n"
      ]
    },
    {
      "cell_type": "code",
      "execution_count": null,
      "metadata": {
        "collapsed": false
      },
      "outputs": [],
      "source": [
        "mapdl.et(1, \"BEAM188\")\nmapdl.sectype(1, \"BEAM\", \"RECT\")\nmapdl.secoffset(\"CENT\")\nmapdl.secdata(2, 1)\n\n# Mesh the line\nmapdl.type(1)\nmapdl.esize(1)\nmapdl.lesize(\"ALL\")\nmapdl.lmesh(\"ALL\")\nmapdl.eplot()\nmapdl.finish()"
      ]
    },
    {
      "cell_type": "markdown",
      "metadata": {},
      "source": [
        "Specify boundary conditions\n===========================\n\nFully fixed (clamped) end.\n"
      ]
    },
    {
      "cell_type": "code",
      "execution_count": null,
      "metadata": {
        "collapsed": false
      },
      "outputs": [],
      "source": [
        "mapdl.solution()  # Entering the solution processor.\nmapdl.nsel(\"S\", \"LOC\", \"X\", \"0\")\nmapdl.d(\"ALL\", \"ALL\")\nmapdl.allsel()\nmapdl.nplot(plot_bc=True, nnum=True)"
      ]
    },
    {
      "cell_type": "markdown",
      "metadata": {},
      "source": [
        "Solve the model\n===============\n\nSetting modal analysis\n"
      ]
    },
    {
      "cell_type": "code",
      "execution_count": null,
      "metadata": {
        "collapsed": false
      },
      "outputs": [],
      "source": [
        "mapdl.antype(\"MODAL\")\nmapdl.modopt(\"LANB\", nmodes, 0, 200)\nmapdl.solve()\nmapdl.finish()"
      ]
    },
    {
      "cell_type": "markdown",
      "metadata": {},
      "source": [
        "Postprocess\n===========\n\nEnter the post processor (post1)\n"
      ]
    },
    {
      "cell_type": "code",
      "execution_count": null,
      "metadata": {
        "collapsed": false
      },
      "outputs": [],
      "source": [
        "mapdl.post1()\noutput = mapdl.set(\"LIST\")\nprint(output)\n\nresult = mapdl.result"
      ]
    },
    {
      "cell_type": "markdown",
      "metadata": {},
      "source": [
        "Animate results\n"
      ]
    },
    {
      "cell_type": "code",
      "execution_count": null,
      "metadata": {
        "collapsed": false
      },
      "outputs": [],
      "source": [
        "mode2plot = 2\nnormalizeDisplacement = 1 / result.nodal_displacement(mode2plot - 1)[1].max()\n\nresult.plot_nodal_displacement(\n    mode2plot,\n    show_displacement=True,\n    displacement_factor=normalizeDisplacement,\n    n_colors=10,\n)\n\nresult.animate_nodal_displacement(\n    mode2plot,\n    loop=False,\n    add_text=False,\n    n_frames=100,\n    displacement_factor=normalizeDisplacement,\n    show_axes=False,\n    background=\"w\",\n    movie_filename=\"animation.gif\",\n    off_screen=True,\n)"
      ]
    },
    {
      "cell_type": "markdown",
      "metadata": {},
      "source": [
        "Stop MAPDL\n==========\n"
      ]
    },
    {
      "cell_type": "code",
      "execution_count": null,
      "metadata": {
        "collapsed": false
      },
      "outputs": [],
      "source": [
        "mapdl.finish()\nmapdl.exit()"
      ]
    }
  ],
  "metadata": {
    "kernelspec": {
      "display_name": "Python 3",
      "language": "python",
      "name": "python3"
    },
    "language_info": {
      "codemirror_mode": {
        "name": "ipython",
        "version": 3
      },
      "file_extension": ".py",
      "mimetype": "text/x-python",
      "name": "python",
      "nbconvert_exporter": "python",
      "pygments_lexer": "ipython3",
      "version": "3.10.13"
    }
  },
  "nbformat": 4,
  "nbformat_minor": 0
}