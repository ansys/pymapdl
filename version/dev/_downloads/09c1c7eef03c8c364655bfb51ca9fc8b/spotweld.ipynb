{
  "cells": [
    {
      "cell_type": "markdown",
      "metadata": {},
      "source": [
        "Running an input file - spotweld SHELL181 example {#ref_spotweld}\n=================================================\n\nThis MAPDL example demonstrates how to model spot welding on three thin\nsheets of metal. Here, the full input file is simply run using the\nPyMAPDL interface.\n\nUsing the following commands, you can directly use an APDL script within\na PyMAPDL session with the following commands:\n"
      ]
    },
    {
      "cell_type": "markdown",
      "metadata": {},
      "source": [
        "Script initialization\n=====================\n"
      ]
    },
    {
      "cell_type": "code",
      "execution_count": null,
      "metadata": {
        "collapsed": false
      },
      "outputs": [],
      "source": [
        "from ansys.mapdl.core import launch_mapdl\nfrom ansys.mapdl.core.examples.downloads import download_example_data\n\nmapdl = launch_mapdl()"
      ]
    },
    {
      "cell_type": "markdown",
      "metadata": {},
      "source": [
        "Download and run an MAPDL script\n================================\n"
      ]
    },
    {
      "cell_type": "code",
      "execution_count": null,
      "metadata": {
        "collapsed": false
      },
      "outputs": [],
      "source": [
        "spotweld_data = download_example_data(\n    filename=\"spotweld.inp\", directory=\"pymapdl/spotweld\"\n)\nmapdl.input(spotweld_data)"
      ]
    },
    {
      "cell_type": "markdown",
      "metadata": {},
      "source": [
        "Displacements\n=============\n"
      ]
    },
    {
      "cell_type": "code",
      "execution_count": null,
      "metadata": {
        "collapsed": false
      },
      "outputs": [],
      "source": [
        "# Enter post-processor\nmapdl.post1()\n\n# Plot the time step 1.\nmapdl.set(1, 1)\nmapdl.post_processing.plot_nodal_displacement(cmap=\"bwr\")\n\n# Plot the time step 3.\nmapdl.set(1, 3)\nmapdl.post_processing.plot_nodal_displacement(cmap=\"bwr\")"
      ]
    },
    {
      "cell_type": "markdown",
      "metadata": {},
      "source": [
        "Stress\n======\n"
      ]
    },
    {
      "cell_type": "code",
      "execution_count": null,
      "metadata": {
        "collapsed": false
      },
      "outputs": [],
      "source": [
        "# Get the nodal and element component stress at time step 1.\nmapdl.set(1, 1)\nnodal_stress = mapdl.post_processing.nodal_stress_intensity()\nprint(\"Nodal stress : \", nodal_stress)\n\n# Plot the element stress.\nelement_stress = mapdl.post_processing.element_stress(\"int\")\nprint(\"Element stress : \", element_stress)"
      ]
    },
    {
      "cell_type": "markdown",
      "metadata": {},
      "source": [
        "The stress at the contact element simulating the spot weld.\n\nPlot the nodal stress in the Z direction.\n"
      ]
    },
    {
      "cell_type": "code",
      "execution_count": null,
      "metadata": {
        "collapsed": false
      },
      "outputs": [],
      "source": [
        "mapdl.post_processing.plot_nodal_component_stress(\"z\")"
      ]
    },
    {
      "cell_type": "markdown",
      "metadata": {},
      "source": [
        "Get the cumulative equivalent stress and plot the von Mises stress.\n"
      ]
    },
    {
      "cell_type": "code",
      "execution_count": null,
      "metadata": {
        "collapsed": false
      },
      "outputs": [],
      "source": [
        "eqv_stress = mapdl.post_processing.nodal_eqv_stress()\nprint(\"Cumulative equivalent stress : \", eqv_stress)\nmapdl.post_processing.plot_nodal_eqv_stress()"
      ]
    },
    {
      "cell_type": "markdown",
      "metadata": {},
      "source": [
        "Stop MAPDL\n"
      ]
    },
    {
      "cell_type": "code",
      "execution_count": null,
      "metadata": {
        "collapsed": false
      },
      "outputs": [],
      "source": [
        "mapdl.finish()\nmapdl.exit()"
      ]
    }
  ],
  "metadata": {
    "kernelspec": {
      "display_name": "Python 3",
      "language": "python",
      "name": "python3"
    },
    "language_info": {
      "codemirror_mode": {
        "name": "ipython",
        "version": 3
      },
      "file_extension": ".py",
      "mimetype": "text/x-python",
      "name": "python",
      "nbconvert_exporter": "python",
      "pygments_lexer": "ipython3",
      "version": "3.10.13"
    }
  },
  "nbformat": 4,
  "nbformat_minor": 0
}