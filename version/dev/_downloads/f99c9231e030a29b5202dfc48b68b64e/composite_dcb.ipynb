{
  "cells": [
    {
      "cell_type": "code",
      "execution_count": null,
      "metadata": {
        "collapsed": false
      },
      "outputs": [],
      "source": [
        "%matplotlib inline"
      ]
    },
    {
      "cell_type": "markdown",
      "metadata": {},
      "source": [
        "Static simulation of double cantilever beam test via cohesive elements {#ref_dcb_test_composite_delamination}\n======================================================================\n\nThis example is a classic double cantilever beam test commonly used to\nstudy mode I interfacial delamination of composite plates.\n\nDescription\n-----------\n\n### Objective\n\nThis example shows how to use PyMAPDL to simulate delamination in\ncomposite materials. PyDPF modules are also used for the postprocessing\nof the results.\n\n### Problem figure\n\n![**Source**:\n<https://www.wikiwand.com/en/Delamination>](../../../images/dcb_test.png){width=\"400px\"}\n\n### Procedure\n\n-   Launch the MAPDL instance.\n-   Set up the model.\n-   Solve the model.\n-   Plot results using PyMAPDL.\n-   Plot results using PyDPF.\n-   Plot reaction force.\n\n### Additional packages\n\nThese additional packages are imported for use: \\* -\n[Matplotlib](https://matplotlib.org) for plotting \\* -\n[Pandas](https://pandas.pydata.org/) for data analysis and manipulation\n"
      ]
    },
    {
      "cell_type": "markdown",
      "metadata": {},
      "source": [
        "Start MAPDL as a service\n========================\n\nThis example begins by importing the required packages and then\nlaunching Ansys Mechanical APDL.\n"
      ]
    },
    {
      "cell_type": "code",
      "execution_count": null,
      "metadata": {
        "collapsed": false
      },
      "outputs": [],
      "source": [
        "import os\nimport tempfile\n\nfrom ansys.dpf import core as dpf\nfrom ansys.dpf.core import Model\nimport matplotlib.pyplot as plt\nimport numpy as np\nimport pyvista as pv\n\nfrom ansys.mapdl import core as pymapdl\n\n# Start MAPDL as a service\nmapdl = pymapdl.launch_mapdl()\nprint(mapdl)"
      ]
    },
    {
      "cell_type": "markdown",
      "metadata": {},
      "source": [
        "Set geometrical inputs\n======================\n\nSet geometrical inputs for the model.\n"
      ]
    },
    {
      "cell_type": "code",
      "execution_count": null,
      "metadata": {
        "collapsed": false
      },
      "outputs": [],
      "source": [
        "length = 75.0\npre_crack = 10.0\nwidth = 25.0\nheight = 1.7\nd = 10.0\n# a small quantity defined for avoiding rounding-off error when picking geometrical entities\neps = 1e-1"
      ]
    },
    {
      "cell_type": "markdown",
      "metadata": {},
      "source": [
        "Set up the model\n================\n\nSet up the model by choosing the units system and the element types for\nthe simulations. Because a fully 3D approach is chosen for this example,\n`SOLID186` elements are used for meshing volumes, and `TARGE170` and\n`CONTA174` are used for modelling cohesive elements in between contact\nsurfaces.\n\nDefine material parameters\n--------------------------\n\nComposite plates are modelled using homogeneous linear elastic\northotropic properties, whereas a bilinear cohesive law is used for\ncohesive elements.\n"
      ]
    },
    {
      "cell_type": "code",
      "execution_count": null,
      "metadata": {
        "collapsed": false
      },
      "outputs": [],
      "source": [
        "# Enter the preprocessor and define the unit system\nmapdl.prep7()\nmapdl.units(\"mpa\")\n\n# Define SOLID185, TARGE170, and CONTA174 elements, along with the element size\nmapdl.et(1, 185)\nmapdl.et(2, 170)\nmapdl.et(3, 174)\nmapdl.esize(10.0)\n\n# Define material properties for the composite plates\nmapdl.mp(\"ex\", 1, 61340)\nmapdl.mp(\"dens\", 1, 1.42e-09)\nmapdl.mp(\"nuxy\", 1, 0.1)\n\n# Define the bilinear cohesive law\nmapdl.mp(\"mu\", 2, 0)\nmapdl.tb(\"czm\", 2, 1, \"\", \"bili\")\nmapdl.tbtemp(25.0)\nmapdl.tbdata(1, 50.0, 0.5, 50, 0.5, 0.01, 2)"
      ]
    },
    {
      "cell_type": "markdown",
      "metadata": {},
      "source": [
        "Create the geometry in the model and meshing\n============================================\n\nThe two plates are generated as two parallelepipeds. Composite material\nproperties and the three-dimensional elements are then assigned.\n"
      ]
    },
    {
      "cell_type": "code",
      "execution_count": null,
      "metadata": {
        "collapsed": false
      },
      "outputs": [],
      "source": [
        "# Generate the two composite plates\nvnum0 = mapdl.block(0.0, length + pre_crack, 0.0, width, 0.0, height)\nvnum1 = mapdl.block(0.0, length + pre_crack, 0.0, width, height, 2 * height)\n\n# Assign material properties and element type\nmapdl.mat(1)\nmapdl.type(1)\n\n# performing the meshing\nmapdl.vmesh(vnum0)\nmapdl.vmesh(vnum1)\nmapdl.eplot()"
      ]
    },
    {
      "cell_type": "markdown",
      "metadata": {},
      "source": [
        "Generate cohesive elements in between the contact surfaces\n==========================================================\n\nThe generation of cohesive elements is the most delicate part of the\nmodelling approach. First, the two contact surfaces are identified and\ndefined as a components (in this case [cm\\_1]{.title-ref} and\n[cm\\_2]{.title-ref} respectively). Then, the real constants for the\n`CONTA174` and `TARGE170` elements and their key options are set to\ncapture the correct behavior. Descriptions for each of these parameters\ncan be found in the Ansys element documentation. Finally, elements are\ngenerated on top of the respective surfaces [cm\\_1]{.title-ref} and\n[cm\\_2]{.title-ref}.\n"
      ]
    },
    {
      "cell_type": "code",
      "execution_count": null,
      "metadata": {
        "collapsed": false
      },
      "outputs": [],
      "source": [
        "# Identify the two touching areas and assign them to components\nmapdl.allsel()\nmapdl.asel(\"s\", \"loc\", \"z\", 1.7)\nareas = mapdl.geometry.anum\nmapdl.geometry.area_select(areas[0], \"r\")\nmapdl.nsla(\"r\", 1)\nmapdl.nsel(\"r\", \"loc\", \"x\", pre_crack, length + pre_crack + eps)\nmapdl.cm(\"cm_1\", \"node\")\n\nmapdl.allsel()\nmapdl.asel(\"s\", \"loc\", \"z\", 1.7)\nareas = mapdl.geometry.anum\nmapdl.geometry.area_select(areas[1], \"r\")\nmapdl.nsla(\"r\", 1)\nmapdl.nsel(\"r\", \"loc\", \"x\", pre_crack, length + pre_crack + eps)\nmapdl.cm(\"cm_2\", \"node\")\n\n# Identify all the elements before generation of TARGE170 elements\nmapdl.allsel()\nmapdl.cm(\"_elemcm\", \"elem\")\nmapdl.mat(2)\n\n# Assign real constants and key options\nmapdl.r(3, \"\", \"\", 1.0, 0.1, 0, \"\")\nmapdl.rmore(\"\", \"\", 1.0e20, 0.0, 1.0, \"\")\nmapdl.rmore(0.0, 0.0, 1.0, \"\", 1.0, 0.5)\nmapdl.rmore(0.0, 1.0, 1.0, 0.0, \"\", 1.0)\nmapdl.rmore(\"\", \"\", \"\", \"\", \"\", 1.0)\nmapdl.keyopt(3, 4, 0)\nmapdl.keyopt(3, 5, 0)\nmapdl.keyopt(3, 7, 0)\nmapdl.keyopt(3, 8, 0)\nmapdl.keyopt(3, 9, 0)\nmapdl.keyopt(3, 10, 0)\nmapdl.keyopt(3, 11, 0)\nmapdl.keyopt(3, 12, 3)\nmapdl.keyopt(3, 14, 0)\nmapdl.keyopt(3, 18, 0)\nmapdl.keyopt(3, 2, 0)\nmapdl.keyopt(2, 5, 0)\n\n# Generate TARGE170 elements on top of cm_1\nmapdl.nsel(\"s\", \"\", \"\", \"cm_1\")\nmapdl.cm(\"_target\", \"node\")\nmapdl.type(2)\nmapdl.esln(\"s\", 0)\nmapdl.esurf()\n\n# Generate CONTA174 elements on top of cm_2\nmapdl.cmsel(\"s\", \"_elemcm\")\nmapdl.nsel(\"s\", \"\", \"\", \"cm_2\")\nmapdl.cm(\"_contact\", \"node\")\nmapdl.type(3)\nmapdl.esln(\"s\", 0)\nmapdl.esurf()"
      ]
    },
    {
      "cell_type": "markdown",
      "metadata": {},
      "source": [
        "Generate boundary conditions\n============================\n\nAssign boundary conditions to replicate the real test conditions. One\nend of the two composite plates is fixed against translation along the\nx, y, and z axis. On the opposite side of the plate, displacement\nconditions are applied to simulate the interfacial crack opening. These\nconditions are applied to the top and bottom nodes corresponding to the\ngeometrical edges located respectively at these (x, y, z) coordinates:,\n`` (0.0, `y`, 0.0) `` and `` (0.0, `y`, 3.4) ``. Two different\ncomponents are assigned to these sets of nodes for a faster\nidentification of the nodes bearing reaction forces.\n"
      ]
    },
    {
      "cell_type": "code",
      "execution_count": null,
      "metadata": {
        "collapsed": false
      },
      "outputs": [],
      "source": [
        "# Apply the two displacement conditions\nmapdl.allsel()\nmapdl.nsel(type_=\"s\", item=\"loc\", comp=\"x\", vmin=0.0, vmax=0.0)\nmapdl.nsel(type_=\"r\", item=\"loc\", comp=\"z\", vmin=2 * height, vmax=2 * height)\nmapdl.d(node=\"all\", lab=\"uz\", value=d)\nmapdl.cm(\"top_nod\", \"node\")\n\nmapdl.allsel()\nmapdl.nsel(type_=\"s\", item=\"loc\", comp=\"x\", vmin=0.0, vmax=0.0)\nmapdl.nsel(type_=\"r\", item=\"loc\", comp=\"z\", vmin=0.0, vmax=0.0)\nmapdl.d(node=\"all\", lab=\"uz\", value=-10)\nmapdl.cm(\"bot_nod\", \"node\")\n\n# Apply the fix condition\nmapdl.allsel()\nmapdl.nsel(\n    type_=\"s\",\n    item=\"loc\",\n    comp=\"x\",\n    vmin=length + pre_crack,\n    vmax=length + pre_crack,\n)\nmapdl.d(node=\"all\", lab=\"ux\", value=0.0)\nmapdl.d(node=\"all\", lab=\"uy\", value=0.0)\nmapdl.d(node=\"all\", lab=\"uz\", value=0.0)\n\nmapdl.eplot(\n    plot_bc=True,\n    bc_glyph_size=3,\n    title=\"\",\n)"
      ]
    },
    {
      "cell_type": "markdown",
      "metadata": {},
      "source": [
        "Solve the non-linear static analysis\n====================================\n\nRun a non-linear static analysis. To have smooth crack opening\nprogression and facilitate convergency for the static solver, request\n100 substeps.\n"
      ]
    },
    {
      "cell_type": "code",
      "execution_count": null,
      "metadata": {
        "collapsed": false
      },
      "outputs": [],
      "source": [
        "# Enter the solution processor and define the analysis settings\nmapdl.allsel()\nmapdl.finish()\nmapdl.run(\"/SOLU\")\nmapdl.antype(\"static\")\n\n# Activate non-linear geometry\nmapdl.nlgeom(\"on\")\n\n# Request substeps\nmapdl.autots(key=\"on\")\nmapdl.nsubst(nsbstp=100, nsbmx=100, nsbmn=100)\nmapdl.kbc(key=0)\nmapdl.outres(\"all\", \"all\")\n\n# Solve\noutput = mapdl.solve()"
      ]
    },
    {
      "cell_type": "markdown",
      "metadata": {},
      "source": [
        "Postprocessing\n==============\n\nUse PyMAPDL and PyDPF for postprocessing.\n\nPostprocess results using PyMAPDL\n---------------------------------\n\nThis section shows how to use PyMAPDL to postprocess results. Because\nmeasuring the delamination length is important, plot the cohesive damage\nparameter. Although the damage parameter is an element parameter, the\nresult is provided in terms of a nodal result. Thus, the result for just\none of the four-noded cohesive element `NMISC = 70` is presented. The\nresult for the other nodes are present at `NMISC = 71,72,73`. You can\nretrieve the actual damage parameter nodal values from the solved model\nin form of a table (or an array).\n"
      ]
    },
    {
      "cell_type": "code",
      "execution_count": null,
      "metadata": {
        "collapsed": false
      },
      "outputs": [],
      "source": [
        "# Enter the postprocessor\nmapdl.post1()\n\n# Select the substep\nmapdl.set(1, 100)\n\n# Select ``CONTA174`` elements\nmapdl.allsel()\nmapdl.esel(\"s\", \"ename\", \"\", 174)\n\n# Plot the element values\nmapdl.post_processing.plot_element_values(\n    \"nmisc\", 70, scalar_bar_args={\"title\": \"Cohesive Damage\"}\n)\n\n# Extract the nodal values of the damage parameter\nmapdl.allsel()\nmapdl.esel(\"s\", \"ename\", \"\", 174)\nmapdl.etable(\"damage\", \"nmisc\", 70)\n\ndamage_df = mapdl.pretab(\"damage\").to_dataframe()"
      ]
    },
    {
      "cell_type": "markdown",
      "metadata": {},
      "source": [
        "Postprocessing results using PyDPF\n==================================\n\nUse PyDPF to visualize the crack opening throughout the simulation as an\nanimation.\n"
      ]
    },
    {
      "cell_type": "code",
      "execution_count": null,
      "metadata": {
        "collapsed": false
      },
      "outputs": [],
      "source": [
        "temp_directory = tempfile.gettempdir()\nrst_path = mapdl.download_result(temp_directory)\n\ntry:\n    # ONLY IF DPF SERVER DEPLOYED WITH gRPC COMMUNICATION\n    # Upload file to DPF server\n    dpf.connect_to_server()\n    server_file_path = dpf.upload_file_in_tmp_folder(rst_path)\n    data_src = dpf.DataSources(server_file_path)\nexcept:\n    # Using DPF locally\n    data_src = dpf.DataSources(rst_path)\n\n# Generate the DPF model\nmodel = Model(data_src)\n\n# Get the mesh of the whole model\nmeshed_region = model.metadata.meshed_region\n\n# Get the mesh of the cohesive elements\nmesh_scoping_cohesive = dpf.mesh_scoping_factory.named_selection_scoping(\n    \"CM_1\", model=model\n)\n\nresult_mesh = dpf.operators.mesh.from_scoping(\n    scoping=mesh_scoping_cohesive, inclusive=0, mesh=meshed_region\n).eval()\n\n# Get the coordinates field for each mesh\nmesh_field = meshed_region.field_of_properties(dpf.common.nodal_properties.coordinates)\nmesh_field_cohesive = result_mesh.field_of_properties(\n    dpf.common.nodal_properties.coordinates\n)\n\n# Get the index of the NMISC results\nnmisc_index = 70\n\n# Generate the damage result operator\ndam_op = dpf.operators.result.nmisc(data_sources=data_src, item_index=70)\n\n# Generate the displacement operator\ndisp_op = model.results.displacement()\n\n# Create sum operators to compute the updated coordinates at step n\nadd_op = dpf.operators.math.add(fieldA=mesh_field)\nadd_op_cohesive = dpf.operators.math.add(fieldA=mesh_field_cohesive)\n\n# Instantiate a PyVista plotter and start the creation of a GIF\nplotter = pv.Plotter(notebook=False, off_screen=True)\nplotter.open_gif(\"dcb.gif\")\n\n# Add the beam mesh to the scene\nmesh_beam = meshed_region.grid\nplotter.add_mesh(\n    mesh_beam,\n    lighting=False,\n    show_edges=True,\n    scalar_bar_args={\"title\": \"Cohesive Damage\"},\n    clim=[0, 1],\n    opacity=0.3,\n)\n\n# Add the contact mesh to the scene\nmesh_contact = result_mesh.grid\nplotter.add_mesh(\n    mesh_contact,\n    opacity=0.9,\n    scalar_bar_args={\"title\": \"Cohesive Damage\"},\n    clim=[0, 1],\n    scalars=np.zeros((mesh_contact.n_cells)),\n)\n\nfor i in range(1, 100):\n    # Get displacements\n    disp = model.results.displacement(time_scoping=i).eval()\n    # Getting the updated coordinates\n    add_op.inputs.fieldB.connect(disp[0])\n    disp_result = add_op.outputs.field()\n    # Get displacements for the cohesive layer\n    disp = model.results.displacement(\n        time_scoping=i, mesh_scoping=mesh_scoping_cohesive\n    ).eval()\n    # Get the updated coordinates for the cohesive layer\n    add_op_cohesive.inputs.fieldB.connect(disp[0])\n    disp_cohesive = add_op_cohesive.outputs.field()\n    # Get the damage field\n    dam_op.inputs.time_scoping([i])\n    cohesive_damage = dam_op.outputs.fields_container()[0]\n    # Update coordinates and scalars\n    plotter.update_coordinates(disp_result.data, mesh=mesh_beam, render=False)\n    plotter.update_coordinates(disp_cohesive.data, mesh=mesh_contact, render=False)\n    plotter.update_scalars(cohesive_damage.data, mesh=mesh_contact, render=False)\n\n    plotter.write_frame()\n\nplotter.show()"
      ]
    },
    {
      "cell_type": "markdown",
      "metadata": {},
      "source": [
        "Plot the reaction force at the bottom nodes\n"
      ]
    },
    {
      "cell_type": "code",
      "execution_count": null,
      "metadata": {
        "collapsed": false
      },
      "outputs": [],
      "source": [
        "mesh_scoping = model.metadata.named_selection(\"BOT_NOD\")\nf_tot = []\nd_tot = []\nfor i in range(0, 100):\n    force_eval = model.results.element_nodal_forces(\n        time_scoping=i, mesh_scoping=mesh_scoping\n    ).eval()\n    force = force_eval[0].data\n    f_tot += [np.sum(force[:, 2])]\n    d = abs(\n        model.results.displacement(time_scoping=i, mesh_scoping=mesh_scoping)\n        .eval()[0]\n        .data[0]\n    )\n    d_tot += [d[2]]\n\nd_tot[0] = 0\nf_tot[0] = 0\n\nfig, ax = plt.subplots()\n\nplt.plot(d_tot, f_tot, \"b\")\nplt.ylabel(\"Force [N]\")\nplt.xlabel(\"Displacement [mm]\")\nplt.show()"
      ]
    },
    {
      "cell_type": "markdown",
      "metadata": {},
      "source": [
        "Animate results using PyDPF with .anmiate() method\n==================================================\n\nUse PyDPF method\n`FieldsContainer.animate() <ansys.dpf.core.fields_container.FieldsContainer.animate>`{.interpreted-text\nrole=\"func\"} to visualize the crack opening throughout the simulation as\nan animation.\n"
      ]
    },
    {
      "cell_type": "code",
      "execution_count": null,
      "metadata": {
        "collapsed": false
      },
      "outputs": [],
      "source": [
        "disp = model.results.displacement.on_all_time_freqs.eval()\ncamera_pos = disp.animate(\n    scale_factor=1.0,\n    save_as=\"dcb_animate.gif\",\n    return_cpos=True,\n    show_axes=True,\n)"
      ]
    },
    {
      "cell_type": "markdown",
      "metadata": {},
      "source": [
        "Exit MAPDL\n"
      ]
    },
    {
      "cell_type": "code",
      "execution_count": null,
      "metadata": {
        "collapsed": false
      },
      "outputs": [],
      "source": [
        "try:\n    os.remove(rst_path)\nexcept FileNotFoundError:\n    pass\nmapdl.exit()"
      ]
    }
  ],
  "metadata": {
    "kernelspec": {
      "display_name": "Python 3",
      "language": "python",
      "name": "python3"
    },
    "language_info": {
      "codemirror_mode": {
        "name": "ipython",
        "version": 3
      },
      "file_extension": ".py",
      "mimetype": "text/x-python",
      "name": "python",
      "nbconvert_exporter": "python",
      "pygments_lexer": "ipython3",
      "version": "3.9.16"
    }
  },
  "nbformat": 4,
  "nbformat_minor": 0
}