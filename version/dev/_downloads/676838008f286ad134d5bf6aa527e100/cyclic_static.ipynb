{
  "cells": [
    {
      "cell_type": "code",
      "execution_count": null,
      "metadata": {
        "collapsed": false
      },
      "outputs": [],
      "source": [
        "%matplotlib inline"
      ]
    },
    {
      "cell_type": "markdown",
      "metadata": {},
      "source": [
        "Static Cyclic Analysis {#ref_cyclic_static_analysis}\n======================\n\nRun a static cyclic analysis of an example rotor sector using the\nimperial unit system at 1000 RPM.\n"
      ]
    },
    {
      "cell_type": "code",
      "execution_count": null,
      "metadata": {
        "collapsed": false
      },
      "outputs": [],
      "source": [
        "from ansys.mapdl.reader import examples\n\nfrom ansys.mapdl.core import launch_mapdl\n\n# launch mapdl\nmapdl = launch_mapdl()"
      ]
    },
    {
      "cell_type": "markdown",
      "metadata": {},
      "source": [
        "Load in the mesh\n================\n\nLoad in the example sector and plot it.\n"
      ]
    },
    {
      "cell_type": "code",
      "execution_count": null,
      "metadata": {
        "collapsed": false
      },
      "outputs": [],
      "source": [
        "mapdl.cdread(\"db\", examples.sector_archive_file)\nmapdl.eplot()"
      ]
    },
    {
      "cell_type": "markdown",
      "metadata": {},
      "source": [
        "Make the rotor cyclic\n=====================\n\nEnter the preprocessing routine and make the mesh cyclic.\n"
      ]
    },
    {
      "cell_type": "code",
      "execution_count": null,
      "metadata": {
        "collapsed": false
      },
      "outputs": [],
      "source": [
        "mapdl.prep7()\nmapdl.cyclic()"
      ]
    },
    {
      "cell_type": "markdown",
      "metadata": {},
      "source": [
        "Set material properties\n=======================\n\nUnits are in imperial units and the material is (approximately)\nstructural steel.\n"
      ]
    },
    {
      "cell_type": "code",
      "execution_count": null,
      "metadata": {
        "collapsed": false
      },
      "outputs": [],
      "source": [
        "mapdl.mp(\"NUXY\", 1, 0.31)\nmapdl.mp(\"DENS\", 1, 4.1408e-04)\nmapdl.mp(\"EX\", 1, 16900000)"
      ]
    },
    {
      "cell_type": "markdown",
      "metadata": {},
      "source": [
        "Apply boundary conditions\n=========================\n\nApply a cyclic rotation at 1000 RPM and constrain the rotor at the\ncenter.\n"
      ]
    },
    {
      "cell_type": "code",
      "execution_count": null,
      "metadata": {
        "collapsed": false
      },
      "outputs": [],
      "source": [
        "mapdl.omega(0, 0, 1000)  # 1000 RPM\n\nmapdl.csys(1)  # enter the cyclic coordinate system\nmapdl.nsel(\"S\", \"loc\", \"x\", 0.69, 0.71)  # radial between 0.69 - 0.71\nmapdl.d(\"ALL\", \"ALL\")  # all DOF for those 8 nodes\nmapdl.allsel()\nmapdl.csys(0)  # return to cartesian coordinate system"
      ]
    },
    {
      "cell_type": "markdown",
      "metadata": {},
      "source": [
        "Run a static analysis\n=====================\n\nRun the MAPDL solver and print the output of the solution.\n"
      ]
    },
    {
      "cell_type": "code",
      "execution_count": null,
      "metadata": {
        "collapsed": false
      },
      "outputs": [],
      "source": [
        "mapdl.run(\"/SOLU\")\nmapdl.antype(\"STATIC\")\noutput = mapdl.solve()\nmapdl.finish()\nprint(output)"
      ]
    },
    {
      "cell_type": "markdown",
      "metadata": {},
      "source": [
        "Plot the cyclic result\n======================\n\nPlot the result using the legacy\n"
      ]
    },
    {
      "cell_type": "code",
      "execution_count": null,
      "metadata": {
        "collapsed": false
      },
      "outputs": [],
      "source": [
        "mapdl.result.plot_nodal_displacement(0)"
      ]
    },
    {
      "cell_type": "markdown",
      "metadata": {},
      "source": [
        "Exit MAPDL\n==========\n\nFinally, exit MAPDL.\n"
      ]
    },
    {
      "cell_type": "code",
      "execution_count": null,
      "metadata": {
        "collapsed": false
      },
      "outputs": [],
      "source": [
        "mapdl.exit()"
      ]
    }
  ],
  "metadata": {
    "kernelspec": {
      "display_name": "Python 3",
      "language": "python",
      "name": "python3"
    },
    "language_info": {
      "codemirror_mode": {
        "name": "ipython",
        "version": 3
      },
      "file_extension": ".py",
      "mimetype": "text/x-python",
      "name": "python",
      "nbconvert_exporter": "python",
      "pygments_lexer": "ipython3",
      "version": "3.9.16"
    }
  },
  "nbformat": 4,
  "nbformat_minor": 0
}