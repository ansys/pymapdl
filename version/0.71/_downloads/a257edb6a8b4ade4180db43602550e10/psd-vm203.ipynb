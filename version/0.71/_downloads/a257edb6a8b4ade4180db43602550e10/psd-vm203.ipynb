{
  "cells": [
    {
      "cell_type": "markdown",
      "metadata": {},
      "source": [
        "::: {#ref_psd_vm203}\n  Dynamic Load Effect on a Supported Thick Plate\n  ----------------------------------------------------------------------\n  This example demonstrates how to perform a random vibration analysis\n  using PyMAPDL.\n  This example is based on the ANSYS Verification Manual, problem 203\n  (VM203).\n  Description\n:::\n\nA simply-supported thick square plate of length L, thickness t, and mass\nper unit area m is subject to random uniform pressure power spectral\ndensity. Determine the peak one-sigma displacement at undamped natural\nfrequency.\n\nA frequency range of 1.0 Hz to 80 Hz is used as an approximation of the\nwhite noise PSD forcing function frequency. The PSD curve is a constant\n\\$\\$(1E6 N/m\\^2)\\^2 / Hz\\$\\$.\n\nThe model is solved using SHELL281 elements and generic materials.\n\n# Import modules\n"
      ]
    },
    {
      "cell_type": "code",
      "execution_count": null,
      "metadata": {
        "collapsed": false
      },
      "outputs": [],
      "source": [
        "import matplotlib.pyplot as plt\nfrom tabulate import tabulate\n\nfrom ansys.mapdl.core import launch_mapdl\n\nmapdl = launch_mapdl()\n\nmapdl.clear()\nmapdl.prep7()\nmapdl.units(\"mks\")"
      ]
    },
    {
      "cell_type": "markdown",
      "metadata": {},
      "source": [
        "# Parameters\n\nLoading parameters\n"
      ]
    },
    {
      "cell_type": "code",
      "execution_count": null,
      "metadata": {
        "collapsed": false
      },
      "outputs": [],
      "source": [
        "LOAD_PRES = -1e6\nDAMPING_RATIO = 0.02"
      ]
    },
    {
      "cell_type": "markdown",
      "metadata": {},
      "source": [
        "# Set up the FE model\n\nSet the element type to SHELL281, which is a 3D structural high-order\nshell element.\n"
      ]
    },
    {
      "cell_type": "code",
      "execution_count": null,
      "metadata": {
        "collapsed": false
      },
      "outputs": [],
      "source": [
        "thickness = 1\n\nmapdl.et(1, \"SHELL281\")\nmapdl.sectype(1, \"SHELL\")\nmapdl.secdata(1, thickness, 0, 5)"
      ]
    },
    {
      "cell_type": "markdown",
      "metadata": {},
      "source": [
        "# Set material properties\n\nUnits are in the international unit system.\n"
      ]
    },
    {
      "cell_type": "code",
      "execution_count": null,
      "metadata": {
        "collapsed": false
      },
      "outputs": [],
      "source": [
        "EX = 200e9\nPR = 0.3\nDENS = 8000\n\nmapdl.mp(\"EX\", 1, EX)\nmapdl.mp(\"NUXY\", 1, PR)\nmapdl.mp(\"DENS\", 1, DENS)"
      ]
    },
    {
      "cell_type": "markdown",
      "metadata": {},
      "source": [
        "# Create geometry\n\nCreate the model geometry.\n"
      ]
    },
    {
      "cell_type": "code",
      "execution_count": null,
      "metadata": {
        "collapsed": false
      },
      "outputs": [],
      "source": [
        "L1 = 10\n\nmapdl.n(1, 0, 0, 0)\nmapdl.n(9, 0, L1, 0)\nmapdl.fill()\nmapdl.ngen(5, 40, 1, 9, 1, L1 / 4)\nmapdl.n(21, L1 / 8, 0, 0)\nmapdl.n(29, L1 / 8, 10, 0)\nmapdl.fill(21, 29, 3)\nmapdl.ngen(4, 40, 21, 29, 2, L1 / 4)\nmapdl.en(1, 1, 41, 43, 3, 21, 42, 23, 2)\nmapdl.egen(4, 2, 1)\nmapdl.egen(4, 40, 1, 4)"
      ]
    },
    {
      "cell_type": "markdown",
      "metadata": {},
      "source": [
        "# Loads and boundary conditions\n\nDefine loads and boundary conditions.\n\nApply a uniform pressure load of 1,000,000 N/m\\^2\n"
      ]
    },
    {
      "cell_type": "code",
      "execution_count": null,
      "metadata": {
        "collapsed": false
      },
      "outputs": [],
      "source": [
        "mapdl.sfe(\"ALL\", \"\", \"PRES\", \"\", LOAD_PRES)"
      ]
    },
    {
      "cell_type": "markdown",
      "metadata": {},
      "source": [
        "Apply constraints UX, UY, ROTZ DOFs all fixed\n"
      ]
    },
    {
      "cell_type": "code",
      "execution_count": null,
      "metadata": {
        "collapsed": false
      },
      "outputs": [],
      "source": [
        "mapdl.d(\"ALL\", \"UX\", 0, \"\", \"\", \"\", \"UY\", \"ROTZ\")"
      ]
    },
    {
      "cell_type": "markdown",
      "metadata": {},
      "source": [
        "Simply supported on the four corners\n"
      ]
    },
    {
      "cell_type": "code",
      "execution_count": null,
      "metadata": {
        "collapsed": false
      },
      "outputs": [],
      "source": [
        "mapdl.d(1, \"UZ\", 0, 0, 9, 1, \"ROTX\")\nmapdl.d(161, \"UZ\", 0, 0, 169, 1, \"ROTX\")\nmapdl.d(1, \"UZ\", 0, 0, 161, 20, \"ROTY\")\nmapdl.d(9, \"UZ\", 0, 0, 169, 20, \"ROTY\")"
      ]
    },
    {
      "cell_type": "markdown",
      "metadata": {},
      "source": [
        "# Solve the model\n\nSolve the modal analysis using the PCG Lanczos solver to find and expand\nthe first two modes of the model.\n"
      ]
    },
    {
      "cell_type": "code",
      "execution_count": null,
      "metadata": {
        "collapsed": false
      },
      "outputs": [],
      "source": [
        "n_modes = 2\nmapdl.solution()\nmapdl.antype(\"MODAL\")\nmapdl.modopt(\"LANPCG\", n_modes)\nmapdl.mxpand(n_modes, \"\", \"\", \"YES\")\n\nmapdl.solve()\n# Getting frequency of the first mode\nf0 = mapdl.get_value(\"MODE\", 1, \"FREQ\")\n\nmapdl.finish()"
      ]
    },
    {
      "cell_type": "markdown",
      "metadata": {},
      "source": [
        "# PSD Spectrum analysis\n\nNow let\\'s perform PSD spectrum analysis using the two solved modes:\n"
      ]
    },
    {
      "cell_type": "code",
      "execution_count": null,
      "metadata": {
        "collapsed": false
      },
      "outputs": [],
      "source": [
        "mapdl.slashsolu()\nmapdl.antype(\"SPECTR\")\nmapdl.spopt(\"PSD\", n_modes, \"ON\")"
      ]
    },
    {
      "cell_type": "markdown",
      "metadata": {},
      "source": [
        "Define the PSD spectrum\n"
      ]
    },
    {
      "cell_type": "code",
      "execution_count": null,
      "metadata": {
        "collapsed": false
      },
      "outputs": [],
      "source": [
        "mapdl.psdunit(1, \"PRES\")"
      ]
    },
    {
      "cell_type": "markdown",
      "metadata": {},
      "source": [
        "Applying proportional damping\n"
      ]
    },
    {
      "cell_type": "code",
      "execution_count": null,
      "metadata": {
        "collapsed": false
      },
      "outputs": [],
      "source": [
        "mapdl.dmprat(DAMPING_RATIO)"
      ]
    },
    {
      "cell_type": "markdown",
      "metadata": {},
      "source": [
        "PSD frequency value table 1 to 80 Hz\n"
      ]
    },
    {
      "cell_type": "code",
      "execution_count": null,
      "metadata": {
        "collapsed": false
      },
      "outputs": [],
      "source": [
        "freqA = 1.0\nfreqB = 80.0\n\nmapdl.psdfrq(1, 1, freq1=freqA, freq2=freqB)\nmapdl.psdval(1, 1.0, 1.0)"
      ]
    },
    {
      "cell_type": "markdown",
      "metadata": {},
      "source": [
        "Define the PSD load vector generated at modal analysis\n"
      ]
    },
    {
      "cell_type": "code",
      "execution_count": null,
      "metadata": {
        "collapsed": false
      },
      "outputs": [],
      "source": [
        "mapdl.sfedele(\"ALL\", \"\", \"PRES\")\nmapdl.lvscale(1)\nmapdl.pfact(1, \"NODE\")"
      ]
    },
    {
      "cell_type": "markdown",
      "metadata": {},
      "source": [
        "Write out the displacement result\n"
      ]
    },
    {
      "cell_type": "code",
      "execution_count": null,
      "metadata": {
        "collapsed": false
      },
      "outputs": [],
      "source": [
        "mapdl.psdres(\"DISP\", \"REL\")\n# set for PSD mode combination method\nmapdl.psdcom()\nmapdl.solve()\n\nmapdl.finish()"
      ]
    },
    {
      "cell_type": "markdown",
      "metadata": {},
      "source": [
        "# Post-processing\n\nNow we can plot the results of the one-sigma displacement solution. We\nwill plot the Z displacement of the nodes.\n"
      ]
    },
    {
      "cell_type": "code",
      "execution_count": null,
      "metadata": {
        "collapsed": false
      },
      "outputs": [],
      "source": [
        "mapdl.post1()\n# One Sigma Displacement Solution Results\nmapdl.set(3, 1)\nmapdl.post_processing.plot_nodal_displacement(\"Z\", cmap=\"jet\", cpos=\"iso\")\nmapdl.finish()"
      ]
    },
    {
      "cell_type": "markdown",
      "metadata": {},
      "source": [
        "Use post26 to capture then plot the response psd and the max value\n"
      ]
    },
    {
      "cell_type": "code",
      "execution_count": null,
      "metadata": {
        "collapsed": false
      },
      "outputs": [],
      "source": [
        "number_frequencies = 2\nmapdl.post26()\nmapdl.store(\"PSD\", number_frequencies)\n\nnode85_uz = mapdl.nsol(2, 85, \"U\", \"Z\")\nrpsduz = mapdl.rpsd(3, 2, \"\", 1, 2)"
      ]
    },
    {
      "cell_type": "markdown",
      "metadata": {},
      "source": [
        "While you can use the [extrem]{.title-ref} command to get the maximum\nand minimum values:\n"
      ]
    },
    {
      "cell_type": "code",
      "execution_count": null,
      "metadata": {
        "collapsed": false
      },
      "outputs": [],
      "source": [
        "print(mapdl.extrem(2, 3))"
      ]
    },
    {
      "cell_type": "markdown",
      "metadata": {},
      "source": [
        "You can also use Numpy methods to find the max value of the response\npsd.\n"
      ]
    },
    {
      "cell_type": "code",
      "execution_count": null,
      "metadata": {
        "collapsed": false
      },
      "outputs": [],
      "source": [
        "print(\n    tabulate(\n        [\n            [\"\", \"Maximum\", \"Minimum\"],\n            [\"Z-displacement on node 85\", node85_uz.max(), node85_uz.min()],\n            [\"Response power spectral density\", rpsduz.max(), rpsduz.min()],\n        ],\n        headers=\"firstrow\",\n        tablefmt=\"grid\",\n        floatfmt=\".4e\",\n        numalign=\"center\",\n        stralign=\"right\",\n    )\n)"
      ]
    },
    {
      "cell_type": "markdown",
      "metadata": {},
      "source": [
        "To get the maximum value of the response psd you can use the\n[get_value]{.title-ref} ( wrapper of [\\*GET]{.title-ref}) method with\nthe [EXTREM]{.title-ref} option:\n"
      ]
    },
    {
      "cell_type": "code",
      "execution_count": null,
      "metadata": {
        "collapsed": false
      },
      "outputs": [],
      "source": [
        "Pmax = mapdl.get_value(\"VARI\", 3, \"EXTREM\", \"VMAX\")"
      ]
    },
    {
      "cell_type": "markdown",
      "metadata": {},
      "source": [
        "However, you can also use the numpy methods here as well:\n"
      ]
    },
    {
      "cell_type": "code",
      "execution_count": null,
      "metadata": {
        "collapsed": false
      },
      "outputs": [],
      "source": [
        "Pmax = rpsduz.max()"
      ]
    },
    {
      "cell_type": "markdown",
      "metadata": {},
      "source": [
        "You can plot the response psd using MAPDL methods:\n"
      ]
    },
    {
      "cell_type": "code",
      "execution_count": null,
      "metadata": {
        "collapsed": false
      },
      "outputs": [],
      "source": [
        "# Setting up the PSD plot with MAPDL\nmapdl.axlab(\"X\", \"Frequency (Hz)\")\nmapdl.axlab(\"Y\", \"RPSD (M**2/Hz)\")\nmapdl.yrange(ymin=\"0\", ymax=\"0.004\")\nmapdl.xrange(xmin=\"0\", xmax=\"80\")\nmapdl.gropt(lab=\"LOGY\", key=\"ON\")\n\nmapdl.xvar(0)  # Plot against time/frequency\nmapdl.plvar(3)  # Plot variable set 3 (RPSD)"
      ]
    },
    {
      "cell_type": "markdown",
      "metadata": {},
      "source": [
        "or use matplotlib:\n"
      ]
    },
    {
      "cell_type": "code",
      "execution_count": null,
      "metadata": {
        "collapsed": false
      },
      "outputs": [],
      "source": [
        "freqs = mapdl.vget(\"FREQS\", 1)\n\n# Remove the last two values as they are zero\nfig, ax = plt.subplots(figsize=(8, 4))\n\nax.plot(freqs, rpsduz, label=\"RPSD UZ\")\n\nax.set_yscale(\"log\")\nax.set_xlabel(\"Frequency (Hz)\")\nax.set_ylabel(r\"RPSD $\\left( \\dfrac{M^2}{Hz}\\right)$\")\nax.set_xlim((0, 80))\nax.set_ylim((0, 0.004))\nax.grid()\n\nfig.legend()\n\nfig.tight_layout()\nfig.show()"
      ]
    },
    {
      "cell_type": "markdown",
      "metadata": {},
      "source": [
        "Compare and print results to manual values\n"
      ]
    },
    {
      "cell_type": "code",
      "execution_count": null,
      "metadata": {
        "collapsed": false
      },
      "outputs": [],
      "source": [
        "manual = [45.9, 3.4018e-3]\n\narr = [\n    [\"\", \"Manual\", \"Calculated\", \"Ratio\"],\n    [\"Frequency (Hz)\", manual[0], f0, abs(f0 / manual[0])],\n    [\"Peak Deflection PSD (m^2/Hz)\", manual[1], Pmax, abs(Pmax / manual[1])],\n]\n\nprint(tabulate(arr, headers=\"firstrow\", tablefmt=\"grid\"))"
      ]
    },
    {
      "cell_type": "markdown",
      "metadata": {},
      "source": [
        "Exit MAPDL\n"
      ]
    },
    {
      "cell_type": "code",
      "execution_count": null,
      "metadata": {
        "collapsed": false
      },
      "outputs": [],
      "source": [
        "mapdl.exit()"
      ]
    }
  ],
  "metadata": {
    "kernelspec": {
      "display_name": "Python 3",
      "language": "python",
      "name": "python3"
    },
    "language_info": {
      "codemirror_mode": {
        "name": "ipython",
        "version": 3
      },
      "file_extension": ".py",
      "mimetype": "text/x-python",
      "name": "python",
      "nbconvert_exporter": "python",
      "pygments_lexer": "ipython3",
      "version": "3.12.11"
    }
  },
  "nbformat": 4,
  "nbformat_minor": 0
}