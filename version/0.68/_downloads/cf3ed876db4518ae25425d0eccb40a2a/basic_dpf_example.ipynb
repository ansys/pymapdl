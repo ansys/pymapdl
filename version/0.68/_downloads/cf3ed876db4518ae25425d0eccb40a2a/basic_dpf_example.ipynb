{
  "cells": [
    {
      "cell_type": "markdown",
      "metadata": {},
      "source": [
        "Basic DPF-Core Usage with PyMAPDL {#ref_dpf_basic_example}\n=================================\n\nThis example is adapted from [Basic DPF-Core Usage\nExample](https://dpf.docs.pyansys.com/version/stable/examples/00-basic/00-basic_example.html)\nand it shows how to open a result file in\n[DPF](https://dpf.docs.pyansys.com/) and do some basic postprocessing.\n\nIf you have Ansys 2021 R1 installed, starting DPF is quite easy as\nDPF-Core takes care of launching all the services that are required for\npostprocessing Ansys files.\n\nFirst, import the DPF-Core module as `dpf_core` and import the included\nexamples file.\n"
      ]
    },
    {
      "cell_type": "code",
      "execution_count": null,
      "metadata": {
        "collapsed": false
      },
      "outputs": [],
      "source": [
        "import tempfile\n\nfrom ansys.dpf import core as dpf\n\nfrom ansys.mapdl.core import launch_mapdl\nfrom ansys.mapdl.core.examples import vmfiles"
      ]
    },
    {
      "cell_type": "markdown",
      "metadata": {},
      "source": [
        "Create model\n============\n\nRunning an example from the MAPDL verification manual\n"
      ]
    },
    {
      "cell_type": "code",
      "execution_count": null,
      "metadata": {
        "collapsed": false
      },
      "outputs": [],
      "source": [
        "mapdl = launch_mapdl()\n\nvm5 = vmfiles[\"vm5\"]\noutput = mapdl.input(vm5)\n\nprint(output)\n\n# If you are working locally, you don't need to perform the following steps\ntemp_directory = tempfile.gettempdir()\n\n# Downloading RST file to the current folder\nrst_path = mapdl.download_result(temp_directory)"
      ]
    },
    {
      "cell_type": "markdown",
      "metadata": {},
      "source": [
        "Next, open the generated RST file and print out the\n`Model <ansys.dpf.core.model.Model>`{.interpreted-text role=\"class\"}\nobject. The `Model <ansys.dpf.core.model.Model>`{.interpreted-text\nrole=\"class\"} class helps to organize access methods for the result by\nkeeping track of the operators and data sources used by the result file.\n\nPrinting the model displays:\n\n-   Analysis type\n-   Available results\n-   Size of the mesh\n-   Number of results\n"
      ]
    },
    {
      "cell_type": "markdown",
      "metadata": {},
      "source": [
        "If you are working with a remote server, you might need to upload the\n`RST` file before working with it. Then you can create the\n`DPF Model <ansys.dpf.core.model.Model>`{.interpreted-text\nrole=\"class\"}.\n"
      ]
    },
    {
      "cell_type": "code",
      "execution_count": null,
      "metadata": {
        "collapsed": false
      },
      "outputs": [],
      "source": [
        "dpf.core.make_tmp_dir_server(dpf.SERVER)\n\nif dpf.SERVER.local_server:\n    model = dpf.Model(rst_path)\nelse:\n    server_file_path = dpf.upload_file_in_tmp_folder(rst_path)\n    model = dpf.Model(server_file_path)\n\nprint(model)"
      ]
    },
    {
      "cell_type": "markdown",
      "metadata": {},
      "source": [
        "Model Metadata\n==============\n\nSpecific metadata can be extracted from the model by referencing the\nmodel\\'s\n`metadata <ansys.dpf.core.model.Model.metadata>`{.interpreted-text\nrole=\"attr\"} property. For example, to print only the\n`result_info <ansys.dpf.core.model.Metadata.result_info>`{.interpreted-text\nrole=\"attr\"}:\n"
      ]
    },
    {
      "cell_type": "code",
      "execution_count": null,
      "metadata": {
        "collapsed": false
      },
      "outputs": [],
      "source": [
        "metadata = model.metadata\nprint(metadata.result_info)"
      ]
    },
    {
      "cell_type": "markdown",
      "metadata": {},
      "source": [
        "To print the\n`mesh region<ansys.dpf.core.meshed_region.MeshedRegion>`{.interpreted-text\nrole=\"class\"}:\n"
      ]
    },
    {
      "cell_type": "code",
      "execution_count": null,
      "metadata": {
        "collapsed": false
      },
      "outputs": [],
      "source": [
        "print(metadata.meshed_region)"
      ]
    },
    {
      "cell_type": "markdown",
      "metadata": {},
      "source": [
        "To print the time or frequency of the results use\n`time_freq_support <ansys.dpf.core.time_freq_support.TimeFreqSupport>`{.interpreted-text\nrole=\"class\"}:\n"
      ]
    },
    {
      "cell_type": "code",
      "execution_count": null,
      "metadata": {
        "collapsed": false
      },
      "outputs": [],
      "source": [
        "print(metadata.time_freq_support)"
      ]
    },
    {
      "cell_type": "markdown",
      "metadata": {},
      "source": [
        "Extracting Displacement Results\n===============================\n\nAll results of the model can be accessed through the\n`Results <ansys.dpf.core.results.Results>`{.interpreted-text\nrole=\"class\"} property, which returns the\n`ansys.dpf.core.results.Results`{.interpreted-text role=\"class\"} class.\nThis class contains the DPF result operators available to a specific\nresult file, which are listed when printing the object with\n`print(results)`.\n\nHere, the\n`displacement <ansys.dpf.core.operators.result.displacement.displacement>`{.interpreted-text\nrole=\"class\"} operator is connected with\n`DataSources <ansys.dpf.core.data_sources.DataSources>`{.interpreted-text\nrole=\"class\"}, which takes place automatically when running\n`results.displacement() <ansys.dpf.core.operators.result.displacement.displacement>`{.interpreted-text\nrole=\"class\"}. By default, the\n`displacement <ansys.dpf.core.operators.result.displacement.displacement>`{.interpreted-text\nrole=\"class\"} operator is connected to the first result set, which for\nthis static result is the only result.\n"
      ]
    },
    {
      "cell_type": "code",
      "execution_count": null,
      "metadata": {
        "collapsed": false
      },
      "outputs": [],
      "source": [
        "results = model.results\ndisplacements = results.displacement()\nfields = displacements.outputs.fields_container()\n\n# Finally, extract the data of the displacement field:\ndisp = fields[0].data\ndisp"
      ]
    },
    {
      "cell_type": "markdown",
      "metadata": {},
      "source": [
        "Plot displacements\n==================\n\nYou can plot the previous displacement field using:\n"
      ]
    },
    {
      "cell_type": "code",
      "execution_count": null,
      "metadata": {
        "collapsed": false
      },
      "outputs": [],
      "source": [
        "model.metadata.meshed_region.plot(fields, cpos=\"xy\")"
      ]
    },
    {
      "cell_type": "markdown",
      "metadata": {},
      "source": [
        "Or using\n"
      ]
    },
    {
      "cell_type": "code",
      "execution_count": null,
      "metadata": {
        "collapsed": false
      },
      "outputs": [],
      "source": [
        "fields[0].plot(cpos=\"xy\")"
      ]
    },
    {
      "cell_type": "markdown",
      "metadata": {},
      "source": [
        "This way is particularly useful if you have used\n`ansys.dpf.core.scoping.Scoping`{.interpreted-text role=\"class\"} on the\nmesh or results.\n"
      ]
    },
    {
      "cell_type": "markdown",
      "metadata": {},
      "source": [
        "Close session\n=============\n\nStop MAPDL session.\n"
      ]
    },
    {
      "cell_type": "code",
      "execution_count": null,
      "metadata": {
        "collapsed": false
      },
      "outputs": [],
      "source": [
        "mapdl.exit()"
      ]
    }
  ],
  "metadata": {
    "kernelspec": {
      "display_name": "Python 3",
      "language": "python",
      "name": "python3"
    },
    "language_info": {
      "codemirror_mode": {
        "name": "ipython",
        "version": 3
      },
      "file_extension": ".py",
      "mimetype": "text/x-python",
      "name": "python",
      "nbconvert_exporter": "python",
      "pygments_lexer": "ipython3",
      "version": "3.11.10"
    }
  },
  "nbformat": 4,
  "nbformat_minor": 0
}