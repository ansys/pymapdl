{
  "cells": [
    {
      "cell_type": "markdown",
      "metadata": {},
      "source": [
        "Torsional load on a bar using SURF154 elements {#ref_tors_load}\n==============================================\n\nThis Ansys PyMAPDL script builds a bar and applies torque to it using\nSURF154 elements. This is a static analysis example.\n"
      ]
    },
    {
      "cell_type": "markdown",
      "metadata": {},
      "source": [
        "Script initialization\n=====================\n"
      ]
    },
    {
      "cell_type": "code",
      "execution_count": null,
      "metadata": {
        "collapsed": false
      },
      "outputs": [],
      "source": [
        "import os\n\nimport numpy as np\n\nfrom ansys.mapdl.core import launch_mapdl\n\n# start Ansys in the current working directory with default jobname \"file\"\nmapdl = launch_mapdl(run_location=os.getcwd(), version=23.1)"
      ]
    },
    {
      "cell_type": "markdown",
      "metadata": {},
      "source": [
        "Define cylinder and mesh parameters\n"
      ]
    },
    {
      "cell_type": "code",
      "execution_count": null,
      "metadata": {
        "collapsed": false
      },
      "outputs": [],
      "source": [
        "torque = 100\nradius = 2\nh_tip = 2\nheight = 20\nelemsize = 0.5\npi = np.arccos(-1)\nforce = 100 / radius\npressure = force / (h_tip * 2 * np.pi * radius)"
      ]
    },
    {
      "cell_type": "markdown",
      "metadata": {},
      "source": [
        "Model creation\n==============\n"
      ]
    },
    {
      "cell_type": "code",
      "execution_count": null,
      "metadata": {
        "collapsed": false
      },
      "outputs": [],
      "source": [
        "# Define higher-order SOLID186\n# Define surface effect elements SURF154 to apply torque\n# as a tangential pressure\nmapdl.prep7()\nmapdl.et(1, 186)\nmapdl.et(2, 154)\nmapdl.r(1)\nmapdl.r(2)"
      ]
    },
    {
      "cell_type": "markdown",
      "metadata": {},
      "source": [
        "Aluminum properties (or something)\n"
      ]
    },
    {
      "cell_type": "code",
      "execution_count": null,
      "metadata": {
        "collapsed": false
      },
      "outputs": [],
      "source": [
        "mapdl.mp(\"ex\", 1, 10e6)\nmapdl.mp(\"nuxy\", 1, 0.3)\nmapdl.mp(\"dens\", 1, 0.1 / 386.1)\nmapdl.mp(\"dens\", 2, 0)\n\n# Simple cylinder\nfor i in range(4):\n    mapdl.cylind(radius, \"\", \"\", height, 90 * (i - 1), 90 * i)\n\nmapdl.nummrg(\"kp\")\n\n# interactive volume plot (optional)\nmapdl.vplot()"
      ]
    },
    {
      "cell_type": "markdown",
      "metadata": {},
      "source": [
        "Mesh cylinder\n"
      ]
    },
    {
      "cell_type": "code",
      "execution_count": null,
      "metadata": {
        "collapsed": false
      },
      "outputs": [],
      "source": [
        "mapdl.lsel(\"s\", \"loc\", \"x\", 0)\nmapdl.lsel(\"r\", \"loc\", \"y\", 0)\nmapdl.lsel(\"r\", \"loc\", \"z\", 0, height - h_tip)\nmapdl.lesize(\"all\", elemsize * 2)\nmapdl.mshape(0)\nmapdl.mshkey(1)\nmapdl.esize(elemsize)\nmapdl.allsel(\"all\")\nmapdl.vsweep(\"ALL\")\nmapdl.csys(1)\nmapdl.asel(\"s\", \"loc\", \"z\", \"\", height - h_tip + 0.0001)\nmapdl.asel(\"r\", \"loc\", \"x\", radius)\nmapdl.local(11, 1)\nmapdl.csys(0)\nmapdl.aatt(2, 2, 2, 11)\nmapdl.amesh(\"all\")\nmapdl.finish()\n\n# plot elements\nmapdl.eplot()"
      ]
    },
    {
      "cell_type": "markdown",
      "metadata": {},
      "source": [
        "Solution\n========\n"
      ]
    },
    {
      "cell_type": "code",
      "execution_count": null,
      "metadata": {
        "collapsed": false
      },
      "outputs": [],
      "source": [
        "mapdl.slashsolu()  # Using Slash instead of / due to duplicate SOLU command\nmapdl.antype(\"static\", \"new\")\nmapdl.eqslv(\"pcg\", 1e-8)\n\n# Apply tangential pressure\nmapdl.esel(\"s\", \"type\", \"\", 2)\nmapdl.sfe(\"all\", 2, \"pres\", \"\", pressure)\n\n# Constrain bottom of cylinder/rod\nmapdl.asel(\"s\", \"loc\", \"z\", 0)\nmapdl.nsla(\"s\", 1)\n\nmapdl.d(\"all\", \"all\")\nmapdl.allsel()\nmapdl.psf(\"pres\", \"\", 2)\nmapdl.pbc(\"u\", 1)\nmapdl.solve()"
      ]
    },
    {
      "cell_type": "markdown",
      "metadata": {},
      "source": [
        "Post-processing\n===============\n"
      ]
    },
    {
      "cell_type": "code",
      "execution_count": null,
      "metadata": {
        "collapsed": false
      },
      "outputs": [],
      "source": [
        "# Enter post-processor\nmapdl.post1()\n# Select the step you want to analyse\nmapdl.set(1, 1)"
      ]
    },
    {
      "cell_type": "markdown",
      "metadata": {},
      "source": [
        "Access element results as arrays\n"
      ]
    },
    {
      "cell_type": "code",
      "execution_count": null,
      "metadata": {
        "collapsed": false
      },
      "outputs": [],
      "source": [
        "nodal_stress = mapdl.post_processing.nodal_stress_intensity()\nelem_stress = mapdl.post_processing.element_stress(\"int\")\n\nprint(\"Nodal stress : \", nodal_stress)\nprint(\"Element stress : \", elem_stress)"
      ]
    },
    {
      "cell_type": "markdown",
      "metadata": {},
      "source": [
        "Plot interactively\n==================\n"
      ]
    },
    {
      "cell_type": "code",
      "execution_count": null,
      "metadata": {
        "collapsed": false
      },
      "outputs": [],
      "source": [
        "mapdl.post_processing.plot_nodal_displacement(cmap=\"bwr\")\nmapdl.post_processing.plot_nodal_component_stress(\"x\", cmap=\"bwr\")\nmapdl.post_processing.plot_nodal_eqv_stress(cmap=\"bwr\")"
      ]
    },
    {
      "cell_type": "markdown",
      "metadata": {},
      "source": [
        "Plot non-interactively\n======================\n"
      ]
    },
    {
      "cell_type": "code",
      "execution_count": null,
      "metadata": {
        "collapsed": false
      },
      "outputs": [],
      "source": [
        "# Setting up the correct camera angle\ncpos = [\n    (20.992831318277517, 9.78629316586435, 31.905115108541928),\n    (0.35955395443745797, -1.4198191001571547, 10.346158032932495),\n    (-0.10547549888485548, 0.9200673323892437, -0.377294345312956),\n]\n\nmapdl.post_processing.plot_nodal_displacement(\n    cmap=\"bwr\", cpos=cpos, savefig=\"cylinder_disp.png\"\n)\nmapdl.post_processing.plot_nodal_component_stress(\n    \"x\", cmap=\"bwr\", cpos=cpos, savefig=\"cylinder_comp_stx.png\"\n)\nmapdl.post_processing.plot_nodal_eqv_stress(\n    cmap=\"bwr\", cpos=cpos, savefig=\"cylinder_eqv_st.png\"\n)"
      ]
    },
    {
      "cell_type": "markdown",
      "metadata": {},
      "source": [
        "Stop MAPDL\n"
      ]
    },
    {
      "cell_type": "code",
      "execution_count": null,
      "metadata": {
        "collapsed": false
      },
      "outputs": [],
      "source": [
        "mapdl.finish()\nmapdl.exit()"
      ]
    }
  ],
  "metadata": {
    "kernelspec": {
      "display_name": "Python 3",
      "language": "python",
      "name": "python3"
    },
    "language_info": {
      "codemirror_mode": {
        "name": "ipython",
        "version": 3
      },
      "file_extension": ".py",
      "mimetype": "text/x-python",
      "name": "python",
      "nbconvert_exporter": "python",
      "pygments_lexer": "ipython3",
      "version": "3.11.10"
    }
  },
  "nbformat": 4,
  "nbformat_minor": 0
}