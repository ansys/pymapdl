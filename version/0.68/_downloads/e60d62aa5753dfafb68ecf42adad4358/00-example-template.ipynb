{
  "cells": [
    {
      "cell_type": "markdown",
      "metadata": {},
      "source": [
        "Adding a new gallery example {#ref_how_to_add_an_example_reference_key}\n============================\n\nThis example is an example itself which demonstrates how to add new\nexamples to the documentation.\n\nExample location and naming\n---------------------------\n\nNew examples should be added as Python scripts to:\n\n`PyMAPDL/examples/XY-example-folder-name/`\n\n::: {.note}\n::: {.title}\nNote\n:::\n\nAvoid creating new folders unless absolutely necessary. If in doubt put\nthe example in the folder closest to what it is doing and its precise\nlocation can be advised on in the pull request. If you *must* create a\nnew folder, make sure to add a `README.txt` containing a reference, a\ntitle and a single sentence description of the folder. Otherwise the new\nfolder will be ignored by Sphinx.\n:::\n\nExample file names should be in the format:\n\n`XY-example-name.py`\n\nWhere `XY` is the number of the example. If there are already three\nexamples numbered `00`, `01`, and `02`, then your example must\nsubsequently use the prefix `03`.\n\nInitial block of text\n---------------------\n\nAt the top of each example there should be a block comment that contains\nthe following parts:\n\n### Reference example\n\nEach example should have a reference tag/key in the form\n`.. _ref_my_example:`. For instance:\n\n``` {.py}\n\"\"\"\n\n.. _ref_my_example:\n\n============================\nMy new example title\n============================\n\nThis new example...\n\n\"\"\"\n```\n\nThe `.. _ref_` is necessary. Everything that follows is your reference\ntag. As convention, we keep all references all in `snake_case`.\n\n### Example description\n\nThis section should give a brief overview of what the example is about\nor what it demonstrates. The title should be changed to reflect the\ntopic that your example covers. A well-structured example should be\ndivided in several parts. The following lists gives you an idea of this\ndivision:\n\n-   Problem specification\n-   Problem description\n-   Launching MAPDL\n-   Build the geometry\n-   Model definition\n-   Mesh\n-   Boundary conditions\n-   Solution\n-   Review the results\n\nAfter this preamble is complete, the first code block begins.\n"
      ]
    },
    {
      "cell_type": "code",
      "execution_count": null,
      "metadata": {
        "collapsed": false
      },
      "outputs": [],
      "source": [
        "from ansys.mapdl.core import launch_mapdl\n\n# start MAPDL\nmapdl = launch_mapdl()\nprint(mapdl)"
      ]
    },
    {
      "cell_type": "markdown",
      "metadata": {},
      "source": [
        "Your code goes here\\...\n\n``` {.py}\nmapdl.prep7()\nmapdl...\n```\n"
      ]
    },
    {
      "cell_type": "markdown",
      "metadata": {},
      "source": [
        "Basic text formatting\n=====================\n\nRST provides several ways to format text:\n\n-   **Bold**: Use double asterisks [\\*\\*]{.title-ref} or double\n    underscores [\\_\\_]{.title-ref} around the text that you want to make\n    bold. For example, [\\*\\*my bold text\\*\\*]{.title-ref}.\n-   *Italic*: Use single asterisks [\\*]{.title-ref} or single\n    underscores [\\_]{.title-ref} around the text that you want to\n    italicize. For example, [\\_my italic text\\_]{.title-ref}.\n-   \\`Monospace\\`: Use single backticks \\` around the text that you want\n    to display in monospace font. For example, [\\`my monospace\n    text\\`]{.title-ref}.\n"
      ]
    },
    {
      "cell_type": "markdown",
      "metadata": {},
      "source": [
        "Lists\n=====\n\nRST supports both ordered and unordered lists:\n\n1.  **Ordered List**:\n\n    ``` {.rst}\n    #. Item 1\n    #. Item 2\n    ```\n\n2.  **Unordered List**:\n\n    ``` {.rst}\n    - Item 1\n    - Item 2\n    ```\n"
      ]
    },
    {
      "cell_type": "markdown",
      "metadata": {},
      "source": [
        "Equations and numbers\n=====================\n\nTo include equations or numbers, you can use the following syntax:\n\n-   **Equations**:\n\n    ``` {.rst}\n    .. math::\n        f(x) = x^2 + 2x + 1\n    ```\n\n-   **Numbered Equations**:\n\n    ``` {.rst}\n    .. math::\n        :number: 1\n\n        f(x) = x^2 + 2x + 1\n    ```\n"
      ]
    },
    {
      "cell_type": "markdown",
      "metadata": {},
      "source": [
        "Code blocks\n===========\n\nTo include code blocks in RST, use the double colons [::]{.title-ref}\nfollowed by indentation:\n\n``` {.rst}\n.. code:: python\n\n    def greet(name):\n        print(\"Hello, {}!\".format(name))\n```\n\nThis renders as:\n\n``` {.python}\ndef greet(name):\n    print(\"Hello, {}!\".format(name))\n```\n"
      ]
    },
    {
      "cell_type": "markdown",
      "metadata": {},
      "source": [
        "Section title\n=============\n\nCode blocks can be broken up with text \\\"sections\\\" which are\ninterpreted as restructured text.\n\nThis will also be translated into a markdown cell in the generated\njupyter notebook. Sections can contain any information you may have\nregarding the example such as step-by-step comments or notes regarding\nmotivations etc.\n\nTo create a title or a section, underline it with the appropriate\ncharacters, such as`=`, `*`, or `~`. For example:\n\n``` {.rst}\n==========\nMy chapter\n==========\n\nMy text...\n\nMy section\n==========\n\nMy text...\n\nMy paragraph\n------------\n\nMy text\n```\n\nIt does not matter which character you use, but you need to be\nconsistent through the whole document. For more information, see\n[RestructuredText\nPrimer](https://www.sphinx-doc.org/en/master/usage/restructuredtext/basics.html#sections)\nin the Sphinx documentation.\n\nAs in Jupyter notebooks, if code is left unassigned at the end of a code\nblock (as with `mapdl` in the previous block), the output is generated\nand printed to the screen according to its `__repr__`. Otherwise, you\ncan use `print()` to output the `__str__`.\n"
      ]
    },
    {
      "cell_type": "code",
      "execution_count": null,
      "metadata": {
        "collapsed": false
      },
      "outputs": [],
      "source": [
        "# more code...\nmapdl.clear()\nmapdl.prep7()\nprint(mapdl)"
      ]
    },
    {
      "cell_type": "markdown",
      "metadata": {},
      "source": [
        "Plots and images\n================\n\nIf you use an mapdl plotting command the result will be auto-generated\nand rendered in the page. Like so:\n"
      ]
    },
    {
      "cell_type": "code",
      "execution_count": null,
      "metadata": {
        "collapsed": false
      },
      "outputs": [],
      "source": [
        "mapdl.block(0, 1, 0, 1, 0, 1)\nmapdl.vplot()"
      ]
    },
    {
      "cell_type": "markdown",
      "metadata": {},
      "source": [
        "Matplotlib plots are also rendered in HTML format.\n"
      ]
    },
    {
      "cell_type": "code",
      "execution_count": null,
      "metadata": {
        "collapsed": false
      },
      "outputs": [],
      "source": [
        "import matplotlib.pyplot as plt\n\nfig = plt.figure()\nax = fig.add_subplot(111)\nx = list(range(10))\ny = [i**2 + 3 * i - 1 for i in x]\nax.plot(x, y)\nax.set_xlabel(\"x\")\nax.set_ylabel(\"y\")\nplt.show()"
      ]
    },
    {
      "cell_type": "markdown",
      "metadata": {},
      "source": [
        "Additionally you can reference images and figures using the `image` and\n`figure` directives:\n\n``` {.rst}\n.. image:: path/to/image.extension\n   (options)\n```\n\nand\n\n``` {.rst}\n.. figure:: path/to/image.extension\n   (options)\n```\n\nMore information can be found\n[image](https://www.sphinx-doc.org/en/master/usage/restructuredtext/basics.html#images).\nand\n[figure](https://docutils.sourceforge.io/docs/ref/rst/directives.html#figure)\n"
      ]
    },
    {
      "cell_type": "markdown",
      "metadata": {},
      "source": [
        "Making a pull request\n=====================\n\nOnce your example is complete and you\\'ve verified builds locally, you\ncan make a pull request (PR). Branches containing examples should be\nprefixed with [doc/]{.title-ref} as per the branch naming conventions\nfound here: `contributing`{.interpreted-text role=\"ref\"}.\n\nNote that you only need to create the python source example (.py). The\njupyter notebook, the example html and the demo script will all be\nauto-generated via `sphinx-gallery`.\n"
      ]
    },
    {
      "cell_type": "markdown",
      "metadata": {},
      "source": [
        "Stopping mapdl\n==============\n\nThis block of code should be included always.\n"
      ]
    },
    {
      "cell_type": "code",
      "execution_count": null,
      "metadata": {
        "collapsed": false
      },
      "outputs": [],
      "source": [
        "mapdl.exit()"
      ]
    }
  ],
  "metadata": {
    "kernelspec": {
      "display_name": "Python 3",
      "language": "python",
      "name": "python3"
    },
    "language_info": {
      "codemirror_mode": {
        "name": "ipython",
        "version": 3
      },
      "file_extension": ".py",
      "mimetype": "text/x-python",
      "name": "python",
      "nbconvert_exporter": "python",
      "pygments_lexer": "ipython3",
      "version": "3.11.10"
    }
  },
  "nbformat": 4,
  "nbformat_minor": 0
}