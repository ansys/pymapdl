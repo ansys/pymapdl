{
  "cells": [
    {
      "cell_type": "markdown",
      "metadata": {},
      "source": [
        "Adding a New Gallery Example {#ref_how_to_add_an_example_reference_key}\n============================\n\nThis example demonstrates how to add new examples as well as being a\ntemplate that can be used in their creation.\n\nThis block comment should be included at the top of any new example.\nEach example should have a reference tag/key in the form:\n\n`.. _ref_my_example:`\n\nThe `.. _ref_` is necessary. Everything that follows is your reference\ntag. As convention, we keep all references all in `snake_case`.\n\nThis section should give a brief overview of what the example is about\nand/or demonstrates. The title should be changed to reflect the topic\nyour example covers.\n\nNew examples should be added as python scripts to:\n\n`PyMAPDL/examples/XY-example-folder-name/`\n\n::: {.note}\n::: {.title}\nNote\n:::\n\nAvoid creating new folders unless absolutely necessary. If in doubt put\nthe example in the folder closest to what it is doing and its precise\nlocation can be advised on in the pull request. If you *must* create a\nnew folder, make sure to add a `README.txt` containing a reference, a\ntitle and a single sentence description of the folder. Otherwise the new\nfolder will be ignored by Sphinx.\n:::\n\nExample file names should be in the format:\n\n`XY-example-name.py`\n\nWhere `XY` is the number of the example. If there are already three\nexamples numbered `00`, `01`, and `02`, then your example must\nsubsequently use the prefix `03`.\n\nAfter this preamble is complete, the first code block begins.\n"
      ]
    },
    {
      "cell_type": "code",
      "execution_count": null,
      "metadata": {
        "collapsed": false
      },
      "outputs": [],
      "source": [
        "from ansys.mapdl.core import launch_mapdl\n\n# start MAPDL\nmapdl = launch_mapdl()\nprint(mapdl)\n\n# Your code goes here...\n# mapdl.prep7()\n# mapdl..."
      ]
    },
    {
      "cell_type": "markdown",
      "metadata": {},
      "source": [
        "Section Title\n=============\n\nCode blocks can be broken up with text \\\"sections\\\" which are\ninterpreted as restructured text.\n\nThis will also be translated into a markdown cell in the generated\njupyter notebook. Sections can contain any information you may have\nregarding the example such as step-by-step comments or notes regarding\nmotivations etc.\n\nAs in jupyter notebooks, if code is left unassigned at the end of a code\nblock (as with `mapdl` in the previous block) the output will be\ngenerated and printed to the screen according to its `__repr__`.\nOtherwise, you can use `print()` to output the `__str__`.\n"
      ]
    },
    {
      "cell_type": "code",
      "execution_count": null,
      "metadata": {
        "collapsed": false
      },
      "outputs": [],
      "source": [
        "# more code...\nmapdl.clear()\nmapdl.prep7()\nprint(mapdl)"
      ]
    },
    {
      "cell_type": "markdown",
      "metadata": {},
      "source": [
        "Plots and images\n================\n\nIf you use an mapdl plotting command the result will be auto-generated\nand rendered in the page. Like so:\n"
      ]
    },
    {
      "cell_type": "code",
      "execution_count": null,
      "metadata": {
        "collapsed": false
      },
      "outputs": [],
      "source": [
        "mapdl.block(0, 1, 0, 1, 0, 1)\nmapdl.vplot()"
      ]
    },
    {
      "cell_type": "markdown",
      "metadata": {},
      "source": [
        "Further Plots and images\n========================\n\nMatplotlib plots will also be rendered in the html.\n"
      ]
    },
    {
      "cell_type": "code",
      "execution_count": null,
      "metadata": {
        "collapsed": false
      },
      "outputs": [],
      "source": [
        "import matplotlib.pyplot as plt\n\nfig = plt.figure()\nax = fig.add_subplot(111)\nx = list(range(10))\ny = [i**2 + 3 * i - 1 for i in x]\nax.plot(x, y)\nax.set_xlabel(\"x\")\nax.set_ylabel(\"y\")\nplt.show()"
      ]
    },
    {
      "cell_type": "markdown",
      "metadata": {},
      "source": [
        "Animations\n==========\n\nYou can even create animations. See `ref_pyvista_mesh`{.interpreted-text\nrole=\"ref\"} for an example. Incidentally that is also how you link to\nanother example (via [ref\\_pyvista\\_mesh]{.title-ref}).\n\nMaking a Pull Request\n=====================\n\nOnce your example is complete and you\\'ve verified builds locally, you\ncan make a pull request (PR). Branches containing examples should be\nprefixed with [doc/]{.title-ref} as per the branch naming conventions\nfound here: `contributing`{.interpreted-text role=\"ref\"}.\n\nNote that you only need to create the python source example (.py). The\njupyter notebook, the example html and the demo script will all be\nauto-generated via `sphinx-gallery`.\n"
      ]
    },
    {
      "cell_type": "markdown",
      "metadata": {},
      "source": [
        "Stopping mapdl\n"
      ]
    },
    {
      "cell_type": "code",
      "execution_count": null,
      "metadata": {
        "collapsed": false
      },
      "outputs": [],
      "source": [
        "mapdl.exit()"
      ]
    }
  ],
  "metadata": {
    "kernelspec": {
      "display_name": "Python 3",
      "language": "python",
      "name": "python3"
    },
    "language_info": {
      "codemirror_mode": {
        "name": "ipython",
        "version": 3
      },
      "file_extension": ".py",
      "mimetype": "text/x-python",
      "name": "python",
      "nbconvert_exporter": "python",
      "pygments_lexer": "ipython3",
      "version": "3.9.17"
    }
  },
  "nbformat": 4,
  "nbformat_minor": 0
}