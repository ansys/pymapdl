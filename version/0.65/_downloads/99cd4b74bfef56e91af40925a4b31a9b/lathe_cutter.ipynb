{
  "cells": [
    {
      "cell_type": "markdown",
      "metadata": {},
      "source": [
        "Structural Analysis of a Lathe Cutter {#ref_lathe_cutter_example}\n=====================================\n\nBasic walk through PyMAPDL capabilities.\n\nObjective\n---------\n\nThe objective of this example is to highlight some regularly used\nPyMAPDL features via a lathe cutter finite element model. Lathe cutters\nhave multiple avenues of wear and failure, and the analyses supporting\ntheir design would most often be transient thermal-structural. However,\nfor simplicity, this simulation example uses a non-uniform load.\n\n![**Figure 1: Lathe cutter geometry and load\ndescription.**](../../../_static/lathe_cutter_model.png){.align-centeralign-center\nwidth=\"600px\"}\n\nContents\n--------\n\n1.  **Variables and launch** Define necessary variables and launch\n    MAPDL.\n2.  **Geometry, mesh, and MAPDL parameters** Import geometry and inspect\n    for MAPDL parameters. Define linear elastic material model with\n    Python variables. Mesh and apply symmetry boundary conditions.\n3.  **Coordinate system and load** Create a local coordinate system for\n    the applied load and verify with a plot.\n4.  **Pressure load** Define the pressure load as a sine function of the\n    length of the application area using numpy arrays. Import the\n    pressure array into MAPDL as a table array. Verify the applied load\n    and solve.\n5.  **Plotting** Show result plotting, plotting with selection, and\n    working with the plot legend.\n6.  **Postprocessing:** List a result two ways: use PyMAPDL and the\n    Pythonic version of APDL. Demonstrate extended methods and writing a\n    list to a file.\n7.  **Advanced plotting** Use of\n    `pyvista.UnstructuredGrid`{.interpreted-text role=\"class\"} for\n    additional postprocessing.\n\nStep 1: Variables and launch\n----------------------------\n\nDefine variables and launch MAPDL.\n"
      ]
    },
    {
      "cell_type": "code",
      "execution_count": null,
      "metadata": {
        "collapsed": false
      },
      "outputs": [],
      "source": [
        "import os\n\nimport numpy as np\n\nfrom ansys.mapdl.core import launch_mapdl\nfrom ansys.mapdl.core.examples.downloads import download_example_data\n\n# cwd = current working directory\npath = os.getcwd()\nPI = np.pi\nEXX = 1.0e7\nNU = 0.27"
      ]
    },
    {
      "cell_type": "markdown",
      "metadata": {},
      "source": [
        "Often used MAPDL command line options are exposed as Pythonic parameter\nnames in `ansys.mapdl.core.launch_mapdl`{.interpreted-text role=\"func\"}.\nFor example, `-dir` has become `run_location`. You could use\n`run_location` to specify the MAPDL run location. For example:\n\n``` {.python3}\nmapdl = launch_mapdl(run_location=path)\n```\n\nOtherwise, the MAPDL working directory is stored in `mapdl.directory`.\nIn this directory, MAPDL will create some of the images we will show\nlater.\n\nOptions without a Pythonic version can be accessed by the\n`additional_switches` parameter. Here `-smp` is used only to keep the\nnumber of solver files to a minimum.\n"
      ]
    },
    {
      "cell_type": "code",
      "execution_count": null,
      "metadata": {
        "collapsed": false
      },
      "outputs": [],
      "source": [
        "mapdl = launch_mapdl(additional_switches=\"-smp\")"
      ]
    },
    {
      "cell_type": "markdown",
      "metadata": {},
      "source": [
        "Step 2: Geometry, mesh, and MAPDL parameters\n============================================\n\n-   Import geometry and inspect for MAPDL parameters.\n-   Define material and mesh, and then create boundary conditions.\n"
      ]
    },
    {
      "cell_type": "code",
      "execution_count": null,
      "metadata": {
        "collapsed": false
      },
      "outputs": [],
      "source": [
        "# First, reset the MAPDL database.\nmapdl.clear()"
      ]
    },
    {
      "cell_type": "markdown",
      "metadata": {},
      "source": [
        "Import the geometry file and list any MAPDL parameters.\n"
      ]
    },
    {
      "cell_type": "code",
      "execution_count": null,
      "metadata": {
        "collapsed": false
      },
      "outputs": [],
      "source": [
        "lathe_cutter_geo = download_example_data(\"LatheCutter.anf\", \"geometry\")\nmapdl.input(lathe_cutter_geo)\nmapdl.finish()\nprint(mapdl.parameters)"
      ]
    },
    {
      "cell_type": "markdown",
      "metadata": {},
      "source": [
        "Use pressure area per length in the load definition.\n"
      ]
    },
    {
      "cell_type": "code",
      "execution_count": null,
      "metadata": {
        "collapsed": false
      },
      "outputs": [],
      "source": [
        "pressure_length = mapdl.parameters[\"PRESS_LENGTH\"]\n\nprint(mapdl.parameters)"
      ]
    },
    {
      "cell_type": "markdown",
      "metadata": {},
      "source": [
        "Change the units and title.\n"
      ]
    },
    {
      "cell_type": "code",
      "execution_count": null,
      "metadata": {
        "collapsed": false
      },
      "outputs": [],
      "source": [
        "mapdl.units(\"Bin\")\nmapdl.title(\"Lathe Cutter\")"
      ]
    },
    {
      "cell_type": "markdown",
      "metadata": {},
      "source": [
        "Set material properties.\n"
      ]
    },
    {
      "cell_type": "code",
      "execution_count": null,
      "metadata": {
        "collapsed": false
      },
      "outputs": [],
      "source": [
        "mapdl.prep7()\nmapdl.mp(\"EX\", 1, EXX)\nmapdl.mp(\"NUXY\", 1, NU)"
      ]
    },
    {
      "cell_type": "markdown",
      "metadata": {},
      "source": [
        "The MAPDL element type `SOLID285` is used for demonstration purposes.\nConsider using an appropriate element type or mesh density for your\nactual application.\n"
      ]
    },
    {
      "cell_type": "code",
      "execution_count": null,
      "metadata": {
        "collapsed": false
      },
      "outputs": [],
      "source": [
        "mapdl.et(1, 285)\nmapdl.smrtsize(4)\nmapdl.aesize(14, 0.0025)\nmapdl.vmesh(1)\n\nmapdl.da(11, \"symm\")\nmapdl.da(16, \"symm\")\nmapdl.da(9, \"symm\")\nmapdl.da(10, \"symm\")"
      ]
    },
    {
      "cell_type": "markdown",
      "metadata": {},
      "source": [
        "Step 3: Coordinate system and load\n==================================\n\nCreate a local Coordinate System (CS) for the applied pressure as a\nfunction of local X.\n\nLocal CS ID is 11\n"
      ]
    },
    {
      "cell_type": "code",
      "execution_count": null,
      "metadata": {
        "collapsed": false
      },
      "outputs": [],
      "source": [
        "mapdl.cskp(11, 0, 2, 1, 13)\nmapdl.csys(1)\nmapdl.view(1, -1, 1, 1)\nmapdl.psymb(\"CS\", 1)\nmapdl.vplot(\n    color_areas=True,\n    show_lines=True,\n    cpos=[-1, 1, 1],\n    smooth_shading=True,\n)"
      ]
    },
    {
      "cell_type": "markdown",
      "metadata": {},
      "source": [
        "VTK plots do not show MAPDL plot symbols. However, to use MAPDL plotting\ncapabilities, you can set the keyword option `vtk` to `False`.\n"
      ]
    },
    {
      "cell_type": "code",
      "execution_count": null,
      "metadata": {
        "collapsed": false
      },
      "outputs": [],
      "source": [
        "mapdl.lplot(vtk=False)"
      ]
    },
    {
      "cell_type": "markdown",
      "metadata": {},
      "source": [
        "Step 4: Pressure load\n=====================\n\nCreate a pressure load, load it into MAPDL as a table array, verify the\nload, and solve.\n"
      ]
    },
    {
      "cell_type": "code",
      "execution_count": null,
      "metadata": {
        "collapsed": false
      },
      "outputs": [],
      "source": [
        "# pressure_length = 0.055 inch\n\npts = 10\npts_1 = pts - 1\n\nlength_x = np.arange(0, pts, 1)\nlength_x = length_x * pressure_length / pts_1\n\npress = 10000 * (np.sin(PI * length_x / pressure_length))"
      ]
    },
    {
      "cell_type": "markdown",
      "metadata": {},
      "source": [
        "`length_x` and `press` are vectors. To combine them into the correct\nform needed to define the MAPDL table array, you can use\n[numpy.stack](https://numpy.org/doc/stable/reference/generated/numpy.stack.html).\n"
      ]
    },
    {
      "cell_type": "code",
      "execution_count": null,
      "metadata": {
        "collapsed": false
      },
      "outputs": [],
      "source": [
        "press = np.stack((length_x, press), axis=-1)\nmapdl.load_table(\"MY_PRESS\", press, \"X\", csysid=11)\n\nmapdl.asel(\"S\", \"Area\", \"\", 14)\nmapdl.nsla(\"S\", 1)\nmapdl.sf(\"All\", \"Press\", \"%MY_PRESS%\")\nmapdl.allsel()"
      ]
    },
    {
      "cell_type": "markdown",
      "metadata": {},
      "source": [
        "You can open the MAPDL GUI to check the model.\n\n``` {.python}\nmapdl.open_gui()\n```\n"
      ]
    },
    {
      "cell_type": "markdown",
      "metadata": {},
      "source": [
        "Set up the solution.\n"
      ]
    },
    {
      "cell_type": "code",
      "execution_count": null,
      "metadata": {
        "collapsed": false
      },
      "outputs": [],
      "source": [
        "mapdl.finish()\nmapdl.slashsolu()\nmapdl.nlgeom(\"On\")\nmapdl.psf(\"PRES\", \"NORM\", 3, 0, 1)\nmapdl.view(1, -1, 1, 1)\nmapdl.eplot(vtk=False)"
      ]
    },
    {
      "cell_type": "markdown",
      "metadata": {},
      "source": [
        "Solve the model.\n"
      ]
    },
    {
      "cell_type": "code",
      "execution_count": null,
      "metadata": {
        "collapsed": false
      },
      "outputs": [],
      "source": [
        "mapdl.solve()\nmapdl.finish()\nif mapdl.solution.converged:\n    print(\"The solution has converged.\")"
      ]
    },
    {
      "cell_type": "markdown",
      "metadata": {},
      "source": [
        "Step 5: Plotting\n================\n"
      ]
    },
    {
      "cell_type": "code",
      "execution_count": null,
      "metadata": {
        "collapsed": false
      },
      "outputs": [],
      "source": [
        "mapdl.post1()\nmapdl.set(\"last\")\nmapdl.allsel()\n\nmapdl.post_processing.plot_nodal_principal_stress(\"1\", smooth_shading=False)"
      ]
    },
    {
      "cell_type": "markdown",
      "metadata": {},
      "source": [
        "Plotting - Part of Model\n========================\n"
      ]
    },
    {
      "cell_type": "code",
      "execution_count": null,
      "metadata": {
        "collapsed": false
      },
      "outputs": [],
      "source": [
        "mapdl.csys(1)\nmapdl.nsel(\"S\", \"LOC\", \"Z\", -0.5, -0.141)\nmapdl.esln()\nmapdl.nsle()\nmapdl.post_processing.plot_nodal_principal_stress(\n    \"1\", edge_color=\"white\", show_edges=True\n)"
      ]
    },
    {
      "cell_type": "markdown",
      "metadata": {},
      "source": [
        "Plotting - Legend Options\n=========================\n"
      ]
    },
    {
      "cell_type": "code",
      "execution_count": null,
      "metadata": {
        "collapsed": false
      },
      "outputs": [],
      "source": [
        "mapdl.allsel()\nsbar_kwargs = {\n    \"color\": \"black\",\n    \"title\": \"1st Principal Stress (psi)\",\n    \"vertical\": False,\n    \"n_labels\": 6,\n}\nmapdl.post_processing.plot_nodal_principal_stress(\n    \"1\",\n    cpos=\"xy\",\n    background=\"white\",\n    edge_color=\"black\",\n    show_edges=True,\n    scalar_bar_args=sbar_kwargs,\n    n_colors=9,\n)"
      ]
    },
    {
      "cell_type": "markdown",
      "metadata": {},
      "source": [
        "Let\\'s try out some scalar bar options from the [PyVista\ndocumentation](). For example, let\\'s set black text on a beige\nbackground.\n\nThe scalar bar keywords defined as a Python dictionary are an alternate\nmethod to using {key:value}\\'s. You can use the click-and drag method to\nreposition the scalar bar. Left-click it and hold down the left mouse\nbutton while moving the mouse.\n"
      ]
    },
    {
      "cell_type": "code",
      "execution_count": null,
      "metadata": {
        "collapsed": false
      },
      "outputs": [],
      "source": [
        "sbar_kwargs = dict(\n    title_font_size=20,\n    label_font_size=16,\n    shadow=True,\n    n_labels=9,\n    italic=True,\n    bold=True,\n    fmt=\"%.1f\",\n    font_family=\"arial\",\n    title=\"1st Principal Stress (psi)\",\n    color=\"black\",\n)\n\nmapdl.post_processing.plot_nodal_principal_stress(\n    \"1\",\n    cpos=\"xy\",\n    edge_color=\"black\",\n    background=\"beige\",\n    show_edges=True,\n    scalar_bar_args=sbar_kwargs,\n    n_colors=256,\n    cmap=\"jet\",\n)\n\n# cmap names *_r usually reverses values.  Try cmap='jet_r'"
      ]
    },
    {
      "cell_type": "markdown",
      "metadata": {},
      "source": [
        "Step 6: Postprocessing\n======================\n\nResults List\n------------\n\nGet all principal nodal stresses.\n"
      ]
    },
    {
      "cell_type": "code",
      "execution_count": null,
      "metadata": {
        "collapsed": false
      },
      "outputs": [],
      "source": [
        "mapdl.post_processing.nodal_principal_stress(\"1\")"
      ]
    },
    {
      "cell_type": "markdown",
      "metadata": {},
      "source": [
        "Get the principal nodal stresses of the node subset.\n"
      ]
    },
    {
      "cell_type": "code",
      "execution_count": null,
      "metadata": {
        "collapsed": false
      },
      "outputs": [],
      "source": [
        "mapdl.nsel(\"S\", \"S\", 1, 6700, 7720)\nmapdl.esln()\nmapdl.nsle()\n\nprint(\"The node numbers are:\")\nprint(mapdl.mesh.nnum)  # get node numbers\n\nprint(\"The principal nodal stresses are:\")\nmapdl.post_processing.nodal_principal_stress(\"1\")"
      ]
    },
    {
      "cell_type": "markdown",
      "metadata": {},
      "source": [
        "Results as lists, arrays, and DataFrames\n========================================\n\nUsing `mapdl.prnsol`{.interpreted-text role=\"meth\"} to check\n"
      ]
    },
    {
      "cell_type": "code",
      "execution_count": null,
      "metadata": {
        "collapsed": false
      },
      "outputs": [],
      "source": [
        "print(mapdl.prnsol(\"S\", \"PRIN\"))"
      ]
    },
    {
      "cell_type": "markdown",
      "metadata": {},
      "source": [
        "Use this command to obtain the data as a list.\n"
      ]
    },
    {
      "cell_type": "code",
      "execution_count": null,
      "metadata": {
        "collapsed": false
      },
      "outputs": [],
      "source": [
        "mapdl_s_1_list = mapdl.prnsol(\"S\", \"PRIN\").to_list()\nprint(mapdl_s_1_list)"
      ]
    },
    {
      "cell_type": "markdown",
      "metadata": {},
      "source": [
        "Use this command to obtain the data as an array:\n"
      ]
    },
    {
      "cell_type": "code",
      "execution_count": null,
      "metadata": {
        "collapsed": false
      },
      "outputs": [],
      "source": [
        "mapdl_s_1_array = mapdl.prnsol(\"S\", \"PRIN\").to_array()\nprint(mapdl_s_1_array)"
      ]
    },
    {
      "cell_type": "markdown",
      "metadata": {},
      "source": [
        "or as a DataFrame:\n"
      ]
    },
    {
      "cell_type": "code",
      "execution_count": null,
      "metadata": {
        "collapsed": false
      },
      "outputs": [],
      "source": [
        "mapdl_s_1_df = mapdl.prnsol(\"S\", \"PRIN\").to_dataframe()\nmapdl_s_1_df.head()"
      ]
    },
    {
      "cell_type": "markdown",
      "metadata": {},
      "source": [
        "Use this command to obtain the data as a DataFrame, which is a. [Pandas\ndata\ntype](https://pandas.pydata.org/docs/reference/api/pandas.DataFrame.html).\nBecause the Pandas module is imported, you can use its functions. For\nexample, you can write principal stresses to a file.\n"
      ]
    },
    {
      "cell_type": "code",
      "execution_count": null,
      "metadata": {
        "collapsed": false
      },
      "outputs": [],
      "source": [
        "# mapdl_s_1_df.to_csv(path + '\\prin-stresses.csv')\n# mapdl_s_1_df.to_json(path + '\\prin-stresses.json')\nmapdl_s_1_df.to_html(path + \"\\prin-stresses.html\")"
      ]
    },
    {
      "cell_type": "markdown",
      "metadata": {},
      "source": [
        "Step 7: Advanced plotting\n=========================\n"
      ]
    },
    {
      "cell_type": "code",
      "execution_count": null,
      "metadata": {
        "collapsed": false
      },
      "outputs": [],
      "source": [
        "mapdl.allsel()\nprincipal_1 = mapdl.post_processing.nodal_principal_stress(\"1\")"
      ]
    },
    {
      "cell_type": "markdown",
      "metadata": {},
      "source": [
        "Load this result into the VTK grid.\n"
      ]
    },
    {
      "cell_type": "code",
      "execution_count": null,
      "metadata": {
        "collapsed": false
      },
      "outputs": [],
      "source": [
        "grid = mapdl.mesh.grid\ngrid[\"p1\"] = principal_1\n\nsbar_kwargs = {\n    \"color\": \"black\",\n    \"title\": \"1st Principal Stress (psi)\",\n    \"vertical\": False,\n    \"n_labels\": 6,\n}"
      ]
    },
    {
      "cell_type": "markdown",
      "metadata": {},
      "source": [
        "Generate a single horizontal slice along the XY plane.\n\n::: {.note}\n::: {.title}\nNote\n:::\n\nWe\\'re using `eye_dome_lighting` here to enhance the plots of our\nslices. Read more about it at [Eye Dome Lighting]()\n:::\n"
      ]
    },
    {
      "cell_type": "code",
      "execution_count": null,
      "metadata": {
        "collapsed": false
      },
      "outputs": [],
      "source": [
        "single_slice = grid.slice(normal=[0, 0, 1], origin=[0, 0, 0])\nsingle_slice.plot(\n    scalars=\"p1\",\n    background=\"white\",\n    lighting=False,\n    eye_dome_lighting=True,\n    show_edges=False,\n    cmap=\"jet\",\n    n_colors=9,\n    scalar_bar_args=sbar_kwargs,\n)"
      ]
    },
    {
      "cell_type": "markdown",
      "metadata": {},
      "source": [
        "Generate a plot with three slice planes.\n"
      ]
    },
    {
      "cell_type": "code",
      "execution_count": null,
      "metadata": {
        "collapsed": false
      },
      "outputs": [],
      "source": [
        "slices = grid.slice_orthogonal()\nslices.plot(\n    scalars=\"p1\",\n    background=\"white\",\n    lighting=False,\n    eye_dome_lighting=True,\n    show_edges=False,\n    cmap=\"jet\",\n    n_colors=9,\n    scalar_bar_args=sbar_kwargs,\n)"
      ]
    },
    {
      "cell_type": "markdown",
      "metadata": {},
      "source": [
        "Generate a grid with multiple slices in the same plane.\n"
      ]
    },
    {
      "cell_type": "code",
      "execution_count": null,
      "metadata": {
        "collapsed": false
      },
      "outputs": [],
      "source": [
        "slices = grid.slice_along_axis(12, \"x\")\nslices.plot(\n    scalars=\"p1\",\n    background=\"white\",\n    show_edges=False,\n    lighting=False,\n    eye_dome_lighting=True,\n    cmap=\"jet\",\n    n_colors=9,\n    scalar_bar_args=sbar_kwargs,\n)"
      ]
    },
    {
      "cell_type": "markdown",
      "metadata": {},
      "source": [
        "Finally, exit MAPDL.\n"
      ]
    },
    {
      "cell_type": "code",
      "execution_count": null,
      "metadata": {
        "collapsed": false
      },
      "outputs": [],
      "source": [
        "mapdl.exit()"
      ]
    }
  ],
  "metadata": {
    "kernelspec": {
      "display_name": "Python 3",
      "language": "python",
      "name": "python3"
    },
    "language_info": {
      "codemirror_mode": {
        "name": "ipython",
        "version": 3
      },
      "file_extension": ".py",
      "mimetype": "text/x-python",
      "name": "python",
      "nbconvert_exporter": "python",
      "pygments_lexer": "ipython3",
      "version": "3.9.17"
    }
  },
  "nbformat": 4,
  "nbformat_minor": 0
}