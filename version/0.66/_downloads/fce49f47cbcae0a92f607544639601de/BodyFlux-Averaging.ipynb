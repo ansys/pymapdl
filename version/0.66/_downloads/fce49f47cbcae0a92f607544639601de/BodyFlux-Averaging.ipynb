{
  "cells": [
    {
      "cell_type": "markdown",
      "metadata": {},
      "source": [
        "Analysis of a 2D magnetostatic solenoid {#ref_solenoid_magnetostatic_2d}\n=======================================\n\nThis example shows how to gather and plot results with material\ndiscontinuities across elements (Power graphics style) versus the\ndefault full average results (Full graphics style).\n\nDescription\n-----------\n\nMechanical APDL has two averaging methods for presenting results. The\nfollowing descriptions indicate the primary differences, although other\ndifferences exist.\n\n-   **Full graphics**: Presents the entire selected model with node\n    averaged results. In the case of a node shared by two or more\n    elements that have differing materials, the stress field is\n    continuous across the element material boundary (the shared nodes).\n-   **Power graphics**: Presents the entire selected model with averaged\n    results within elements of the same material and discontinuous\n    across material boundaries.\n\nThis example focuses on material boundaries.\n\nNative PyMAPDL postprocessing is like MAPDL\\'s Full graphics method with\nrespect to material boundaries.\n\nThe geometry of the solenoid is given in Figure 1.\n\n![**Figure 1: Solenoid geometry\ndescription.**](../../../_static/model_solenoid_2d.png){.align-centeralign-center\nwidth=\"600px\"}\n\n### Loads and boundary conditions\n\nThe coil has a current density applied equal to 650 turns at 1 amp per\nturn. All exterior nodes have their Z magnetic vector potential set to\nzero, enforcing a flux parallel condition.\n\nImport modules\n--------------\n\nIn addition to the usual libraries, Matplotlib and PyVista are imported.\nThe MAPDL default contour color style is used so Matplotlib is imported.\nThe Power Graphics style plot is then set up via PyVista.\n"
      ]
    },
    {
      "cell_type": "code",
      "execution_count": null,
      "metadata": {
        "collapsed": false
      },
      "outputs": [],
      "source": [
        "import numpy as np\nimport pyvista as pv\n\nfrom ansys.mapdl.core import launch_mapdl"
      ]
    },
    {
      "cell_type": "markdown",
      "metadata": {},
      "source": [
        "Launch MAPDL service\n====================\n"
      ]
    },
    {
      "cell_type": "code",
      "execution_count": null,
      "metadata": {
        "collapsed": false
      },
      "outputs": [],
      "source": [
        "mapdl = launch_mapdl()\n\nmapdl.clear()\nmapdl.prep7()\nmapdl.title(\"2-D Solenoid Actuator Static Analysis\")"
      ]
    },
    {
      "cell_type": "markdown",
      "metadata": {},
      "source": [
        "Set up the FE model\n===================\n\nDefine parameter values for geometry, loading, and mesh sizing. The\nmodel is built in centimeters and is then scaled to meters.\n\nThe element type \\'Plane233\\' is used for 2D magnetostatic analysis.\n"
      ]
    },
    {
      "cell_type": "code",
      "execution_count": null,
      "metadata": {
        "collapsed": false
      },
      "outputs": [],
      "source": [
        "mapdl.et(1, \"PLANE233\")  # Define PLANE233 as element type\nmapdl.keyopt(1, 3, 1)  # Use axisymmetric analysis option\nmapdl.keyopt(1, 7, 1)  # Condense forces at the corner nodes"
      ]
    },
    {
      "cell_type": "markdown",
      "metadata": {},
      "source": [
        "Set material properties\n=======================\n\nUnits are in the international unit system.\n"
      ]
    },
    {
      "cell_type": "code",
      "execution_count": null,
      "metadata": {
        "collapsed": false
      },
      "outputs": [],
      "source": [
        "mapdl.mp(\"MURX\", 1, 1)  # Define material properties (permeability), Air\nmapdl.mp(\"MURX\", 2, 1000)  # Permeability of backiron\nmapdl.mp(\"MURX\", 3, 1)  # Permeability of coil\nmapdl.mp(\"MURX\", 4, 2000)  # Permeability of armature"
      ]
    },
    {
      "cell_type": "markdown",
      "metadata": {},
      "source": [
        "Set parameters\n==============\n\nSet parameters for geometry design.\n"
      ]
    },
    {
      "cell_type": "code",
      "execution_count": null,
      "metadata": {
        "collapsed": false
      },
      "outputs": [],
      "source": [
        "n_turns = 650  # Number of coil turns\ni_current = 1.0  # Current per turn\nta = 0.75  # Model dimensions (centimeters)\ntb = 0.75\ntc = 0.50\ntd = 0.75\nwc = 1\nhc = 2\ngap = 0.25\nspace = 0.25\nws = wc + 2 * space\nhs = hc + 0.75\nw = ta + ws + tc\nhb = tb + hs\nh = hb + gap + td\nacoil = wc * hc  # Cross-section area of coil (cm**2)\njdens = n_turns * i_current / acoil  # Current density (A/cm**2)\n\nsmart_size = 4  # Smart Size Level for Meshing"
      ]
    },
    {
      "cell_type": "markdown",
      "metadata": {},
      "source": [
        "Create geometry\n===============\n\nCreate the model geometry.\n"
      ]
    },
    {
      "cell_type": "code",
      "execution_count": null,
      "metadata": {
        "collapsed": false
      },
      "outputs": [],
      "source": [
        "mapdl.rectng(0, w, 0, tb)  # Create rectangular areas\nmapdl.rectng(0, w, tb, hb)\nmapdl.rectng(ta, ta + ws, 0, h)\nmapdl.rectng(ta + space, ta + space + wc, tb + space, tb + space + hc)\nmapdl.aovlap(\"ALL\")\nmapdl.rectng(0, w, 0, hb + gap)\nmapdl.rectng(0, w, 0, h)\nmapdl.aovlap(\"ALL\")\nmapdl.numcmp(\"AREA\")  # Compress out unused area numbers"
      ]
    },
    {
      "cell_type": "markdown",
      "metadata": {},
      "source": [
        "Mesh\n====\n\nSet the model mesh.\n"
      ]
    },
    {
      "cell_type": "code",
      "execution_count": null,
      "metadata": {
        "collapsed": false
      },
      "outputs": [],
      "source": [
        "mapdl.asel(\"S\", \"AREA\", \"\", 2)  # Assign attributes to coil\nmapdl.aatt(3, 1, 1, 0)\n\nmapdl.asel(\"S\", \"AREA\", \"\", 1)  # Assign attributes to armature\nmapdl.asel(\"A\", \"AREA\", \"\", 12, 13)\nmapdl.aatt(4, 1, 1)\n\nmapdl.asel(\"S\", \"AREA\", \"\", 3, 5)  # Assign attributes to backiron\nmapdl.asel(\"A\", \"AREA\", \"\", 7, 8)\nmapdl.aatt(2, 1, 1, 0)\n\nmapdl.pnum(\"MAT\", 1)  # Turn material numbers on\nmapdl.allsel(\"ALL\")\n\nmapdl.aplot(vtk=False)"
      ]
    },
    {
      "cell_type": "markdown",
      "metadata": {},
      "source": [
        "Mesh\n"
      ]
    },
    {
      "cell_type": "code",
      "execution_count": null,
      "metadata": {
        "collapsed": false
      },
      "outputs": [],
      "source": [
        "mapdl.smrtsize(smart_size)  # Set smart size meshing\nmapdl.amesh(\"ALL\")  # Mesh all areas"
      ]
    },
    {
      "cell_type": "markdown",
      "metadata": {},
      "source": [
        "Scale mesh to meters\n====================\n\nScale the model to be one meter in size.\n"
      ]
    },
    {
      "cell_type": "code",
      "execution_count": null,
      "metadata": {
        "collapsed": false
      },
      "outputs": [],
      "source": [
        "mapdl.esel(\"S\", \"MAT\", \"\", 4)  # Select armature elements\nmapdl.cm(\"ARM\", \"ELEM\")  # Define armature as a component\nmapdl.allsel(\"ALL\")\nmapdl.arscale(na1=\"all\", rx=0.01, ry=0.01, rz=1, imove=1)  # Scale model to MKS (meters)\nmapdl.finish()"
      ]
    },
    {
      "cell_type": "markdown",
      "metadata": {},
      "source": [
        "Loads and boundary conditions\n=============================\n\nDefine loads and boundary conditions.\n"
      ]
    },
    {
      "cell_type": "code",
      "execution_count": null,
      "metadata": {
        "collapsed": false
      },
      "outputs": [],
      "source": [
        "mapdl.slashsolu()\n\n# Apply current density (A/m**2)\nmapdl.esel(\"S\", \"MAT\", \"\", 3)  # Select coil elements\nmapdl.bfe(\"ALL\", \"JS\", 1, \"\", \"\", jdens / 0.01**2)\n\nmapdl.esel(\"ALL\")\nmapdl.nsel(\"EXT\")  # Select exterior nodes\nmapdl.d(\"ALL\", \"AZ\", 0)  # Set potentials to zero (flux-parallel)"
      ]
    },
    {
      "cell_type": "markdown",
      "metadata": {},
      "source": [
        "Solve the model\n===============\n\nSolve the magnetostatic analysis.\n"
      ]
    },
    {
      "cell_type": "code",
      "execution_count": null,
      "metadata": {
        "collapsed": false
      },
      "outputs": [],
      "source": [
        "mapdl.allsel(\"ALL\")\nmapdl.solve()\nmapdl.finish()"
      ]
    },
    {
      "cell_type": "markdown",
      "metadata": {},
      "source": [
        "Postprocessing\n==============\n\nOpen the result file and read in the last set of results\n"
      ]
    },
    {
      "cell_type": "code",
      "execution_count": null,
      "metadata": {
        "collapsed": false
      },
      "outputs": [],
      "source": [
        "mapdl.post1()\nmapdl.file(\"file\", \"rmg\")\nmapdl.set(\"last\")"
      ]
    },
    {
      "cell_type": "markdown",
      "metadata": {},
      "source": [
        "Print the nodal values\n"
      ]
    },
    {
      "cell_type": "code",
      "execution_count": null,
      "metadata": {
        "collapsed": false
      },
      "outputs": [],
      "source": [
        "print(mapdl.post_processing.nodal_values(\"b\", \"x\"))"
      ]
    },
    {
      "cell_type": "markdown",
      "metadata": {},
      "source": [
        "Create an MAPDL Power Graphics plot of the X-direction magnetic flux\n====================================================================\n\nThe MAPDL colors are reversed via the `rgb` command so that the\nbackground is white with black text and element edges.\n"
      ]
    },
    {
      "cell_type": "code",
      "execution_count": null,
      "metadata": {
        "collapsed": false
      },
      "outputs": [],
      "source": [
        "mapdl.graphics(\"power\")\nmapdl.rgb(\"INDEX\", 100, 100, 100, 0)\nmapdl.rgb(\"INDEX\", 80, 80, 80, 13)\nmapdl.rgb(\"INDEX\", 60, 60, 60, 14)\nmapdl.rgb(\"INDEX\", 0, 0, 0, 15)\n\nmapdl.edge(1, 1)\nmapdl.show(\"png\")\nmapdl.pngr(\"tmod\", 0)\n\nmapdl.plnsol(\"b\", \"x\")\nmapdl.show(\"\")"
      ]
    },
    {
      "cell_type": "markdown",
      "metadata": {},
      "source": [
        "Obtain grid and scalar data\n===========================\n\nFirst, obtain the set of unique material IDs in the model\n"
      ]
    },
    {
      "cell_type": "code",
      "execution_count": null,
      "metadata": {
        "collapsed": false
      },
      "outputs": [],
      "source": [
        "elem_mats = mapdl.mesh.material_type\nnp.unique(elem_mats)"
      ]
    },
    {
      "cell_type": "markdown",
      "metadata": {},
      "source": [
        "For each unique material ID, the elements and their nodes are selected.\nThe `grids` list is appended with the mesh information of just those\nelements, and the `scalars` list is appended with the nodal X-direction\nmagnetic flux.\n"
      ]
    },
    {
      "cell_type": "code",
      "execution_count": null,
      "metadata": {
        "collapsed": false
      },
      "outputs": [],
      "source": [
        "grids = []\nscalars = []\nfor mat in np.unique(elem_mats):\n    mapdl.esel(\"s\", \"mat\", \"\", mat)\n    mapdl.nsle()\n    grids.append(mapdl.mesh.grid)\n    scalars.append(mapdl.post_processing.nodal_values(\"b\", \"x\"))\nmapdl.allsel()"
      ]
    },
    {
      "cell_type": "markdown",
      "metadata": {},
      "source": [
        "If interested print the grids list and perhaps compare to a print of\nmapdl.mesh.grid\n"
      ]
    },
    {
      "cell_type": "code",
      "execution_count": null,
      "metadata": {
        "collapsed": false
      },
      "outputs": [],
      "source": [
        "print(grids)\n# print(mapdl.mesh.grid)"
      ]
    },
    {
      "cell_type": "markdown",
      "metadata": {},
      "source": [
        "Color map and result plot\n=========================\n\nBecause some of the MAPDL contour colors do not have an exact match in\nthe standard Matplotlib color library, an attempt is made to match the\ncolor and use the Hex RGBA number value.\n\nFor each item in the grids list the grid is added to the plot and 9\ncontour colors requested using the prior define color map and the same\ncontour legend.\n\nThe plot is then shown and it recreates the native plot quite well.\n"
      ]
    },
    {
      "cell_type": "code",
      "execution_count": null,
      "metadata": {
        "collapsed": false
      },
      "outputs": [],
      "source": [
        "from ansys.mapdl.core.theme import PyMAPDL_cmap\n\nplotter = pv.Plotter()\n\nfor i in range(0, len(grids)):\n    plotter.add_mesh(\n        grids[i],\n        scalars=scalars[i],\n        show_edges=True,\n        cmap=PyMAPDL_cmap,\n        n_colors=9,\n        scalar_bar_args={\n            \"color\": \"black\",\n            \"title\": \"B Flux X\",\n            \"vertical\": False,\n            \"n_labels\": 10,\n        },\n    )\n\nplotter.set_background(color=\"white\")\n_ = plotter.camera_position = \"xy\"\nplotter.show()"
      ]
    },
    {
      "cell_type": "markdown",
      "metadata": {},
      "source": [
        "Exiting MAPDL\n=============\n"
      ]
    },
    {
      "cell_type": "code",
      "execution_count": null,
      "metadata": {
        "collapsed": false
      },
      "outputs": [],
      "source": [
        "mapdl.graphics(\"FULL\")  # Returning to default mode.\nmapdl.exit()"
      ]
    }
  ],
  "metadata": {
    "kernelspec": {
      "display_name": "Python 3",
      "language": "python",
      "name": "python3"
    },
    "language_info": {
      "codemirror_mode": {
        "name": "ipython",
        "version": 3
      },
      "file_extension": ".py",
      "mimetype": "text/x-python",
      "name": "python",
      "nbconvert_exporter": "python",
      "pygments_lexer": "ipython3",
      "version": "3.10.13"
    }
  },
  "nbformat": 4,
  "nbformat_minor": 0
}