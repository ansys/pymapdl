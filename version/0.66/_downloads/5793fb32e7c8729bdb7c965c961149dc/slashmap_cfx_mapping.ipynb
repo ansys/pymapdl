{
  "cells": [
    {
      "cell_type": "markdown",
      "metadata": {},
      "source": [
        "CFX pressure data mapping to structural blade {#ref_cfx_mapping}\n=============================================\n\nThe objective of this test is to demonstrate CFX pressure data mapping\nto structural 11 blade model in PyMAPDL.\n\nDescription\n-----------\n\nThe 11 blade model along with a fictitious disk is modeled. CFX\ngenerated pressure data is used as input.\n\nThe test uses a CFX exported pressure data to map. Pressure file\ncorrespond to a certain vibrating blade mode (vibrating mode 1\napproximately 534 Hz)and to a certain pressure mode (pressure mode 1\nalso the same 534 Hz mode). However, due to lack of data for another\nmode this same file will be assumed to represent other mode combinations\n(vib mode 2 press mode 2) (vib mode 1 press mode 2) (vib mode 2 press\nmode 1).\n"
      ]
    },
    {
      "cell_type": "code",
      "execution_count": null,
      "metadata": {
        "collapsed": false
      },
      "outputs": [],
      "source": [
        "from datetime import datetime\n\nfrom ansys.mapdl.core import launch_mapdl\nfrom ansys.mapdl.core.examples import download_cfx_mapping_example_data"
      ]
    },
    {
      "cell_type": "markdown",
      "metadata": {},
      "source": [
        "Downloading files\n=================\n"
      ]
    },
    {
      "cell_type": "code",
      "execution_count": null,
      "metadata": {
        "collapsed": false
      },
      "outputs": [],
      "source": [
        "files_path = download_cfx_mapping_example_data()\n\ndb_file_path = files_path[\"model\"]\npressure_file_path = files_path[\"data\"]"
      ]
    },
    {
      "cell_type": "markdown",
      "metadata": {},
      "source": [
        "Launch MAPDL service\n====================\n"
      ]
    },
    {
      "cell_type": "code",
      "execution_count": null,
      "metadata": {
        "collapsed": false
      },
      "outputs": [],
      "source": [
        "mapdl = launch_mapdl()\n\nmapdl.title(\n    \"Verify Pressure Data Mapping exported from CFX on Structural 11 Blade Model\"\n)"
      ]
    },
    {
      "cell_type": "markdown",
      "metadata": {},
      "source": [
        "Upload files to the instance\n============================\n\nUploading files\n"
      ]
    },
    {
      "cell_type": "code",
      "execution_count": null,
      "metadata": {
        "collapsed": false
      },
      "outputs": [],
      "source": [
        "mapdl.upload(db_file_path)\nmapdl.upload(pressure_file_path)"
      ]
    },
    {
      "cell_type": "markdown",
      "metadata": {},
      "source": [
        "Pressure mapping\n================\n\nResume the database from the example mapping file\n"
      ]
    },
    {
      "cell_type": "code",
      "execution_count": null,
      "metadata": {
        "collapsed": false
      },
      "outputs": [],
      "source": [
        "mapdl.resume(\"ExampleMapping\", \"db\")\nmapdl.esel(\"s\", \"type\", \"\", 1)\nmapdl.cm(\"BladeElem\", \"elem\")\n\n# Write CDB file\nmapdl.allsel()\nmapdl.cdwrite(\"all\", \"baseModel\", \"cdb\")\nmapdl.finish()\n\n# Start the mapping processor and record the start time\nstart_time = datetime.now()\nmapdl.slashmap()  # mapdl.slashmap(**kwargs); Enters the mapping processor.\nprint(\"Enter the Mapping Processor\")\n\n# Specifies the target nodes for mapping pressures onto surface effect elements.\nmapdl.run(\"target,pressure_faces\")\n\n# Specifies the file type and pressure type for the subsequent import of source points and pressures.\nmapdl.ftype(filetype=\"cfxtbr\", prestype=\"1\")\n# Read the CFX exported file containing pressure data Blade 2, Export Surface 1\nmapdl.read(fname=\"11_blades_mode_1_ND_0.csv\")\n\n# Perform the pressure mapping from source points to target surface elements.\n# Interpolation is done on a surface (default).\nprint(mapdl.map(kdim=\"2\", kout=\"1\"))"
      ]
    },
    {
      "cell_type": "markdown",
      "metadata": {},
      "source": [
        "Plot mapping\n============\n\nPlot the geometries and mappings\n"
      ]
    },
    {
      "cell_type": "code",
      "execution_count": null,
      "metadata": {
        "collapsed": false
      },
      "outputs": [],
      "source": [
        "mapdl.show(\"png,rev\")\nmapdl.plgeom(item=\"BOTH\")  # Plot both target and source geometries (default).\nmapdl.plmap(item=\"target\")\nmapdl.plmap(item=\"target\", imagkey=\"1\")\nmapdl.plmap(item=\"source\")\nmapdl.plmap(item=\"source\", imagkey=\"1\")\nmapdl.plmap(item=\"both\")\nmapdl.plmap(item=\"both\", imagkey=\"1\")\n\n# Close the plot and write the mapped data to a file\nmapdl.show(\"close\")\nmapdl.writemap(\"mappedHI.dat\")\n\n# Print the mapping completion message and duration\nprint(\"Mapping Completed\")\nend_time = datetime.now()\nc = end_time - start_time\nseconds = c.total_seconds()\nprint(\"\\nDuration in seconds for Mapping is  : \", seconds)\n\nmapdl.eplot()"
      ]
    },
    {
      "cell_type": "markdown",
      "metadata": {},
      "source": [
        "Stop MAPDL\n"
      ]
    },
    {
      "cell_type": "code",
      "execution_count": null,
      "metadata": {
        "collapsed": false
      },
      "outputs": [],
      "source": [
        "mapdl.finish()\nmapdl.exit()"
      ]
    }
  ],
  "metadata": {
    "kernelspec": {
      "display_name": "Python 3",
      "language": "python",
      "name": "python3"
    },
    "language_info": {
      "codemirror_mode": {
        "name": "ipython",
        "version": 3
      },
      "file_extension": ".py",
      "mimetype": "text/x-python",
      "name": "python",
      "nbconvert_exporter": "python",
      "pygments_lexer": "ipython3",
      "version": "3.10.13"
    }
  },
  "nbformat": 4,
  "nbformat_minor": 0
}