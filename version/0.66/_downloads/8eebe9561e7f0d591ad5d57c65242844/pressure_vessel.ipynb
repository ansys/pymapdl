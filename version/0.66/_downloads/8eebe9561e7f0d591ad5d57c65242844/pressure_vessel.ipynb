{
  "cells": [
    {
      "cell_type": "markdown",
      "metadata": {},
      "source": [
        "Pressure Vessel {#pressure_vessel_example}\n===============\n\nThis example demonstrates how to create a basic pressure vessel and\napply a pressure to it.\n\nAlso shown here: - Various ways of accessing stress results from MAPDL.\n- Comparison between PRNSOL, VGET (efficient wrapping), and the legacy\nreader. - Notes regarding FULL vs. POWER graphics when using PRNSOL.\n"
      ]
    },
    {
      "cell_type": "code",
      "execution_count": null,
      "metadata": {
        "collapsed": false
      },
      "outputs": [],
      "source": [
        "import numpy as np\n\nfrom ansys.mapdl.core import launch_mapdl\n\n# start mapdl, enter the preprocessor, and set the units\nmapdl = launch_mapdl()\n\nmapdl.clear()\nmapdl.prep7()\n\n# US Customary system using inches (in, lbf*s2/in, s, \u00b0F).\nmapdl.units(\"BIN\")"
      ]
    },
    {
      "cell_type": "markdown",
      "metadata": {},
      "source": [
        "Set the materials and element type\n"
      ]
    },
    {
      "cell_type": "code",
      "execution_count": null,
      "metadata": {
        "collapsed": false
      },
      "outputs": [],
      "source": [
        "mapdl.et(1, \"SOLID285\")\nmapdl.mp(\"EX\", 1, 10e6)\nmapdl.mp(\"PRXY\", 1, 0.3)\nmapdl.mp(\"DENS\", 1, 0.1)\nprint(mapdl.mplist())"
      ]
    },
    {
      "cell_type": "markdown",
      "metadata": {},
      "source": [
        "Create the Geometry\n"
      ]
    },
    {
      "cell_type": "code",
      "execution_count": null,
      "metadata": {
        "collapsed": false
      },
      "outputs": [],
      "source": [
        "# area generation\nheight = 10\ninner_width = 2.5\nouter_width = 3.5\nmapdl.rectng(inner_width, outer_width, 0, height)\nmapdl.cyl4(0, height, inner_width, 0, outer_width, 90)\n\n# combine areas\na_comb = mapdl.aadd(1, 2)\nmapdl.aplot(color=\"grey\", background=\"w\", show_area_numbering=True)\n\n# Generate a cylindrical volume by rotating an area pattern about an axis\nmapdl.vrotat(a_comb, pax1=6, arc=90)\nmapdl.vplot(background=\"w\")"
      ]
    },
    {
      "cell_type": "markdown",
      "metadata": {},
      "source": [
        "Create the mesh\n"
      ]
    },
    {
      "cell_type": "code",
      "execution_count": null,
      "metadata": {
        "collapsed": false
      },
      "outputs": [],
      "source": [
        "mapdl.smrtsize(1)\nmapdl.esize(0.25, 0)\nmapdl.mshape(1, \"3D\")\nmapdl.mshkey(0)\nmapdl.vmesh(\"ALL\")\nmapdl.eplot(color=\"grey\", background=\"w\")"
      ]
    },
    {
      "cell_type": "markdown",
      "metadata": {},
      "source": [
        "Solve\n"
      ]
    },
    {
      "cell_type": "code",
      "execution_count": null,
      "metadata": {
        "collapsed": false
      },
      "outputs": [],
      "source": [
        "# boundary condition selection\nmapdl.geometry.area_select([3, 5, 7])\nmapdl.da(\"ALL\", \"SYMM\")\nmapdl.allsel()\n\n# apply pressure\nmapdl.geometry.area_select([1, 6])\nmapdl.sfa(\"ALL\", 1, \"PRES\", 1000)\nmapdl.allsel()\n\n# solver\nmapdl.run(\"/SOL\")\nmapdl.antype(0)\nmapdl.outres(\"ALL\", \"ALL\")\nmapdl.run(\"/STATUS,SOLU\")\nsol_output = mapdl.solve()\nmapdl.finish()"
      ]
    },
    {
      "cell_type": "markdown",
      "metadata": {},
      "source": [
        "Post-Processing\n===============\n\nEnter the MAPDL post-postprocessing routine (/POST1) and obtain the\nvon-mises stress for the single static solution. Here, we use MAPDL\ndirectly to obtain the results using a wrapper around the VGET method to\nefficiently obtain results without outputting to disk.\n"
      ]
    },
    {
      "cell_type": "code",
      "execution_count": null,
      "metadata": {
        "collapsed": false
      },
      "outputs": [],
      "source": [
        "# enter the postprocessing routine\nmapdl.post1()\nmapdl.set(1, 1)\n\n# results directly from MAPDL's VGET command\n# VGET, __VAR__, NODE, , S, EQV\nnnum = mapdl.mesh.nnum\nvon_mises_mapdl = mapdl.post_processing.nodal_eqv_stress()\n\n# we could print out the solution for each node with:\n\nprint(f\"\\nNode  Stress (psi)\")\nfor node_num, stress_value in zip(nnum[:5], von_mises_mapdl[:5]):\n    print(f\"{node_num:<5d} {stress_value:.3f}\")\nprint(\"...\")\n\n# or simply get the maximum stress value and corresponding node\nidx = np.argmax(von_mises_mapdl)\nnode_num = nnum[idx]\nstress_value = von_mises_mapdl[idx]\nprint(f\"\\nMaximum Stress\")\nprint(f\"Node  Stress (psi)\")\nprint(f\"{node_num:<5d} {stress_value:.3f}\")"
      ]
    },
    {
      "cell_type": "markdown",
      "metadata": {},
      "source": [
        "Plot the results\n"
      ]
    },
    {
      "cell_type": "code",
      "execution_count": null,
      "metadata": {
        "collapsed": false
      },
      "outputs": [],
      "source": [
        "mapdl.post_processing.plot_nodal_eqv_stress(cpos=\"zy\")"
      ]
    },
    {
      "cell_type": "markdown",
      "metadata": {},
      "source": [
        "We could, alternatively, get the exact same results by directly\naccessing the result file using the legacy file reader\n[ansys-mapdl-reader](https://github.com/ansys/pymapdl-reader).\n"
      ]
    },
    {
      "cell_type": "code",
      "execution_count": null,
      "metadata": {
        "collapsed": false
      },
      "outputs": [],
      "source": [
        "# access the result\nresult = mapdl.result\n\n# Get the von mises stess and show that this is equivalent to the\n# stress obtained from MAPDL.\nnnum, stress = result.principal_nodal_stress(0)\nvon_mises = stress[:, -1]  # von-Mises stress is the right most column\nmin_von_mises, max_von_mises = np.min(von_mises), np.max(von_mises)\nprint(\"All close:\", np.allclose(von_mises, von_mises_mapdl))"
      ]
    },
    {
      "cell_type": "markdown",
      "metadata": {},
      "source": [
        "That these results are equivalent to results from PRNSOL.\n\n::: {.note}\n::: {.title}\nNote\n:::\n\nEnabling POWER GRAPHICS with `mapdl.graphics('POWER')` will change the\naveraging scheme.\n:::\n"
      ]
    },
    {
      "cell_type": "code",
      "execution_count": null,
      "metadata": {
        "collapsed": false
      },
      "outputs": [],
      "source": [
        "mapdl.header(\"OFF\", \"OFF\", \"OFF\", \"OFF\", \"OFF\", \"OFF\")\ntable = mapdl.prnsol(\"S\", \"PRIN\").splitlines()[1:]\nprnsol_eqv = np.genfromtxt(table)[:, -1]  # eqv is the last column\n\n# show these are equivalent (RTOL due to rounding within PRNSOL)\nprint(\"All close:\", np.allclose(von_mises, prnsol_eqv, rtol=1e-4))\n\nprint(f\"LEGACY Reader and MAPDL VGET Min: {min_von_mises}\")\nprint(f\"PRNSOL MAPDL Min:                 {prnsol_eqv.min()}\")\nprint()\nprint(f\"LEGACY Reader and MAPDL VGET Min: {max_von_mises}\")\nprint(f\"PRNSOL MAPDL Min:                 {prnsol_eqv.max()}\")"
      ]
    },
    {
      "cell_type": "markdown",
      "metadata": {},
      "source": [
        "Stop mapdl\n==========\n"
      ]
    },
    {
      "cell_type": "code",
      "execution_count": null,
      "metadata": {
        "collapsed": false
      },
      "outputs": [],
      "source": [
        "mapdl.exit()"
      ]
    }
  ],
  "metadata": {
    "kernelspec": {
      "display_name": "Python 3",
      "language": "python",
      "name": "python3"
    },
    "language_info": {
      "codemirror_mode": {
        "name": "ipython",
        "version": 3
      },
      "file_extension": ".py",
      "mimetype": "text/x-python",
      "name": "python",
      "nbconvert_exporter": "python",
      "pygments_lexer": "ipython3",
      "version": "3.10.13"
    }
  },
  "nbformat": 4,
  "nbformat_minor": 0
}