{
  "cells": [
    {
      "cell_type": "code",
      "execution_count": null,
      "metadata": {
        "collapsed": false
      },
      "outputs": [],
      "source": [
        "%matplotlib inline"
      ]
    },
    {
      "cell_type": "markdown",
      "metadata": {},
      "source": [
        "3D Acoustic Analysis {#acoustic_analysis_example}\n====================\n\nThis example shows how to perform an acoustic analysis using PyMAPDL and\n`FLUID` elements.\n"
      ]
    },
    {
      "cell_type": "markdown",
      "metadata": {},
      "source": [
        "Launch PyMAPDL\n==============\n\nLaunch PyMAPDL and load `matplotlib`.\n"
      ]
    },
    {
      "cell_type": "code",
      "execution_count": null,
      "metadata": {
        "collapsed": false
      },
      "outputs": [],
      "source": [
        "from matplotlib import pyplot as plt\n\nfrom ansys.mapdl.core import launch_mapdl\n\nmapdl = launch_mapdl()\n\nmapdl.clear()\nmapdl.prep7()\nmapdl.units(\"SI\")  # SI - International system (m, kg, s, K)."
      ]
    },
    {
      "cell_type": "markdown",
      "metadata": {},
      "source": [
        "Element and Material Properties\n===============================\n\nDefine the `FLUID30` and `FLUID130` element types.\n"
      ]
    },
    {
      "cell_type": "code",
      "execution_count": null,
      "metadata": {
        "collapsed": false
      },
      "outputs": [],
      "source": [
        "mapdl.et(1, \"FLUID30\", kop1=2)\n\n\n# Define the material properties\nmapdl.mp(\"SONC\", 1, 1500)  # sonc in m/s\nmapdl.mp(\"DENS\", 1, 1000)  # Density in kg/m3\nprint(mapdl.mplist())\n\n\n# Define the real const\nmapdl.r(\"1\", \"1e-6\")  # Reference pressure for R set 1\nprint(mapdl.rlist())"
      ]
    },
    {
      "cell_type": "markdown",
      "metadata": {},
      "source": [
        "Geometry Definition\n===================\n\nCreate a simple sphere.\n"
      ]
    },
    {
      "cell_type": "code",
      "execution_count": null,
      "metadata": {
        "collapsed": false
      },
      "outputs": [],
      "source": [
        "vnum = mapdl.sphere(rad1=0.5, rad2=1.0)\nmapdl.vsbw(\"all\")\nmapdl.vplot(show_area_numbering=True)"
      ]
    },
    {
      "cell_type": "markdown",
      "metadata": {},
      "source": [
        "Geometry Meshing\n================\n\nFirst select the material and elements.\n"
      ]
    },
    {
      "cell_type": "code",
      "execution_count": null,
      "metadata": {
        "collapsed": false
      },
      "outputs": [],
      "source": [
        "mapdl.type(itype=1)\nmapdl.real(nset=1)\nmapdl.mat(mat=1)\nmapdl.mshape(1, \"3D\")"
      ]
    },
    {
      "cell_type": "markdown",
      "metadata": {},
      "source": [
        "Then choose the element size and perform the mesh.\n"
      ]
    },
    {
      "cell_type": "code",
      "execution_count": null,
      "metadata": {
        "collapsed": false
      },
      "outputs": [],
      "source": [
        "mapdl.esize(0.25)\nmapdl.vmesh(\"all\")\nmapdl.eplot(show_node_numbering=False)"
      ]
    },
    {
      "cell_type": "markdown",
      "metadata": {},
      "source": [
        "Boundary Conditions\n===================\n\nAdd surface boundary condition to the nodes using\n`Mapdl.sf() <ansys.mapdl.core.Mapdl.sf>`{.interpreted-text role=\"func\"}\nand the option `SHLD` for *Surface normal velocity or acceleration*.\n"
      ]
    },
    {
      "cell_type": "code",
      "execution_count": null,
      "metadata": {
        "collapsed": false
      },
      "outputs": [],
      "source": [
        "mapdl.csys(2)\nmapdl.asel(\"s\", \"loc\", \"x\", 0.5)\nmapdl.csys(0)\nmapdl.nsla(\"S\", 1)\nmapdl.sf(\"all\", \"SHLD\", 5)\nmapdl.allsel()"
      ]
    },
    {
      "cell_type": "markdown",
      "metadata": {},
      "source": [
        "Solve the model\n===============\n\nUsing `Mapdl.solve() <ansys.mapdl.core.Mapdl.solve>`{.interpreted-text\nrole=\"func\"}\n"
      ]
    },
    {
      "cell_type": "code",
      "execution_count": null,
      "metadata": {
        "collapsed": false
      },
      "outputs": [],
      "source": [
        "mapdl.allsel()\nmapdl.run(\"/SOLU\")\nmapdl.antype(3)\nmapdl.harfrq(freqb=200, freqe=1000)\nmapdl.autots(\"off\")\nmapdl.nsubst(40)\nmapdl.kbc(0)\n\nmapdl.outres(\"erase\")  # Save less data in order to reduce the size of .rst file\nmapdl.outres(\"all\", \"none\")  # NOTE that other output like stresses is not saved\nmapdl.outres(\"nsol\", \"all\")  # Save pressure and displacement\nmapdl.outres(\"fgrad\", \"all\")  # Save velocities\nmapdl.outres(\"misc\", \"all\")  # For post processing calculations\n\nmapdl.solve()"
      ]
    },
    {
      "cell_type": "markdown",
      "metadata": {},
      "source": [
        "Post1: Time step results\n========================\n\nListing the results\n"
      ]
    },
    {
      "cell_type": "code",
      "execution_count": null,
      "metadata": {
        "collapsed": false
      },
      "outputs": [],
      "source": [
        "mapdl.post1()\nprint(mapdl.set(\"LIST\"))"
      ]
    },
    {
      "cell_type": "markdown",
      "metadata": {},
      "source": [
        "Post26: Time dependent results\n==============================\n\nGetting results for specific nodes\n"
      ]
    },
    {
      "cell_type": "code",
      "execution_count": null,
      "metadata": {
        "collapsed": false
      },
      "outputs": [],
      "source": [
        "mapdl.post26()\nfreqs = mapdl.post_processing.time_values[::2]\nnode = 276\n\n# Getting results\nnode_pressure = mapdl.nsol(3, node, \"spl\")\nnode_sound_pressure_level = mapdl.nsol(4, node, \"SPLA\")\n\n# Plotting\nfig, ax = plt.subplots(1, 2)\n\nax[0].plot(freqs, node_pressure)\nax[0].set_xlabel(\"Frequencies (Hz)\")\nax[0].set_ylabel(\"Sound pressure level (Pa)\")\n\nax[1].plot(freqs, node_sound_pressure_level, label=\"Nodal Sound Pressure\")\nax[1].set_xlabel(\"Frequencies (Hz)\")\nax[1].set_ylabel(\"A-weighted sound\\npressure level (dBA)\")\n\nfig.suptitle(f\"Node {node} Results\")\nfig.tight_layout()\nfig.show()"
      ]
    },
    {
      "cell_type": "markdown",
      "metadata": {},
      "source": [
        "Stop MAPDL\n"
      ]
    },
    {
      "cell_type": "code",
      "execution_count": null,
      "metadata": {
        "collapsed": false
      },
      "outputs": [],
      "source": [
        "mapdl.exit()"
      ]
    }
  ],
  "metadata": {
    "kernelspec": {
      "display_name": "Python 3",
      "language": "python",
      "name": "python3"
    },
    "language_info": {
      "codemirror_mode": {
        "name": "ipython",
        "version": 3
      },
      "file_extension": ".py",
      "mimetype": "text/x-python",
      "name": "python",
      "nbconvert_exporter": "python",
      "pygments_lexer": "ipython3",
      "version": "3.9.16"
    }
  },
  "nbformat": 4,
  "nbformat_minor": 0
}