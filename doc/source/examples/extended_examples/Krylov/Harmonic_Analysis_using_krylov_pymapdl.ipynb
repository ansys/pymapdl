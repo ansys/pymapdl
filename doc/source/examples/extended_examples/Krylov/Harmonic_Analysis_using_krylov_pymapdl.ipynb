{
 "cells": [
  {
   "cell_type": "markdown",
   "id": "322dcb7a",
   "metadata": {},
   "source": [
    "Harmonic analysis using the Frequency sweep Krylov method\n",
    "===================================================\n",
    "\n",
    "This example shows how to use the krylov method in Pymapdl for harmonic analysis.\n",
    "\n",
    "How to use the methods:\n",
    "\n",
    "*  Krygensub to generate a Krylov subspace for model reduction in harmonic analysis\n",
    "*  Krysolve to reduces system of equations and solve at each frequency.\n",
    "*  Kryexpand to expand reduced solution back to FE space."
   ]
  },
  {
   "cell_type": "markdown",
   "id": "d239ac06",
   "metadata": {},
   "source": [
    "Problem Description\n",
    "------------------------------ \n",
    "\n",
    "To perform Harmonic analysis on a cylindrical acoustic duct using the Krylov method and\n",
    "study the response of the system over a range of frequencies.\n",
    "\n",
    "The model is a cylindrical acoustic duct with pressure load on one end and output impedance on other end. </span>"
   ]
  },
  {
   "cell_type": "code",
   "execution_count": 19,
   "id": "1d5424a3",
   "metadata": {},
   "outputs": [],
   "source": [
    "import os\n",
    "import numpy as np\n",
    "import math\n",
    "import matplotlib.pyplot as plt\n",
    "from ansys.mapdl.core import launch_mapdl"
   ]
  },
  {
   "cell_type": "markdown",
   "id": "7dc0f520",
   "metadata": {},
   "source": [
    "Launch mapdl in '-smp' mode"
   ]
  },
  {
   "cell_type": "code",
   "execution_count": 2,
   "id": "bc53f351",
   "metadata": {},
   "outputs": [],
   "source": [
    "mapdl = launch_mapdl(additional_switches='-smp',nproc=4)\n",
    "mapdl.clear()\n",
    "mm = mapdl.math"
   ]
  },
  {
   "cell_type": "markdown",
   "id": "a748ab50",
   "metadata": {},
   "source": [
    "Define Geometry Details"
   ]
  },
  {
   "cell_type": "code",
   "execution_count": 3,
   "id": "49b7de01",
   "metadata": {},
   "outputs": [],
   "source": [
    "pi = np.arccos(-1)\n",
    "rho = 1.2                        # density\n",
    "c0 = 340                         # Speed of Sound\n",
    "frq = 1000                       # excitation freq   Hz\n",
    "visco = 0.9                      # viscosity\n",
    "\n",
    "TP = 1/frq\n",
    "WL = c0 * TP\n",
    "no_wl = 3                        # no of wavelengths in space\n",
    "\n",
    "cyl_L = no_wl * WL               # length of duct\n",
    "cyl_r = 0.025 * cyl_L            # cross section of duct\n",
    "\n",
    "nelem_wl = 10                    # no of elements per wavelength\n",
    "tol_elem = nelem_wl * no_wl"
   ]
  },
  {
   "cell_type": "markdown",
   "id": "3458a0c7",
   "metadata": {},
   "source": [
    "Element & Material definition"
   ]
  },
  {
   "cell_type": "code",
   "execution_count": 4,
   "id": "7b8e8fee",
   "metadata": {},
   "outputs": [
    {
     "data": {
      "text/plain": [
       "MATERIAL          1     VISC =  0.9000000"
      ]
     },
     "execution_count": 4,
     "metadata": {},
     "output_type": "execute_result"
    }
   ],
   "source": [
    "mapdl.prep7()\n",
    "\n",
    "mapdl.et(1,'FLUID220', kop2=1)   # Uncoupled acoustic element without FSIs\n",
    "mapdl.mp(\"DENS\", 1, rho)\n",
    "mapdl.mp(\"SONC\", 1, c0)\n",
    "mapdl.mp(\"VISC\", 1, visco)"
   ]
  },
  {
   "cell_type": "markdown",
   "id": "fdada060",
   "metadata": {},
   "source": [
    "Geometry creation"
   ]
  },
  {
   "cell_type": "code",
   "execution_count": 5,
   "id": "020c3676",
   "metadata": {},
   "outputs": [
    {
     "data": {
      "text/plain": [
       "DEFINITION OF COMPONENT = CM1       ENTITY=VOLU"
      ]
     },
     "execution_count": 5,
     "metadata": {},
     "output_type": "execute_result"
    }
   ],
   "source": [
    "mapdl.allsel()\n",
    "mapdl.csys(0)\n",
    "mapdl.wpcsys(-1)\n",
    "mapdl.wprota(thzx=90)\n",
    "mapdl.asel('NONE')\n",
    "mapdl.vsel('NONE')\n",
    "mapdl.cyl4(0, 0, cyl_r)\n",
    "mapdl.wpcsys(-1)\n",
    "mapdl.vext(\"ALL\", dx=cyl_L)\n",
    "mapdl.vsbw(\"ALL\", keep='DELETE')\n",
    "mapdl.wprota(thzx=90)\n",
    "mapdl.vsbw(\"ALL\", keep='DELETE')\n",
    "mapdl.wpcsys(-1)\n",
    "mapdl.cm('cm1', 'volu')"
   ]
  },
  {
   "cell_type": "markdown",
   "id": "d27b00a1",
   "metadata": {},
   "source": [
    "Mesh Creation"
   ]
  },
  {
   "cell_type": "code",
   "execution_count": 6,
   "id": "f64d6249",
   "metadata": {},
   "outputs": [
    {
     "data": {
      "text/plain": [
       "SELECT ALL ENTITIES OF TYPE= ALL  AND BELOW"
      ]
     },
     "execution_count": 6,
     "metadata": {},
     "output_type": "execute_result"
    }
   ],
   "source": [
    "mapdl.mat(1)\n",
    "mapdl.type(1)\n",
    "mapdl.cmsel(\"S\", \"cm1\")\n",
    "mapdl.aslv()\n",
    "mapdl.lsla()\n",
    "mapdl.lsel(\"U\", 'loc', 'x', 0)\n",
    "mapdl.lsel(\"U\", 'loc', 'x', cyl_L)\n",
    "mapdl.lesize('ALL',ndiv = tol_elem)\n",
    "mapdl.lsla()\n",
    "mapdl.vsweep('ALL')\n",
    "mapdl.allsel()"
   ]
  },
  {
   "cell_type": "markdown",
   "id": "1500e686",
   "metadata": {},
   "source": [
    "Plot FE model :"
   ]
  },
  {
   "cell_type": "code",
   "execution_count": 7,
   "id": "726597b2",
   "metadata": {},
   "outputs": [
    {
     "name": "stderr",
     "output_type": "stream",
     "text": [
      "c:\\python38\\lib\\site-packages\\pyvista\\jupyter\\notebook.py:60: UserWarning: Failed to use notebook backend: \n",
      "\n",
      "Please install `ipyvtklink` to use this feature: https://github.com/Kitware/ipyvtklink\n",
      "\n",
      "Falling back to a static output.\n",
      "  warnings.warn(\n"
     ]
    },
    {
     "data": {
      "image/png": "[encoded data removed]",
      "text/plain": [
       "<PIL.Image.Image image mode=RGB size=1024x768>"
      ]
     },
     "metadata": {},
     "output_type": "display_data"
    }
   ],
   "source": [
    "mapdl.eplot()"
   ]
  },
  {
   "cell_type": "markdown",
   "id": "39a54c13",
   "metadata": {},
   "source": [
    "Define Load & Boundary Condition"
   ]
  },
  {
   "cell_type": "code",
   "execution_count": 8,
   "id": "52fdf4aa",
   "metadata": {},
   "outputs": [
    {
     "data": {
      "text/plain": [
       "SELECT ALL ENTITIES OF TYPE= ALL  AND BELOW"
      ]
     },
     "execution_count": 8,
     "metadata": {},
     "output_type": "execute_result"
    }
   ],
   "source": [
    "mapdl.cmsel(\"S\", \"cm1\")\n",
    "mapdl.aslv()\n",
    "mapdl.asel('R',\"EXT\")\n",
    "mapdl.asel('R',\"LOC\",\"x\",0)\n",
    "mapdl.nsla('S',1)   \n",
    "mapdl.d('ALL','PRES', 1)\n",
    "mapdl.cmsel(\"S\", \"cm1\")\n",
    "mapdl.aslv()\n",
    "mapdl.asel('R',\"EXT\")\n",
    "mapdl.asel('R',\"LOC\",\"x\",cyl_L)\n",
    "mapdl.nsla(\"S\",1)      \n",
    "mapdl.sf(\"ALL\",\"IMPD\",1000)\n",
    "mapdl.allsel()"
   ]
  },
  {
   "cell_type": "markdown",
   "id": "3953f428",
   "metadata": {},
   "source": [
    "Perform Modal Analysis to study the natural modes of the system\n",
    "---------------------------------------------------------------------------------------------"
   ]
  },
  {
   "cell_type": "code",
   "execution_count": 9,
   "id": "3e2c3966",
   "metadata": {},
   "outputs": [
    {
     "name": "stdout",
     "output_type": "stream",
     "text": [
      "[0] : Freq =    83.33 Hz\n",
      "[1] : Freq =   250.00 Hz\n",
      "[2] : Freq =   416.67 Hz\n",
      "[3] : Freq =   583.34 Hz\n",
      "[4] : Freq =   750.03 Hz\n",
      "[5] : Freq =   916.74 Hz\n",
      "[6] : Freq =  1083.49 Hz\n",
      "[7] : Freq =  1250.32 Hz\n",
      "[8] : Freq =  1417.26 Hz\n",
      "[9] : Freq =  1584.36 Hz\n"
     ]
    }
   ],
   "source": [
    "# Modal Analysis\n",
    "mapdl.run(\"/SOLU\")\n",
    "nev = 10 # Get the first 10 modes\n",
    "output = mapdl.modal_analysis(\"DAMP\", nmode=nev)\n",
    "mapdl.finish()\n",
    "mm.free()\n",
    "k = mm.stiff(fname=f\"{mapdl.jobname}.full\")\n",
    "M = mm.mass(fname=f\"{mapdl.jobname}.full\")\n",
    "A = mm.mat(k.nrow, nev)\n",
    "ev = mm.eigs(nev, k, M, phi=A, fmin=1.0)\n",
    "for i in range(nev):\n",
    "    f = ev[i]  # Eigenfrequency (Hz)\n",
    "    print(f\"[{i}] : Freq = {f:8.2f} Hz\")"
   ]
  },
  {
   "cell_type": "markdown",
   "id": "d360b14f",
   "metadata": {},
   "source": [
    "Run Harmonic Analysis using Krylov method\n",
    "-----------------------------------------------------------------\n",
    "Step 1 : Generate Full File"
   ]
  },
  {
   "cell_type": "code",
   "execution_count": 10,
   "id": "63634b9f",
   "metadata": {},
   "outputs": [
    {
     "data": {
      "text/plain": [
       "FINISH SOLUTION PROCESSING\n",
       "\n",
       "\n",
       " ***** ROUTINE COMPLETED *****  CP =         4.422"
      ]
     },
     "execution_count": 10,
     "metadata": {},
     "output_type": "execute_result"
    }
   ],
   "source": [
    "# mapdl.run('/SOLU')\n",
    "mapdl.antype('HARMIC')  # HARMONIC ANALYSIS\n",
    "mapdl.hropt('KRYLOV')\n",
    "mapdl.eqslv('SPARSE')\n",
    "mapdl.harfrq(0,1000)   # Set beginning and ending frequency\n",
    "mapdl.nsubst(100)      # Set the number of frequency increments\n",
    "mapdl.wrfull(1)        # GENERATE .FULL FILE AND STOP\n",
    "output = mapdl.solve()\n",
    "mapdl.finish()"
   ]
  },
  {
   "cell_type": "markdown",
   "id": "895a3852",
   "metadata": {},
   "source": [
    "Initialize Krylov class object"
   ]
  },
  {
   "cell_type": "code",
   "execution_count": 11,
   "id": "da882ef2",
   "metadata": {},
   "outputs": [],
   "source": [
    "dd = mapdl.krylov"
   ]
  },
  {
   "cell_type": "markdown",
   "id": "e2a34ec7",
   "metadata": {},
   "source": [
    "Step 2 : Generate a Krylov subspace of size / Dimension 10 at frequency 500 Hz for model reduction"
   ]
  },
  {
   "cell_type": "code",
   "execution_count": 12,
   "id": "a5bdb418",
   "metadata": {},
   "outputs": [],
   "source": [
    "Qz = dd.krygensub(10, 500, True, True)"
   ]
  },
  {
   "cell_type": "code",
   "execution_count": 13,
   "id": "fdbda70c",
   "metadata": {},
   "outputs": [
    {
     "name": "stdout",
     "output_type": "stream",
     "text": [
      "(3240, 10)\n"
     ]
    }
   ],
   "source": [
    "# The shape of the Subspace generated\n",
    "print(Qz.shape)"
   ]
  },
  {
   "cell_type": "markdown",
   "id": "fce07ab0",
   "metadata": {},
   "source": [
    "Step 3 : Reduces system of equations and solve at each frequency\n",
    "Solve from 0 Hz to 1000 Hz with ramped loading"
   ]
  },
  {
   "cell_type": "code",
   "execution_count": 14,
   "id": "5241e768",
   "metadata": {},
   "outputs": [],
   "source": [
    "Yz = dd.krysolve(0, 1000, 100, 0, True)"
   ]
  },
  {
   "cell_type": "code",
   "execution_count": 15,
   "id": "ccd04ab1",
   "metadata": {},
   "outputs": [
    {
     "name": "stdout",
     "output_type": "stream",
     "text": [
      "(10, 100)\n"
     ]
    }
   ],
   "source": [
    "# Reduced solution over Frequency range\n",
    "print(Yz.shape)"
   ]
  },
  {
   "cell_type": "markdown",
   "id": "47685a8f",
   "metadata": {},
   "source": [
    "Step 4 : Expand reduced solution back to FE space"
   ]
  },
  {
   "cell_type": "code",
   "execution_count": 16,
   "id": "c219a569",
   "metadata": {},
   "outputs": [],
   "source": [
    "res = dd.kryexpand(True, 3)"
   ]
  },
  {
   "cell_type": "markdown",
   "id": "e596317e",
   "metadata": {},
   "source": [
    "Results : Pressure Distribution as a function of length\n",
    "-----------------------------------------------------------------------------"
   ]
  },
  {
   "cell_type": "code",
   "execution_count": 17,
   "id": "f89249cf",
   "metadata": {},
   "outputs": [],
   "source": [
    "# Select all nodes with Z and Y coordinate 0\n",
    "mapdl.nsel(\"S\", \"LOC\", \"Z\", 0)\n",
    "mapdl.nsel(\"R\", \"LOC\", \"Y\", 0)\n",
    "mapdl.cm(\"node_comp\", \"NODES\")\n",
    "comp = mapdl.cmsel(\"S\", \"node_comp\")\n",
    "nodes = mapdl.db.nodes\n",
    "ind, coords, angles = nodes.all_asarray()"
   ]
  },
  {
   "cell_type": "code",
   "execution_count": 20,
   "id": "390fd2ea",
   "metadata": {},
   "outputs": [],
   "source": [
    "# Load last substep results\n",
    "# Get Pressure for each of the selected nodes\n",
    "x_data = []\n",
    "y_data = []\n",
    "substep_index = 99\n",
    "for each_node, loc in zip(ind, coords):\n",
    "    index_num = np.where(res[substep_index]['node'] == each_node)\n",
    "    pressure = res[substep_index][index_num]['x'][0]\n",
    "    #Calculate amplitude at 60 deg\n",
    "    magnitude = abs(pressure)\n",
    "    phase = math.atan2(pressure.imag,pressure.real)\n",
    "    pressure_a = magnitude * np.cos(np.deg2rad(60)+phase)\n",
    "    x_data.append(loc[0])\n",
    "    y_data.append(pressure_a)"
   ]
  },
  {
   "cell_type": "code",
   "execution_count": 21,
   "id": "782f5c9c",
   "metadata": {},
   "outputs": [],
   "source": [
    "# Sort the results according to X-coord min to X-coord max\n",
    "sorted_x_data, sorted_y_data = zip(*sorted(zip(x_data, y_data)))"
   ]
  },
  {
   "cell_type": "code",
   "execution_count": 22,
   "id": "f615b53a",
   "metadata": {},
   "outputs": [
    {
     "data": {
      "image/png": "[encoded data removed]",
      "text/plain": [
       "<Figure size 432x288 with 1 Axes>"
      ]
     },
     "metadata": {
      "needs_background": "light"
     },
     "output_type": "display_data"
    }
   ],
   "source": [
    "# Plotting the curve\n",
    "plt.plot(sorted_x_data, sorted_y_data, linewidth= 3.0, color='b', label='Krylov method')\n",
    "  \n",
    "# Naming the x-axis, y-axis and the whole graph\n",
    "plt.title(\"Pressure Distribution as a function of length\")\n",
    "plt.xlabel(\"Length Coord\")\n",
    "plt.ylabel(\"Pressure\")\n",
    "  \n",
    "# Adding legend\n",
    "plt.legend()\n",
    "  \n",
    "# To load the display window\n",
    "plt.show()"
   ]
  },
  {
   "cell_type": "markdown",
   "id": "badc12a3",
   "metadata": {},
   "source": [
    "Results : Plot Frequency response Function\n",
    "---------------------------------------------------------------"
   ]
  },
  {
   "cell_type": "code",
   "execution_count": 23,
   "id": "6cbdce39",
   "metadata": {},
   "outputs": [
    {
     "data": {
      "image/png": "[encoded data removed]",
      "text/plain": [
       "<Figure size 432x288 with 1 Axes>"
      ]
     },
     "metadata": {
      "needs_background": "light"
     },
     "output_type": "display_data"
    }
   ],
   "source": [
    "# Pick node closest to 0.2 in X direction, Y&Z = 0\n",
    "node_number = mapdl.queries.node(0.2, 0, 0)\n",
    "\n",
    "# Get the response of the system for the selected node\n",
    "# over a range of frequency [0-1000 Hz]\n",
    "start_freq = 0\n",
    "end_freq = 1000\n",
    "num_steps = 100\n",
    "step_val = (end_freq - start_freq) / num_steps\n",
    "dic = {}\n",
    "for freq in range (0,num_steps):\n",
    "    index_num = np.where(res[freq]['node'] == node_number)\n",
    "    pressure = res[freq][index_num]['x']\n",
    "    abs_pressure = abs(pressure)\n",
    "    dic[start_freq] = abs_pressure\n",
    "    start_freq += step_val\n",
    "\n",
    "    \n",
    "frf_List = dic.items()\n",
    "frf_List = sorted(frf_List)\n",
    "frf_x, frf_y = zip(*frf_List) \n",
    "    \n",
    "# Plotting the curve    \n",
    "plt.plot(frf_x, frf_y, linewidth= 3.0, color='b')\n",
    "\n",
    "#Plot the natural frequency as vertical lines on the FRF graph\n",
    "for itr in range(0,6):\n",
    "    plt.axvline(x=ev[itr], ymin=0,ymax=2, color='r', linestyle='dotted', linewidth=1)\n",
    "    \n",
    "# Naming the x-axis, y-axis and the whole graph\n",
    "plt.title(\"Frequency Response Function\")\n",
    "plt.xlabel(\"Frequency (HZ)\")\n",
    "plt.ylabel(\"Pressure\")\n",
    "\n",
    "# To load the display window\n",
    "plt.show()\n"
   ]
  },
  {
   "cell_type": "code",
   "execution_count": null,
   "id": "f2075967",
   "metadata": {},
   "outputs": [],
   "source": []
  }
 ],
 "metadata": {
  "kernelspec": {
   "display_name": "Python 3 (ipykernel)",
   "language": "python",
   "name": "python3"
  },
  "language_info": {
   "codemirror_mode": {
    "name": "ipython",
    "version": 3
   },
   "file_extension": ".py",
   "mimetype": "text/x-python",
   "name": "python",
   "nbconvert_exporter": "python",
   "pygments_lexer": "ipython3",
   "version": "3.8.10"
  }
 },
 "nbformat": 4,
 "nbformat_minor": 5
}
