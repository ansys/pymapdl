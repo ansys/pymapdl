{
  "cells": [
    {
      "cell_type": "code",
      "execution_count": null,
      "metadata": {
        "collapsed": false
      },
      "outputs": [],
      "source": [
        "%matplotlib inline"
      ]
    },
    {
      "cell_type": "markdown",
      "metadata": {},
      "source": [
        "MAPDL 2D Plane Stress Concentration Analysis {#ref_plane_stress_concentration}\n============================================\n\nThis tutorial shows how you can use PyMAPDL to determine and verify the\n\\\"stress concentration factor\\\" when modeling using 2D plane elements\nand then verify this using 3D elements.\n\nFirst, start MAPDL as a service.\n"
      ]
    },
    {
      "cell_type": "code",
      "execution_count": null,
      "metadata": {
        "collapsed": false
      },
      "outputs": [],
      "source": [
        "# sphinx_gallery_thumbnail_number = 3\n\nimport matplotlib.pyplot as plt\nimport numpy as np\n\nfrom ansys.mapdl.core import launch_mapdl\n\nmapdl = launch_mapdl()"
      ]
    },
    {
      "cell_type": "markdown",
      "metadata": {},
      "source": [
        "Element Type and Material Properties\n====================================\n\nThis example will use PLANE183 elements as a thin plate can be modeled\nwith plane elements provided that KEYOPTION 3 is set to 3 and a\nthickness is provided.\n\nThis example will use SI units.\n"
      ]
    },
    {
      "cell_type": "code",
      "execution_count": null,
      "metadata": {
        "collapsed": false
      },
      "outputs": [],
      "source": [
        "mapdl.prep7()\nmapdl.units(\"SI\")  # SI - International system (m, kg, s, K).\n\n# define a PLANE183 element type with thickness\nmapdl.et(1, \"PLANE183\", kop3=3)\nmapdl.r(1, 0.001)  # thickness of 0.001 meters)\n\n# Define a material (nominal steel in SI)\nmapdl.mp(\"EX\", 1, 210e9)  # Elastic moduli in Pa (kg/(m*s**2))\nmapdl.mp(\"DENS\", 1, 7800)  # Density in kg/m3\nmapdl.mp(\"NUXY\", 1, 0.3)  # Poisson's Ratio\n\n# list currently defined material properties\nprint(mapdl.mplist())"
      ]
    },
    {
      "cell_type": "markdown",
      "metadata": {},
      "source": [
        "Geometry\n========\n\nCreate a rectangular area with the hole in the middle. To correctly\napproximate an infinite plate, the maximum stress must occur far away\nfrom the edges of the plate. A length to width factor can approximate\nthis.\n"
      ]
    },
    {
      "cell_type": "code",
      "execution_count": null,
      "metadata": {
        "collapsed": false
      },
      "outputs": [],
      "source": [
        "length = 0.4\nwidth = 0.1\n\nratio = 0.3  # diameter/width\ndiameter = width * ratio\nradius = diameter * 0.5\n\n\n# create the rectangle\nrect_anum = mapdl.blc4(width=length, height=width)\n\n# create a circle in the middle of the rectangle\ncirc_anum = mapdl.cyl4(length / 2, width / 2, radius)\n\n# Note how pymapdl parses the output and returns the area numbers\n# created by each command.  This can be used to execute a boolean\n# operation on these areas to cut the circle out of the rectangle.\nplate_with_hole_anum = mapdl.asba(rect_anum, circ_anum)\n\n# finally, plot the lines of the plate\n_ = mapdl.lplot(cpos=\"xy\", line_width=3, font_size=26, color_lines=True, background=\"w\")"
      ]
    },
    {
      "cell_type": "markdown",
      "metadata": {},
      "source": [
        "Meshing\n=======\n\nMesh the plate using a higher density near the hole and a lower density\nfor the remainder of the plate by setting `LESIZE` for the lines nearby\nthe hole and `ESIZE` for the mesh global size.\n\nLine numbers can be identified through inspection using `lplot`\n"
      ]
    },
    {
      "cell_type": "code",
      "execution_count": null,
      "metadata": {
        "collapsed": false
      },
      "outputs": [],
      "source": [
        "# ensure there are at 50 elements around the hole\nhole_esize = np.pi * diameter / 50  # 0.0002\nplate_esize = 0.01\n\n# increased the density of the mesh at the center\nmapdl.lsel(\"S\", \"LINE\", vmin=5, vmax=8)\nmapdl.lesize(\"ALL\", hole_esize, kforc=1)\nmapdl.lsel(\"ALL\")\n\n# Decrease the area mesh expansion.  This ensures that the mesh\n# remains fine nearby the hole\nmapdl.mopt(\"EXPND\", 0.7)  # default 1\n\nmapdl.esize(plate_esize)\nmapdl.amesh(plate_with_hole_anum)\n_ = mapdl.eplot(\n    vtk=True, cpos=\"xy\", show_edges=True, show_axes=False, line_width=2, background=\"w\"\n)"
      ]
    },
    {
      "cell_type": "markdown",
      "metadata": {},
      "source": [
        "Boundary Conditions\n===================\n\nFix the left-hand side of the plate in the X direction and set a force\nof 1 kN in the positive X direction.\n"
      ]
    },
    {
      "cell_type": "code",
      "execution_count": null,
      "metadata": {
        "collapsed": false
      },
      "outputs": [],
      "source": [
        "# Fix the left-hand side.\nmapdl.nsel(\"S\", \"LOC\", \"X\", 0)\nmapdl.d(\"ALL\", \"UX\")\n\n# Fix a single node on the left-hand side of the plate in the Y\n# direction.  Otherwise, the mesh would be allowed to move in the y\n# direction and would be an improperly constrained mesh.\nmapdl.nsel(\"R\", \"LOC\", \"Y\", width / 2)\nassert mapdl.mesh.n_node == 1\nmapdl.d(\"ALL\", \"UY\")\n\n# Apply a force on the right-hand side of the plate.  For this\n# example, we select the nodes at the right-most side of the plate.\nmapdl.nsel(\"S\", \"LOC\", \"X\", length)\n\n# Verify that only the nodes at length have been selected:\nassert np.allclose(mapdl.mesh.nodes[:, 0], length)\n\n# Next, couple the DOF for these nodes.  This lets us provide a force\n# to one node that will be spread throughout all nodes in this coupled\n# set.\nmapdl.cp(5, \"UX\", \"ALL\")\n\n# Select a single node in this set and apply a force to it\n# We use \"R\" to re-select from the current node group\nmapdl.nsel(\"R\", \"LOC\", \"Y\", width / 2)\nmapdl.f(\"ALL\", \"FX\", 1000)\n\n# finally, be sure to select all nodes again to solve the entire solution\n_ = mapdl.allsel()"
      ]
    },
    {
      "cell_type": "markdown",
      "metadata": {},
      "source": [
        "Solve the Static Problem\n========================\n\nSolve the static analysis\n"
      ]
    },
    {
      "cell_type": "code",
      "execution_count": null,
      "metadata": {
        "collapsed": false
      },
      "outputs": [],
      "source": [
        "mapdl.run(\"/SOLU\")\nmapdl.antype(\"STATIC\")\noutput = mapdl.solve()\nprint(output)"
      ]
    },
    {
      "cell_type": "markdown",
      "metadata": {},
      "source": [
        "Post-Processing\n===============\n\nThe static result can be post-processed both within MAPDL and outside of\nMAPDL using `pyansys`. This example shows how to extract the von Mises\nstress and plot it using the `pyansys` result reader.\n"
      ]
    },
    {
      "cell_type": "code",
      "execution_count": null,
      "metadata": {
        "collapsed": false
      },
      "outputs": [],
      "source": [
        "# grab the result from the ``mapdl`` instance\nresult = mapdl.result\nresult.plot_principal_nodal_stress(\n    0, \"SEQV\", lighting=False, cpos=\"xy\", background=\"w\", text_color=\"k\", add_text=False\n)\n\nnnum, stress = result.principal_nodal_stress(0)\nvon_mises = stress[:, -1]  # von-Mises stress is the right most column\n\n# Must use nanmax as stress is not computed at mid-side nodes\nmax_stress = np.nanmax(von_mises)"
      ]
    },
    {
      "cell_type": "markdown",
      "metadata": {},
      "source": [
        "Compute the Stress Concentration\n================================\n\nThe stress concentration $K_t$ is the ratio of the maximum stress at the\nhole to the far-field stress, or the mean cross sectional stress at a\npoint far from the hole. Analytically, this can be computed with:\n\n$\\sigma_{nom} = \\frac{F}{wt}$\n\nWhere\n\n-   $F$ is the force\n-   $w$ is the width of the plate\n-   $t$ is the thickness of the plate.\n\nExperimentally, this is computed by taking the mean of the nodes at the\nright-most side of the plate.\n"
      ]
    },
    {
      "cell_type": "code",
      "execution_count": null,
      "metadata": {
        "collapsed": false
      },
      "outputs": [],
      "source": [
        "# We use nanmean here because mid-side nodes have no stress\nmask = result.mesh.nodes[:, 0] == length\nfar_field_stress = np.nanmean(von_mises[mask])\nprint(\"Far field von mises stress: %e\" % far_field_stress)\n# Which almost exactly equals the analytical value of 10000000.0 Pa"
      ]
    },
    {
      "cell_type": "markdown",
      "metadata": {},
      "source": [
        "Since the expected nominal stress across the cross section of the hole\nwill increase as the size of the hole increases, regardless of the\nstress concentration, the stress must be adjusted to arrive at the\ncorrect stress. This stress is adjusted by the ratio of the width over\nthe modified cross section width.\n"
      ]
    },
    {
      "cell_type": "code",
      "execution_count": null,
      "metadata": {
        "collapsed": false
      },
      "outputs": [],
      "source": [
        "adj = width / (width - diameter)\nstress_adj = far_field_stress * adj\n\n# The stress concentration is then simply the maximum stress divided\n# by the adjusted far-field stress.\nstress_con = max_stress / stress_adj\nprint(\"Stress Concentration: %.2f\" % stress_con)"
      ]
    },
    {
      "cell_type": "markdown",
      "metadata": {},
      "source": [
        "Batch Analysis\n==============\n\nThe above script can be placed within a function to compute the stress\nconcentration for a variety of hole diameters. For each batch, MAPDL is\nreset and the geometry is generated from scratch.\n"
      ]
    },
    {
      "cell_type": "code",
      "execution_count": null,
      "metadata": {
        "collapsed": false
      },
      "outputs": [],
      "source": [
        "def compute_stress_con(ratio):\n    \"\"\"Compute the stress concentration for plate with a hole loaded\n    with a uniaxial force.\n    \"\"\"\n    mapdl.clear(\"NOSTART\")\n    mapdl.prep7()\n    mapdl.units(\"SI\")  # SI - International system (m, kg, s, K).\n\n    # define a PLANE183 element type with thickness\n    mapdl.et(1, \"PLANE183\", kop3=3)\n    mapdl.r(1, 0.001)  # thickness of 0.001 meters)\n\n    # Define a material (nominal steel in SI)\n    mapdl.mp(\"EX\", 1, 210e9)  # Elastic moduli in Pa (kg/(m*s**2))\n    mapdl.mp(\"DENS\", 1, 7800)  # Density in kg/m3\n    mapdl.mp(\"NUXY\", 1, 0.3)  # Poisson's Ratio\n    mapdl.emodif(\"ALL\", \"MAT\", 1)\n\n    # Geometry\n    # ~~~~~~~~\n    # Create a rectangular area with the hole in the middle\n    diameter = width * ratio\n    radius = diameter * 0.5\n\n    # create the rectangle\n    rect_anum = mapdl.blc4(width=length, height=width)\n\n    # create a circle in the middle of the rectangle\n    circ_anum = mapdl.cyl4(length / 2, width / 2, radius)\n\n    # Note how pyansys parses the output and returns the area numbers\n    # created by each command.  This can be used to execute a boolean\n    # operation on these areas to cut the circle out of the rectangle.\n    plate_with_hole_anum = mapdl.asba(rect_anum, circ_anum)\n\n    # Meshing\n    # ~~~~~~~\n    # Mesh the plate using a higher density near the hole and a lower\n    # density for the remainder of the plate\n\n    mapdl.aclear(\"all\")\n\n    # ensure there are at least 100 elements around the hole\n    hole_esize = np.pi * diameter / 100  # 0.0002\n    plate_esize = 0.01\n\n    # increased the density of the mesh at the center\n    mapdl.lsel(\"S\", \"LINE\", vmin=5, vmax=8)\n    mapdl.lesize(\"ALL\", hole_esize, kforc=1)\n    mapdl.lsel(\"ALL\")\n\n    # Decrease the area mesh expansion.  This ensures that the mesh\n    # remains fine nearby the hole\n    mapdl.mopt(\"EXPND\", 0.7)  # default 1\n\n    mapdl.esize(plate_esize)\n    mapdl.amesh(plate_with_hole_anum)\n\n    ###############################################################################\n    # Boundary Conditions\n    # ~~~~~~~~~~~~~~~~~~~\n    # Fix the left-hand side of the plate in the X direction\n    mapdl.nsel(\"S\", \"LOC\", \"X\", 0)\n    mapdl.d(\"ALL\", \"UX\")\n\n    # Fix a single node on the left-hand side of the plate in the Y direction\n    mapdl.nsel(\"R\", \"LOC\", \"Y\", width / 2)\n    assert mapdl.mesh.n_node == 1\n    mapdl.d(\"ALL\", \"UY\")\n\n    # Apply a force on the right-hand side of the plate.  For this\n    # example, we select the right-hand side of the plate.\n    mapdl.nsel(\"S\", \"LOC\", \"X\", length)\n\n    # Next, couple the DOF for these nodes\n    mapdl.cp(5, \"UX\", \"ALL\")\n\n    # Again, select a single node in this set and apply a force to it\n    mapdl.nsel(\"r\", \"loc\", \"y\", width / 2)\n    mapdl.f(\"ALL\", \"FX\", 1000)\n\n    # finally, be sure to select all nodes again to solve the entire solution\n    mapdl.allsel()\n\n    # Solve the Static Problem\n    # ~~~~~~~~~~~~~~~~~~~~~~~~\n    mapdl.run(\"/SOLU\")\n    mapdl.antype(\"STATIC\")\n    mapdl.solve()\n\n    # Post-Processing\n    # ~~~~~~~~~~~~~~~\n    # grab the stress from the result\n    result = mapdl.result\n    nnum, stress = result.principal_nodal_stress(0)\n    von_mises = stress[:, -1]\n    max_stress = np.nanmax(von_mises)\n\n    # compare to the \"far field\" stress by getting the mean value of the\n    # stress at the wall\n    mask = result.mesh.nodes[:, 0] == length\n    far_field_stress = np.nanmean(von_mises[mask])\n\n    # adjust by the cross sectional area at the hole\n    adj = width / (width - diameter)\n    stress_adj = far_field_stress * adj\n\n    # finally, compute the stress concentration\n    return max_stress / stress_adj"
      ]
    },
    {
      "cell_type": "markdown",
      "metadata": {},
      "source": [
        "Run the batch and record the stress concentration\n"
      ]
    },
    {
      "cell_type": "code",
      "execution_count": null,
      "metadata": {
        "collapsed": false
      },
      "outputs": [],
      "source": [
        "k_t_exp = []\nratios = np.linspace(0.01, 0.5, 15)\nprint(\"    Ratio  : Stress Concentration (K_t)\")\nfor ratio in ratios:\n    stress_con = compute_stress_con(ratio)\n    print(\"%10.4f : %10.4f\" % (ratio, stress_con))\n    k_t_exp.append(stress_con)"
      ]
    },
    {
      "cell_type": "markdown",
      "metadata": {},
      "source": [
        "Analytical Comparison\n=====================\n\nStress concentrations are often obtained by referencing tablular results\nor polynominal fits for a variety of geometries. According to\nPeterson\\'s Stress Concentration Factors (ISBN 0470048247), the\nanalytical equation for a hole in a thin plate in uniaxial tension:\n\n$k_t = 3 - 3.14\\frac{d}{h} + 3.667\\left(\\frac{d}{h}\\right)^2 - 1.527\\left(\\frac{d}{h}\\right)^3$\n\nWhere:\n\n-   $k_t$ is the stress concentration\n-   $d$ is the diameter of the circle\n-   $h$ is the height of the plate\n\nAs shown in the following plot, ANSYS matches the known tabular result\nfor this geometry remarkably well using PLANE183 elements. The fit to\nthe results may vary depending on the ratio between the height and width\nof the plate.\n"
      ]
    },
    {
      "cell_type": "code",
      "execution_count": null,
      "metadata": {
        "collapsed": false
      },
      "outputs": [],
      "source": [
        "# where ratio is (d/h)\nk_t_anl = 3 - 3.14 * ratios + 3.667 * ratios**2 - 1.527 * ratios**3\n\nplt.plot(ratios, k_t_anl, label=r\"$K_t$ Analytical\")\nplt.plot(ratios, k_t_exp, label=r\"$K_t$ ANSYS\")\nplt.legend()\nplt.xlabel(\"Ratio of Hole Diameter to Width of Plate\")\nplt.ylabel(\"Stress Concentration\")\nplt.show()"
      ]
    },
    {
      "cell_type": "markdown",
      "metadata": {},
      "source": [
        "stop mapdl\n"
      ]
    },
    {
      "cell_type": "code",
      "execution_count": null,
      "metadata": {
        "collapsed": false
      },
      "outputs": [],
      "source": [
        "mapdl.exit()"
      ]
    }
  ],
  "metadata": {
    "kernelspec": {
      "display_name": "Python 3",
      "language": "python",
      "name": "python3"
    },
    "language_info": {
      "codemirror_mode": {
        "name": "ipython",
        "version": 3
      },
      "file_extension": ".py",
      "mimetype": "text/x-python",
      "name": "python",
      "nbconvert_exporter": "python",
      "pygments_lexer": "ipython3",
      "version": "3.8.14"
    }
  },
  "nbformat": 4,
  "nbformat_minor": 0
}