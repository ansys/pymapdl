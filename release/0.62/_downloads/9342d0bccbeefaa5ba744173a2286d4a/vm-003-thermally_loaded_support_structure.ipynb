{
  "cells": [
    {
      "cell_type": "code",
      "execution_count": null,
      "metadata": {
        "collapsed": false
      },
      "outputs": [],
      "source": [
        "%matplotlib inline"
      ]
    },
    {
      "cell_type": "markdown",
      "metadata": {},
      "source": [
        "Thermally Loaded Support Structure {#ref_thermally_loaded_support_structure}\n==================================\n\nProblem Description:\n\n:   -   Find the stresses in the copper and steel wire structure shown\n        below. The wires have a cross-sectional area of\n        math:[A]{.title-ref}. The structure is subjected to a load\n        math:[Q]{.title-ref} and a temperature rise of math:[Delta\n        T]{.title-ref} after assembly.\n\nReference:\n\n:   -   S. Timoshenko, Strength of Materials, Part I, Elementary Theory\n        and Problems, 3rd Edition, D. Van Nostrand Co., Inc., New York,\n        NY, 1955, pg. 30, problem 9.\n\nAnalysis Type(s):\n\n:   -   Static Analysis `ANTYPE=0`\n\nElement Type(s):\n\n:   -   3-D Spar (or Truss) Elements (LINK180)\n\n![VM3 Problem Sketch](../../../_static/vm3_setup.png){width=\"400px\"}\n\nMaterial Properties\n\n:   -   $E_c = 16 \\cdot 10^6 psi$\n    -   $E_s = 30 \\cdot 10^6 psi$\n    -   $\\alpha_c = 70 \\cdot 10^{-7} in/in-^\\circ F$\n    -   $\\alpha_s = 92 \\cdot 10^{-7} in/in-^\\circ F$\n\nGeometric Properties:\n\n:   -   $A = 0.1 in^2$\n\nLoading:\n\n:   -   $Q = 4000 lb$\n    -   $\\Delta T = 10 ^\\circ F$\n\nAnalytical Equations:\n\n:   -   The compressive force $X$ is given by the following equation\n    -   $X = \\frac{\\Delta T (\\alpha_c - \\alpha_s) (A_s - E_s) }{1 + \\frac{1 E_s A_s}{2 E_c A_c}} + \\frac{Q}{1 + \\frac{2 E_c A_c}{E_s A_s}}$\n\nNotes:\n\n:   -   Length of wires (20 in.), spacing between wires (10 in.), and\n        the reference temperature (70\u00b0F) are arbitrarily selected. The\n        rigid lower beam is modeled by nodal coupling.\n"
      ]
    },
    {
      "cell_type": "code",
      "execution_count": null,
      "metadata": {
        "collapsed": false
      },
      "outputs": [],
      "source": [
        "# sphinx_gallery_thumbnail_path = '_static/vm3_setup.png'\n\nfrom ansys.mapdl.core import launch_mapdl\n\n# start mapdl and clear it\nmapdl = launch_mapdl()\nmapdl.clear()  # optional as MAPDL just started\n\n# enter verification example mode and the pre-processing routine\nmapdl.verify()\nmapdl.prep7()"
      ]
    },
    {
      "cell_type": "markdown",
      "metadata": {},
      "source": [
        "Define Material\n===============\n\nSet up the materials and their properties. We are using copper and steel\nhere. - [EX]{.title-ref} - X-direction elastic modulus -\n[ALPX]{.title-ref} - Secant x - coefficient of thermal expansion\n"
      ]
    },
    {
      "cell_type": "code",
      "execution_count": null,
      "metadata": {
        "collapsed": false
      },
      "outputs": [],
      "source": [
        "mapdl.antype(\"STATIC\")\nmapdl.et(1, \"LINK180\")\nmapdl.sectype(1, \"LINK\")\nmapdl.secdata(0.1)\nmapdl.mp(\"EX\", 1, 16e6)\nmapdl.mp(\"ALPX\", 1, 92e-7)\nmapdl.mp(\"EX\", 2, 30e6)\nmapdl.mp(\"ALPX\", 2, 70e-7)\n# Define the reference temperature for the thermal strain calculations.\nmapdl.tref(70)"
      ]
    },
    {
      "cell_type": "markdown",
      "metadata": {},
      "source": [
        "Define Geometry: Nodes\n======================\n\nSet up the nodes and elements. This creates a mesh just like in the\nproblem setup. We create a square of nodes and use [fill]{.title-ref} to\nadd mid-point nodes to two opposite sides.\n"
      ]
    },
    {
      "cell_type": "code",
      "execution_count": null,
      "metadata": {
        "collapsed": false
      },
      "outputs": [],
      "source": [
        "mapdl.n(1, -10)\nmapdl.n(3, 10)\nmapdl.fill()\nmapdl.n(4, -10, -20)\nmapdl.n(6, 10, -20)\nmapdl.fill()\nmapdl.nplot(nnum=True, cpos=\"xy\")"
      ]
    },
    {
      "cell_type": "markdown",
      "metadata": {},
      "source": [
        "Define Geometry: Elements\n=========================\n\nCreate two elements (using material \\#1) that are two sides of our\nsquare, as links. Then create a single element using material \\#2\nbetween the first 2 that is parallel to them.\n"
      ]
    },
    {
      "cell_type": "code",
      "execution_count": null,
      "metadata": {
        "collapsed": false
      },
      "outputs": [],
      "source": [
        "mapdl.e(1, 4)\nmapdl.e(3, 6)\nmapdl.mat(2)\nmapdl.e(2, 5)\nmapdl.eplot(show_node_numbering=True, cpos=\"xy\")"
      ]
    },
    {
      "cell_type": "markdown",
      "metadata": {},
      "source": [
        "Define Boundary Conditions\n==========================\n\n-   Couple the degrees of freedom in y-displacement across nodes 5, 4,\n    and 6.\n-   Fix nodes 1, 2, and 3 in place.\n-   Apply a force of -4000 in the y-direction to node 5\n-   Apply a uniform temperature of 80 to the whole body\n-   Finally, exit the post-processor.\n"
      ]
    },
    {
      "cell_type": "code",
      "execution_count": null,
      "metadata": {
        "collapsed": false
      },
      "outputs": [],
      "source": [
        "mapdl.cp(1, \"UY\", 5, 4, 6)\nmapdl.d(1, \"ALL\", \"\", \"\", 3)\nmapdl.f(5, \"FY\", -4000)\nmapdl.bfunif(\"TEMP\", 80)\nmapdl.finish()"
      ]
    },
    {
      "cell_type": "markdown",
      "metadata": {},
      "source": [
        "Solve\n=====\n\n-   Enter solution mode\n-   Specify a timestep of 1 to be used for this load step\n-   Solve the system.\n"
      ]
    },
    {
      "cell_type": "code",
      "execution_count": null,
      "metadata": {
        "collapsed": false
      },
      "outputs": [],
      "source": [
        "mapdl.run(\"/SOLU\")\nmapdl.nsubst(1)\nmapdl.solve()"
      ]
    },
    {
      "cell_type": "markdown",
      "metadata": {},
      "source": [
        "Post-processing\n===============\n\n-   Access the queries functions\n-   Find a steel node and a copper node\n-   Then use these to get the steel and copper elements\n-   Finally extract the stress experienced by each element\n"
      ]
    },
    {
      "cell_type": "code",
      "execution_count": null,
      "metadata": {
        "collapsed": false
      },
      "outputs": [],
      "source": [
        "mapdl.post1()\nq = mapdl.queries\nsteel_n = q.node(0, 0, 0)\ncopper_n = q.node(10, 0, 0)\nsteel_e = q.enearn(steel_n)\ncopper_e = q.enearn(copper_n)\nmapdl.etable(\"STRS_ST\", \"LS\", 1)\nmapdl.etable(\"STRS_CO\", \"LS\", 1)\n\nstress_steel = mapdl.get(\"_\", \"ELEM\", steel_e, \"ETAB\", \"STRS_ST\")\nstress_copper = mapdl.get(\"_\", \"ELEM\", copper_e, \"ETAB\", \"STRS_CO\")"
      ]
    },
    {
      "cell_type": "markdown",
      "metadata": {},
      "source": [
        "Check Results\n=============\n\nNow that we have the response we can compare the values to the expected\nstresses of 19695 and 10152 respectively.\n"
      ]
    },
    {
      "cell_type": "code",
      "execution_count": null,
      "metadata": {
        "collapsed": false
      },
      "outputs": [],
      "source": [
        "steel_target = 19695\nsteel_ratio = stress_steel / steel_target\ncopper_target = 10152\ncopper_ratio = stress_copper / copper_target\n\nmessage = f\"\"\"\n------------------- VM3 RESULTS COMPARISON ---------------------\n\n             |   TARGET   |   Mechanical APDL   |   RATIO\n----------------------------------------------------------------\n    Steel        {steel_target}        {stress_steel}            {steel_ratio:.6f}\n    Copper       {copper_target}        {stress_copper}            {copper_ratio:.6f}\n\n----------------------------------------------------------------\n\n\"\"\"\nprint(message)"
      ]
    },
    {
      "cell_type": "markdown",
      "metadata": {},
      "source": [
        "stop mapdl\n"
      ]
    },
    {
      "cell_type": "code",
      "execution_count": null,
      "metadata": {
        "collapsed": false
      },
      "outputs": [],
      "source": [
        "mapdl.exit()"
      ]
    }
  ],
  "metadata": {
    "kernelspec": {
      "display_name": "Python 3",
      "language": "python",
      "name": "python3"
    },
    "language_info": {
      "codemirror_mode": {
        "name": "ipython",
        "version": 3
      },
      "file_extension": ".py",
      "mimetype": "text/x-python",
      "name": "python",
      "nbconvert_exporter": "python",
      "pygments_lexer": "ipython3",
      "version": "3.8.14"
    }
  },
  "nbformat": 4,
  "nbformat_minor": 0
}