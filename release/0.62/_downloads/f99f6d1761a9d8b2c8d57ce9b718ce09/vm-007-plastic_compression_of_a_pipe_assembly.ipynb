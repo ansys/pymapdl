{
  "cells": [
    {
      "cell_type": "code",
      "execution_count": null,
      "metadata": {
        "collapsed": false
      },
      "outputs": [],
      "source": [
        "%matplotlib inline"
      ]
    },
    {
      "cell_type": "markdown",
      "metadata": {},
      "source": [
        "Plastic Compression of a Pipe Assembly {#ref_vm7_example}\n======================================\n\nProblem Description:\n\n:   -   Two coaxial tubes, the inner one of 1020 CR steel and\n        cross-sectional area $A_{\\mathrm{s}}$, and the outer one of\n        2024-T4 aluminum alloy and of area $A_{\\mathrm{a}}$, are\n        compressed between heavy, flat end plates, as shown below.\n        Determine the load-deflection curve of the assembly as it is\n        compressed into the plastic region by an axial displacement.\n        Assume that the end plates are so stiff that both tubes are\n        shortened by exactly the same amount.\n\nReference:\n\n:   -   S. H. Crandall, N. C. Dahl, An Introduction to the Mechanics of\n        Solids, McGraw-Hill Book Co., Inc., New York, NY, 1959, pg. 180,\n        ex. 5.1.\n\nAnalysis Type(s):\n\n:   -   Static, Plastic Analysis (`ANTYPE=0`)\n\nElement Type(s):\n\n:   -   Plastic Straight Pipe Element (PIPE288)\n    -   4-Node Finite Strain Shell (SHELL181)\n    -   3-D Structural Solid Elements (SOLID185)\n\n![VM7 Finite Element Models](../../../_static/vm7_setup_2.png){width=\"400px\"}\n\nMaterial Properties\n\n:   -   $E_{\\mathrm{s}} = 26875000\\,psi$\n    -   $\\sigma_{\\mathrm{(yp)s}} = 86000\\,psi$\n    -   $E_{\\mathrm{a}} = 11000000\\,psi$\n    -   $\\sigma_{\\mathrm{(yp)a}} = 55000\\,psi$\n    -   $\\nu = 0.3$\n\n![VM7 Material Model](../../../_static/vm7_setup_1.png){width=\"300px\"}\n\nGeometric Properties:\n\n:   -   $l = 10\\,in$\n    -   $A_{\\mathrm{s}} = 7\\,in^2$\n    -   $A_{\\mathrm{a}} = 12\\,in^2$\n\nLoading:\n\n:   -   1st Load Step: $\\delta = 0.032\\,in$\n    -   2nd Load Step: $\\delta = 0.050\\,in$\n    -   3rd Load Step: $\\delta = 0.100\\,in$\n\n![VM7 Problem Sketch](../../../_static/vm7_setup.png){width=\"300px\"}\n\nAnalysis Assumptions and Modeling Notes:\n\n:   -   The following tube dimensions, which provide the desired\n        cross-sectional areas, are arbitrarily chosen:\n        -   Inner (steel) tube: inside radius = 1.9781692 in., wall\n            thickness = 0.5 in.\n        -   Outer (aluminum) tube: inside radius = 3.5697185 in., wall\n            thickness = 0.5 in.\n    -   The problem can be solved in three ways:\n        -   using `PIPE288` - the plastic straight pipe element\n        -   using `SOLID185` - the 3-D structural solid element\n        -   using `SHELL181` - the 4-Node Finite Strain Shell\n    -   In the SOLID185 and SHELL181 cases, since the problem is\n        axisymmetric, only a one element $\\theta$ -sector is modeled. A\n        small angle $\\theta = 6\u00b0$ is arbitrarily chosen to reasonably\n        approximate the circular boundary with straight sided elements.\n        The nodes at the boundaries have the `UX` (radial) degree of\n        freedom coupled. In the SHELL181 model, the nodes at the\n        boundaries additionally have the `ROTY` degree of freedom\n        coupled.\n"
      ]
    },
    {
      "cell_type": "markdown",
      "metadata": {},
      "source": [
        "Start MAPDL\n===========\n\nStart MAPDL and import Numpy and Pandas libraries.\n"
      ]
    },
    {
      "cell_type": "code",
      "execution_count": null,
      "metadata": {
        "collapsed": false
      },
      "outputs": [],
      "source": [
        "# sphinx_gallery_thumbnail_path = '_static/vm7_setup.png'\n\nimport matplotlib.pyplot as plt\nimport numpy as np\nimport pandas as pd\n\nfrom ansys.mapdl.core import launch_mapdl\n\n# Start MAPDL.\nmapdl = launch_mapdl()"
      ]
    },
    {
      "cell_type": "markdown",
      "metadata": {},
      "source": [
        "Pre-Processing\n==============\n\nEnter verification example mode and the pre-processing routine.\n"
      ]
    },
    {
      "cell_type": "code",
      "execution_count": null,
      "metadata": {
        "collapsed": false
      },
      "outputs": [],
      "source": [
        "mapdl.clear()\nmapdl.verify()\n_ = mapdl.prep7()"
      ]
    },
    {
      "cell_type": "markdown",
      "metadata": {},
      "source": [
        "Parameterization\n================\n"
      ]
    },
    {
      "cell_type": "code",
      "execution_count": null,
      "metadata": {
        "collapsed": false
      },
      "outputs": [],
      "source": [
        "# Angle of the model sector.\ntheta = 6\n\n# Deflection load steps.\ndefl_ls1 = -0.032\ndefl_ls2 = -0.05\ndefl_ls3 = -0.1"
      ]
    },
    {
      "cell_type": "markdown",
      "metadata": {},
      "source": [
        "Define Element Type\n===================\n\nSet up the element types .\n"
      ]
    },
    {
      "cell_type": "code",
      "execution_count": null,
      "metadata": {
        "collapsed": false
      },
      "outputs": [],
      "source": [
        "# Element type PIPE288.\nmapdl.et(1, \"PIPE288\")\n\n# Special Features are defined by keyoptions of pipe element.\n# KEYOPT(4)(2)\n# Hoop strain treatment:\n# Thick pipe theory.\nmapdl.keyopt(1, 4, 2)  # Cubic shape function\n\n# Element type SOLID185.\nmapdl.et(2, \"SOLID185\")\n\n# Element type SHELL181.\nmapdl.et(3, \"SHELL181\")  # FULL INTEGRATION\n\n# Special Features are defined by keyoptions of shell element.\n# KEYOPT(3)(2)\n# Integration option:\n# Full integration with incompatible modes.\nmapdl.keyopt(3, 3, 2)\n\n# Print\nprint(mapdl.etlist())"
      ]
    },
    {
      "cell_type": "markdown",
      "metadata": {},
      "source": [
        "Define Material\n===============\n\nSet up the material properties.\n\n-   Young Modulus of steel is: $E_{\\mathrm{s}} = 26875000\\,psi$,\n-   Yield strength of steel is: $\\sigma_{\\mathrm{(yp)s}} = 86000\\, psi$,\n-   Young Modulus of aluminum is: $E_{\\mathrm{a}} = 11000000\\,psi$,\n-   Yield strength of aluminum is:\n    $\\sigma_{\\mathrm{(yp)a}} = 55000\\,psi$,\n-   Poisson\\'s ratio is: $\\nu = 0.3$\n"
      ]
    },
    {
      "cell_type": "code",
      "execution_count": null,
      "metadata": {
        "collapsed": false
      },
      "outputs": [],
      "source": [
        "# Steel material model.\n# Define Young's moulus and Poisson ratio for Steel.\nmapdl.mp(\"EX\", 1, 26.875e6)\nmapdl.mp(\"PRXY\", 1, 0.3)\n\n# Define non-linear material properties for Steel.\nmapdl.tb(\"BKIN\", 1, 1)\nmapdl.tbtemp(0)\nmapdl.tbdata(1, 86000, 0)\n\n# Aluminum material model.\n# Define Young's moulus and Poisson ratio for Aluminum.\nmapdl.mp(\"EX\", 2, 11e6)\nmapdl.mp(\"PRXY\", 2, 0.3)\n\n# Define non-linear material properties for Aluminum.\nmapdl.tb(\"BKIN\", 2, 1)\nmapdl.tbtemp(0)\nmapdl.tbdata(1, 55000, 0)\n\n# Print\nprint(mapdl.mplist())"
      ]
    },
    {
      "cell_type": "markdown",
      "metadata": {},
      "source": [
        "Plot Stress - Strain Curve\n==========================\n\nUse Matplotlib library to plot material model curves of steel and\naluminum.\n"
      ]
    },
    {
      "cell_type": "code",
      "execution_count": null,
      "metadata": {
        "collapsed": false
      },
      "outputs": [],
      "source": [
        "# Define stress - strain properties of the steel.\nsteel = {\"stress_s\": [0, 86000, 86000, 86000], \"strain_s\": [0, 0.032, 0.1, 0.2]}\n\n# Define yielding strength point of the steel on the curve.\nxp = steel[\"strain_s\"][1]\nyp = steel[\"stress_s\"][1]\n\n# Set up the settings of the steel curve.\nplt.plot(\n    steel[\"strain_s\"],\n    steel[\"stress_s\"],\n    label=\"1020 CR STEEL\",\n    linewidth=2,\n    color=\"steelblue\",\n    linestyle=\"-\",\n    marker=\"o\",\n)\nplt.plot(xp, yp, marker=\"o\")\n\n# Annotation settings\nplt.annotate(\n    r\"${(\\sigma_{yp})_s}$\",\n    xy=(xp, yp),\n    xytext=(0.05, 75000),\n    arrowprops=dict(facecolor=\"steelblue\", shrink=0.05),\n    bbox=dict(facecolor=\"steelblue\", edgecolor=\"black\", boxstyle=\"round, pad=1\"),\n)\n\n# Define stress - strain properties of the aluminum.\naluminum = {\"stress_a\": [0, 55000, 55000, 55000], \"strain_a\": [0, 0.05, 0.1, 0.2]}\n\n# Define yielding strength point of the Aluminum on the curve.\nxp = aluminum[\"strain_a\"][1]\nyp = aluminum[\"stress_a\"][1]\n\n# Set up the settings of the aluminum curve.\nplt.plot(\n    aluminum[\"strain_a\"],\n    aluminum[\"stress_a\"],\n    label=\"2024-T4 Aluminum\",\n    linewidth=2,\n    color=\"sandybrown\",\n    linestyle=\"-\",\n    marker=\"o\",\n)\nplt.plot(xp, yp, marker=\"o\")\n\n# Annotation settings\nplt.annotate(\n    r\"${(\\sigma_{yp})_a}$\",\n    xy=(xp, yp),\n    xytext=(0.07, 45000),\n    arrowprops=dict(facecolor=\"sandybrown\", shrink=0.05),\n    bbox=dict(facecolor=\"sandybrown\", edgecolor=\"black\", boxstyle=\"round, pad=1\"),\n)\n\nplt.grid(True)\nplt.legend()\nplt.title(\"Stress - Strain Curve\", fontsize=18)\nplt.show()"
      ]
    },
    {
      "cell_type": "markdown",
      "metadata": {},
      "source": [
        "Define Section\n==============\n\nSet up the cross-section properties for a shell and pipe elements.\n"
      ]
    },
    {
      "cell_type": "code",
      "execution_count": null,
      "metadata": {
        "collapsed": false
      },
      "outputs": [],
      "source": [
        "# Shell cross-section for inside tube(steel).\nmapdl.sectype(1, \"SHELL\")\n\n# Thickness (SHELL181)\nmapdl.secdata(0.5, 1, 0, 5)\n\n# Shell cross-section for outside tube(aluminum).\nmapdl.sectype(2, \"SHELL\")\n\n# Thickness (SHELL181)\nmapdl.secdata(0.5, 2, 0, 5)\n\n# Define Pipe cross-section for inside tube(steel).\nmapdl.sectype(3, \"PIPE\")\n\n# Outside diameter and wall thickness settings for inside tube(PIPE288).\nmapdl.secdata(4.9563384, 0.5)\n\n# Pipe cross-section for outside tube(aluminum) .\nmapdl.sectype(4, \"PIPE\")\n\n# Outside diameter and wall thickness settings for outside tube (PIPE288).\nmapdl.secdata(8.139437, 0.5)\n\n# Print the section properties for all sections.\nprint(mapdl.slist())"
      ]
    },
    {
      "cell_type": "markdown",
      "metadata": {},
      "source": [
        "Define Geometry\n===============\n\nSet up the nodes and create the elements through the nodes.\n"
      ]
    },
    {
      "cell_type": "code",
      "execution_count": null,
      "metadata": {
        "collapsed": false
      },
      "outputs": [],
      "source": [
        "# Generate nodes and elements for PIPE288.\nmapdl.n(1, x=0, y=0, z=0)\nmapdl.n(2, x=0, y=0, z=10)\n\n# Create element for steel(inside) tube cross-section.\nmapdl.mat(1)\nmapdl.secnum(3)\nmapdl.e(1, 2)\n\n# Create element for aluminum(outside) tube cross-section.\nmapdl.mat(2)\nmapdl.secnum(4)\nmapdl.e(1, 2)\n\n# Activate the global cylindrical coordinate system.\nmapdl.csys(1)\n\n# Generate nodes and elements for SOLID185.\nmapdl.n(node=101, x=1.9781692)\nmapdl.n(node=101, x=1.9781692)\nmapdl.n(node=102, x=2.4781692)\nmapdl.n(node=103, x=3.5697185)\nmapdl.n(node=104, x=4.0697185)\nmapdl.n(node=105, x=1.9781692, z=10)\nmapdl.n(node=106, x=2.4781692, z=10)\nmapdl.n(node=107, x=3.5697185, z=10)\nmapdl.n(node=108, x=4.0697185, z=10)\n\n# Generate 2nd set of nodes to form a theta degree slice.\nmapdl.ngen(itime=2, inc=10, node1=101, node2=108, dy=theta)\n\n# Rotate nodal coordinate systems into the active system.\nmapdl.nrotat(node1=101, node2=118, ninc=1)\n\n# Create elements for Inside (Steel) tube.\nmapdl.type(2)\nmapdl.mat(1)\nmapdl.e(101, 102, 112, 111, 105, 106, 116, 115)\n\n# Create elements for Outside (Aluminum) tube\nmapdl.mat(2)\nmapdl.e(103, 104, 114, 113, 107, 108, 118, 117)\n\n# Generate nodes.\nmapdl.n(node=201, x=2.2281692)\nmapdl.n(node=203, x=2.2281692, z=10)\nmapdl.n(node=202, x=3.8197185)\nmapdl.n(node=204, x=3.8197185, z=10)\n\n# Generate nodes to form a theta degree slice\nmapdl.ngen(itime=2, inc=4, node1=201, node2=204, dy=theta)\n\n# Create element for Steel(Inside) tube cross-section.\nmapdl.type(3)\nmapdl.secnum(1)\nmapdl.e(203, 201, 205, 207)\n\n# Create element for Aluminum(Outside) tube cross-section.\nmapdl.secnum(2)\nmapdl.e(204, 202, 206, 208)\n\n# Plot element model to demonstrate the axisymmetric element model.\ncpos = [\n    (19.67899462804619, 17.856836088414664, 22.644135378046194),\n    (2.03485925, 0.21270071036846988, 5.0),\n    (0.0, 0.0, 1.0),\n]\n_ = mapdl.eplot(cpos=cpos)"
      ]
    },
    {
      "cell_type": "markdown",
      "metadata": {},
      "source": [
        "Define Boundary Conditions\n==========================\n\nApplication of boundary conditions (BC) for simplified axisymmetric\nmodel.\n"
      ]
    },
    {
      "cell_type": "code",
      "execution_count": null,
      "metadata": {
        "collapsed": false
      },
      "outputs": [],
      "source": [
        "# Apply constraints to the PIPE288 model.\n# Fix all DOFs for bottom end of PIPE288.\nmapdl.d(node=1, lab=\"ALL\")\n\n# Allow only UZ DOF at top end of the PIPE288.\nmapdl.d(node=2, lab=\"UX\", lab2=\"UY\", lab3=\"ROTX\", lab4=\"ROTY\", lab5=\"ROTZ\")\n\n# Apply constraints to SOLID185 and SHELL181 models\"\n# Couple nodes at boundary in RADIAL direction for SOLID185.\nmapdl.cp(nset=1, lab=\"UX\", node1=101, node2=111, node3=105, node4=115)\nmapdl.cpsgen(itime=4, nset1=1)\n\n# Couple nodes at boundary in RADIAL direction for the SHELL181.\nmapdl.cp(5, lab=\"UX\", node1=201, node2=205, node3=203, node4=20)\nmapdl.cpsgen(itime=2, nset1=5)\n\n# Couple nodes at boundary in ROTY dir for SHELL181.\nmapdl.cp(7, lab=\"ROTY\", node1=201, node2=205)\nmapdl.cpsgen(itime=4, nset1=7)\n\n# Select only nodes in SOLID185 and SHELL181 models.\nmapdl.nsel(type_=\"S\", item=\"NODE\", vmin=101, vmax=212)\n\n# Select only nodes at theta = 0 from the selected set.\nmapdl.nsel(\"R\", \"LOC\", \"Y\", 0)\n\n# Apply symmetry boundary conditions.\nmapdl.dsym(\"SYMM\", \"Y\", 1)\n\n# Select only nodes in SOLID185 and SHELL181 models.\nmapdl.nsel(type_=\"S\", item=\"NODE\", vmin=101, vmax=212)\n\n# elect nodes at theta from the selected set.\nmapdl.nsel(\"R\", \"LOC\", \"Y\", theta)\n\n# Apply symmetry boundary conditions.\nmapdl.dsym(\"SYMM\", \"Y\", 1)\n\n# Select all nodes and RESELECT only nodes at Z = 0.\nmapdl.nsel(\"ALL\")\nmapdl.nsel(\"R\", \"LOC\", \"Z\", 0)\n\n# Constrain bottom nodes in Z direction.\nmapdl.d(\"ALL\", \"UZ\", 0)\n\n# Select all nodes.\nmapdl.nsel(\"ALL\")\n_ = mapdl.finish()"
      ]
    },
    {
      "cell_type": "markdown",
      "metadata": {},
      "source": [
        "Solve\n=====\n\nEnter solution mode and solve the system.\n"
      ]
    },
    {
      "cell_type": "code",
      "execution_count": null,
      "metadata": {
        "collapsed": false
      },
      "outputs": [],
      "source": [
        "# Start solution procedure.\nmapdl.slashsolu()\n\n# Define solution function.\ndef solution(deflect):\n    mapdl.nsel(\"R\", \"LOC\", \"Z\", 10)\n    mapdl.d(node=\"ALL\", lab=\"UZ\", value=deflect)\n    mapdl.nsel(\"ALL\")\n    mapdl.solve()\n\n\n# Run each load step to reproduce needed deflection subsequently.\n# Load Step 1\nsolution(deflect=defl_ls1)\n\n# Load Step 2\nsolution(deflect=defl_ls2)\n\n# Load Step 3\nsolution(deflect=defl_ls3)\n_ = mapdl.finish()"
      ]
    },
    {
      "cell_type": "markdown",
      "metadata": {},
      "source": [
        "Post-processing\n===============\n\nEnter post-processing.\n"
      ]
    },
    {
      "cell_type": "code",
      "execution_count": null,
      "metadata": {
        "collapsed": false
      },
      "outputs": [],
      "source": [
        "# Enter the post-processing routine.\n_ = mapdl.post1()"
      ]
    },
    {
      "cell_type": "markdown",
      "metadata": {},
      "source": [
        "Getting loads\n=============\n\nSet up the function to get load values of each load step of the\nsimplified axisymmetric model and convert it to the full model.\n"
      ]
    },
    {
      "cell_type": "code",
      "execution_count": null,
      "metadata": {
        "collapsed": false
      },
      "outputs": [],
      "source": [
        "def getload():\n\n    # Select the nodes in the PIPE288 element model.\n    mapdl.nsel(type_=\"S\", item=\"NODE\", vmin=1, vmax=2)\n    mapdl.nsel(\"R\", \"LOC\", \"Z\", 0)\n\n    # Sum the nodal force contributions of elements.\n    mapdl.fsum()\n\n    # Extrapolation of the force results in the full 360 (deg) model.\n    load_288 = mapdl.get_value(\"FSUM\", 0, \"ITEM\", \"FZ\")\n\n    # Select the nodes in the SOLID185 element model.\n    mapdl.nsel(type_=\"S\", item=\"NODE\", vmin=101, vmax=118)\n    mapdl.nsel(\"R\", \"LOC\", \"Z\", 0)\n    mapdl.fsum()\n\n    # Get the force value of the simplified model.\n    load_185_theta = mapdl.get_value(\"FSUM\", 0, \"ITEM\", \"FZ\")\n\n    # Extrapolation of the force results in the full 360 (deg) model.\n    load_185 = load_185_theta * 360 / theta\n\n    # Select the nodes in the SHELL181 element model.\n    mapdl.nsel(\"S\", \"NODE\", \"\", 201, 212)\n    mapdl.nsel(\"R\", \"LOC\", \"Z\", 0)\n\n    # Sum the nodal force contributions of elements.\n    mapdl.fsum()\n\n    # Get the force value of the simplified model.\n    load_181_theta = mapdl.get_value(\"FSUM\", 0, \"ITEM\", \"FZ\")\n\n    # Extrapolation of the force results in the full 360 (deg) model.\n    load_181 = load_181_theta * 360 / theta\n\n    # Return load results of each element model.\n    return abs(round(load_288, 0)), abs(round(load_185, 0)), abs(round(load_181, 0))"
      ]
    },
    {
      "cell_type": "markdown",
      "metadata": {},
      "source": [
        "Getting Loads For Each Load Step\n================================\n\nObtain the loads of the model using `getload()`{.interpreted-text\nrole=\"func\"} function.\n"
      ]
    },
    {
      "cell_type": "code",
      "execution_count": null,
      "metadata": {
        "collapsed": false
      },
      "outputs": [],
      "source": [
        "# Activate Load Step 1 and extract load data.\nmapdl.set(1, 1)\npipe288_ls1, solid185_ls1, shell181_ls1 = getload()\n\n# Activate Load Step 2 and extract load data.\nmapdl.set(2, 1)\npipe288_ls2, solid185_ls2, shell181_ls2 = getload()\n\n# Activate Load Step 3 and extract load data.\nmapdl.set(3, 1)\npipe288_ls3, solid185_ls3, shell181_ls3 = getload()"
      ]
    },
    {
      "cell_type": "markdown",
      "metadata": {},
      "source": [
        "Check Results\n=============\n\nFinally we have the results of the loads for the simplified axisymmetric\nmodel, which can be compared with expected target values for models with\n`PIPE288`, `SOLID185`, and `SHELL181` elements. Loads expected for each\nload step are:\n\n-   1st Load Step with deflection $\\delta = 0.032 (in)$ has\n    $load_1 = 1024400\\,(lb)$.\n-   2nd Load Step with deflection $\\delta = 0.05 (in)$ has\n    $load_2 = 1262000\\,(lb)$.\n-   3rd Load Step with deflection $\\delta = 0.1 (in)$ has\n    $load_3 = 1262000\\,(lb)$.\n"
      ]
    },
    {
      "cell_type": "code",
      "execution_count": null,
      "metadata": {
        "collapsed": false
      },
      "outputs": [],
      "source": [
        "target_res = np.asarray(\n    [1024400, 1262000, 1262000, 1024400, 1262000, 1262000, 1024400, 1262000, 1262000]\n)\n\nsimulation_res = np.asarray(\n    [\n        pipe288_ls1,\n        pipe288_ls2,\n        pipe288_ls2,\n        solid185_ls1,\n        solid185_ls2,\n        solid185_ls3,\n        shell181_ls1,\n        shell181_ls2,\n        shell181_ls3,\n    ]\n)\n\nmain_columns = {\n    \"Target\": target_res,\n    \"Mechanical APDL\": simulation_res,\n    \"Ratio\": list(np.divide(simulation_res, target_res)),\n}\n\nrow_tuple = [\n    (\"PIPE288\", \"Load, lb for Deflection = 0.032 in\"),\n    (\"PIPE288\", \"Load, lb for Deflection = 0.05 in\"),\n    (\"PIPE288\", \"Load, lb for Deflection = 0.1 in\"),\n    (\"SOLID185\", \"Load, lb for Deflection = 0.032 in\"),\n    (\"SOLID185\", \"Load, lb for Deflection = 0.05 in\"),\n    (\"SOLID185\", \"Load, lb for Deflection = 0.1 in\"),\n    (\"SHELL181\", \"Load, lb for Deflection = 0.032 in\"),\n    (\"SHELL181\", \"Load, lb for Deflection = 0.05 in\"),\n    (\"SHELL181\", \"Load, lb for Deflection = 0.1 in\"),\n]\n\nindex_names = [\"Element Type\", \"Load Step\"]\nrow_indexing = pd.MultiIndex.from_tuples(row_tuple)\ndf = pd.DataFrame(main_columns, index=row_indexing)\n\ndf.style.set_caption(\"Results Comparison\",).set_table_styles(\n    [\n        {\n            \"selector\": \"th.col_heading\",\n            \"props\": [\n                (\"background-color\", \"#FFEFD5\"),\n                (\"color\", \"black\"),\n                (\"border\", \"0.5px solid black\"),\n                (\"font-style\", \"italic\"),\n                (\"text-align\", \"center\"),\n            ],\n        },\n        {\n            \"selector\": \"th.row_heading\",\n            \"props\": [\n                (\"background-color\", \"#FFEFD5\"),\n                (\"color\", \"black\"),\n                (\"border\", \"0.5px solid black\"),\n                (\"font-style\", \"italic\"),\n                (\"text-align\", \"center\"),\n            ],\n        },\n        {\"selector\": \"td:hover\", \"props\": [(\"background-color\", \"#FFF8DC\")]},\n        {\"selector\": \"th\", \"props\": [(\"max-width\", \"120px\")]},\n        {\"selector\": \"\", \"props\": [(\"border\", \"0.5px solid black\")]},\n        {\n            \"selector\": \"caption\",\n            \"props\": [\n                (\"color\", \"black\"),\n                (\"font-style\", \"italic\"),\n                (\"font-size\", \"24px\"),\n                (\"text-align\", \"center\"),\n            ],\n        },\n    ],\n).set_properties(\n    **{\n        \"background-color\": \"#FFFAFA\",\n        \"color\": \"black\",\n        \"border-color\": \"black\",\n        \"border-width\": \"0.5px\",\n        \"border-style\": \"solid\",\n        \"text-align\": \"center\",\n    }\n).format(\n    \"{:.3f}\"\n)"
      ]
    },
    {
      "cell_type": "markdown",
      "metadata": {},
      "source": [
        "stop mapdl\n"
      ]
    },
    {
      "cell_type": "code",
      "execution_count": null,
      "metadata": {
        "collapsed": false
      },
      "outputs": [],
      "source": [
        "mapdl.exit()"
      ]
    }
  ],
  "metadata": {
    "kernelspec": {
      "display_name": "Python 3",
      "language": "python",
      "name": "python3"
    },
    "language_info": {
      "codemirror_mode": {
        "name": "ipython",
        "version": 3
      },
      "file_extension": ".py",
      "mimetype": "text/x-python",
      "name": "python",
      "nbconvert_exporter": "python",
      "pygments_lexer": "ipython3",
      "version": "3.8.14"
    }
  },
  "nbformat": 4,
  "nbformat_minor": 0
}