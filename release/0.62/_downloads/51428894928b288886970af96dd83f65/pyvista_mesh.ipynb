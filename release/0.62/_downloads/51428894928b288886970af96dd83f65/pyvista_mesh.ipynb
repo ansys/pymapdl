{
  "cells": [
    {
      "cell_type": "code",
      "execution_count": null,
      "metadata": {
        "collapsed": false
      },
      "outputs": [],
      "source": [
        "%matplotlib inline"
      ]
    },
    {
      "cell_type": "markdown",
      "metadata": {},
      "source": [
        "PyVista Mesh Integration {#ref_pyvista_mesh}\n========================\n\nRun a modal analysis on a mesh generated from pyvista within MAPDL.\n"
      ]
    },
    {
      "cell_type": "code",
      "execution_count": null,
      "metadata": {
        "collapsed": false
      },
      "outputs": [],
      "source": [
        "# sphinx_gallery_thumbnail_number = 2\n\nimport os\nimport tempfile\n\nfrom ansys.mapdl.reader import save_as_archive\nimport pyvista as pv\n\nfrom ansys.mapdl.core import launch_mapdl\n\n# launch MAPDL as a service\nmapdl = launch_mapdl(loglevel=\"ERROR\")\n\n# Create a simple plane mesh centered at (0, 0, 0) on the XY plane\nmesh = pv.Plane(i_resolution=100, j_resolution=100)\nmesh.plot(color=\"w\", show_edges=True)"
      ]
    },
    {
      "cell_type": "markdown",
      "metadata": {},
      "source": [
        "Write the mesh to a temporary file\n"
      ]
    },
    {
      "cell_type": "code",
      "execution_count": null,
      "metadata": {
        "collapsed": false
      },
      "outputs": [],
      "source": [
        "archive_filename = os.path.join(tempfile.gettempdir(), \"tmp.cdb\")\nsave_as_archive(archive_filename, mesh)\n\n# Read in the archive file\nresponse = mapdl.cdread(\"db\", archive_filename)\nmapdl.prep7()\nprint(mapdl.shpp(\"SUMM\"))\n\n# specify shell thickness\nmapdl.sectype(1, \"shell\")\nmapdl.secdata(0.01)\nmapdl.emodif(\"ALL\", \"SECNUM\", 1)\n\n# specify material properties\n# using aprox values for AISI 5000 Series Steel\n# http://www.matweb.com/search/datasheet.aspx?matguid=89d4b891eece40fbbe6b71f028b64e9e\nmapdl.units(\"SI\")  # not necessary, but helpful for book keeping\nmapdl.mp(\"EX\", 1, 200e9)  # Elastic moduli in Pa (kg/(m*s**2))\nmapdl.mp(\"DENS\", 1, 7800)  # Density in kg/m3\nmapdl.mp(\"NUXY\", 1, 0.3)  # Poissons Ratio\nmapdl.emodif(\"ALL\", \"MAT\", 1)\n\n# Run an unconstrained modal analysis\n# for the first 20 modes above 1 Hz\nmapdl.modal_analysis(nmode=20, freqb=1)\n\n# you could have also run:\n# mapdl.run('/SOLU')\n# mapdl.antype('MODAL')  # default NEW\n# mapdl.modopt('LANB', 20, 1)\n# mapdl.solve()"
      ]
    },
    {
      "cell_type": "markdown",
      "metadata": {},
      "source": [
        "Load the result file within `pyansys` and plot the 8th mode.\n"
      ]
    },
    {
      "cell_type": "code",
      "execution_count": null,
      "metadata": {
        "collapsed": false
      },
      "outputs": [],
      "source": [
        "result = mapdl.result\nprint(result)\n\nresult.plot_nodal_displacement(7, show_displacement=True, displacement_factor=0.4)"
      ]
    },
    {
      "cell_type": "markdown",
      "metadata": {},
      "source": [
        "plot the 1st mode using contours\n"
      ]
    },
    {
      "cell_type": "code",
      "execution_count": null,
      "metadata": {
        "collapsed": false
      },
      "outputs": [],
      "source": [
        "result.plot_nodal_displacement(\n    0, show_displacement=True, displacement_factor=0.4, n_colors=10\n)"
      ]
    },
    {
      "cell_type": "markdown",
      "metadata": {},
      "source": [
        "Animate a high frequency mode\n\nGet a smoother plot by disabling movie\\_filename and increasing\n`nangles`. Enable a continuous plot looping with `` `loop=True ``\\`.\n"
      ]
    },
    {
      "cell_type": "code",
      "execution_count": null,
      "metadata": {
        "collapsed": false
      },
      "outputs": [],
      "source": [
        "result.animate_nodal_displacement(\n    18,\n    loop=False,\n    add_text=False,\n    nangles=30,\n    displacement_factor=0.4,\n    show_axes=False,\n    background=\"w\",\n    movie_filename=\"plane_vib.gif\",\n)"
      ]
    },
    {
      "cell_type": "markdown",
      "metadata": {},
      "source": [
        "stop mapdl\n"
      ]
    },
    {
      "cell_type": "code",
      "execution_count": null,
      "metadata": {
        "collapsed": false
      },
      "outputs": [],
      "source": [
        "mapdl.exit()"
      ]
    }
  ],
  "metadata": {
    "kernelspec": {
      "display_name": "Python 3",
      "language": "python",
      "name": "python3"
    },
    "language_info": {
      "codemirror_mode": {
        "name": "ipython",
        "version": 3
      },
      "file_extension": ".py",
      "mimetype": "text/x-python",
      "name": "python",
      "nbconvert_exporter": "python",
      "pygments_lexer": "ipython3",
      "version": "3.8.14"
    }
  },
  "nbformat": 4,
  "nbformat_minor": 0
}