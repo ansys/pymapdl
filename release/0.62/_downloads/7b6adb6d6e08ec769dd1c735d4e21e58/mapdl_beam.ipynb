{
  "cells": [
    {
      "cell_type": "code",
      "execution_count": null,
      "metadata": {
        "collapsed": false
      },
      "outputs": [],
      "source": [
        "%matplotlib inline"
      ]
    },
    {
      "cell_type": "markdown",
      "metadata": {},
      "source": [
        "MAPDL 2D Beam Example {#ref_mapdl_beam}\n=====================\n\nThis is an example from FINITE ELEMENT ANALYSIS USING ANSYS 11.0\n"
      ]
    },
    {
      "cell_type": "markdown",
      "metadata": {},
      "source": [
        "Launch MAPDL with interactive plotting\n"
      ]
    },
    {
      "cell_type": "code",
      "execution_count": null,
      "metadata": {
        "collapsed": false
      },
      "outputs": [],
      "source": [
        "from ansys.mapdl.core import launch_mapdl\n\nmapdl = launch_mapdl()"
      ]
    },
    {
      "cell_type": "markdown",
      "metadata": {},
      "source": [
        "Define an I-beam\n"
      ]
    },
    {
      "cell_type": "code",
      "execution_count": null,
      "metadata": {
        "collapsed": false
      },
      "outputs": [],
      "source": [
        "mapdl.prep7()\nmapdl.et(1, \"BEAM188\")\nmapdl.keyopt(1, 4, 1)  # transverse shear stress output\n\n# material properties\nmapdl.mp(\"EX\", 1, 2e7)  # N/cm2\nmapdl.mp(\"PRXY\", 1, 0.27)  #  Poisson's ratio\n\n# beam properties in centimeters\nsec_num = 1\nmapdl.sectype(sec_num, \"BEAM\", \"I\", \"ISection\", 3)\nmapdl.secoffset(\"CENT\")\nbeam_info = mapdl.secdata(15, 15, 29, 2, 2, 1)  # dimensions are in centimeters"
      ]
    },
    {
      "cell_type": "markdown",
      "metadata": {},
      "source": [
        "Create nodes within MAPDL\n"
      ]
    },
    {
      "cell_type": "code",
      "execution_count": null,
      "metadata": {
        "collapsed": false
      },
      "outputs": [],
      "source": [
        "mapdl.n(1, 0, 0, 0)\nmapdl.n(12, 110, 0, 0)\nmapdl.n(23, 220, 0, 0)\nmapdl.fill(1, 12, 10)\nmapdl.fill(12, 23, 10)\n\n# list the node coordinates\nprint(mapdl.mesh.nodes)\n\n# list the node numbers\nprint(mapdl.mesh.nnum)\n\n# plot the nodes using VTK\nmapdl.nplot(vtk=True, nnum=True, cpos=\"xy\", show_bounds=True, point_size=10)"
      ]
    },
    {
      "cell_type": "markdown",
      "metadata": {},
      "source": [
        "create elements between the nodes we can just manually create elements\nsince we know that the elements are sequential\n"
      ]
    },
    {
      "cell_type": "code",
      "execution_count": null,
      "metadata": {
        "collapsed": false
      },
      "outputs": [],
      "source": [
        "for node in mapdl.mesh.nnum[:-1]:\n    mapdl.e(node, node + 1)\n\n# print the elements from MAPDL\nprint(mapdl.elist())"
      ]
    },
    {
      "cell_type": "markdown",
      "metadata": {},
      "source": [
        "Access them as a list of arrays See the documentation on\n`mapdl.mesh.elem` for interperting the individual elements\n"
      ]
    },
    {
      "cell_type": "code",
      "execution_count": null,
      "metadata": {
        "collapsed": false
      },
      "outputs": [],
      "source": [
        "for elem in mapdl.mesh.elem:\n    print(elem)"
      ]
    },
    {
      "cell_type": "markdown",
      "metadata": {},
      "source": [
        "Define the boundary conditions\n"
      ]
    },
    {
      "cell_type": "code",
      "execution_count": null,
      "metadata": {
        "collapsed": false
      },
      "outputs": [],
      "source": [
        "# Allow movement only in the X and Z direction\nfor const in [\"UX\", \"UY\", \"ROTX\", \"ROTZ\"]:\n    mapdl.d(\"all\", const)\n\n# constrain just nodes 1 and 23 in the Z direction\nmapdl.d(1, \"UZ\")\nmapdl.d(23, \"UZ\")\n\n# apply a -Z force at node 12\nmapdl.f(12, \"FZ\", -22840)"
      ]
    },
    {
      "cell_type": "markdown",
      "metadata": {},
      "source": [
        "run the static analysis\n"
      ]
    },
    {
      "cell_type": "code",
      "execution_count": null,
      "metadata": {
        "collapsed": false
      },
      "outputs": [],
      "source": [
        "mapdl.run(\"/solu\")\nmapdl.antype(\"static\")\nprint(mapdl.solve())"
      ]
    },
    {
      "cell_type": "markdown",
      "metadata": {},
      "source": [
        "stop mapdl\n"
      ]
    },
    {
      "cell_type": "code",
      "execution_count": null,
      "metadata": {
        "collapsed": false
      },
      "outputs": [],
      "source": [
        "mapdl.exit()"
      ]
    }
  ],
  "metadata": {
    "kernelspec": {
      "display_name": "Python 3",
      "language": "python",
      "name": "python3"
    },
    "language_info": {
      "codemirror_mode": {
        "name": "ipython",
        "version": 3
      },
      "file_extension": ".py",
      "mimetype": "text/x-python",
      "name": "python",
      "nbconvert_exporter": "python",
      "pygments_lexer": "ipython3",
      "version": "3.8.14"
    }
  },
  "nbformat": 4,
  "nbformat_minor": 0
}