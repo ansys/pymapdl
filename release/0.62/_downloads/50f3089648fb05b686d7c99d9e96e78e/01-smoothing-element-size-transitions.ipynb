{
  "cells": [
    {
      "cell_type": "code",
      "execution_count": null,
      "metadata": {
        "collapsed": false
      },
      "outputs": [],
      "source": [
        "%matplotlib inline"
      ]
    },
    {
      "cell_type": "markdown",
      "metadata": {},
      "source": [
        "MAPDL Element Size Transition Example {#ref_element_size_transition}\n=====================================\n\nThere are many cases in which you will want to control the density of\nthe mesh nearby a region of local high stresses (e.g. simulated crack,\nfilleted bracket, etc.) This usually introduces a sharp element size\ntransition in the mesh. This example demonstrates one way to reduce this\neffect using a simple geometry.\n\nFirst, start MAPDL as a service.\n"
      ]
    },
    {
      "cell_type": "code",
      "execution_count": null,
      "metadata": {
        "collapsed": false
      },
      "outputs": [],
      "source": [
        "# sphinx_gallery_thumbnail_number = 3\n\nfrom ansys.mapdl.core import launch_mapdl\n\nmapdl = launch_mapdl()\nmapdl"
      ]
    },
    {
      "cell_type": "markdown",
      "metadata": {},
      "source": [
        "The Geometry (a box)\n====================\n\nThis example uses very simple geometry. In this case, a 3D box with 4\nsides. The two remaining sides are open, and we have a rectangular tube.\nIts dimensions are 5 x 5 x 1. We create this using 8 keypoints and then\nbuilding 4 areas.\n"
      ]
    },
    {
      "cell_type": "code",
      "execution_count": null,
      "metadata": {
        "collapsed": false
      },
      "outputs": [],
      "source": [
        "mapdl.prep7()\n\nk0 = mapdl.k(1, 0, 0, 0)\nk1 = mapdl.k(2, 0, 5, 0)\nk2 = mapdl.k(3, 5, 5, 0)\nk3 = mapdl.k(4, 5, 0, 0)\n\nk4 = mapdl.k(5, 0, 0, 1)\nk5 = mapdl.k(6, 0, 5, 1)\nk6 = mapdl.k(7, 5, 5, 1)\nk7 = mapdl.k(8, 5, 0, 1)\n\na0 = mapdl.a(1, 2, 3, 4)\na1 = mapdl.a(5, 6, 7, 8)\na2 = mapdl.a(3, 4, 8, 7)\na3 = mapdl.a(1, 2, 6, 5)"
      ]
    },
    {
      "cell_type": "markdown",
      "metadata": {},
      "source": [
        "Mesh size\n=========\n\nWe set the global mesh size to 0.7, but we\\'re particularly interested\nin face `a2`, so we set the element size of that face to 0.1. Then we\njust need to specify an element type (we use `SHELL181` here) and mesh\nour geometry.\n\nAdditionally, we specify that we want triangular elements using\n`mshape`. This is purely to demonstrate the effect. This will work just\nas well for a quadrilateral mesh.\n"
      ]
    },
    {
      "cell_type": "code",
      "execution_count": null,
      "metadata": {
        "collapsed": false
      },
      "outputs": [],
      "source": [
        "mapdl.esize(0.7)\nmapdl.aesize(a2, 0.1)\nmapdl.mshape(1, \"2D\")\n\nmapdl.et(1, \"SHELL181\")\nmapdl.amesh(\"ALL\")\nmapdl.eplot(show_edges=True, show_axes=False, line_width=2, background=\"w\")"
      ]
    },
    {
      "cell_type": "markdown",
      "metadata": {},
      "source": [
        "Smoothing the transition\n========================\n\nThe mesh mostly looks fine, but we have quite a sharp transition in\nelement size along the edges of our focus area. This is likely\nundesirable because these are corners and generally require a higher\ndegree of accuracy. This is simple to remedy, however.\n\nTo do this, we need to take the keypoints that bound a2 and set their\nelement size to be 0.1 as well. This sets all elements near those\nkeypoints to a size of 0.1 including elements not on `a2` itself. This\nspreads the transition away from the edges.\n\nTo demonstrate this we first clear our existing mesh using aclear. Then\nwe use kesize to set the keypoint element sizes, and finally we remesh.\nThe results are self-evident.\n"
      ]
    },
    {
      "cell_type": "code",
      "execution_count": null,
      "metadata": {
        "collapsed": false
      },
      "outputs": [],
      "source": [
        "mapdl.aclear(\"ALL\")\nfor k in [k2, k3, k6, k7]:\n    mapdl.kesize(k, 0.1)\nmapdl.amesh(\"ALL\")\nmapdl.eplot(show_edges=True, show_axes=False, line_width=2, background=\"w\")"
      ]
    },
    {
      "cell_type": "markdown",
      "metadata": {},
      "source": [
        "Smoothing the transition into a2\n================================\n\nSimilarly, if we were happy to reduce the mesh size at the edges of\n`a2`, we could set the keypoint element sizes to be an intermediate\nvalue, which would shift the main location of the size transition to\nwithin the face of `a2`.\n"
      ]
    },
    {
      "cell_type": "code",
      "execution_count": null,
      "metadata": {
        "collapsed": false
      },
      "outputs": [],
      "source": [
        "mapdl.aclear(\"ALL\")\nfor k in [k2, k3, k6, k7]:\n    mapdl.kesize(k, 0.2)\nmapdl.amesh(\"ALL\")\n_ = mapdl.eplot(\n    vtk=True, show_edges=True, show_axes=False, line_width=2, background=\"w\"\n)"
      ]
    },
    {
      "cell_type": "markdown",
      "metadata": {},
      "source": [
        "stop mapdl\n"
      ]
    },
    {
      "cell_type": "code",
      "execution_count": null,
      "metadata": {
        "collapsed": false
      },
      "outputs": [],
      "source": [
        "mapdl.exit()"
      ]
    }
  ],
  "metadata": {
    "kernelspec": {
      "display_name": "Python 3",
      "language": "python",
      "name": "python3"
    },
    "language_info": {
      "codemirror_mode": {
        "name": "ipython",
        "version": 3
      },
      "file_extension": ".py",
      "mimetype": "text/x-python",
      "name": "python",
      "nbconvert_exporter": "python",
      "pygments_lexer": "ipython3",
      "version": "3.8.14"
    }
  },
  "nbformat": 4,
  "nbformat_minor": 0
}