{
  "cells": [
    {
      "cell_type": "code",
      "execution_count": null,
      "metadata": {
        "collapsed": false
      },
      "outputs": [],
      "source": [
        "%matplotlib inline"
      ]
    },
    {
      "cell_type": "markdown",
      "metadata": {},
      "source": [
        "Pinched Cylinder {#ref_vm6_example}\n================\n\nProblem Description:\n\n:   -   A thin-walled cylinder is pinched by a force $F$ at the middle\n        of the cylinder length. Determine the radial displacement\n        $\\delta$ at the point where the force $F$ is applied. The ends\n        of the cylinder are free edges.\n\nReference:\n\n:   -   R. D. Cook, Concepts and Applications of Finite Element\n        Analysis, 2nd Edition, John Wiley and Sons, Inc., New York, NY,\n        1981, pp. 284-287.\n        H. Takemoto, R. D. Cook, \\\"Some Modifications of an\n        Isoparametric Shell Element\\\", International Journal for\n        Numerical Methods in Engineering, Vol.7 No. 3, 1973.\n\nAnalysis Type(s):\n\n:   -   Static Analysis `ANTYPE=0`\n\nElement Type(s):\n\n:   -   4-Node Finite Strain Shell Elements (SHELL181)\n    -   8-Node Finite Strain Shell Elements (SHELL281)\n\n![VM6 Pinched Cylinder Problem Sketch](../../../_static/vm6_setup.png){width=\"400px\"}\n\nMaterial Properties\n\n:   -   $E = 10.5 \\cdot 10^6 psi$\n    -   $\\nu = 0.3125$\n\nGeometric Properties:\n\n:   -   $l = 10.35  in$\n    -   $r = 4.953  in$\n    -   $t = 0.094  in$\n\nLoading:\n\n:   -   $F = 100  lb$\n\nAnalysis Assumptions and Modeling Notes:\n\n:   -   A one-eighth symmetry model is used. One-fourth of the load is\n        applied due to symmetry.\n"
      ]
    },
    {
      "cell_type": "code",
      "execution_count": null,
      "metadata": {
        "collapsed": false
      },
      "outputs": [],
      "source": [
        "# sphinx_gallery_thumbnail_path = '_static/vm6_setup.png'"
      ]
    },
    {
      "cell_type": "markdown",
      "metadata": {},
      "source": [
        "Start MAPDL\n===========\n"
      ]
    },
    {
      "cell_type": "code",
      "execution_count": null,
      "metadata": {
        "collapsed": false
      },
      "outputs": [],
      "source": [
        "from ansys.mapdl.core import launch_mapdl\n\n# Start mapdl.\nmapdl = launch_mapdl()"
      ]
    },
    {
      "cell_type": "markdown",
      "metadata": {},
      "source": [
        "Initiate Pre-Processing\n=======================\n\nEnter verification example mode and the pre-processing routine.\n"
      ]
    },
    {
      "cell_type": "code",
      "execution_count": null,
      "metadata": {
        "collapsed": false
      },
      "outputs": [],
      "source": [
        "def start_prep7():\n    mapdl.clear()\n    mapdl.verify()\n    mapdl.prep7()\n\n\nstart_prep7()"
      ]
    },
    {
      "cell_type": "markdown",
      "metadata": {},
      "source": [
        "Define Element Type\n===================\n\nSet up the element type (a shell-type).\n"
      ]
    },
    {
      "cell_type": "code",
      "execution_count": null,
      "metadata": {
        "collapsed": false
      },
      "outputs": [],
      "source": [
        "# Define the element type number.\ndef define_element(elem_type):\n    # Type of analysis: Static.\n    mapdl.antype(\"STATIC\")\n\n    # Define the element type number.\n    elem_num = 1\n\n    if elem_type == \"SHELL181\":\n\n        # Element type: SHELL181.\n        mapdl.et(elem_num, elem_type)\n\n        # Special Features are defined by keyoptions of shell element:\n\n        # KEYOPT(3)\n        # Integration option:\n        # Full integration with incompatible modes.\n        mapdl.keyopt(elem_num, 3, 2)  # Cubic shape function\n\n    elif elem_type == \"SHELL281\":\n\n        # Element type: SHELL181.\n        mapdl.et(elem_num, \"SHELL281\")\n\n    return elem_type, mapdl.etlist()\n\n\n# Return the number of the element type.\nelem_type, elem_type_list = define_element(elem_type=\"SHELL181\")\nprint(\n    f\"Selected element type is: {elem_type},\\n\"\n    f\"Printout the element list with its own properties:\\n {elem_type_list}\"\n)"
      ]
    },
    {
      "cell_type": "markdown",
      "metadata": {},
      "source": [
        "Define Material\n===============\n\nSet up the material properties, where: Young Modulus is\n$E = 10.5 \\cdot 10^6 psi$, Poisson\\'s ratio is $\\nu = 0.3125$.\n"
      ]
    },
    {
      "cell_type": "code",
      "execution_count": null,
      "metadata": {
        "collapsed": false
      },
      "outputs": [],
      "source": [
        "# Define material number.\nmat_num = 1\n\n# Define material properties.\ndef define_material():\n    # Define material properties.\n    mapdl.mp(\"EX\", mat_num, 10.5e6)\n    mapdl.mp(\"NUXY\", mat_num, 0.3125)\n    return mapdl.mplist()\n\n\nmaterial_list = define_material()\nprint(material_list)"
      ]
    },
    {
      "cell_type": "markdown",
      "metadata": {},
      "source": [
        "Define Section\n==============\n\nSet up the cross-section properties for a shell element.\n"
      ]
    },
    {
      "cell_type": "code",
      "execution_count": null,
      "metadata": {
        "collapsed": false
      },
      "outputs": [],
      "source": [
        "# Define cross-section number and thickness of the shell element.\nsec_num = 1\nt = 0.094\n\n# Define shell cross-section.\ndef define_section():\n    # Define shell cross-section.\n    mapdl.sectype(secid=sec_num, type_=\"SHELL\", name=\"shell181\")\n    mapdl.secdata(t, mat_num, 0, 5)\n    return mapdl.slist()\n\n\nsection_list = define_section()\nprint(section_list)"
      ]
    },
    {
      "cell_type": "markdown",
      "metadata": {},
      "source": [
        "Define Geometry\n===============\n\nSet up the keypoints and create the area through the keypoints.\n"
      ]
    },
    {
      "cell_type": "code",
      "execution_count": null,
      "metadata": {
        "collapsed": false
      },
      "outputs": [],
      "source": [
        "# Define geometry of the simplified mathematical model.\ndef define_geometry():\n    # Change active coordinate system\n    # to the global cylindrical coordinate system.\n    mapdl.csys(1)\n\n    # Define keypoints by coordinates.\n    mapdl.k(1, 4.953)\n    mapdl.k(2, 4.953, \"\", 5.175)\n\n    # Generate additional keypoints from a pattern of keypoints.\n    mapdl.kgen(2, 1, 2, 1, \"\", 90)\n\n    # Create an area through keypoints.\n    mapdl.a(1, 2, 4, 3)\n\n    if elem_type == \"SHELL181\":\n        # Plot the lines.\n        mapdl.lplot(color_lines=True, cpos=\"iso\")\n\n        # Plot the area using PyVista parameters.\n        mapdl.aplot(\n            title=\"Display the selected area\",\n            cpos=\"iso\",\n            vtk=True,\n            color=\"#06C2AC\",\n            show_line_numbering=True,\n            show_area_numbering=True,\n            show_lines=True,\n        )\n\n\ndefine_geometry()\n\n\n# Define the number of the keypoint where F is applied using inline function.\ndef keypoint_number(mapdl):\n    keypoint_num = mapdl.queries.kp(4.953, 90, 0)\n    return keypoint_num\n\n\n# Call the function to get the number of keypoint.\ntop_keypoint = keypoint_number(mapdl)\nprint(f\"The number of the keypoint where F is applied: {top_keypoint}\")"
      ]
    },
    {
      "cell_type": "markdown",
      "metadata": {},
      "source": [
        "Meshing\n=======\n\nDefine line division of the lines, then mesh the area with shell\nelements.\n"
      ]
    },
    {
      "cell_type": "code",
      "execution_count": null,
      "metadata": {
        "collapsed": false
      },
      "outputs": [],
      "source": [
        "# Define mesh properties and create the mesh with shell elements.\ndef meshing():\n    # Specify the default number of line divisions.\n    mapdl.esize(size=\"\", ndiv=8)\n\n    # Mesh the area.\n    mapdl.amesh(1)\n\n    # Define global cartesian coordinate system.\n    mapdl.csys(0)\n\n    if elem_type == \"SHELL181\":\n        # Plot the mesh.\n        mapdl.eplot(\n            title=\"Plot of the currently selected elements\",\n            vtk=True,\n            cpos=\"iso\",\n            show_edges=True,\n            edge_color=\"white\",\n            show_node_numbering=True,\n            color=\"purple\",\n        )\n\n    # Print the list of elements.\n    print(mapdl.elist())\n\n    # Plot the nodes using VTK.\n    mapdl.nplot(\n        vtk=True, nnum=True, background=\"\", cpos=\"iso\", show_bounds=True, point_size=10\n    )\n\n    # Print the list of nodes.\n    print(mapdl.nlist())\n\n\nmeshing()"
      ]
    },
    {
      "cell_type": "markdown",
      "metadata": {},
      "source": [
        "Define Boundary Conditions\n==========================\n\nApplication of symmetric boundary conditions for simplified model.\n"
      ]
    },
    {
      "cell_type": "code",
      "execution_count": null,
      "metadata": {
        "collapsed": false
      },
      "outputs": [],
      "source": [
        "# Select nodes by location and apply BC.\ndef define_bc():\n    # Select nodes by location and apply BC.\n    mapdl.nsel(\"S\", \"LOC\", \"X\", 0)\n    mapdl.dsym(\"SYMM\", \"X\", 0)\n    mapdl.nsel(\"S\", \"LOC\", \"Y\", 0)\n    mapdl.dsym(\"SYMM\", \"Y\", 0)\n    mapdl.nsel(\"S\", \"LOC\", \"Z\", 0)\n    mapdl.dsym(\"SYMM\", \"Z\", 0)\n    mapdl.nsel(\"ALL\")\n\n\ndefine_bc()"
      ]
    },
    {
      "cell_type": "markdown",
      "metadata": {},
      "source": [
        "Define Distributed Loads\n========================\n\nApply the force of $F = (100/4) lb$ in the y-direction.\n"
      ]
    },
    {
      "cell_type": "code",
      "execution_count": null,
      "metadata": {
        "collapsed": false
      },
      "outputs": [],
      "source": [
        "# Define loads.\ndef define_loads():\n    # Parametrization of the :math:`F` load for the quarter of the model.\n    force = 100 / 4\n\n    # Application of the load to the model.\n    mapdl.fk(top_keypoint, \"FY\", -force)\n    mapdl.finish()\n\n\ndefine_loads()"
      ]
    },
    {
      "cell_type": "markdown",
      "metadata": {},
      "source": [
        "Solve\n=====\n\nEnter solution mode and solve the system. Print the solver output.\n"
      ]
    },
    {
      "cell_type": "code",
      "execution_count": null,
      "metadata": {
        "collapsed": false
      },
      "outputs": [],
      "source": [
        "def solve_procedure():\n    mapdl.run(\"/solu\")\n    out = mapdl.solve()\n    mapdl.finish()\n    return out\n\n\nsimulation_info = solve_procedure()\nprint(simulation_info)"
      ]
    },
    {
      "cell_type": "markdown",
      "metadata": {},
      "source": [
        "Post-processing\n===============\n\nEnter post-processing for the model with elements `shell181`. Plotting\nnodal displacement. Get the the radial displacement at the node where\nforce F is applied.\n"
      ]
    },
    {
      "cell_type": "code",
      "execution_count": null,
      "metadata": {
        "collapsed": false
      },
      "outputs": [],
      "source": [
        "# Start post-processing mode.\ndef post_processing():\n    mapdl.post1()\n    mapdl.set(1)\n\n\npost_processing()"
      ]
    },
    {
      "cell_type": "markdown",
      "metadata": {},
      "source": [
        "Plotting\n========\n\nPlot nodal displacement using PyVista.\n"
      ]
    },
    {
      "cell_type": "code",
      "execution_count": null,
      "metadata": {
        "collapsed": false
      },
      "outputs": [],
      "source": [
        "def plot_nodal_disp():\n    mapdl.post_processing.plot_nodal_displacement(\n        title=\"Nodal Displacements\",\n        component=\"Y\",\n        cpos=\"zx\",\n        scalar_bar_args={\"title\": \"Nodal Displacements\", \"vertical\": True},\n        show_node_numbering=True,\n        show_axes=True,\n        show_edges=True,\n    )\n\n\nplot_nodal_disp()"
      ]
    },
    {
      "cell_type": "markdown",
      "metadata": {},
      "source": [
        "Getting the radial displacements\n================================\n\nTo determine the radial displacement $\\delta$ at the point where F is\napplied, we can use\n`Mapdl.get_value <ansys.mapdl.core.Mapdl.get_value>`{.interpreted-text\nrole=\"meth\"}.\n"
      ]
    },
    {
      "cell_type": "code",
      "execution_count": null,
      "metadata": {
        "collapsed": false
      },
      "outputs": [],
      "source": [
        "def get_displacements():\n    # Select keypoint by its number ``top_keypoint``.\n    mapdl.ksel(\"S\", vmin=\"top_keypoint\")\n\n    # Select the node associated with the selected keypoint.\n    mapdl.nslk()\n\n    # Get the number of the selected node by :meth:`Mapdl.get <ansys.mapdl.core.Mapdl.get>`\n    top_node = int(mapdl.get(\"_\", \"node\", 0, \"num\", \"max\"))\n\n    # Define radial displacement at the node where F is applied.\n    deflect_shell = mapdl.get_value(\n        entity=\"node\", entnum=top_node, item1=\"u\", it1num=\"y\"\n    )\n\n    return top_node, deflect_shell\n\n\n# Call the function and get the value of the deflection.\ntop_node_181, deflect_shell_181 = get_displacements()\nprint(\n    f\"Number of the node attached to the top keypoint: {top_node_181},\\n\"\n    f\"Radial displacement: {(round(deflect_shell_181, 4))}\"\n)"
      ]
    },
    {
      "cell_type": "markdown",
      "metadata": {},
      "source": [
        "Rerun Model with SHELL281\n=========================\n\nPerform the simulation again using the element type SHELL281.\n"
      ]
    },
    {
      "cell_type": "code",
      "execution_count": null,
      "metadata": {
        "collapsed": false
      },
      "outputs": [],
      "source": [
        "# Restart pre-processing routine.\nstart_prep7()\nelem_type = define_element(elem_type=\"SHELL281\")\ndefine_material()\ndefine_section()\ndefine_geometry()\nmeshing()\ndefine_bc()\ndefine_loads()"
      ]
    },
    {
      "cell_type": "markdown",
      "metadata": {},
      "source": [
        "Solve\n=====\n\nEnter solution mode and solve the system. Print the solver output.\n"
      ]
    },
    {
      "cell_type": "code",
      "execution_count": null,
      "metadata": {
        "collapsed": false
      },
      "outputs": [],
      "source": [
        "solve_procedure()"
      ]
    },
    {
      "cell_type": "markdown",
      "metadata": {},
      "source": [
        "Post-processing\n===============\n\nEnter post-processing for the model with elements `shell281`. Plotting\nnodal displacement. Get the the radial displacement at the node where\nforce F is applied.\n"
      ]
    },
    {
      "cell_type": "code",
      "execution_count": null,
      "metadata": {
        "collapsed": false
      },
      "outputs": [],
      "source": [
        "post_processing()\nplot_nodal_disp()\ntop_node_281, deflect_shell_281 = get_displacements()"
      ]
    },
    {
      "cell_type": "markdown",
      "metadata": {},
      "source": [
        "Check Results\n=============\n\nNow we have the deflections, we can compare them to the expected values\nof radial deflection at the node where force $F$ was applied for both\nsimulations. The expected value for $\\delta_{\\mathrm{shell181}}$ is\n0.1139, and $\\delta_{\\mathrm{shell281}}$ is 0.1139.\n"
      ]
    },
    {
      "cell_type": "code",
      "execution_count": null,
      "metadata": {
        "collapsed": false
      },
      "outputs": [],
      "source": [
        "# Results obtained by hand-calculations.\ndeflect_target_181 = 0.1139\ndeflect_target_281 = 0.1139\n\n# Calculate the deviation.\ndeflect_ratio_shell_181 = abs(deflect_shell_181) / deflect_target_181\ndeflect_ratio_shell_281 = abs(deflect_shell_281) / deflect_target_281\n\n# Print output results.\noutput = f\"\"\"\n----------------------------------------------------------------------------\n------------------------- VM3 RESULTS COMPARISON ---------------------------\n----------------------------------------------------------------------------\n                            |   TARGET   |   Mechanical APDL   |   RATIO   |\n----------------------------------------------------------------------------\n    Deflection, in SHELL181{deflect_target_181:11.4f} {abs(deflect_shell_181):17.4f} {deflect_ratio_shell_181:15.3f}\n    Deflection, in SHELL281{deflect_target_281:11.4f} {abs(deflect_shell_281):17.4f} {deflect_ratio_shell_281:15.3f}\n----------------------------------------------------------------------------\n\"\"\"\nprint(output)"
      ]
    },
    {
      "cell_type": "markdown",
      "metadata": {},
      "source": [
        "stop mapdl\n"
      ]
    },
    {
      "cell_type": "code",
      "execution_count": null,
      "metadata": {
        "collapsed": false
      },
      "outputs": [],
      "source": [
        "mapdl.exit()"
      ]
    }
  ],
  "metadata": {
    "kernelspec": {
      "display_name": "Python 3",
      "language": "python",
      "name": "python3"
    },
    "language_info": {
      "codemirror_mode": {
        "name": "ipython",
        "version": 3
      },
      "file_extension": ".py",
      "mimetype": "text/x-python",
      "name": "python",
      "nbconvert_exporter": "python",
      "pygments_lexer": "ipython3",
      "version": "3.8.14"
    }
  },
  "nbformat": 4,
  "nbformat_minor": 0
}