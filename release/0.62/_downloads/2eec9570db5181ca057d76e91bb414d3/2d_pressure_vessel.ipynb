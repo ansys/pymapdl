{
  "cells": [
    {
      "cell_type": "code",
      "execution_count": null,
      "metadata": {
        "collapsed": false
      },
      "outputs": [],
      "source": [
        "%matplotlib inline"
      ]
    },
    {
      "cell_type": "markdown",
      "metadata": {},
      "source": [
        "2D Pressure Vessel {#2d_pressure_vessel_example}\n==================\n\nThis example demonstrates how to create a basic pressure vessel and\napply a pressure to it.\n\nObjective\n---------\n\nIn this example we will perform stress analysis of pipe due to internal\npressure. Due to the symmetry in geometry and loading, the strain along\nits axis is negligible and therefore we model this system as 2D plane\nstrain.\n\nProcedure\n---------\n\n-   Launch MAPDL instance\n-   Setup the model as Python function using PyMAPDL\n-   Automate mesh convergence study\n-   Plot results of interest\n\nAdditional Packages Used\n------------------------\n\n-   [Matplotlib](https://matplotlib.org) is used for plotting purposes.\n-   [Numpy](https://numpy.org) is used for using Numpy arrays.\n\nProblem Figure\n--------------\n\n![Basic Pressure Vessel](../../../images/2d_pressure.png){width=\"400px\"}\n"
      ]
    },
    {
      "cell_type": "code",
      "execution_count": null,
      "metadata": {
        "collapsed": false
      },
      "outputs": [],
      "source": [
        "import matplotlib.pyplot as plt"
      ]
    },
    {
      "cell_type": "markdown",
      "metadata": {},
      "source": [
        "Launch MAPDL\n============\n"
      ]
    },
    {
      "cell_type": "code",
      "execution_count": null,
      "metadata": {
        "collapsed": false
      },
      "outputs": [],
      "source": [
        "import numpy as np\n\nfrom ansys.mapdl.core import launch_mapdl\n\n# start mapdl\nmapdl = launch_mapdl()"
      ]
    },
    {
      "cell_type": "markdown",
      "metadata": {},
      "source": [
        "Setup the pipe cross section using Python function\n\nWe use a function here so we can rebuild the pipe using parameters\nrather than calling a script several times.\n"
      ]
    },
    {
      "cell_type": "code",
      "execution_count": null,
      "metadata": {
        "collapsed": false
      },
      "outputs": [],
      "source": [
        "def pipe_plane_strain(e, nu, inn_radius, out_radius, press, aesize):\n    \"\"\"Create 2D cross section modeling a pipe.\"\"\"\n\n    # reset mapdl\n    mapdl.clear()\n    mapdl.prep7()\n\n    # Define element attributes\n    # Quad 4 node 182 with keyoption 3 = 2 (plain strain formulation)\n    mapdl.et(1, \"PLANE182\", kop3=2)\n\n    # Create geometry\n    # create a quadrant of the pressure vessel\n    # We perform plane strain analysis on one quadrant (0deg - 90deg) of the\n    # pressure vessel\n    mapdl.pcirc(inn_radius, out_radius, theta1=0, theta2=90)\n    mapdl.cm(\"PIPE_PROFILE\", \"AREA\")\n\n    # Define material properties\n    mapdl.mp(\"EX\", 1, e)  # Youngs modulus\n    mapdl.mp(\"PRXY\", 1, nu)  # Poissons ratio\n\n    # Define mesh controls\n    mapdl.aesize(\"ALL\", aesize)\n    mapdl.mshape(0, \"2D\")  # mesh the area with 2D Quad elements\n    mapdl.mshkey(1)  # free mesh\n    mapdl.cmsel(\"S\", \"PIPE_PROFILE\")  # Select the area component to be meshed\n    mapdl.amesh(\"ALL\")\n\n    # Create components for defining loads and constraints\n    mapdl.nsel(\"S\", \"LOC\", \"X\", 0)  # Select nodes on top left edge\n    mapdl.cm(\"X_FIXED\", \"NODES\")  # Create nodal component\n\n    mapdl.nsel(\"S\", \"LOC\", \"Y\", 0)  # Select nodes on bottom right edge\n    mapdl.cm(\"Y_FIXED\", \"NODES\")  # Create nodal component\n    mapdl.allsel()\n\n    mapdl.lsel(\"S\", \"RADIUS\", vmin=rad1)  # Select the line along inner radius\n    mapdl.cm(\"PRESSURE_EDGE\", \"LINE\")  # Create a line component\n    mapdl.allsel()\n\n    # Define solution controls\n    mapdl.slashsolu()  # Enter solution\n    mapdl.antype(\"STATIC\", \"NEW\")  # Specify a new static analysis (Optional)\n\n    mapdl.d(\"X_FIXED\", \"UX\", 0)  # Fix the selected nodes in X direction\n    mapdl.d(\"Y_FIXED\", \"UY\", 0)  # Fix the selected nodes in Y direction\n\n    # Change the active Cartesian Coordinate system to Cylindrical Coordinate system\n    mapdl.csys(1)\n\n    # Apply uniform pressure load to the selected edge\n    mapdl.sfl(\"PRESSURE_EDGE\", \"PRES\", press)\n\n    # Solve the model\n    mapdl.allsel()\n    mapdl.solve()\n    mapdl.finish()\n\n    # Enter post-processor\n    mapdl.post1()\n    mapdl.set(1, 1)  # Select the first load step\n\n    max_eqv_stress = np.max(mapdl.post_processing.nodal_eqv_stress())\n    all_dof = mapdl.mesh.nnum_all\n    num_dof = all_dof.size\n\n    return num_dof, max_eqv_stress"
      ]
    },
    {
      "cell_type": "markdown",
      "metadata": {},
      "source": [
        "Perform the mesh convergence study\n==================================\n"
      ]
    },
    {
      "cell_type": "code",
      "execution_count": null,
      "metadata": {
        "collapsed": false
      },
      "outputs": [],
      "source": [
        "# Define model input parameters\nrad1 = 175  # Internal radius\nrad2 = 200  # External radius\npressure = 100\n\ne = 2e5  # Young's modulus\nnu = 0.3  # Poisson's ratio\n\n# Define mesh convergence parameters\nnum_dof = []\nmax_stress = []\n\n# element size: use log space since mesh converges logarithmically\nesizes = np.logspace(1.4, 0, 20)\n\n# run the mesh convergence and output the results on the fly\nfor esize in esizes:\n    dof, eqv_stress = pipe_plane_strain(e, nu, rad1, rad2, pressure, esize)\n    num_dof.append(dof)\n    max_stress.append(eqv_stress)\n    print(f\"DOF: {dof:5d}   Stress: {eqv_stress:.2f} MPa\")"
      ]
    },
    {
      "cell_type": "markdown",
      "metadata": {},
      "source": [
        "Plot mesh convergence results\n=============================\n\nDraw a dotted line showing the convergence value\n"
      ]
    },
    {
      "cell_type": "code",
      "execution_count": null,
      "metadata": {
        "collapsed": false
      },
      "outputs": [],
      "source": [
        "plt.plot(num_dof, max_stress, \"b-o\")\nplt.plot([num_dof[0], num_dof[-1]], [max_stress[-1], max_stress[-1]], \"r:\")\nplt.title(\"Mesh Convergence Study\")\nplt.xlabel(\"Number of DOF\")\nplt.ylabel(\"Maximum eqv. Stress (MPa)\")\nplt.show()"
      ]
    },
    {
      "cell_type": "markdown",
      "metadata": {},
      "source": [
        "Resume results from last analysis from mesh convergence study\n"
      ]
    },
    {
      "cell_type": "code",
      "execution_count": null,
      "metadata": {
        "collapsed": false
      },
      "outputs": [],
      "source": [
        "# Plot the final mesh used\nmapdl.allsel(\"ALL\")\nmapdl.eplot(\n    title=\"Element Plot\",\n    line_width=1,\n    show_bounds=True,\n    cpos=\"xy\",\n)"
      ]
    },
    {
      "cell_type": "markdown",
      "metadata": {},
      "source": [
        "Plot nodal displacement\n"
      ]
    },
    {
      "cell_type": "code",
      "execution_count": null,
      "metadata": {
        "collapsed": false
      },
      "outputs": [],
      "source": [
        "# Enter post-processing (/POST1) and select the first load step\nmapdl.post1()\nmapdl.set(1, 1)\n\nmapdl.post_processing.plot_nodal_displacement(\n    \"NORM\",\n    cpos=\"xy\",\n    cmap=\"magma\",\n)"
      ]
    },
    {
      "cell_type": "markdown",
      "metadata": {},
      "source": [
        "Plot nodal equivalent stress\n"
      ]
    },
    {
      "cell_type": "code",
      "execution_count": null,
      "metadata": {
        "collapsed": false
      },
      "outputs": [],
      "source": [
        "mapdl.post_processing.plot_nodal_eqv_stress(cpos=\"xy\", cmap=\"magma\")"
      ]
    },
    {
      "cell_type": "markdown",
      "metadata": {},
      "source": [
        "stop mapdl\n"
      ]
    },
    {
      "cell_type": "code",
      "execution_count": null,
      "metadata": {
        "collapsed": false
      },
      "outputs": [],
      "source": [
        "mapdl.exit()"
      ]
    }
  ],
  "metadata": {
    "kernelspec": {
      "display_name": "Python 3",
      "language": "python",
      "name": "python3"
    },
    "language_info": {
      "codemirror_mode": {
        "name": "ipython",
        "version": 3
      },
      "file_extension": ".py",
      "mimetype": "text/x-python",
      "name": "python",
      "nbconvert_exporter": "python",
      "pygments_lexer": "ipython3",
      "version": "3.8.14"
    }
  },
  "nbformat": 4,
  "nbformat_minor": 0
}