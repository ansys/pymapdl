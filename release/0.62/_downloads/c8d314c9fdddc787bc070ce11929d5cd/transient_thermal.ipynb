{
  "cells": [
    {
      "cell_type": "code",
      "execution_count": null,
      "metadata": {
        "collapsed": false
      },
      "outputs": [],
      "source": [
        "%matplotlib inline"
      ]
    },
    {
      "cell_type": "markdown",
      "metadata": {},
      "source": [
        "Example Thermal Transient Analysis {#ref_thermal_transient}\n==================================\n\nThis example shows how you can use PyMAPDL to input a time dependent\ntemperature table to vary the temperature at a beam. This uses\nconvection loads with independently varying convection coefficient and\nbulk temperature.\n\nExample adapted from:\n<https://www.simutechgroup.com/tips-and-tricks/fea-articles/97-fea-tips-tricks-thermal-transient>\n\nThanks SimuTech!\n"
      ]
    },
    {
      "cell_type": "code",
      "execution_count": null,
      "metadata": {
        "collapsed": false
      },
      "outputs": [],
      "source": [
        "# sphinx_gallery_thumbnail_number = 4\n\nimport matplotlib.pyplot as plt\nimport numpy as np\n\nfrom ansys.mapdl.core import launch_mapdl\n\nmapdl = launch_mapdl(loglevel=\"ERROR\")\n\nmapdl.clear()\nmapdl.prep7()\n\n# Material properties-- 1020 steel in imperial\nmapdl.units(\"BIN\")  # U.S. Customary system using inches (in, lbf*s2/in, s, \u00b0F).\nmapdl.mp(\"EX\", 1, 30023280.0)\nmapdl.mp(\"NUXY\", 1, 0.290000000)\nmapdl.mp(\"ALPX\", 1, 8.388888889e-06)\nmapdl.mp(\"DENS\", 1, 7.346344000e-04)\nmapdl.mp(\"KXX\", 1, 6.252196000e-04)\nmapdl.mp(\"C\", 1, 38.6334760)\n\n# use a thermal element type\nmapdl.et(1, \"SOLID70\")"
      ]
    },
    {
      "cell_type": "markdown",
      "metadata": {},
      "source": [
        "Geometry and Mesh\n=================\n\nCreate a block 5x1x1 inches in size and mesh it\n"
      ]
    },
    {
      "cell_type": "code",
      "execution_count": null,
      "metadata": {
        "collapsed": false
      },
      "outputs": [],
      "source": [
        "mapdl.block(0, 5, 0, 1, 0, 1)\nmapdl.lesize(\"ALL\", 0.2, layer1=1)\n\nmapdl.mshape(0, \"3D\")\nmapdl.mshkey(1)\nmapdl.vmesh(1)\nmapdl.eplot()"
      ]
    },
    {
      "cell_type": "markdown",
      "metadata": {},
      "source": [
        "Setup the Solution\n==================\n\nSolve a transient analysis while ramping the load up and down.\n\nNote the solution time commands in the above code fragment. The final\nTIME is set to 1000 seconds. Time substep size is permitted to range\nfrom a minimum of 2 seconds to a maximum of 50 seconds in the DELTIM\ncommand. A first substep of 10 seconds is applied. Automatic time\nsubstep sizing will vary substeps between the extremes.\n\nA Table Array is used for the time-dependent Convection Coefficient\nvalues. Times go in the Zeroth column, while associated Convection\nCoefficients go in the First column.\n"
      ]
    },
    {
      "cell_type": "code",
      "execution_count": null,
      "metadata": {
        "collapsed": false
      },
      "outputs": [],
      "source": [
        "mapdl.run(\"/SOLU\")\nmapdl.antype(4)  # transient analysis\nmapdl.trnopt(\"FULL\")  # full transient analysis\nmapdl.kbc(0)  # ramp loads up and down\n\n# Time stepping\nend_time = 1500\nmapdl.time(end_time)  # end time for load step\nmapdl.autots(\"ON\")  # use automatic time stepping\n\n\n# setup where the subset time is 10 seconds, time\nmapdl.deltim(10, 2, 25)  # substep size (seconds)\n#                          -- minimum value shorter than smallest\n#                            time change in the table arrays below\n\n# Create a table of convection times and coefficients and transfer it to MAPDL\nmy_conv = np.array(\n    [\n        [0, 0.001],  # start time\n        [120, 0.001],  # end of first \"flat\" zone\n        [130, 0.005],  # ramps up in 10 seconds\n        [700, 0.005],  # end of second \"flat zone\n        [710, 0.002],  # ramps down in 10 seconds\n        [end_time, 0.002],\n    ]\n)  # end of third \"flat\" zone\nmapdl.load_table(\"my_conv\", my_conv, \"TIME\")\n\n\n# Create a table of bulk temperatures for a given time and transfer to MAPDL\nmy_bulk = np.array(\n    [\n        [0, 100],  # start time\n        [120, 100],  # end of first \"flat\" zone\n        [500, 300],  # ramps up in 380 seconds\n        [700, 300],  # hold temperature for 200 seconds\n        [900, 75],  # temperature ramps down for 200 seconds\n        [end_time, 75],\n    ]\n)  # end of second \"flat\" zone\nmapdl.load_table(\"my_bulk\", my_bulk, \"TIME\")"
      ]
    },
    {
      "cell_type": "markdown",
      "metadata": {},
      "source": [
        "The Transient Thermal Solve\n===========================\n\nThis model is to be solved in one time step. For this reason, a `TSRES`\ncommand is used for force the solver to include a `SOLVE` at every time\npoint in the two Table Arrays above. This ensures that the\ntime-dependent curves are followed by the transient analysis.\nIntermediate solutions between the `TSRES` time points will be included\naccording to the `DELTIM` command and the automatic time stepping\ndecisions of the ANSYS solver.\n\nIn this example, the times for the `TSRES` array illustrated above have\nbeen determined manually. A set of APDL commands could be used to\nautomate this process for chosen Table Array entries, in more complex\nmodeling situations, including checks that no time intervals are too\nshort.\n\nResults at substeps will be wanted if the intermediate solutions of the\ntime-transient analysis are to be available for post-processing review.\nThe `OUTRES` command is used to control how much is written to the\nresults file. In this example the OUTRES command will be used to simply\nwrite out all results for all substeps. In work with large models and\nmay substeps, too much data will be written if such a strategy is\nemployed for `OUTRES`, and other options will need to be considered.\nNote that one option for the `OUTRES` command is to control times at\nwhich results are written with a Table Array, much as is used in the\n`TSRES` command, but typically for a larger number of time points,\nalthough including those of the TSRES array.\n\nThe initial condition starting temperature is controlled for this\nexample with the `TUNIF` command. Note that thermal transient analyses\ncan also have a starting temperature profile formed by a static thermal\n`SOLVE`. If a user neglects to set an initial temperature in ANSYS\nMechanical APDL, a value of zero will be used, which is often not what\nis desired.\n\nThe thermal convective loads are applied with an SF family command---in\nthis example a convective load is applied to the end face of the solid\nmodel by the SFA command, using the Table Array entries for convection\nand bulk temperature that were developed above. The Table Array names\nare surrounded with percent signs (%). A SOLVE is then performed.\n"
      ]
    },
    {
      "cell_type": "code",
      "execution_count": null,
      "metadata": {
        "collapsed": false
      },
      "outputs": [],
      "source": [
        "# Force transient solve to include the times within the conv and bulk arrays\n# my_tres = np.unique(np.vstack((my_bulk[:, 0], my_conv[:, 0])))[0]  # same as\nmapdl.parameters[\"my_tsres\"] = [120, 130, 500, 700, 710, 900, end_time]\nmapdl.tsres(\"%my_tsres%\")\n\nmapdl.outres(\"ERASE\")\nmapdl.outres(\"ALL\", \"ALL\")\n\nmapdl.eqslv(\"SPARSE\")  # use sparse solver\nmapdl.tunif(75)  # force uniform starting temperature (otherwise zero)\n\n# apply the convective load (convection coefficient plus bulk temperature)\n# use \"%\" around table array names\nmapdl.sfa(6, 1, \"CONV\", \"%my_conv%\", \" %my_bulk%\")\n\n# solve\nmapdl.solve()"
      ]
    },
    {
      "cell_type": "markdown",
      "metadata": {},
      "source": [
        "Post-Processing\n===============\n\nOpen up the result file using `ansys.mapdl.reader` result =\nmapdl.thermal\\_result\n"
      ]
    },
    {
      "cell_type": "code",
      "execution_count": null,
      "metadata": {
        "collapsed": false
      },
      "outputs": [],
      "source": [
        "mapdl.post1()"
      ]
    },
    {
      "cell_type": "markdown",
      "metadata": {},
      "source": [
        "Visualize a Slice\n=================\n\nVisualize a slice through the dataset using `pyvista` for more details\nvisit \\<<https://docs.pyvista.org/>\\>\\`\\_.\n"
      ]
    },
    {
      "cell_type": "code",
      "execution_count": null,
      "metadata": {
        "collapsed": false
      },
      "outputs": [],
      "source": [
        "# get the temperature of the 30th result set\nmapdl.set(1, 30)\ntemp = mapdl.post_processing.nodal_temperature()\n\n# Load this result into the underlying VTK grid\ngrid = mapdl.mesh._grid\ngrid[\"temperature\"] = temp\n\n# generate a single horizontal slice slice along the XY plane\nsingle_slice = grid.slice(normal=[0, 0, 1], origin=[0, 0, 0.5])\nsingle_slice.plot(scalars=\"temperature\")"
      ]
    },
    {
      "cell_type": "markdown",
      "metadata": {},
      "source": [
        "Visualize Several Slices\n========================\n\nThis shows how you can visualize a series of slices through a dataset\n"
      ]
    },
    {
      "cell_type": "code",
      "execution_count": null,
      "metadata": {
        "collapsed": false
      },
      "outputs": [],
      "source": [
        "# get the temperature of a different result set\nmapdl.set(1, 120)\ntemp = mapdl.post_processing.nodal_temperature()\n\n# Load this result into the underlying VTK grid\ngrid = mapdl.mesh._grid\ngrid[\"temperature\"] = temp\n\n# generate a single horizontal slice slice along the XY plane\nslices = grid.slice_along_axis(7, \"y\")\nslices.plot(scalars=\"temperature\", lighting=False, show_edges=True)"
      ]
    },
    {
      "cell_type": "markdown",
      "metadata": {},
      "source": [
        "Temperature at a Single Point\n=============================\n\nExtract the temperature at a single node and plot it with respect to the\ninput temperatures using `ansys.mapdl`\n\nHere, we use the `get_value` command which is very similar to the `*GET`\ncommand, except it immediately returns the value as a python accessible\nvariable, rather than storing it to a MAPDL value.\n"
      ]
    },
    {
      "cell_type": "code",
      "execution_count": null,
      "metadata": {
        "collapsed": false
      },
      "outputs": [],
      "source": [
        "# for example, the temperature of Node 12 is can be retrieved simply with:\nmapdl.get_value(\"node\", 12, \"TEMP\")\n\n# note that this is similar to # *GET, Par, NODE, N, Item1, IT1NUM, Item2, IT2NUM\n# See the MAPDL reference for all the items you can obtain using *GET"
      ]
    },
    {
      "cell_type": "markdown",
      "metadata": {},
      "source": [
        "Here, we extract the temperature of the node across for each solution\n"
      ]
    },
    {
      "cell_type": "code",
      "execution_count": null,
      "metadata": {
        "collapsed": false
      },
      "outputs": [],
      "source": [
        "nsets = mapdl.post_processing.nsets\nnode_temp = []\nfor i in range(1, 1 + nsets):\n    mapdl.set(1, i)\n    node_temp.append(mapdl.get_value(\"node\", 12, \"TEMP\"))\n\n# here are the first 10 temperatures\nnode_temp[:10]"
      ]
    },
    {
      "cell_type": "markdown",
      "metadata": {},
      "source": [
        "Alternatively, you can simply grab the data for the node from the entire\nresponse. This is less efficient as the entire data set is sent back for\neach result.\n"
      ]
    },
    {
      "cell_type": "code",
      "execution_count": null,
      "metadata": {
        "collapsed": false
      },
      "outputs": [],
      "source": [
        "# get the index of node 12 in MAPDL\nidx = np.nonzero(mapdl.mesh.nnum == 12)[0][0]\n\n# get the temperature at that index for each result\nnode_temp_from_post = []\nfor i in range(1, 1 + nsets):\n    mapdl.set(1, i)\n    node_temp_from_post.append(mapdl.post_processing.nodal_temperature()[idx])\n\n# Again, the first 10 temperatures\nnode_temp_from_post[:10]"
      ]
    },
    {
      "cell_type": "markdown",
      "metadata": {},
      "source": [
        "Plot the temperature as a function of time\n"
      ]
    },
    {
      "cell_type": "code",
      "execution_count": null,
      "metadata": {
        "collapsed": false
      },
      "outputs": [],
      "source": [
        "time_values = mapdl.post_processing.time_values\nplt.plot(time_values, node_temp, label=\"Node 12\")\nplt.plot(my_bulk[:, 0], my_bulk[:, 1], \":\", label=\"Input\")\nplt.legend()\nplt.xlabel(\"Time (seconds)\")\nplt.ylabel(\"Temperature ($^\\circ$F)\")\nplt.show()"
      ]
    },
    {
      "cell_type": "markdown",
      "metadata": {},
      "source": [
        "stop mapdl\n"
      ]
    },
    {
      "cell_type": "code",
      "execution_count": null,
      "metadata": {
        "collapsed": false
      },
      "outputs": [],
      "source": [
        "mapdl.exit()"
      ]
    }
  ],
  "metadata": {
    "kernelspec": {
      "display_name": "Python 3",
      "language": "python",
      "name": "python3"
    },
    "language_info": {
      "codemirror_mode": {
        "name": "ipython",
        "version": 3
      },
      "file_extension": ".py",
      "mimetype": "text/x-python",
      "name": "python",
      "nbconvert_exporter": "python",
      "pygments_lexer": "ipython3",
      "version": "3.8.14"
    }
  },
  "nbformat": 4,
  "nbformat_minor": 0
}