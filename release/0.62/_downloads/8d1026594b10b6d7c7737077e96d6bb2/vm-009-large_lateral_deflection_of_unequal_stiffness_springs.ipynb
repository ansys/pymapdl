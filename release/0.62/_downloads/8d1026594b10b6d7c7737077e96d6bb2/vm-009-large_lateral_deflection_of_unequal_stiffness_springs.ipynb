{
  "cells": [
    {
      "cell_type": "code",
      "execution_count": null,
      "metadata": {
        "collapsed": false
      },
      "outputs": [],
      "source": [
        "%matplotlib inline"
      ]
    },
    {
      "cell_type": "markdown",
      "metadata": {},
      "source": [
        "Large Lateral Deflection of Unequal Stiffness Springs {#ref_vm9_example}\n=====================================================\n\nProblem Description:\n\n:   -   A two-spring system is subjected to a force $F$ as shown below.\n        Determine the strain energy of the system and the displacements\n        $\\delta_x$ and $\\delta_y$.\n\nReference:\n\n:   -   G. N. Vanderplaats, *Numerical Optimization Techniques for\n        Engineering Design with Applications*, McGraw-Hill Book Co.,\n        Inc., New York, NY,1984, pp. 72-73, ex. 3-1.\n\nAnalysis Type(s):\n\n:   -   Nonlinear Transient Dynamic Analysis (`ANTYPE = 4`)\n\nElement Type(s):\n\n:   -   Spring-Damper Elements (COMBIN14)\n    -   Spring-Damper Elements (COMBIN40)\n\n![Geometry of COMBIN14 and COMBIN40](../../../_static/vm9_setup_2.png){width=\"400px\"}\n\nMaterial Properties\n\n:   -   $k_1 = 8\\,N/cm$\n    -   $k_2 = 1\\,N/cm$\n    -   $m = 1$\n\nGeometric Properties:\n\n:   -   $l = 10\\,cm$\n\nLoading:\n\n:   -   $F = 5{\\sqrt[2]{2}}\\,N$\n    -   $\\alpha = 45\\,\u00ba$\n\n![VM9 Problem Sketch](../../../_static/vm9_setup.png){width=\"400px\"}\n\nAnalysis Assumptions and Modeling Notes:\n\n:   -   The solution to this problem is best obtained by adding mass and\n        using the \\\"slow dynamics\\\" technique with approximately\n        critical damping. Combination elements `COMBIN40` are used to\n        provide damping in the $X$ and $Y$ directions. Approximate\n        damping coefficients $c_x$ and $c_y$, in the $X$ and $Y$\n        directions respectively, are determined from:\n\n        -   $c_x = \\sqrt[2]{k_xm}$\n        -   $c_y = \\sqrt[2]{k_ym}$\n\n        where m is arbitrarily assumed to be unity.\n\n    -   $k_x$ and $k_y$ cannot be known before solving so are\n        approximated by $k_y = k_2 = 1\\,N/cm$ and\n        $k_x = k_y/2 = 0.5\\,N/cm$, hence $c_x = 1.41$ and $c_y = 2.0$.\n        Large deflection analysis is performed due to the fact that the\n        resistance to the load is a function of the deformed position.\n        `POST1` is used to extract results from the solution phase.\n"
      ]
    },
    {
      "cell_type": "markdown",
      "metadata": {},
      "source": [
        "Start MAPDL\n===========\n\nStart MAPDL and import Numpy and Pandas libraries.\n"
      ]
    },
    {
      "cell_type": "code",
      "execution_count": null,
      "metadata": {
        "collapsed": false
      },
      "outputs": [],
      "source": [
        "# sphinx_gallery_thumbnail_path = '_static/vm9_setup.png'\n\nimport numpy as np\nimport pandas as pd\n\nfrom ansys.mapdl.core import launch_mapdl\n\n# Start MAPDL.\nmapdl = launch_mapdl()"
      ]
    },
    {
      "cell_type": "markdown",
      "metadata": {},
      "source": [
        "Pre-Processing\n==============\n\nEnter verification example mode and the pre-processing routine.\n"
      ]
    },
    {
      "cell_type": "code",
      "execution_count": null,
      "metadata": {
        "collapsed": false
      },
      "outputs": [],
      "source": [
        "mapdl.clear()\nmapdl.verify()\nmapdl.prep7(mute=True)"
      ]
    },
    {
      "cell_type": "markdown",
      "metadata": {},
      "source": [
        "Parameterization\n================\n\nParameterization block includes main variables as :\n\n-   $l = 10\\,cm$ - spring length.\n-   $k_1 = 8\\,N/cm$ - stiffness of the 1st spring.\n-   $k_2 = 1\\,N/cm$ - stiffness of the 2nd spring.\n-   $m = 1$ - mass.\n-   $F = 5\\sqrt[2]{2}\\,N$ - main load\n-   $\\alpha = 45\\,\u00ba$ - force angle\n-   $c_x = \\sqrt[2]{k_xm} = 1,41$ - damping coefficient, x-direction.\n-   $c_y = \\sqrt[2]{k_ym} = 2.0$ - damping coefficient, y-direction.\n"
      ]
    },
    {
      "cell_type": "code",
      "execution_count": null,
      "metadata": {
        "collapsed": false
      },
      "outputs": [],
      "source": [
        "# Main variables:\nlength = 10\nk_spring1 = 8\nk_spring2 = 1\nc_damp_x = 1.41\nc_damp_y = 2.0\nmass = 1\n\n# Fx and Fy has been obtained by the projection F on the X and Y axes.\nf_x = 5\nf_y = 5"
      ]
    },
    {
      "cell_type": "markdown",
      "metadata": {},
      "source": [
        "Define Element Type\n===================\n\nSet up the element types.\n"
      ]
    },
    {
      "cell_type": "code",
      "execution_count": null,
      "metadata": {
        "collapsed": false
      },
      "outputs": [],
      "source": [
        "# Element type COMBIN14.\nmapdl.et(1, \"COMBIN14\")\n\n# Special Features are defined by keyoptions of the element COMBIN14.\n# KEYOPT(3)(2)\n# Degree-of-freedom selection for 2-D and 3-D behavior:\n# 2-D longitudinal spring-damper (2-D elements must lie in an X-Y plane)\nmapdl.keyopt(1, 3, 2)\n\n# Element type COMBIN40.\nmapdl.et(3, \"COMBIN40\")\n\n# Special Features are defined by keyoptions of the element COMBIN40.\n# KEYOPT(3)(1)\n# Element degrees of freedom:\n# UX (Displacement along nodal X axes)\nmapdl.keyopt(3, 3, 1)\n\n# KEYOPT(6)(2)\n# Mass location:\n# Mass at node J\nmapdl.keyopt(3, 6, 2)\n\n# Element type COMBIN40.\nmapdl.et(4, \"COMBIN40\")\n\n# Special Features are defined by keyoptions of the element COMBIN40.\n# KEYOPT(3)(2)\n# Element degrees of freedom:\n# UX (Displacement along nodal X axes)\nmapdl.keyopt(4, 3, 2)\n\n# KEYOPT(6)(2)\n# Mass location:\n# Mass at node J\nmapdl.keyopt(4, 6, 2)\n\n# Print the list of the elements and their attributes.\nprint(mapdl.etlist())"
      ]
    },
    {
      "cell_type": "markdown",
      "metadata": {},
      "source": [
        "Define Real Constants\n=====================\n\nDefine damping coefficients $c_x = 1.41$, $c_y = 2.0$ and stiffness\nvalues $k_1 = 8\\,N/cm$, $k_2 = 1\\,N/cm$ for the spring elements.\n"
      ]
    },
    {
      "cell_type": "code",
      "execution_count": null,
      "metadata": {
        "collapsed": false
      },
      "outputs": [],
      "source": [
        "# Define real constant 1 with stiffness k2.\nmapdl.r(nset=1, r1=k_spring2)  # SPRING STIFFNESS = 1\n\n# Define real constant 2 with stiffness k1.\nmapdl.r(nset=2, r1=k_spring1)  # SPRING STIFFNESS = 8\n\n# Define real constant 3 with damping coef. in X-direction and mass.\nmapdl.r(nset=3, r2=c_damp_x, r3=mass)\n\n# Define real constant 4 with damping coef. in y-direction and mass.\nmapdl.r(nset=4, r2=c_damp_y, r3=mass)\n\n# Print the real constant list.\nprint(mapdl.rlist())"
      ]
    },
    {
      "cell_type": "markdown",
      "metadata": {},
      "source": [
        "Define Nodes\n============\n\nSet up the nodes coordinates using python `for` loop.\n"
      ]
    },
    {
      "cell_type": "code",
      "execution_count": null,
      "metadata": {
        "collapsed": false
      },
      "outputs": [],
      "source": [
        "# Lists with nodes coordinates.\nnode_x_coord = [0, 0, 0, -1, 0]\nnode_y_coord = [0, 10, 20, 10, 9]\n\n# Create nodes.\nfor i in range(0, 5):\n    mapdl.n(node=i + 1, x=node_x_coord[i], y=node_y_coord[i])\n\n# Print the list of the created nodes.\nprint(mapdl.nlist())"
      ]
    },
    {
      "cell_type": "markdown",
      "metadata": {},
      "source": [
        "Create Elements\n===============\n\nCreate the elements through the nodes.\n"
      ]
    },
    {
      "cell_type": "code",
      "execution_count": null,
      "metadata": {
        "collapsed": false
      },
      "outputs": [],
      "source": [
        "# Create  spring element COMBIN14 between nodes 1 nad 2\n# with stiffness k_2 = 1 N/cm.\nmapdl.type(1)\nmapdl.real(1)\nmapdl.e(1, 2)\n\n# Create  spring element COMBIN14 between nodes 2 nad 3\n# with stiffness k_1 = 8 N/cm.\nmapdl.type(1)\nmapdl.real(2)\nmapdl.e(2, 3)\n\n# Create  spring element COMBIN40 between nodes 4 nad 2\n# with damping coefficient c_x = 1.41.\nmapdl.type(3)\nmapdl.real(3)\nmapdl.e(4, 2)\n\n# Create  spring element COMBIN40 between nodes 5 nad 2\n# with damping coefficient c_y = 2.0.\nmapdl.type(4)\nmapdl.real(4)\nmapdl.e(5, 2)\n\n# Print the list of the created elements.\nprint(mapdl.elist())"
      ]
    },
    {
      "cell_type": "markdown",
      "metadata": {},
      "source": [
        "Define Boundary Conditions\n==========================\n\nApplication of boundary conditions (BC) for the spring model.\n"
      ]
    },
    {
      "cell_type": "code",
      "execution_count": null,
      "metadata": {
        "collapsed": false
      },
      "outputs": [],
      "source": [
        "# Unselect the node where the force is applied.\nmapdl.nsel(\"U\", \"NODE\", vmin=2)\n\n# Apply BC to the selected set of the nodes.\nmapdl.d(\"ALL\", \"ALL\")\nmapdl.nsel(\"ALL\")\n\n# Finish pre-processing mode.\nmapdl.finish(mute=True)"
      ]
    },
    {
      "cell_type": "markdown",
      "metadata": {},
      "source": [
        "Solution settings\n=================\n\nEnter solution mode and apply settings for *Transient Dynamic Analysis*.\n"
      ]
    },
    {
      "cell_type": "code",
      "execution_count": null,
      "metadata": {
        "collapsed": false
      },
      "outputs": [],
      "source": [
        "# Starts solution (/solu) mode.\nmapdl.slashsolu()\n\n# Define transient analysis with large deflection setting.\nmapdl.antype(\"TRANS\")\nmapdl.nlgeom(\"ON\")\n\n# Specifies the stepped loading condition within a load step.\nmapdl.kbc(1)\n\n# Apply forces to the node 2.\nmapdl.f(2, \"FX\", f_x)\nmapdl.f(2, \"FY\", f_y)\n\n# Uses automatic time stepping.\nmapdl.autots(\"ON\")\n\n# Specifies the number of substeps to be taken this load step.\nmapdl.nsubst(30)\n\n# Controls the solution printout.\nmapdl.outpr(\"\", \"LAST\")\nmapdl.outpr(\"VENG\", \"LAST\")\n\n# Sets the time for a load step.\nmapdl.time(15, mute=True)"
      ]
    },
    {
      "cell_type": "markdown",
      "metadata": {},
      "source": [
        "Solve\n=====\n\nSolve the system , avoiding the printing output.\n"
      ]
    },
    {
      "cell_type": "code",
      "execution_count": null,
      "metadata": {
        "collapsed": false
      },
      "outputs": [],
      "source": [
        "# Run the simulation.\nmapdl.solve()\nmapdl.finish(mute=True)"
      ]
    },
    {
      "cell_type": "markdown",
      "metadata": {},
      "source": [
        "Post-processing\n===============\n\nEnter post-processing, avoiding the printing output.\n"
      ]
    },
    {
      "cell_type": "code",
      "execution_count": null,
      "metadata": {
        "collapsed": false
      },
      "outputs": [],
      "source": [
        "# Enter the post-processing mode.\nmapdl.post1(mute=True)"
      ]
    },
    {
      "cell_type": "markdown",
      "metadata": {},
      "source": [
        "Getting Displacements\n=====================\n\nEnter post-processing. To get results of the strain energy and\ndisplacements in X and Y directions from the node where the force is\napplied using\n`Mapdl.get_value <ansys.mapdl.core.Mapdl.get_value>`{.interpreted-text\nrole=\"meth\"}.\n"
      ]
    },
    {
      "cell_type": "code",
      "execution_count": null,
      "metadata": {
        "collapsed": false
      },
      "outputs": [],
      "source": [
        "# Defines the data set to be read from the results file by the time-point.\nmapdl.set(time=15)\n\n# Fills a table of element values for further processing for strain energy.\nmapdl.etable(\"SENE\", \"SENE\")\n\n# Sum all active entries in element stress table.\nmapdl.ssum()\n\n# Get the value of the stain energy of the spring elements.\nstrain_energy = mapdl.get_value(entity=\"SSUM\", entnum=0, item1=\"ITEM\", it1num=\"SENE\")\n\n# Prints nodal solution results of the X, Y, and Z structural displacements\n# and vector sum.\nprint(mapdl.prnsol(\"U\", \"COMP\"))\n\n# Get the value of the displacements in X-direction.\ndisp_x = mapdl.get_value(entity=\"NODE\", entnum=2, item1=\"U\", it1num=\"X\")\n\n# Get the value of the displacements in Y-direction.\ndisp_y = mapdl.get_value(entity=\"NODE\", entnum=2, item1=\"U\", it1num=\"Y\")"
      ]
    },
    {
      "cell_type": "markdown",
      "metadata": {},
      "source": [
        "Check Results\n=============\n\nFinally we have the results of the strain energy and displacements in\n$X$ and $Y$ directions, which can be compared with expected target\nvalues:\n\n-   Strain energy of the system $U_{\\mathrm{(energy)}} = 24.01\\;N\\,cm$.\n-   Displacement in X-direction $U_x = 8.631\\,cm$.\n-   Displacement in Y-direction $U_y = 4.533\\,cm$.\n\nFor better representation of the results we can use `pandas` dataframe\nwith following settings below:\n"
      ]
    },
    {
      "cell_type": "code",
      "execution_count": null,
      "metadata": {
        "collapsed": false
      },
      "outputs": [],
      "source": [
        "# Define the names of the rows.\nrow_names = [\"Strain Energy, N-cm\", \"Deflection-x , cm\", \"Deflection-y , cm\"]\n\n# Define the names of the columns.\ncol_names = [\"Target\", \"Mechanical APDL\", \"RATIO\"]\n\n# Define the values of the target results.\ntarget_res = np.asarray([24.01, 8.631, 4.533])\n\n# Create an array with outputs of the simulations.\nsimulation_res = np.asarray([strain_energy, disp_x, disp_y])\n\n# Identifying and filling corresponding columns.\nmain_columns = {\n    \"Target\": target_res,\n    \"Mechanical APDL\": simulation_res,\n    \"Ratio\": list(np.divide(simulation_res, target_res)),\n}\n\n# Create and fill the output dataframe with pandas.\ndf2 = pd.DataFrame(main_columns, index=row_names).round(2)\n\n# Apply settings for the dataframe.\ndf2.head()"
      ]
    },
    {
      "cell_type": "markdown",
      "metadata": {},
      "source": [
        "stop mapdl\n"
      ]
    },
    {
      "cell_type": "code",
      "execution_count": null,
      "metadata": {
        "collapsed": false
      },
      "outputs": [],
      "source": [
        "mapdl.exit()"
      ]
    }
  ],
  "metadata": {
    "kernelspec": {
      "display_name": "Python 3",
      "language": "python",
      "name": "python3"
    },
    "language_info": {
      "codemirror_mode": {
        "name": "ipython",
        "version": 3
      },
      "file_extension": ".py",
      "mimetype": "text/x-python",
      "name": "python",
      "nbconvert_exporter": "python",
      "pygments_lexer": "ipython3",
      "version": "3.8.14"
    }
  },
  "nbformat": 4,
  "nbformat_minor": 0
}