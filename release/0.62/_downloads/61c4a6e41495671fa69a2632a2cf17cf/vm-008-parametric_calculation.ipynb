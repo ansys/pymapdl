{
  "cells": [
    {
      "cell_type": "code",
      "execution_count": null,
      "metadata": {
        "collapsed": false
      },
      "outputs": [],
      "source": [
        "%matplotlib inline"
      ]
    },
    {
      "cell_type": "markdown",
      "metadata": {},
      "source": [
        "Parametric Calculation {#ref_vm8_example}\n======================\n\nProblem Description:\n\n:   -   Write a user file macro to calculate the distance `d` between\n        either nodes or keypoints in `PREP7`. Define abbreviations for\n        calling the macro and verify the parametric expressions by using\n        the macro to calculate the distance between nodes $N_1$ and\n        $N_2$ and between keypoints $K_3$ and $K_4$.\n\nReference:\n\n:   -   None.\n\nAnalysis Type(s):\n\n:   -   Parametric Arithmetic.\n\nElement Type:\n\n:   -   None.\n\nGeometric Properties(Coordinates):\n\n:   -   $N_{\\mathrm{1(x,y,z)}} = 1.5, 2.5, 3.5$\n    -   $N_{\\mathrm{2(x,y,z)}} = -3.7, 4.6, -3$\n    -   $K_{\\mathrm{3(x,y,z)}} = 100, 0, 30$\n    -   $K_{\\mathrm{4(x,y,z)}} = -200,25,80$\n\n![VM8 Problem Sketch](../../../_static/vm8_setup.png){width=\"300px\"}\n\nAnalysis Assumptions and Modeling Notes:\n\n:   -   Instead of `*CREATE`, `*USE`, etc., we have created a class\n        `Create` with methods that correspond to each type of\n        simulation. This class gives a possibility to change coordinates\n        and reuse it. The simulation can be checked not just by target\n        values, but also with the simple distances\\' formula between\n        keypoints as:\n        -   \n\n            Calculate distance between two keypoints in the Cartesian coordinate system:\n\n            :   $D = \\sqrt[2]{(x_2 - x_1)^2 + (y_2 - y_1)^2 + (z_2 - z_1)^2}$\n\n        -   \n\n            Python representation of the distance formula:\n\n            :   ::: {.doctest}\n                import math \\# Define coordinates for keypoints K3 and\n                K4. x1, y1, z1 = 100, 0, 30 x2, y2, z2 = -200, 25, 80\n                dist\\_kp = math.sqrt((x2 - x1)**2 + (y2 - y1)**2 + (z2 -\n                z1)\\*\\*2) print(dist\\_kp)\n                :::\n"
      ]
    },
    {
      "cell_type": "markdown",
      "metadata": {},
      "source": [
        "Start MAPDL\n===========\n\nStart MAPDL and import Numpy and Pandas libraries.\n"
      ]
    },
    {
      "cell_type": "code",
      "execution_count": null,
      "metadata": {
        "collapsed": false
      },
      "outputs": [],
      "source": [
        "# sphinx_gallery_thumbnail_path = '_static/vm8_setup.png'\n\nimport numpy as np\nimport pandas as pd\n\nfrom ansys.mapdl.core import launch_mapdl\n\n# Start MAPDL.\nmapdl = launch_mapdl()"
      ]
    },
    {
      "cell_type": "markdown",
      "metadata": {},
      "source": [
        "Pre-Processing\n==============\n\nEnter verification example mode and the pre-processing routine.\n"
      ]
    },
    {
      "cell_type": "code",
      "execution_count": null,
      "metadata": {
        "collapsed": false
      },
      "outputs": [],
      "source": [
        "mapdl.clear()\nmapdl.verify()\nmapdl.prep7(mute=True)"
      ]
    },
    {
      "cell_type": "markdown",
      "metadata": {},
      "source": [
        "Define Class\n============\n\nIdentifying the class `create` with methods `create_kp_method` and\n`create_node_method` to calculate and plot the distances between\nkeypoints and nodes.\n"
      ]
    },
    {
      "cell_type": "code",
      "execution_count": null,
      "metadata": {
        "collapsed": false
      },
      "outputs": [],
      "source": [
        "class Create:\n    def __init__(self, p1, p2):\n        # Points Attributes.\n        self.p1 = p1\n        self.p2 = p2\n\n    def kp_distances(self):\n\n        # Define keypoints by coordinates.\n        kp1 = mapdl.k(npt=3, x=self.p1[0], y=self.p1[1], z=self.p1[2])\n        kp2 = mapdl.k(npt=4, x=self.p2[0], y=self.p2[1], z=self.p2[2])\n\n        # Get the distance between keypoints.\n        dist_kp, kx, ky, kz = mapdl.kdist(kp1, kp2)\n\n        # Plot keypoints.\n        mapdl.kplot(\n            show_keypoint_numbering=True,\n            vtk=True,\n            background=\"grey\",\n            show_bounds=True,\n            font_size=26,\n        )\n        return dist_kp\n\n    def node_distances(self):\n\n        # Define nodes by coordinates.\n        node1 = mapdl.n(node=1, x=self.p1[0], y=self.p1[1], z=self.p1[2])\n        node2 = mapdl.n(node=2, x=self.p2[0], y=self.p2[1], z=self.p2[2])\n\n        # Get the distance between nodes.\n        dist_node, node_x, node_y, node_z = mapdl.ndist(node1, node2)\n\n        # Plot nodes.\n        mapdl.nplot(nnum=True, vtk=True, color=\"grey\", show_bounds=True, font_size=26)\n        return dist_node\n\n    @property\n    def p1(self):\n        # Getting value\n        return self._p1\n\n    @p1.setter\n    def p1(self, new_value):\n        # Check the data type:\n        if not isinstance(new_value, list):\n            raise ValueError(\"The coordinates should be implemented by the list!\")\n        # Check the quantity of items:\n        if len(new_value) != 3:\n            raise ValueError(\n                \"The coordinates should have three items in the list as [X, Y, Z]\"\n            )\n        self._p1 = new_value\n\n    @property\n    def p2(self):\n        return self._p2\n\n    @p2.setter\n    def p2(self, new_value):\n        # Check the data type:\n        if not isinstance(new_value, list):\n            raise ValueError(\"The coordinates should be implemented by the list!\")\n        # Check the quantity of items:\n        if len(new_value) != 3:\n            raise ValueError(\n                \"The coordinates should have three items in the list as [X, Y, Z]\"\n            )\n        self._p2 = new_value"
      ]
    },
    {
      "cell_type": "markdown",
      "metadata": {},
      "source": [
        "Distance between keypoints\n==========================\n\nUsing already created method for keypoints to get the distance between\nthem and print out an output. The keypoints have got next coordinates:\n\n-   $K_{\\mathrm{3(x,y,z)}} = 100, 0, 30$\n-   $K_{\\mathrm{4(x,y,z)}} = -200, 25,80$\n"
      ]
    },
    {
      "cell_type": "code",
      "execution_count": null,
      "metadata": {
        "collapsed": false
      },
      "outputs": [],
      "source": [
        "kp1 = [100, 0, 30]\nkp2 = [-200, 25, 80]\nkp = Create(kp1, kp2)\nkp_dist = kp.kp_distances()\nprint(f\"Distance between keypoint is: {kp_dist:.2f}\\n\\n\")\n\n# Print the list of keypoints.\nprint(mapdl.klist())"
      ]
    },
    {
      "cell_type": "markdown",
      "metadata": {},
      "source": [
        "Distance between nodes.\n=======================\n\nUsing already created method for nodes to get the distance between them\nand print out an output. The nodes have got next coordinates:\n\n-   $N_{\\mathrm{1(x,y,z)}} = 1.5, 2.5, 3.5$\n-   $N_{\\mathrm{2(x,y,z)}} = -3.7, 4.6, -3$\n"
      ]
    },
    {
      "cell_type": "code",
      "execution_count": null,
      "metadata": {
        "collapsed": false
      },
      "outputs": [],
      "source": [
        "node1 = [1.5, 2.5, 3.5]\nnode2 = [-3.7, 4.6, -3]\nnodes = Create(node1, node2)\nnode_dist = nodes.node_distances()\nprint(f\"Distance between nodes is: {node_dist:.2f}\\n\\n\")\n\n# Print the list of nodes.\nprint(mapdl.nlist())"
      ]
    },
    {
      "cell_type": "markdown",
      "metadata": {},
      "source": [
        "Check Results\n=============\n\nFinally we have the results of the distances for both simulations, which\ncan be compared with expected target values:\n\n-   1st simulation to get the distance between keypoints $K_3$ and\n    $K_4$, where $LEN_1 = 305.16\\,(in)$\n-   2nd simulation to get the distance between nodes $N_1$ and $N_2$,\n    where $LEN_2 = 8.58\\,(in)$\n\nFor better representation of the results we can use `pandas` dataframe\nwith following settings below:\n"
      ]
    },
    {
      "cell_type": "code",
      "execution_count": null,
      "metadata": {
        "collapsed": false
      },
      "outputs": [],
      "source": [
        "# Define the names of the rows.\nrow_names = [\"N1 - N2 distance (LEN2)\", \"K3 - K4 distance (LEN1)\"]\n\n# Define the names of the columns.\ncol_names = [\"Target\", \"Mechanical APDL\", \"RATIO\"]\n\n# Define the values of the target results.\ntarget_res = np.asarray([8.5849, 305.16])\n\n# Create an array with outputs of the simulations.\nsimulation_res = np.asarray([node_dist, kp_dist])\n\n# Identifying and filling corresponding columns.\nmain_columns = {\n    \"Target\": target_res,\n    \"Mechanical APDL\": simulation_res,\n    \"Ratio\": list(np.divide(simulation_res, target_res)),\n}\n\n# Create and fill the output dataframe with pandas.\ndf2 = pd.DataFrame(main_columns, index=row_names).round(2)\n\n# Apply settings for the dataframe.\ndf2.head()"
      ]
    },
    {
      "cell_type": "markdown",
      "metadata": {},
      "source": [
        "stop mapdl\n"
      ]
    },
    {
      "cell_type": "code",
      "execution_count": null,
      "metadata": {
        "collapsed": false
      },
      "outputs": [],
      "source": [
        "mapdl.exit()"
      ]
    }
  ],
  "metadata": {
    "kernelspec": {
      "display_name": "Python 3",
      "language": "python",
      "name": "python3"
    },
    "language_info": {
      "codemirror_mode": {
        "name": "ipython",
        "version": 3
      },
      "file_extension": ".py",
      "mimetype": "text/x-python",
      "name": "python",
      "nbconvert_exporter": "python",
      "pygments_lexer": "ipython3",
      "version": "3.8.14"
    }
  },
  "nbformat": 4,
  "nbformat_minor": 0
}