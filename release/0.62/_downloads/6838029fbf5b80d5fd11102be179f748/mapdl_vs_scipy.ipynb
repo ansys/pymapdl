{
  "cells": [
    {
      "cell_type": "code",
      "execution_count": null,
      "metadata": {
        "collapsed": false
      },
      "outputs": [],
      "source": [
        "%matplotlib inline"
      ]
    },
    {
      "cell_type": "markdown",
      "metadata": {},
      "source": [
        "Compute Eigenvalues using MAPDL or SciPy {#ref_mapdl_math_mapdl_vs_scipy}\n========================================\n\nThis example shows:\n\n-   How to extract the stiffness and mass matrices from a MAPDL model.\n-   How to use the `Math` module of PyMapdl to compute the first\n    eigenvalues.\n-   How to can get these matrices in the SciPy world, to get the same\n    solutions using Python resources.\n-   How MAPDL is really faster than SciPy :)\n"
      ]
    },
    {
      "cell_type": "code",
      "execution_count": null,
      "metadata": {
        "collapsed": false
      },
      "outputs": [],
      "source": [
        "import math"
      ]
    },
    {
      "cell_type": "markdown",
      "metadata": {},
      "source": [
        "First load python packages we need for this example\n"
      ]
    },
    {
      "cell_type": "code",
      "execution_count": null,
      "metadata": {
        "collapsed": false
      },
      "outputs": [],
      "source": [
        "import time\n\nimport matplotlib.pylab as plt\nimport numpy as np\nimport scipy\nfrom scipy.sparse.linalg import eigsh\n\nfrom ansys.mapdl.core import examples, launch_mapdl"
      ]
    },
    {
      "cell_type": "markdown",
      "metadata": {},
      "source": [
        "Next:\n\n-   Load the ansys.mapdl module\n-   Get the `Math` module of PyMapdl\n"
      ]
    },
    {
      "cell_type": "code",
      "execution_count": null,
      "metadata": {
        "collapsed": false
      },
      "outputs": [],
      "source": [
        "mapdl = launch_mapdl()\nprint(mapdl)\nmm = mapdl.math"
      ]
    },
    {
      "cell_type": "markdown",
      "metadata": {},
      "source": [
        "APDLMath EigenSolve First load the input file using MAPDL.\n"
      ]
    },
    {
      "cell_type": "code",
      "execution_count": null,
      "metadata": {
        "collapsed": false
      },
      "outputs": [],
      "source": [
        "print(mapdl.input(examples.examples.wing_model))"
      ]
    },
    {
      "cell_type": "markdown",
      "metadata": {},
      "source": [
        "Plot and mesh using the `eplot` method.\n"
      ]
    },
    {
      "cell_type": "code",
      "execution_count": null,
      "metadata": {
        "collapsed": false
      },
      "outputs": [],
      "source": [
        "mapdl.eplot()"
      ]
    },
    {
      "cell_type": "markdown",
      "metadata": {},
      "source": [
        "Next, setup a modal Analysis and request the $K$ and\nmath:[M]{.title-ref} matrices to be formed. MAPDL stores these matrices\nin a `.FULL` file.\n"
      ]
    },
    {
      "cell_type": "code",
      "execution_count": null,
      "metadata": {
        "collapsed": false
      },
      "outputs": [],
      "source": [
        "print(mapdl.slashsolu())\nprint(mapdl.antype(antype=\"MODAL\"))\nprint(mapdl.modopt(method=\"LANB\", nmode=\"10\", freqb=\"1.\"))\nprint(mapdl.wrfull(ldstep=\"1\"))\n\n# store the output of the solve command\noutput = mapdl.solve()"
      ]
    },
    {
      "cell_type": "markdown",
      "metadata": {},
      "source": [
        "Read the sparse matrices using PyMapdl.\n"
      ]
    },
    {
      "cell_type": "code",
      "execution_count": null,
      "metadata": {
        "collapsed": false
      },
      "outputs": [],
      "source": [
        "mapdl.finish()\nmm.free()\nk = mm.stiff(fname=\"file.full\")\nM = mm.mass(fname=\"file.full\")"
      ]
    },
    {
      "cell_type": "markdown",
      "metadata": {},
      "source": [
        "Solve the eigenproblem using PyMapdl with APDLMath.\n"
      ]
    },
    {
      "cell_type": "code",
      "execution_count": null,
      "metadata": {
        "collapsed": false
      },
      "outputs": [],
      "source": [
        "nev = 10\nA = mm.mat(k.nrow, nev)\n\nt1 = time.time()\nev = mm.eigs(nev, k, M, phi=A, fmin=1.0)\nt2 = time.time()\nmapdl_elapsed_time = t2 - t1\nprint(\"\\nElapsed time to solve this problem : \", mapdl_elapsed_time)"
      ]
    },
    {
      "cell_type": "markdown",
      "metadata": {},
      "source": [
        "Print eigenfrequencies and accuracy.\n\nAccuracy : $\\frac{||(K-\\lambda.M).\\phi||_2}{||K.\\phi||_2}$\n"
      ]
    },
    {
      "cell_type": "code",
      "execution_count": null,
      "metadata": {
        "collapsed": false
      },
      "outputs": [],
      "source": [
        "mapdl_acc = np.empty(nev)\n\nfor i in range(nev):\n    f = ev[i]  # Eigenfrequency (Hz)\n    omega = 2 * np.pi * f  # omega = 2.pi.Frequency\n    lam = omega**2  # lambda = omega^2\n\n    phi = A[i]  # i-th eigenshape\n    kphi = k.dot(phi)  # K.Phi\n    mphi = M.dot(phi)  # M.Phi\n\n    kphi_nrm = kphi.norm()  # Normalization scalar value\n\n    mphi *= lam  # (K-\\lambda.M).Phi\n    kphi -= mphi\n\n    mapdl_acc[i] = kphi.norm() / kphi_nrm  # compute the residual\n    print(f\"[{i}] : Freq = {f:8.2f} Hz\\t Residual = {mapdl_acc[i]:.5}\")"
      ]
    },
    {
      "cell_type": "markdown",
      "metadata": {},
      "source": [
        "Use SciPy to Solve the same Eigenproblem\n========================================\n\nFirst get MAPDL sparse matrices into the Python memory as SciPy\nmatrices.\n"
      ]
    },
    {
      "cell_type": "code",
      "execution_count": null,
      "metadata": {
        "collapsed": false
      },
      "outputs": [],
      "source": [
        "pk = k.asarray()\npm = M.asarray()\n\n# get_ipython().run_line_magic('matplotlib', 'inline')\n\nfig, (ax1, ax2) = plt.subplots(1, 2)\nfig.suptitle(\"K and M Matrix profiles\")\nax1.spy(pk, markersize=0.01)\nax1.set_title(\"K Matrix\")\nax2.spy(pm, markersize=0.01)\nax2.set_title(\"M Matrix\")\nplt.show(block=True)"
      ]
    },
    {
      "cell_type": "markdown",
      "metadata": {},
      "source": [
        "Make the sparse matrices for SciPy unsymmetric as symmetric matrices in\nSciPy are memory inefficient.\n\n$K = K + K^T - diag(K)$\n"
      ]
    },
    {
      "cell_type": "code",
      "execution_count": null,
      "metadata": {
        "collapsed": false
      },
      "outputs": [],
      "source": [
        "pkd = scipy.sparse.diags(pk.diagonal())\npK = pk + pk.transpose() - pkd\npmd = scipy.sparse.diags(pm.diagonal())\npm = pm + pm.transpose() - pmd"
      ]
    },
    {
      "cell_type": "markdown",
      "metadata": {},
      "source": [
        "Plot Matrices\n"
      ]
    },
    {
      "cell_type": "code",
      "execution_count": null,
      "metadata": {
        "collapsed": false
      },
      "outputs": [],
      "source": [
        "fig, (ax1, ax2) = plt.subplots(1, 2)\nfig.suptitle(\"K and M Matrix profiles\")\nax1.spy(pk, markersize=0.01)\nax1.set_title(\"K Matrix\")\nax2.spy(pm, markersize=0.01)\nax2.set_title(\"M Matrix\")\nplt.show(block=True)"
      ]
    },
    {
      "cell_type": "markdown",
      "metadata": {},
      "source": [
        "Solve the eigenproblem\n"
      ]
    },
    {
      "cell_type": "code",
      "execution_count": null,
      "metadata": {
        "collapsed": false
      },
      "outputs": [],
      "source": [
        "t3 = time.time()\nvals, vecs = eigsh(A=pK, M=pm, k=10, sigma=1, which=\"LA\")\nt4 = time.time()\nscipy_elapsed_time = t4 - t3\nprint(\"\\nElapsed time to solve this problem : \", scipy_elapsed_time)"
      ]
    },
    {
      "cell_type": "markdown",
      "metadata": {},
      "source": [
        "Convert Lambda values to Frequency values:\n$freq = \\frac{\\sqrt(\\lambda)}{2.\\pi}$\n"
      ]
    },
    {
      "cell_type": "code",
      "execution_count": null,
      "metadata": {
        "collapsed": false
      },
      "outputs": [],
      "source": [
        "freqs = np.sqrt(vals) / (2 * math.pi)"
      ]
    },
    {
      "cell_type": "markdown",
      "metadata": {},
      "source": [
        "Compute the residual error for SciPy.\n\n$Err=\\frac{||(K-\\lambda.M).\\phi||_2}{||K.\\phi||_2}$\n"
      ]
    },
    {
      "cell_type": "code",
      "execution_count": null,
      "metadata": {
        "collapsed": false
      },
      "outputs": [],
      "source": [
        "scipy_acc = np.zeros(nev)\n\nfor i in range(nev):\n    lam = vals[i]  # i-th eigenvalue\n    phi = vecs.T[i]  # i-th eigenshape\n\n    kphi = pk * phi.T  # K.Phi\n    mphi = pm * phi.T  # M.Phi\n\n    kphi_nrm = np.linalg.norm(kphi, 2)  # Normalization scalar value\n\n    mphi *= lam  # (K-\\lambda.M).Phi\n    kphi -= mphi\n\n    scipy_acc[i] = 1 - np.linalg.norm(kphi, 2) / kphi_nrm  # compute the residual\n    print(f\"[{i}] : Freq = {freqs[i]:8.2f} Hz\\t Residual = {scipy_acc[i]:.5}\")"
      ]
    },
    {
      "cell_type": "markdown",
      "metadata": {},
      "source": [
        "MAPDL is more accurate than SciPy.\n"
      ]
    },
    {
      "cell_type": "code",
      "execution_count": null,
      "metadata": {
        "collapsed": false
      },
      "outputs": [],
      "source": [
        "fig = plt.figure(figsize=(12, 10))\nax = plt.axes()\nx = np.linspace(1, 10, 10)\nplt.title(\"Residual Error\")\nplt.yscale(\"log\")\nplt.xlabel(\"Mode\")\nplt.ylabel(\"% Error\")\nax.bar(x, scipy_acc, label=\"SciPy Results\")\nax.bar(x, mapdl_acc, label=\"MAPDL Results\")\nplt.legend(loc=\"lower right\")\nplt.show()"
      ]
    },
    {
      "cell_type": "markdown",
      "metadata": {},
      "source": [
        "MAPDL is faster than SciPy.\n"
      ]
    },
    {
      "cell_type": "code",
      "execution_count": null,
      "metadata": {
        "collapsed": false
      },
      "outputs": [],
      "source": [
        "ratio = scipy_elapsed_time / mapdl_elapsed_time\nprint(f\"Mapdl is {ratio:.3} times faster\")"
      ]
    },
    {
      "cell_type": "markdown",
      "metadata": {},
      "source": [
        "stop mapdl\n"
      ]
    },
    {
      "cell_type": "code",
      "execution_count": null,
      "metadata": {
        "collapsed": false
      },
      "outputs": [],
      "source": [
        "mapdl.exit()"
      ]
    }
  ],
  "metadata": {
    "kernelspec": {
      "display_name": "Python 3",
      "language": "python",
      "name": "python3"
    },
    "language_info": {
      "codemirror_mode": {
        "name": "ipython",
        "version": 3
      },
      "file_extension": ".py",
      "mimetype": "text/x-python",
      "name": "python",
      "nbconvert_exporter": "python",
      "pygments_lexer": "ipython3",
      "version": "3.8.14"
    }
  },
  "nbformat": 4,
  "nbformat_minor": 0
}