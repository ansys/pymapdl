{
  "cells": [
    {
      "cell_type": "code",
      "execution_count": null,
      "metadata": {
        "collapsed": false
      },
      "outputs": [],
      "source": [
        "%matplotlib inline"
      ]
    },
    {
      "cell_type": "markdown",
      "metadata": {},
      "source": [
        "Keypoints {#ref_basic-geometry-keypoints}\n=========\n\nThis example shows how you can use PyMAPDL to create basic geometry\nusing Pythonic PREP7 commands.\n\nThis section is focused on creating keypoints.\n"
      ]
    },
    {
      "cell_type": "code",
      "execution_count": null,
      "metadata": {
        "collapsed": false
      },
      "outputs": [],
      "source": [
        "import numpy as np\n\nfrom ansys.mapdl.core import launch_mapdl\n\n# start MAPDL and enter the pre-processing routine\nmapdl = launch_mapdl()\nmapdl.clear()\nmapdl.prep7()\nprint(mapdl)"
      ]
    },
    {
      "cell_type": "markdown",
      "metadata": {},
      "source": [
        "APDL Command: K\n===============\n\nCreate a single keypoint at `[0, 0, 0]`. Note that the first value is an\nempty string to allow MAPDL to pick the keypoint number.\n"
      ]
    },
    {
      "cell_type": "code",
      "execution_count": null,
      "metadata": {
        "collapsed": false
      },
      "outputs": [],
      "source": [
        "k0 = mapdl.k(\"\", 0, 0, 0)\nprint(k0)"
      ]
    },
    {
      "cell_type": "markdown",
      "metadata": {},
      "source": [
        "Create keypoint at (10, 11, 12) while specifying the keypoint number.\n"
      ]
    },
    {
      "cell_type": "code",
      "execution_count": null,
      "metadata": {
        "collapsed": false
      },
      "outputs": [],
      "source": [
        "k1 = mapdl.k(2, 1, 0, 0)\nprint(k1)"
      ]
    },
    {
      "cell_type": "markdown",
      "metadata": {},
      "source": [
        "APDL Command: KBETW\n===================\n\nCreate keypoint between two keypoints\n"
      ]
    },
    {
      "cell_type": "code",
      "execution_count": null,
      "metadata": {
        "collapsed": false
      },
      "outputs": [],
      "source": [
        "k2 = mapdl.kbetw(kp1=k0, kp2=k1)\nprint(k2)"
      ]
    },
    {
      "cell_type": "markdown",
      "metadata": {},
      "source": [
        "APDL Command: KCENTER\n=====================\n\nCreate keypoint at the center of a circular arc defined by three\nlocations. Note that we first clear mapdl before generating this\ngeometry\n"
      ]
    },
    {
      "cell_type": "code",
      "execution_count": null,
      "metadata": {
        "collapsed": false
      },
      "outputs": [],
      "source": [
        "mapdl.clear()\nmapdl.prep7()\nk0 = mapdl.k(\"\", 0, 1, 0)\nk1 = mapdl.k(\"\", 1, 0, 0)\nk2 = mapdl.k(\"\", 0, -1, 0)\nk3 = mapdl.kcenter(\"KP\", k0, k1, k2)\nprint([k0, k1, k2, k3])"
      ]
    },
    {
      "cell_type": "markdown",
      "metadata": {},
      "source": [
        "Keypoint IDs\n============\n\nReturn an array of the keypoint IDs Note that this matches the array\n`[k0, k1, k2, k3]` (due to sorting)\n"
      ]
    },
    {
      "cell_type": "code",
      "execution_count": null,
      "metadata": {
        "collapsed": false
      },
      "outputs": [],
      "source": [
        "knum = mapdl.geometry.knum\nknum"
      ]
    },
    {
      "cell_type": "markdown",
      "metadata": {},
      "source": [
        "Keypoint Coordinates\n====================\n\nReturn an array of the keypoint locations\n"
      ]
    },
    {
      "cell_type": "code",
      "execution_count": null,
      "metadata": {
        "collapsed": false
      },
      "outputs": [],
      "source": [
        "kloc = mapdl.geometry.keypoints\nkloc"
      ]
    },
    {
      "cell_type": "markdown",
      "metadata": {},
      "source": [
        "APDL Command: KDIST\n===================\n\nCalculate the distance between two keypoints. Note that you could\ncompute this yourself from `kloc`\n"
      ]
    },
    {
      "cell_type": "code",
      "execution_count": null,
      "metadata": {
        "collapsed": false
      },
      "outputs": [],
      "source": [
        "dist = mapdl.kdist(k0, k1)\ndist"
      ]
    },
    {
      "cell_type": "markdown",
      "metadata": {},
      "source": [
        "Keypoint Selection\n==================\n\nThere are two approaches for selecting keypoints, the old \\\"legacy\\\"\nstyle and the new style. The old style is valuable for those who are\ncomfortable with the existing MAPDL commands, and new style is useful\nfor selecting keypoints in a pythonic manner.\n\nThis example generates a series of random keypoints and selects them\n"
      ]
    },
    {
      "cell_type": "code",
      "execution_count": null,
      "metadata": {
        "collapsed": false
      },
      "outputs": [],
      "source": [
        "mapdl.clear()\nmapdl.prep7()\n\n# create 20 random keypoints\nfor _ in range(20):\n    mapdl.k(\"\", *np.random.random(3))\n\n# Print the keypoint numbers\nprint(mapdl.geometry.knum)"
      ]
    },
    {
      "cell_type": "markdown",
      "metadata": {},
      "source": [
        "Select every other keypoint with the old style command.\n"
      ]
    },
    {
      "cell_type": "code",
      "execution_count": null,
      "metadata": {
        "collapsed": false
      },
      "outputs": [],
      "source": [
        "mapdl.ksel(\"S\", \"KP\", \"\", 1, 20, 2)\nprint(mapdl.geometry.knum)"
      ]
    },
    {
      "cell_type": "markdown",
      "metadata": {},
      "source": [
        "Select every other keypoint with the new style command.\n\nNote that the item IDs are 1 based in MAPDL, while Python ranges are 0\nbased.\n"
      ]
    },
    {
      "cell_type": "code",
      "execution_count": null,
      "metadata": {
        "collapsed": false
      },
      "outputs": [],
      "source": [
        "mapdl.geometry.keypoint_select(range(1, 21, 2))\nprint(mapdl.geometry.knum)"
      ]
    },
    {
      "cell_type": "markdown",
      "metadata": {},
      "source": [
        "Select keypoints from a list\n\nNote that you can `return_selected` if you want to see what you have\nselected. This is helpful when reselecting from existing areas.\n\nNote that you could use a numpy array here as well.\n"
      ]
    },
    {
      "cell_type": "code",
      "execution_count": null,
      "metadata": {
        "collapsed": false
      },
      "outputs": [],
      "source": [
        "items = mapdl.geometry.keypoint_select([1, 5, 10, 20], return_selected=True)\nprint(items)"
      ]
    },
    {
      "cell_type": "markdown",
      "metadata": {},
      "source": [
        "APDL Command: KPLOT\n===================\n\nPlot the keypoints while displaying the keypoint numbers\n\nThere are a variety of plotting options available for all the common\nplotting methods.\n"
      ]
    },
    {
      "cell_type": "code",
      "execution_count": null,
      "metadata": {
        "collapsed": false
      },
      "outputs": [],
      "source": [
        "mapdl.kplot(\n    show_keypoint_numbering=True, background=\"black\", show_bounds=True, font_size=26\n)"
      ]
    },
    {
      "cell_type": "markdown",
      "metadata": {},
      "source": [
        "stop mapdl\n"
      ]
    },
    {
      "cell_type": "code",
      "execution_count": null,
      "metadata": {
        "collapsed": false
      },
      "outputs": [],
      "source": [
        "mapdl.exit()"
      ]
    }
  ],
  "metadata": {
    "kernelspec": {
      "display_name": "Python 3",
      "language": "python",
      "name": "python3"
    },
    "language_info": {
      "codemirror_mode": {
        "name": "ipython",
        "version": 3
      },
      "file_extension": ".py",
      "mimetype": "text/x-python",
      "name": "python",
      "nbconvert_exporter": "python",
      "pygments_lexer": "ipython3",
      "version": "3.8.14"
    }
  },
  "nbformat": 4,
  "nbformat_minor": 0
}