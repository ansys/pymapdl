{
  "cells": [
    {
      "cell_type": "code",
      "execution_count": null,
      "metadata": {
        "collapsed": false
      },
      "outputs": [],
      "source": [
        "%matplotlib inline"
      ]
    },
    {
      "cell_type": "markdown",
      "metadata": {},
      "source": [
        "Plotting and Mesh Access {#ref_3d_bracket_example}\n========================\n\nPyMAPDL can load basic IGES geometry for analysis.\n\nThis example demonstrates loading basic geometry into MAPDL for analysis\nand demonstrates how to use the built-in Python specific plotting\nfunctionality.\n\nThis example also demonstrates some of the more advanced features of\nPyMAPDL including direct mesh access through VTK.\n"
      ]
    },
    {
      "cell_type": "code",
      "execution_count": null,
      "metadata": {
        "collapsed": false
      },
      "outputs": [],
      "source": [
        "# sphinx_gallery_thumbnail_number = 3\n\nimport numpy as np\n\nfrom ansys.mapdl import core as pymapdl\nfrom ansys.mapdl.core import examples\n\nmapdl = pymapdl.launch_mapdl()"
      ]
    },
    {
      "cell_type": "markdown",
      "metadata": {},
      "source": [
        "Load Geometry\n=============\n\nHere we download a simple example bracket IGES file and load it into\nMAPDL. Since `igesin` must be in the AUX15 process\n"
      ]
    },
    {
      "cell_type": "code",
      "execution_count": null,
      "metadata": {
        "collapsed": false
      },
      "outputs": [],
      "source": [
        "# note that this method just returns a file path\nbracket_file = examples.download_bracket()\n\n# load the bracket and then print out the geometry\nmapdl.aux15()\nmapdl.igesin(bracket_file)\nprint(mapdl.geometry)"
      ]
    },
    {
      "cell_type": "markdown",
      "metadata": {},
      "source": [
        "Plotting\n========\n\nPyMAPDL uses VTK and pyvista as a plotting backend to enable remotable\n(with 2021R1 and newer) interactive plotting. The common plotting\nmethods (`kplot`, `lplot`, `aplot`, `eplot`, etc.) all have compatible\ncommands that use the\n`ansys.mapdl.core.plotting.general_plotter`{.interpreted-text\nrole=\"func\"} function. You can configure this method with a variety of\nkeyword arguments. For example:\n"
      ]
    },
    {
      "cell_type": "code",
      "execution_count": null,
      "metadata": {
        "collapsed": false
      },
      "outputs": [],
      "source": [
        "mapdl.lplot(\n    show_line_numbering=False,\n    background=\"k\",\n    line_width=3,\n    color=\"w\",\n    show_axes=False,\n    show_bounds=True,\n    title=\"\",\n    cpos=\"xz\",\n)"
      ]
    },
    {
      "cell_type": "markdown",
      "metadata": {},
      "source": [
        "You can also configure a theme to enable consistent plotting across\nmultiple plots. These theme parameters override any unset keyword\narguments. For example:\n"
      ]
    },
    {
      "cell_type": "code",
      "execution_count": null,
      "metadata": {
        "collapsed": false
      },
      "outputs": [],
      "source": [
        "my_theme = pymapdl.MapdlTheme()\nmy_theme.background = \"white\"\nmy_theme.cmap = \"jet\"  # colormap\nmy_theme.axes.show = False\nmy_theme.show_scalar_bar = False\n\nmapdl.aplot(theme=my_theme)"
      ]
    },
    {
      "cell_type": "markdown",
      "metadata": {},
      "source": [
        "Accessesing Element and Nodes Pythonically\n==========================================\n\nPyMAPDL also supports element and nodal plotting using `eplot` and\n`nplot`. First, mesh the bracket using SOLID187 elements. These are well\nsuited to this geometry and the static structural analyses.\n"
      ]
    },
    {
      "cell_type": "code",
      "execution_count": null,
      "metadata": {
        "collapsed": false
      },
      "outputs": [],
      "source": [
        "# set the preprocessor, element type and size, and mesh the volume\nmapdl.prep7()\nmapdl.et(1, \"SOLID187\")\nmapdl.esize(0.075)\nmapdl.vmesh(\"all\")\n\n# print out the mesh characteristics\nprint(mapdl.mesh)"
      ]
    },
    {
      "cell_type": "markdown",
      "metadata": {},
      "source": [
        "You can access the underlying finite element mesh as a VTK grid through\nthe `mesh.grid` attribute.\n"
      ]
    },
    {
      "cell_type": "code",
      "execution_count": null,
      "metadata": {
        "collapsed": false
      },
      "outputs": [],
      "source": [
        "grid = mapdl.mesh.grid\ngrid"
      ]
    },
    {
      "cell_type": "markdown",
      "metadata": {},
      "source": [
        "This UnstructuredGrid contains a powerful API, including the ability to\naccess the nodes, elements, original node numbers, all with the ability\nto plot the mesh and add new attributes and data to the grid.\n"
      ]
    },
    {
      "cell_type": "code",
      "execution_count": null,
      "metadata": {
        "collapsed": false
      },
      "outputs": [],
      "source": [
        "grid.points  # same as mapdl.mesh.nodes"
      ]
    },
    {
      "cell_type": "markdown",
      "metadata": {},
      "source": [
        "cell representation in VTK format\n"
      ]
    },
    {
      "cell_type": "code",
      "execution_count": null,
      "metadata": {
        "collapsed": false
      },
      "outputs": [],
      "source": [
        "grid.cells"
      ]
    },
    {
      "cell_type": "markdown",
      "metadata": {},
      "source": [
        "Obtain node numbers of the grid\n"
      ]
    },
    {
      "cell_type": "code",
      "execution_count": null,
      "metadata": {
        "collapsed": false
      },
      "outputs": [],
      "source": [
        "grid.point_data[\"ansys_node_num\"]"
      ]
    },
    {
      "cell_type": "markdown",
      "metadata": {},
      "source": [
        "Save arbitrary data to the grid\n"
      ]
    },
    {
      "cell_type": "code",
      "execution_count": null,
      "metadata": {
        "collapsed": false
      },
      "outputs": [],
      "source": [
        "# must be sized to the number of points\ngrid.point_data[\"my_data\"] = np.arange(grid.n_points)\ngrid.point_data"
      ]
    },
    {
      "cell_type": "markdown",
      "metadata": {},
      "source": [
        "Plot this mesh with scalars of your choosing. You can apply the same\nMapdlTheme when plotting as it\\'s compatible with the grid plotter.\n"
      ]
    },
    {
      "cell_type": "code",
      "execution_count": null,
      "metadata": {
        "collapsed": false
      },
      "outputs": [],
      "source": [
        "# make interesting scalars\nscalars = grid.points[:, 2]  # z coordinates\n\nsbar_kwargs = {\"color\": \"black\", \"title\": \"Z Coord\"}\ngrid.plot(\n    scalars=scalars,\n    show_scalar_bar=True,\n    scalar_bar_args=sbar_kwargs,\n    show_edges=True,\n    theme=my_theme,\n)"
      ]
    },
    {
      "cell_type": "markdown",
      "metadata": {},
      "source": [
        "This grid can be also saved to disk in the compact cross-platform VTK\nformat and loaded again with `pyvista` or ParaView.\n\n..code:\n\n    >>> grid.save('my_mesh.vtk')\n    >>> import pyvista\n    >>> imported_mesh = pyvista.read('my_mesh.vtk')\n"
      ]
    },
    {
      "cell_type": "markdown",
      "metadata": {},
      "source": [
        "stop mapdl\n"
      ]
    },
    {
      "cell_type": "code",
      "execution_count": null,
      "metadata": {
        "collapsed": false
      },
      "outputs": [],
      "source": [
        "mapdl.exit()"
      ]
    }
  ],
  "metadata": {
    "kernelspec": {
      "display_name": "Python 3",
      "language": "python",
      "name": "python3"
    },
    "language_info": {
      "codemirror_mode": {
        "name": "ipython",
        "version": 3
      },
      "file_extension": ".py",
      "mimetype": "text/x-python",
      "name": "python",
      "nbconvert_exporter": "python",
      "pygments_lexer": "ipython3",
      "version": "3.8.14"
    }
  },
  "nbformat": 4,
  "nbformat_minor": 0
}