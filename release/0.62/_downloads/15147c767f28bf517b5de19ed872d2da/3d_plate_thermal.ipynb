{
  "cells": [
    {
      "cell_type": "code",
      "execution_count": null,
      "metadata": {
        "collapsed": false
      },
      "outputs": [],
      "source": [
        "%matplotlib inline"
      ]
    },
    {
      "cell_type": "markdown",
      "metadata": {},
      "source": [
        "Basic Thermal Analysis with pyMAPDL {#ref_3d_plate_thermal}\n===================================\n\nThis example demonstrates how you can use MAPDL to create a plate,\nimpose thermal boundary conditions, solve, and plot it all within\npyMAPDL.\n\nFirst, start MAPDL as a service and disable all but error messages.\n"
      ]
    },
    {
      "cell_type": "code",
      "execution_count": null,
      "metadata": {
        "collapsed": false
      },
      "outputs": [],
      "source": [
        "# sphinx_gallery_thumbnail_number = 2\n\nfrom ansys.mapdl.core import launch_mapdl\n\nmapdl = launch_mapdl()"
      ]
    },
    {
      "cell_type": "markdown",
      "metadata": {},
      "source": [
        "Geometry and Material Properties\n================================\n\nCreate a simple beam, specify the material properties, and mesh it.\n"
      ]
    },
    {
      "cell_type": "code",
      "execution_count": null,
      "metadata": {
        "collapsed": false
      },
      "outputs": [],
      "source": [
        "mapdl.prep7()\nmapdl.mp(\"kxx\", 1, 45)\nmapdl.et(1, 90)\nmapdl.block(-0.3, 0.3, -0.46, 1.34, -0.2, -0.2 + 0.02)\nmapdl.vsweep(1)\nmapdl.eplot()"
      ]
    },
    {
      "cell_type": "markdown",
      "metadata": {},
      "source": [
        "Boundary Conditions\n===================\n\nSet the thermal boundary conditions\n"
      ]
    },
    {
      "cell_type": "code",
      "execution_count": null,
      "metadata": {
        "collapsed": false
      },
      "outputs": [],
      "source": [
        "mapdl.asel(\"S\", vmin=3)\nmapdl.nsla()\nmapdl.d(\"all\", \"temp\", 5)\nmapdl.asel(\"S\", vmin=4)\nmapdl.nsla()\nmapdl.d(\"all\", \"temp\", 100)\nout = mapdl.allsel()"
      ]
    },
    {
      "cell_type": "markdown",
      "metadata": {},
      "source": [
        "Solve\n=====\n\nSolve the thermal static analysis and print the results\n"
      ]
    },
    {
      "cell_type": "code",
      "execution_count": null,
      "metadata": {
        "collapsed": false
      },
      "outputs": [],
      "source": [
        "mapdl.vsweep(1)\nmapdl.run(\"/SOLU\")\nprint(mapdl.solve())\nout = mapdl.finish()"
      ]
    },
    {
      "cell_type": "markdown",
      "metadata": {},
      "source": [
        "Post-Processing using MAPDL\n===========================\n\nView the thermal solution of the beam by getting the results directly\nthrough MAPDL.\n"
      ]
    },
    {
      "cell_type": "code",
      "execution_count": null,
      "metadata": {
        "collapsed": false
      },
      "outputs": [],
      "source": [
        "mapdl.post1()\nmapdl.set(1, 1)\nmapdl.post_processing.plot_nodal_temperature()"
      ]
    },
    {
      "cell_type": "markdown",
      "metadata": {},
      "source": [
        "Alternatively you could also use the result object that reads in the\nresult file using pyansys\n"
      ]
    },
    {
      "cell_type": "code",
      "execution_count": null,
      "metadata": {
        "collapsed": false
      },
      "outputs": [],
      "source": [
        "result = mapdl.result\nnnum, temp = result.nodal_temperature(0)\n# this is the same as pyansys.read_binary(mapdl._result_file)\nprint(nnum, temp)"
      ]
    },
    {
      "cell_type": "markdown",
      "metadata": {},
      "source": [
        "stop mapdl\n"
      ]
    },
    {
      "cell_type": "code",
      "execution_count": null,
      "metadata": {
        "collapsed": false
      },
      "outputs": [],
      "source": [
        "mapdl.exit()"
      ]
    }
  ],
  "metadata": {
    "kernelspec": {
      "display_name": "Python 3",
      "language": "python",
      "name": "python3"
    },
    "language_info": {
      "codemirror_mode": {
        "name": "ipython",
        "version": 3
      },
      "file_extension": ".py",
      "mimetype": "text/x-python",
      "name": "python",
      "nbconvert_exporter": "python",
      "pygments_lexer": "ipython3",
      "version": "3.8.14"
    }
  },
  "nbformat": 4,
  "nbformat_minor": 0
}