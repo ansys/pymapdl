{
  "cells": [
    {
      "cell_type": "code",
      "execution_count": null,
      "metadata": {
        "collapsed": false
      },
      "outputs": [],
      "source": [
        "%matplotlib inline"
      ]
    },
    {
      "cell_type": "markdown",
      "metadata": {},
      "source": [
        "Using Inline Functions (Query) {#ref_how_to_use_query}\n==============================\n\nInline functions like `UX` have been implemented in PyMAPDL as methods\non the `mapdl.inline_functions.Query` object. In this example we set up\na simple simulation and use `Query` to demonstrate some of its\nfunctionality.\n\nFirst, get an instance of\n`ansys.mapdl.core.inline_functions.Query`{.interpreted-text\nrole=\"class\"} below, using the `mapdl` property `queries`.\n"
      ]
    },
    {
      "cell_type": "code",
      "execution_count": null,
      "metadata": {
        "collapsed": false
      },
      "outputs": [],
      "source": [
        "from ansys.mapdl.core import launch_mapdl\n\nmapdl = launch_mapdl()\n\n# clear at the start and enter the preprocessing routine\nmapdl.clear()\nmapdl.prep7()\nq = mapdl.queries"
      ]
    },
    {
      "cell_type": "markdown",
      "metadata": {},
      "source": [
        "Setup Mesh\n==========\n\n-   Assign element type `SOLID5` to element type 1\n-   Create a cuboid `mapdl.block` 10 x 20 x 30 in dimension\n-   Set element size to 2\n-   Mesh the block\n-   Plot the elements created\n"
      ]
    },
    {
      "cell_type": "code",
      "execution_count": null,
      "metadata": {
        "collapsed": false
      },
      "outputs": [],
      "source": [
        "mapdl.et(1, \"SOLID5\")\nmapdl.block(0, 10, 0, 20, 0, 30)\nmapdl.esize(2)\nmapdl.vmesh(\"ALL\")\nmapdl.eplot()"
      ]
    },
    {
      "cell_type": "markdown",
      "metadata": {},
      "source": [
        "Setup Boundary Conditions\n=========================\n\n-   Assign an Elastic modulus in the x-direction to material 1 of 21e9\n-   And a poisson\\'s ratio of 0.3\n-   Select all nodes at the `z = 30` end of the block\n-   Remove all degrees of freedom for all nodes in the selection\n-   Select all nodes at the `z = 0` end\n-   Apply a x-direction force of 10000 to all of these\n-   Finish preprocessing\n"
      ]
    },
    {
      "cell_type": "code",
      "execution_count": null,
      "metadata": {
        "collapsed": false
      },
      "outputs": [],
      "source": [
        "mapdl.mp(\"EX\", 1, 210e9)\nmapdl.mp(\"PRXY\", 1, 0.3)\nmapdl.nsel(\"S\", \"LOC\", \"Z\", 30)\nmapdl.d(\"ALL\", \"UX\")\nmapdl.d(\"ALL\", \"UY\")\nmapdl.d(\"ALL\", \"UZ\")\nmapdl.nsel(\"S\", \"LOC\", \"Z\", 0)\nmapdl.f(\"ALL\", \"FX\", 10000)\nmapdl.finish()"
      ]
    },
    {
      "cell_type": "markdown",
      "metadata": {},
      "source": [
        "Setup Boundary Conditions\n=========================\n\n-   Enter solution (`mapdl.slashsolu` also works)\n-   Set the analysis type to `STATIC`\n-   Select all nodes\n-   Solve the model\n-   Finish solution\n"
      ]
    },
    {
      "cell_type": "code",
      "execution_count": null,
      "metadata": {
        "collapsed": false
      },
      "outputs": [],
      "source": [
        "mapdl.run(\"/SOLU\")\nmapdl.antype(\"STATIC\")\nmapdl.nsel(\"ALL\")\nmapdl.solve()\nmapdl.finish()"
      ]
    },
    {
      "cell_type": "markdown",
      "metadata": {},
      "source": [
        "Post-Processing\n===============\n\n-   Get the result from the `mapdl` instance\n-   Plot the equivalent stress results\n    -   Show the edges so that we can see the element boundaries\n    -   Use the \\\"plasma\\\" colormap because it is perceptually uniform\n"
      ]
    },
    {
      "cell_type": "code",
      "execution_count": null,
      "metadata": {
        "collapsed": false
      },
      "outputs": [],
      "source": [
        "result = mapdl.result\nresult.plot_principal_nodal_stress(0, \"SEQV\", show_edges=True, cmap=\"plasma\")"
      ]
    },
    {
      "cell_type": "markdown",
      "metadata": {},
      "source": [
        "Using `Query`\n=============\n\n-   Use `Query` to get the nodes nearest to (5, 0, 0) and (5, 10, 0)\n-   Use the `Query` instance to examine the x, y, and z displacement.\n-   Print the results in a formatted string.\n"
      ]
    },
    {
      "cell_type": "code",
      "execution_count": null,
      "metadata": {
        "collapsed": false
      },
      "outputs": [],
      "source": [
        "node1 = q.node(5.0, 0.0, 0.0)\nnode2 = q.node(5.0, 10.0, 0.0)\n\nfor node in [node1, node2]:\n    x_displacement = q.ux(node)\n    y_displacement = q.uy(node)\n    z_displacement = q.uz(node)\n\n    message = f\"\"\"\n    ************************\n    Displacement at Node {node}:\n    ************************\n    X | {x_displacement}\n    Y | {y_displacement}\n    Z | {z_displacement}\n\n    \"\"\"\n    print(message)"
      ]
    },
    {
      "cell_type": "markdown",
      "metadata": {},
      "source": [
        "stop mapdl\n"
      ]
    },
    {
      "cell_type": "code",
      "execution_count": null,
      "metadata": {
        "collapsed": false
      },
      "outputs": [],
      "source": [
        "mapdl.exit()"
      ]
    }
  ],
  "metadata": {
    "kernelspec": {
      "display_name": "Python 3",
      "language": "python",
      "name": "python3"
    },
    "language_info": {
      "codemirror_mode": {
        "name": "ipython",
        "version": 3
      },
      "file_extension": ".py",
      "mimetype": "text/x-python",
      "name": "python",
      "nbconvert_exporter": "python",
      "pygments_lexer": "ipython3",
      "version": "3.8.14"
    }
  },
  "nbformat": 4,
  "nbformat_minor": 0
}