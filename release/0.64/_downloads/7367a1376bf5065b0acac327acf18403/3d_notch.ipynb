{
  "cells": [
    {
      "cell_type": "code",
      "execution_count": null,
      "metadata": {
        "collapsed": false
      },
      "outputs": [],
      "source": [
        "%matplotlib inline"
      ]
    },
    {
      "cell_type": "markdown",
      "metadata": {},
      "source": [
        "3D Stress Concentration Analysis for a Notched Plate {#ref_3d_plane_stress_concentration}\n====================================================\n\nThis tutorial is the 3D corollary to the 2D plane example\n`ref_plane_stress_concentration`{.interpreted-text role=\"ref\"}, but This\nexample verifies the stress concentration factor $K-t$ when modeling\nopposite single notches in a finite width thin plate\n\nFirst, start MAPDL as a service and disable all but error messages.\n"
      ]
    },
    {
      "cell_type": "code",
      "execution_count": null,
      "metadata": {
        "collapsed": false
      },
      "outputs": [],
      "source": [
        "from matplotlib import pyplot as plt\n\n# sphinx_gallery_thumbnail_number = 3\nimport numpy as np\n\nfrom ansys.mapdl.core import launch_mapdl\n\nmapdl = launch_mapdl(loglevel=\"ERROR\")"
      ]
    },
    {
      "cell_type": "markdown",
      "metadata": {},
      "source": [
        "Geometry\n========\n\nCreate a rectangular area with two notches at the top and bottom.\n"
      ]
    },
    {
      "cell_type": "code",
      "execution_count": null,
      "metadata": {
        "collapsed": false
      },
      "outputs": [],
      "source": [
        "length = 0.4\nwidth = 0.1\n\nnotch_depth = 0.04\nnotch_radius = 0.01\n\n# create the half arcs\nmapdl.prep7()\n\ncirc0_kp = mapdl.k(x=length / 2, y=width + notch_radius)\ncirc_line_num = mapdl.circle(circ0_kp, notch_radius)\ncirc_line_num = circ_line_num[2:]  # only concerned with the bottom arcs\n\n# create a line and drag the top circle downward\ncirc0_kp = mapdl.k(x=0, y=0)\nk1 = mapdl.k(x=0, y=-notch_depth)\nl0 = mapdl.l(circ0_kp, k1)\nmapdl.adrag(*circ_line_num, nlp1=l0)\n\n# same thing for the bottom notch (except upwards\ncirc1_kp = mapdl.k(x=length / 2, y=-notch_radius)\ncirc_line_num = mapdl.circle(circ1_kp, notch_radius)\ncirc_line_num = circ_line_num[:2]  # only concerned with the top arcs\n\n# create a line whereby the top circle will be dragged up\nk0 = mapdl.k(x=0, y=0)\nk1 = mapdl.k(x=0, y=notch_depth)\nl0 = mapdl.l(k0, k1)\nmapdl.adrag(*circ_line_num, nlp1=l0)\n\nrect_anum = mapdl.blc4(width=length, height=width)\n\n# Note how pyansys parses the output and returns the area numbers\n# created by each command.  This can be used to execute a boolean\n# operation on these areas to cut the circle out of the rectangle.\n# plate_with_hole_anum = mapdl.asba(rect_anum, circ_anum)\ncut_area = mapdl.asba(rect_anum, \"ALL\")  # cut all areas except the plate\n\n# mapdl.aplot(vtk=True, show_line_numbering=True)\nmapdl.lsla(\"S\")\nmapdl.lplot(vtk=True, show_keypoint_numbering=True)\nmapdl.lsel(\"all\")\n\n# plot the area using vtk/pyvista\nmapdl.aplot(vtk=True, show_area_numbering=True, show_lines=True, cpos=\"xy\")\n\n# Next, extrude the area to create volume\nthickness = 0.01\nmapdl.vext(cut_area, dz=thickness)\n\n# Checking volume plot\nmapdl.vplot(vtk=True, show_lines=True, show_axes=True, smooth_shading=True)"
      ]
    },
    {
      "cell_type": "markdown",
      "metadata": {},
      "source": [
        "Meshing\n=======\n\nThis example will use PLANE183 elements as a thin plate can be modeled\nwith plane elements provided that KEYOPTION 3 is set to 3 and a\nthickness is provided.\n\nMesh the plate using a higher density near the hole and a lower density\nfor the remainder of the plate by setting `LESIZE` for the lines nearby\nthe hole and `ESIZE` for the mesh global size.\n\nLine numbers can be identified through inspection using `lplot`\n"
      ]
    },
    {
      "cell_type": "code",
      "execution_count": null,
      "metadata": {
        "collapsed": false
      },
      "outputs": [],
      "source": [
        "# define a PLANE183 element type with thickness\n\n# ensure there are at 25 elements around the hole\nnotch_esize = np.pi * notch_radius * 2 / 50\nplate_esize = 0.01\n\n# increased the density of the mesh at the notch\n# line and area numbers identified using aplot\n\nmapdl.asel(\"S\", \"AREA\", vmin=1, vmax=1)\nmapdl.aplot(vtk=True, show_line_numbering=True)\n\n\nmapdl.lsel(\"NONE\")\nfor line in [7, 8, 20, 21]:\n    mapdl.lsel(\"A\", \"LINE\", vmin=line, vmax=line)\nmapdl.lesize(\"ALL\", notch_esize, kforc=1)\nmapdl.lsel(\"ALL\")\n\n# Decrease the area mesh expansion.  This ensures that the mesh\n# remains fine nearby the hole\nmapdl.mopt(\"EXPND\", 0.7)  # default 1\n\n# mesh several elements through the plate\nesize = notch_esize * 5\nif esize > thickness / 2:\n    esize = thickness / 2  # minimum of two elements through\n\nmapdl.esize()  # this is tough to automate\nmapdl.et(1, \"SOLID186\")\nmapdl.vsweep(\"all\")\nmapdl.eplot(vtk=True, show_edges=True, show_axes=False, line_width=2, background=\"w\")"
      ]
    },
    {
      "cell_type": "markdown",
      "metadata": {},
      "source": [
        "Material Properties and Boundary Conditions\n===========================================\n\nFix the left-hand side of the plate in the X direction and set a force\nof 1 kN in the positive X direction.\n"
      ]
    },
    {
      "cell_type": "code",
      "execution_count": null,
      "metadata": {
        "collapsed": false
      },
      "outputs": [],
      "source": [
        "# This example will use SI units.\nmapdl.units(\"SI\")  # SI - International system (m, kg, s, K).\n\n# Define a material (nominal steel in SI)\nmapdl.mp(\"EX\", 1, 210e9)  # Elastic moduli in Pa (kg/(m*s**2))\nmapdl.mp(\"DENS\", 1, 7800)  # Density in kg/m3\nmapdl.mp(\"NUXY\", 1, 0.3)  # Poisson's Ratio\n\n# Fix the left-hand side.\nmapdl.nsel(\"S\", \"LOC\", \"X\", 0)\nmapdl.d(\"ALL\", \"UX\")\n\n# Fix a few nodes on the left-hand side of the plate in the Y and Z\n# direction.  Otherwise, the mesh would be allowed to move in the y\n# direction and would be an improperly constrained mesh.\nmapdl.nsel(\"R\", \"LOC\", \"Y\", width / 2)\nmapdl.d(\"ALL\", \"UY\")\nmapdl.d(\"ALL\", \"UZ\")\n\n# Apply a force on the right-hand side of the plate.  For this\n# example, we select the nodes at the right-most side of the plate.\nmapdl.nsel(\"S\", \"LOC\", \"X\", length)\n\n# Verify that only the nodes at length have been selected:\n# assert np.unique(mapdl.mesh.nodes[:, 0]) == length\n\n# Next, couple the DOF for these nodes.  This lets us provide a force\n# to one node that will be spread throughout all nodes in this coupled\n# set.\nmapdl.cp(5, \"UX\", \"ALL\")\n\n# Select a single node in this set and apply a force to it\n# We use \"R\" to re-select from the current node group\nmapdl.nsel(\"R\", \"LOC\", \"Y\", width / 2)  # selects more than one\nsingle_node = mapdl.mesh.nnum[0]\nmapdl.nsel(\"S\", \"NODE\", vmin=single_node, vmax=single_node)\nmapdl.f(\"ALL\", \"FX\", 1000)\n\n# finally, be sure to select all nodes again to solve the entire solution\nmapdl.allsel(mute=True)"
      ]
    },
    {
      "cell_type": "markdown",
      "metadata": {},
      "source": [
        "Solve the Static Problem\n========================\n\nSolve the static analysis\n"
      ]
    },
    {
      "cell_type": "code",
      "execution_count": null,
      "metadata": {
        "collapsed": false
      },
      "outputs": [],
      "source": [
        "mapdl.run(\"/SOLU\")\nmapdl.antype(\"STATIC\")\nmapdl.solve()\nmapdl.finish(mute=True)"
      ]
    },
    {
      "cell_type": "markdown",
      "metadata": {},
      "source": [
        "Post-Processing\n===============\n\nThe static result can be post-processed both within MAPDL and outside of\nMAPDL using `pyansys`. This example shows how to extract the von Mises\nstress and plot it using the `pyansys` result reader.\n"
      ]
    },
    {
      "cell_type": "code",
      "execution_count": null,
      "metadata": {
        "collapsed": false
      },
      "outputs": [],
      "source": [
        "# grab the result from the ``mapdl`` instance\nresult = mapdl.result\nresult.plot_principal_nodal_stress(\n    0,\n    \"SEQV\",\n    lighting=False,\n    background=\"w\",\n    show_edges=True,\n    text_color=\"k\",\n    add_text=False,\n)\n\nnnum, stress = result.principal_nodal_stress(0)\nvon_mises = stress[:, -1]  # von-Mises stress is the right most column\n\n# Must use nanmax as stress is not computed at mid-side nodes\nmax_stress = np.nanmax(von_mises)"
      ]
    },
    {
      "cell_type": "markdown",
      "metadata": {},
      "source": [
        "Compute the Stress Concentration\n================================\n\nThe stress concentration $K_t$ is the ratio of the maximum stress at the\nhole to the far-field stress, or the mean cross sectional stress at a\npoint far from the hole. Analytically, this can be computed with:\n\n$\\sigma_{nom} = \\frac{F}{wt}$\n\nWhere\n\n-   $F$ is the force\n-   $w$ is the width of the plate\n-   $t$ is the thickness of the plate.\n\nExperimentally, this is computed by taking the mean of the nodes at the\nright-most side of the plate.\n"
      ]
    },
    {
      "cell_type": "code",
      "execution_count": null,
      "metadata": {
        "collapsed": false
      },
      "outputs": [],
      "source": [
        "# We use nanmean here because mid-side nodes have no stress\nmask = result.mesh.nodes[:, 0] == length\nfar_field_stress = np.nanmean(von_mises[mask])\nprint(\"Far field von mises stress: %e\" % far_field_stress)\n# Which almost exactly equals the analytical value of 10000000.0 Pa"
      ]
    },
    {
      "cell_type": "markdown",
      "metadata": {},
      "source": [
        "Since the expected nominal stress across the cross section of the hole\nwill increase as the size of the hole increases, regardless of the\nstress concentration, the stress must be adjusted to arrive at the\ncorrect stress. This stress is adjusted by the ratio of the width over\nthe modified cross section width.\n"
      ]
    },
    {
      "cell_type": "code",
      "execution_count": null,
      "metadata": {
        "collapsed": false
      },
      "outputs": [],
      "source": [
        "adj = width / (width - notch_depth * 2)\nstress_adj = far_field_stress * adj\n\n# The stress concentration is then simply the maximum stress divided\n# by the adjusted far-field stress.\nstress_con = max_stress / stress_adj\nprint(\"Stress Concentration: %.2f\" % stress_con)"
      ]
    },
    {
      "cell_type": "markdown",
      "metadata": {},
      "source": [
        "Batch Analysis\n==============\n\nThe above script can be placed within a function to compute the stress\nconcentration for a variety of hole diameters. For each batch, MAPDL is\nreset and the geometry is generated from scratch.\n\n::: {.note}\n::: {.title}\nNote\n:::\n\nThis section has been disabled to reduce the execution time of this\nexample. Enable it by setting `RUN_BATCH = TRUE`\n:::\n"
      ]
    },
    {
      "cell_type": "code",
      "execution_count": null,
      "metadata": {
        "collapsed": false
      },
      "outputs": [],
      "source": [
        "RUN_BATCH = False\n\n# The function to compute the batch analysis is the following:\n\n\ndef compute_stress_con(ratio):\n\n    notch_depth = ratio * width / 2\n\n    mapdl.clear()\n    mapdl.prep7()\n\n    # Notch circle.\n    circ0_kp = mapdl.k(x=length / 2, y=width + notch_radius)\n    circ_line_num = mapdl.circle(circ0_kp, notch_radius)\n    circ_line_num = circ_line_num[2:]  # only concerned with the bottom arcs\n\n    circ0_kp = mapdl.k(x=0, y=0)\n    k1 = mapdl.k(x=0, y=-notch_depth)\n    l0 = mapdl.l(circ0_kp, k1)\n    mapdl.adrag(*circ_line_num, nlp1=l0)\n\n    circ1_kp = mapdl.k(x=length / 2, y=-notch_radius)\n    circ_line_num = mapdl.circle(circ1_kp, notch_radius)\n    circ_line_num = circ_line_num[:2]  # only concerned with the top arcs\n\n    k0 = mapdl.k(x=0, y=0)\n    k1 = mapdl.k(x=0, y=notch_depth)\n    l0 = mapdl.l(k0, k1)\n    mapdl.adrag(*circ_line_num, nlp1=l0)\n\n    rect_anum = mapdl.blc4(width=length, height=width)\n    cut_area = mapdl.asba(rect_anum, \"ALL\")  # cut all areas except the plate\n\n    mapdl.allsel()\n    mapdl.vext(cut_area, dz=thickness)\n\n    notch_esize = np.pi * notch_radius * 2 / 50\n    plate_esize = 0.01\n\n    mapdl.asel(\"S\", \"AREA\", vmin=1, vmax=1)\n\n    mapdl.lsel(\"NONE\")\n    for line in [7, 8, 20, 21]:\n        mapdl.lsel(\"A\", \"LINE\", vmin=line, vmax=line)\n\n    mapdl.ksel(\"NONE\")\n    mapdl.ksel(\n        \"S\",\n        \"LOC\",\n        \"X\",\n        length / 2 - notch_radius * 1.1,\n        length / 2 + notch_radius * 1.1,\n    )\n    mapdl.lslk(\"S\", 1)\n    mapdl.lesize(\"ALL\", notch_esize, kforc=1)\n    mapdl.lsel(\"ALL\")\n\n    mapdl.mopt(\"EXPND\", 0.7)  # default 1\n\n    esize = notch_esize * 5\n    if esize > thickness / 2:\n        esize = thickness / 2  # minimum of two elements through\n\n    mapdl.esize()  # this is tough to automate\n    mapdl.et(1, \"SOLID186\")\n    mapdl.vsweep(\"all\")\n\n    mapdl.allsel()\n\n    # Uncomment if you want to print geometry and mesh plots.\n    # mapdl.vplot(savefig=f'vplot-{ratio}.png', off_screen=True)\n    # mapdl.eplot(savefig=f'eplot-{ratio}.png', off_screen=True)\n\n    mapdl.units(\"SI\")  # SI - International system (m, kg, s, K).\n\n    mapdl.mp(\"EX\", 1, 210e9)  # Elastic moduli in Pa (kg/(m*s**2))\n    mapdl.mp(\"DENS\", 1, 7800)  # Density in kg/m3\n    mapdl.mp(\"NUXY\", 1, 0.3)  # Poisson's Ratio\n\n    mapdl.nsel(\"S\", \"LOC\", \"X\", 0)\n    mapdl.d(\"ALL\", \"UX\")\n\n    mapdl.nsel(\"R\", \"LOC\", \"Y\", width / 2)\n    mapdl.d(\"ALL\", \"UY\")\n    mapdl.d(\"ALL\", \"UZ\")\n\n    mapdl.nsel(\"S\", \"LOC\", \"X\", length)\n    mapdl.cp(5, \"UX\", \"ALL\")\n\n    mapdl.nsel(\"R\", \"LOC\", \"Y\", width / 2)  # selects more than one\n    single_node = mapdl.mesh.nnum[0]\n    mapdl.nsel(\"S\", \"NODE\", vmin=single_node, vmax=single_node)\n    mapdl.f(\"ALL\", \"FX\", 1000)\n\n    mapdl.allsel(mute=True)\n\n    mapdl.run(\"/SOLU\")\n    mapdl.antype(\"STATIC\")\n    mapdl.solve()\n    mapdl.finish()\n\n    result = mapdl.result\n    _, stress = result.principal_nodal_stress(0)\n    von_mises = stress[:, -1]  # von-Mises stress is the right most column\n    max_stress = np.nanmax(von_mises)\n\n    mask = result.mesh.nodes[:, 0] == length\n    far_field_stress = np.nanmean(von_mises[mask])\n\n    adj = width / (width - notch_depth * 2)\n    stress_adj = far_field_stress * adj\n\n    return max_stress / stress_adj"
      ]
    },
    {
      "cell_type": "markdown",
      "metadata": {},
      "source": [
        "Run the batch and record the stress concentration\n"
      ]
    },
    {
      "cell_type": "code",
      "execution_count": null,
      "metadata": {
        "collapsed": false
      },
      "outputs": [],
      "source": [
        "if RUN_BATCH:\n    k_t_exp = []\n    ratios = np.linspace(0.05, 0.75, 9)\n    print(\"    Ratio  : Stress Concentration (K_t)\")\n    for ratio in ratios:\n        stress_con = compute_stress_con(ratio)\n        print(\"%10.4f : %10.4f\" % (ratio, stress_con))\n        k_t_exp.append(stress_con)"
      ]
    },
    {
      "cell_type": "markdown",
      "metadata": {},
      "source": [
        "Analytical Solution\n===================\n\nStress concentrations are often obtained by referencing tabular results\nor polynominal fits for a variety of geometries. According to *Roark's\nFormulas for Stress and Strain* (Warren C. Young and Richard G. Budynas,\nSeventh Edition, McGraw-Hill) the analytical equation for two U notches\nin a thin plate in uniaxial tension:\n\n$$K_t = C_1 + C_2 \\left(\\dfrac{2h}{D}\\right) + C_3 \\left(\\dfrac{2h}{D}\\right)^2 + C_4 \\left(\\dfrac{2h}{D}\\right)^3$$\n\nwhere:\n\n$$\\begin{aligned}\n\\begin{array}{c|c|c}\n& 0.1 \\leq h/r \\leq 2.0                 & 2.0 \\leq h/r \\leq 50.0 \\\\ \\hline\nC_1 & 0.85 + 2.628 \\sqrt{h/r} - 0.413 h/r   & 0.833 + 2.069 \\sqrt{h/r} - 0.009 h/r \\\\\nC_2 & -1.119 - 4.826 \\sqrt{h/r} + 2.575 h/r & 2.732 - 4.157   \\sqrt{h/r} + 0.176 h/r \\\\\nC_3 & 3.563 - 0.514 \\sqrt{h/r} - 2.402 h/r  & -8.859 + 5.327 \\sqrt{h/r} - 0.32 h/r \\\\\nC_4 & -2.294 + 2.713 \\sqrt{h/r} + 0.240 h/r & 6.294 - 3.239 \\sqrt{h/r} + 0.154 h/r\n\\end{array}\n\\end{aligned}$$\n\nWhere:\n\n-   $K_t$ is the stress concentration\n-   $r$ is the radius of the notch\n-   $h$ is the notch depth\n-   $D$ is the width of the plate\n\nIn this example the ratio is given as $2h/D$.\n\nThese formulas are converted in the following function:\n"
      ]
    },
    {
      "cell_type": "code",
      "execution_count": null,
      "metadata": {
        "collapsed": false
      },
      "outputs": [],
      "source": [
        "def calc_teor_notch(ratio):\n    notch_depth = ratio * width / 2\n    h = notch_depth\n    r = notch_radius\n    D = width\n\n    if 0.1 <= h / r <= 2.0:\n        c1 = 0.85 + 2.628 * (h / r) ** 0.5 - 0.413 * h / r\n        c2 = -1.119 - 4.826 * (h / r) ** 0.5 + 2.575 * h / r\n        c3 = 3.563 - 0.514 * (h / r) ** 0.5 - 2.402 * h / r\n        c4 = -2.294 + 2.713 * (h / r) ** 0.5 + 0.240 * h / r\n    elif 2.0 <= h / r <= 50.0:\n        c1 = 0.833 + 2.069 * (h / r) ** 0.5 - 0.009 * h / r\n        c2 = 2.732 - 4.157 * (h / r) ** 0.5 + 0.176 * h / r\n        c3 = -8.859 + 5.327 * (h / r) ** 0.5 - 0.32 * h / r\n        c4 = 6.294 - 3.239 * (h / r) ** 0.5 + 0.154 * h / r\n\n    return c1 + c2 * (2 * h / D) + c3 * (2 * h / D) ** 2 + c4 * (2 * h / D) ** 3"
      ]
    },
    {
      "cell_type": "markdown",
      "metadata": {},
      "source": [
        "which is used later to calculate the concentration factor for the given\nratios:\n"
      ]
    },
    {
      "cell_type": "code",
      "execution_count": null,
      "metadata": {
        "collapsed": false
      },
      "outputs": [],
      "source": [
        "if RUN_BATCH:\n    print(\"    Ratio  : Stress Concentration (K_t)\")\n    k_t_anl = []\n    for ratio in ratios:\n        stress_con = calc_teor_notch(ratio)\n        print(\"%10.4f : %10.4f\" % (ratio, stress_con))\n        k_t_anl.append(stress_con)"
      ]
    },
    {
      "cell_type": "markdown",
      "metadata": {},
      "source": [
        "Analytical Comparison\n=====================\n\nAs shown in the following plot, MAPDL matches the known tabular result\nfor this geometry remarkably well using PLANE183 elements. The fit to\nthe results may vary depending on the ratio between the height and width\nof the plate.\n"
      ]
    },
    {
      "cell_type": "code",
      "execution_count": null,
      "metadata": {
        "collapsed": false
      },
      "outputs": [],
      "source": [
        "if RUN_BATCH:\n    plt.plot(ratios, k_t_anl, label=r\"$K_t$ Analytical\")\n    plt.plot(ratios, k_t_exp, label=r\"$K_t$ ANSYS\")\n    plt.legend()\n    plt.show()"
      ]
    },
    {
      "cell_type": "markdown",
      "metadata": {},
      "source": [
        "stop mapdl\n"
      ]
    },
    {
      "cell_type": "code",
      "execution_count": null,
      "metadata": {
        "collapsed": false
      },
      "outputs": [],
      "source": [
        "mapdl.exit()"
      ]
    }
  ],
  "metadata": {
    "kernelspec": {
      "display_name": "Python 3",
      "language": "python",
      "name": "python3"
    },
    "language_info": {
      "codemirror_mode": {
        "name": "ipython",
        "version": 3
      },
      "file_extension": ".py",
      "mimetype": "text/x-python",
      "name": "python",
      "nbconvert_exporter": "python",
      "pygments_lexer": "ipython3",
      "version": "3.9.16"
    }
  },
  "nbformat": 4,
  "nbformat_minor": 0
}