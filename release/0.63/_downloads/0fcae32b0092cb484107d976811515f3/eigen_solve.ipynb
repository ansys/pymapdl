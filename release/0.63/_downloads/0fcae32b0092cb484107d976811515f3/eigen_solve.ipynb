{
  "cells": [
    {
      "cell_type": "code",
      "execution_count": null,
      "metadata": {
        "collapsed": false
      },
      "outputs": [],
      "source": [
        "%matplotlib inline"
      ]
    },
    {
      "cell_type": "markdown",
      "metadata": {},
      "source": [
        "Using APDLMath to solve Eigenproblems {#ref_mapdl_math_eigen_solve}\n=====================================\n\nUse APDLMath to solve eigenproblems.\n\nThis example uses a verification manual input file, but you can use your\nown sparse or dense matrices and solve those.\n"
      ]
    },
    {
      "cell_type": "code",
      "execution_count": null,
      "metadata": {
        "collapsed": false
      },
      "outputs": [],
      "source": [
        "import time\n\nimport matplotlib.pylab as plt\nimport numpy as np\n\nfrom ansys.mapdl.core import launch_mapdl\nfrom ansys.mapdl.core.examples import vmfiles\n\n# Start MAPDL as a service and create an APDLMath object\nmapdl = launch_mapdl(loglevel=\"ERROR\")\nmm = mapdl.math"
      ]
    },
    {
      "cell_type": "markdown",
      "metadata": {},
      "source": [
        "First we get the [STIFF]{.title-ref} and [MASS]{.title-ref} matrices\nfrom the full file after running the input file from Verification Manual\n153\n"
      ]
    },
    {
      "cell_type": "code",
      "execution_count": null,
      "metadata": {
        "collapsed": false
      },
      "outputs": [],
      "source": [
        "out = mapdl.input(vmfiles[\"vm153\"])\n\nk = mm.stiff(fname=\"PRSMEMB.full\")\nm = mm.mass(fname=\"PRSMEMB.full\")"
      ]
    },
    {
      "cell_type": "markdown",
      "metadata": {},
      "source": [
        "Display size of the M and K matrices\n"
      ]
    },
    {
      "cell_type": "code",
      "execution_count": null,
      "metadata": {
        "collapsed": false
      },
      "outputs": [],
      "source": [
        "print(m.shape)\nprint(k.shape)"
      ]
    },
    {
      "cell_type": "markdown",
      "metadata": {},
      "source": [
        "Allocate an array to store the eigenshapes. where [nev]{.title-ref} is\nthe number of eigenvalues requested\n"
      ]
    },
    {
      "cell_type": "code",
      "execution_count": null,
      "metadata": {
        "collapsed": false
      },
      "outputs": [],
      "source": [
        "nev = 10\na = mm.mat(k.nrow, nev)\na"
      ]
    },
    {
      "cell_type": "markdown",
      "metadata": {},
      "source": [
        "Perform the the modal analysis.\n\nThe algorithm is automatically chosen with respect to the matrices\nproperties (e.g. scalar, storage, symmetry\\...)\n"
      ]
    },
    {
      "cell_type": "code",
      "execution_count": null,
      "metadata": {
        "collapsed": false
      },
      "outputs": [],
      "source": [
        "print(\"Calling MAPDL to solve the eigenproblem...\")\n\nt1 = time.time()\nev = mm.eigs(nev, k, m, phi=a)\nprint(f\"Elapsed time to solve this problem: {time.time() - t1}\")"
      ]
    },
    {
      "cell_type": "markdown",
      "metadata": {},
      "source": [
        "This is the vector of eigenfrequencies.\n"
      ]
    },
    {
      "cell_type": "code",
      "execution_count": null,
      "metadata": {
        "collapsed": false
      },
      "outputs": [],
      "source": [
        "print(ev)"
      ]
    },
    {
      "cell_type": "markdown",
      "metadata": {},
      "source": [
        "Verify the accuracy of eigenresults\n===================================\n\nCheck the residual error for the first eigenresult\n$R_1=||(K-\\lambda_1.M).\\phi_1||_2$\n\nFirst, we compute $\\lambda_1 = \\omega_1^2 = (2.\\pi.f_1)^2$\n"
      ]
    },
    {
      "cell_type": "code",
      "execution_count": null,
      "metadata": {
        "collapsed": false
      },
      "outputs": [],
      "source": [
        "# Eigenfrequency (Hz)\ni = 0\nf = ev[0]\nomega = 2 * np.pi * f\nlam = omega * omega"
      ]
    },
    {
      "cell_type": "markdown",
      "metadata": {},
      "source": [
        "Then we get the 1st Eigenshape $\\phi_1$, and compute $K.\\phi_1$ and\n$M.\\phi_1$\n"
      ]
    },
    {
      "cell_type": "code",
      "execution_count": null,
      "metadata": {
        "collapsed": false
      },
      "outputs": [],
      "source": [
        "# shape\nphi = a[0]\n\n# APDL Command: *MULT,K,,Phi,,KPhi\nkphi = k.dot(phi)\n\n# APDL Command: *MULT,M,,Phi,,MPhi\nmphi = m.dot(phi)"
      ]
    },
    {
      "cell_type": "markdown",
      "metadata": {},
      "source": [
        "Next, compute the $||K.\\phi_1||_2$ quantity and normalize the residual\nvalue.\n"
      ]
    },
    {
      "cell_type": "code",
      "execution_count": null,
      "metadata": {
        "collapsed": false
      },
      "outputs": [],
      "source": [
        "# APDL Command: *MULT,K,,Phi,,KPhi\nkphi = k.dot(phi)\n\n\n# APDL Command: *NRM,KPhi,NRM2,KPhiNrm\nkphinrm = kphi.norm()"
      ]
    },
    {
      "cell_type": "markdown",
      "metadata": {},
      "source": [
        "Then we add these two vectors, using the $\\lambda_1$ scalar factor and\nfinally compute the normalized residual value\n$\\frac{R_1}{||K.\\phi_1||_2}$\n"
      ]
    },
    {
      "cell_type": "code",
      "execution_count": null,
      "metadata": {
        "collapsed": false
      },
      "outputs": [],
      "source": [
        "# APDL Command: *AXPY,-lambda,,MPhi,1,,KPhi\nmphi *= lam\nkphi -= mphi\n\n# Compute the residual\nres = kphi.norm() / kphinrm\nprint(res)"
      ]
    },
    {
      "cell_type": "markdown",
      "metadata": {},
      "source": [
        "This residual can be computed for all eigenmodes\n"
      ]
    },
    {
      "cell_type": "code",
      "execution_count": null,
      "metadata": {
        "collapsed": false
      },
      "outputs": [],
      "source": [
        "def get_res(i):\n    \"\"\"Compute the residual for a given eigenmode\"\"\"\n    # Eigenfrequency (Hz)\n    f = ev[i]\n\n    # omega = 2.pi.Frequency\n    omega = 2 * np.pi * f\n\n    # lambda = omega^2\n    lam = omega * omega\n\n    # i-th eigenshape\n    phi = a[i]\n\n    # K.Phi\n    kphi = k.dot(phi)\n\n    # M.Phi\n    mphi = m.dot(phi)\n\n    # Normalization scalar value\n    kphinrm = kphi.norm()\n\n    # (K-\\lambda.M).Phi\n    mphi *= lam\n    kphi -= mphi\n\n    # return the residual\n    return kphi.norm() / kphinrm\n\n\nmapdl_acc = np.zeros(nev)\n\nfor i in range(nev):\n    f = ev[i]\n    mapdl_acc[i] = get_res(i)\n    print(f\"[{i}] : Freq = {f}\\t - Residual = {mapdl_acc[i]}\")"
      ]
    },
    {
      "cell_type": "markdown",
      "metadata": {},
      "source": [
        "Plot Accuracy of Eigenresults\n"
      ]
    },
    {
      "cell_type": "code",
      "execution_count": null,
      "metadata": {
        "collapsed": false
      },
      "outputs": [],
      "source": [
        "fig = plt.figure(figsize=(12, 10))\nax = plt.axes()\nx = np.linspace(1, nev, nev)\nplt.title(\"APDL Math Residual Error (%)\")\nplt.yscale(\"log\")\nplt.ylim([10e-13, 10e-7])\nplt.xlabel(\"Frequency #\")\nplt.ylabel(\"Errors (%)\")\nax.bar(x, mapdl_acc, label=\"MAPDL Results\")\nplt.show()"
      ]
    },
    {
      "cell_type": "markdown",
      "metadata": {},
      "source": [
        "stop mapdl\n"
      ]
    },
    {
      "cell_type": "code",
      "execution_count": null,
      "metadata": {
        "collapsed": false
      },
      "outputs": [],
      "source": [
        "mapdl.exit()"
      ]
    }
  ],
  "metadata": {
    "kernelspec": {
      "display_name": "Python 3",
      "language": "python",
      "name": "python3"
    },
    "language_info": {
      "codemirror_mode": {
        "name": "ipython",
        "version": 3
      },
      "file_extension": ".py",
      "mimetype": "text/x-python",
      "name": "python",
      "nbconvert_exporter": "python",
      "pygments_lexer": "ipython3",
      "version": "3.8.14"
    }
  },
  "nbformat": 4,
  "nbformat_minor": 0
}