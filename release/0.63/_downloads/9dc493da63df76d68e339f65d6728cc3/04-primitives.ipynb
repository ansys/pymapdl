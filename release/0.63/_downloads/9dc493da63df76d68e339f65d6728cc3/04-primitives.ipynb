{
  "cells": [
    {
      "cell_type": "code",
      "execution_count": null,
      "metadata": {
        "collapsed": false
      },
      "outputs": [],
      "source": [
        "%matplotlib inline"
      ]
    },
    {
      "cell_type": "markdown",
      "metadata": {},
      "source": [
        "Primitives {#ref_basic-geometry-primitives}\n==========\n\nThis example shows how you can use PyMAPDL to create basic geometry\nusing Pythonic PREP7 volume commands.\n"
      ]
    },
    {
      "cell_type": "code",
      "execution_count": null,
      "metadata": {
        "collapsed": false
      },
      "outputs": [],
      "source": [
        "from ansys.mapdl.core import launch_mapdl\n\n# start MAPDL and enter the pre-processing routine\nmapdl = launch_mapdl()\nmapdl.clear()\nmapdl.prep7()\nprint(mapdl)"
      ]
    },
    {
      "cell_type": "markdown",
      "metadata": {},
      "source": [
        "APDL Command: BLC4\n==================\n\nCreate a rectangular area or block volume by corner points.\n\nCreate a `0.5 x 0.5` rectangle starting at `(0.25, 0.25)`\n"
      ]
    },
    {
      "cell_type": "code",
      "execution_count": null,
      "metadata": {
        "collapsed": false
      },
      "outputs": [],
      "source": [
        "mapdl.clear()\nmapdl.prep7()\n\nanum1 = mapdl.blc4(0.25, 0.25, 0.5, 0.5)\nmapdl.aplot(show_lines=True, line_width=5, show_bounds=True, cpos=\"xy\")"
      ]
    },
    {
      "cell_type": "markdown",
      "metadata": {},
      "source": [
        "Create a block with dimensions `1 x 4 x 9` with one corner of the block\nat `(0, 0)` of the current working plane.\n\nThis method returns the volume number.\n"
      ]
    },
    {
      "cell_type": "code",
      "execution_count": null,
      "metadata": {
        "collapsed": false
      },
      "outputs": [],
      "source": [
        "mapdl.clear()\nmapdl.prep7()\n\nvnum = mapdl.blc4(width=1, height=4, depth=9)\nmapdl.vplot(show_lines=True)"
      ]
    },
    {
      "cell_type": "markdown",
      "metadata": {},
      "source": [
        "APDL Command: BLC5\n==================\n\nCreate a rectangular area or block volume by center and corner points.\n\nThis differs from BLC4 since this describes the center rather than the\ncorner points.\n\nCreate a square centered at `(0, 0)` with a width of 0.5 and a height of\n0.5\n"
      ]
    },
    {
      "cell_type": "code",
      "execution_count": null,
      "metadata": {
        "collapsed": false
      },
      "outputs": [],
      "source": [
        "mapdl.clear()\nmapdl.prep7()\n\nanum1 = mapdl.blc5(width=0.5, height=0.5)\nmapdl.aplot(show_lines=True, line_width=5, show_bounds=True, cpos=\"xy\")"
      ]
    },
    {
      "cell_type": "markdown",
      "metadata": {},
      "source": [
        "Create a block with dimensions `1 x 4 x 9` with the cetner at `(0, 0)`\nof the current working plane.\n\nThis method returns the volume number.\n"
      ]
    },
    {
      "cell_type": "code",
      "execution_count": null,
      "metadata": {
        "collapsed": false
      },
      "outputs": [],
      "source": [
        "mapdl.clear()\nmapdl.prep7()\n\nvnum = mapdl.blc5(width=1, height=4, depth=9)\nmapdl.vplot(show_lines=True, show_bounds=True)"
      ]
    },
    {
      "cell_type": "markdown",
      "metadata": {},
      "source": [
        "APDL Command: BLOCK\n===================\n\nCreate a block volume based on working plane coordinates with the size\n`(1 x 2 x 3)`\n"
      ]
    },
    {
      "cell_type": "code",
      "execution_count": null,
      "metadata": {
        "collapsed": false
      },
      "outputs": [],
      "source": [
        "mapdl.clear()\nmapdl.prep7()\n\nvnum = mapdl.block(0, 1, 0, 2, 1, 4)\nmapdl.vplot(\n    show_lines=False,\n    show_bounds=True,\n    color=(0.5, 0.5, 0.5),\n    background=(0.8, 0.8, 0.8),\n)"
      ]
    },
    {
      "cell_type": "markdown",
      "metadata": {},
      "source": [
        "APDL Command: CON4\n==================\n\nCreate a conical volume anywhere on the working plane.\n\nCreate a cone with a bottom radius of 3 and a height of 10.\n"
      ]
    },
    {
      "cell_type": "code",
      "execution_count": null,
      "metadata": {
        "collapsed": false
      },
      "outputs": [],
      "source": [
        "mapdl.clear()\nmapdl.prep7()\n\nvnum = mapdl.con4(rad1=3, rad2=0, depth=10)\nmapdl.vplot(show_lines=False, quality=6, show_bounds=True)"
      ]
    },
    {
      "cell_type": "markdown",
      "metadata": {},
      "source": [
        "APDL Command: CONE\n==================\n\nCreate a conical volume centered about the working plane origin.\n\nCreate a quarter cone with a bottom radius of 3, top radius of 1 and a\nheight of 10 centered at `(0, 0)`.\n"
      ]
    },
    {
      "cell_type": "code",
      "execution_count": null,
      "metadata": {
        "collapsed": false
      },
      "outputs": [],
      "source": [
        "mapdl.clear()\nmapdl.prep7()\n\nvnum = mapdl.cone(rbot=5, rtop=1, z1=0, z2=10, theta1=180, theta2=90)\nmapdl.vplot(show_lines=False, quality=6, show_bounds=True)"
      ]
    },
    {
      "cell_type": "markdown",
      "metadata": {},
      "source": [
        "APDL Command: CYL4\n==================\n\nCreates a circular area or cylindrical volume anywhere on the working\nplane.\n\nCreate a half arc centered at the origin with an outer radius of 2 and\nan inner radius of 1.\n\nNote that the `depth` keyword argument is unset, which will generate an\narea rather than a volume. Setting depth to a value greater than 0 will\ngenerate a volume.\n"
      ]
    },
    {
      "cell_type": "code",
      "execution_count": null,
      "metadata": {
        "collapsed": false
      },
      "outputs": [],
      "source": [
        "mapdl.clear()\nmapdl.prep7()\n\nanum = mapdl.cyl4(xcenter=0, ycenter=0, rad1=1, theta1=0, rad2=2, theta2=180)\nmapdl.aplot(show_lines=True, line_width=5, show_bounds=True, cpos=\"xy\")"
      ]
    },
    {
      "cell_type": "markdown",
      "metadata": {},
      "source": [
        "Create a volumetric half arc centered at the origin with an outer radius\nof 2 and an inner radius of 1, and a thickness of 0.55.\n"
      ]
    },
    {
      "cell_type": "code",
      "execution_count": null,
      "metadata": {
        "collapsed": false
      },
      "outputs": [],
      "source": [
        "mapdl.clear()\nmapdl.prep7()\n\nanum = mapdl.cyl4(\n    xcenter=0, ycenter=0, rad1=1, theta1=0, rad2=2, theta2=180, depth=0.55\n)\nmapdl.vplot(show_bounds=True)"
      ]
    },
    {
      "cell_type": "markdown",
      "metadata": {},
      "source": [
        "APDL Command: CYL5\n==================\n\nCreates a circular area or cylindrical volume by end points.\n\nCreate a circular with one point of the circle at `(1, 1)` and the other\npoint at `(2, 2)`\n"
      ]
    },
    {
      "cell_type": "code",
      "execution_count": null,
      "metadata": {
        "collapsed": false
      },
      "outputs": [],
      "source": [
        "mapdl.clear()\nmapdl.prep7()\n\nanum = mapdl.cyl5(xedge1=1, yedge1=1, xedge2=2, yedge2=2)\nmapdl.aplot(show_lines=True, line_width=5, show_bounds=True, cpos=\"xy\")"
      ]
    },
    {
      "cell_type": "markdown",
      "metadata": {},
      "source": [
        "Create a cylinder with one point of the circle at `(X, Y) == (1, 1)` and\nthe other point at `(X, Y) == (2, 2)` with a height of 3.\n"
      ]
    },
    {
      "cell_type": "code",
      "execution_count": null,
      "metadata": {
        "collapsed": false
      },
      "outputs": [],
      "source": [
        "mapdl.clear()\nmapdl.prep7()\n\nvnum = mapdl.cyl5(xedge1=1, yedge1=1, xedge2=2, yedge2=2, depth=5)\nmapdl.vplot(show_lines=False, quality=6, show_bounds=True)"
      ]
    },
    {
      "cell_type": "markdown",
      "metadata": {},
      "source": [
        "APDL Command: CYLIND\n====================\n\nCreate a cylindrical volume centered about the working plane origin.\n\nCreate a hollow cylinder with an inner radius of 0.9 and an outer radius\nof 1.0 with a height of 5\n"
      ]
    },
    {
      "cell_type": "code",
      "execution_count": null,
      "metadata": {
        "collapsed": false
      },
      "outputs": [],
      "source": [
        "mapdl.clear()\nmapdl.prep7()\n\nvnum = mapdl.cylind(0.9, 1, z1=0, z2=5)\nmapdl.vplot(show_lines=False, quality=4, show_bounds=True)"
      ]
    },
    {
      "cell_type": "markdown",
      "metadata": {},
      "source": [
        "APDL Command: PCIRC\n===================\n\nCreate a circular area centered about the working plane origin.\n\nIn this example a circular area with an inner radius of 0.95 and an\nouter radius of 1 is created.\n"
      ]
    },
    {
      "cell_type": "code",
      "execution_count": null,
      "metadata": {
        "collapsed": false
      },
      "outputs": [],
      "source": [
        "mapdl.clear()\nmapdl.prep7()\n\nanum = mapdl.pcirc(0.95, 1)\nmapdl.aplot(show_bounds=True)"
      ]
    },
    {
      "cell_type": "markdown",
      "metadata": {},
      "source": [
        "APDL Command: RECTNG\n====================\n\nCreate a rectangular area anywhere on the working plane.\n\nIn this example a rectangle with one corner at `(0.5, 0.5)` and another\nat `(1.5, 2.5)` is created.\n"
      ]
    },
    {
      "cell_type": "code",
      "execution_count": null,
      "metadata": {
        "collapsed": false
      },
      "outputs": [],
      "source": [
        "mapdl.clear()\nmapdl.prep7()\n\nanum = mapdl.rectng(0.5, 1.5, 0.5, 2.5)\nmapdl.aplot(show_bounds=True)"
      ]
    },
    {
      "cell_type": "markdown",
      "metadata": {},
      "source": [
        "APDL Command: SPH4\n==================\n\nCreate a spherical volume anywhere on the working plane.\n\nThis example creates a hollow sphere with an inner radius of 0.9 and an\nouter radius of 1.0 centered at `(0, 0)`\n"
      ]
    },
    {
      "cell_type": "code",
      "execution_count": null,
      "metadata": {
        "collapsed": false
      },
      "outputs": [],
      "source": [
        "mapdl.clear()\nmapdl.prep7()\n\nvnum = mapdl.sph4(0, 0, rad1=0.9, rad2=1.0)\nmapdl.vplot(show_lines=False, show_bounds=True, smooth_shading=True)"
      ]
    },
    {
      "cell_type": "markdown",
      "metadata": {},
      "source": [
        "APDL Command: SPHERE\n====================\n\nCreate a spherical volume anywhere on the working plane.\n\nThis example creates a half hollow sphere with an inner radius of 0.9\nand an outer radius of 1.0.\n"
      ]
    },
    {
      "cell_type": "code",
      "execution_count": null,
      "metadata": {
        "collapsed": false
      },
      "outputs": [],
      "source": [
        "mapdl.clear()\nmapdl.prep7()\n\nvnum = mapdl.sphere(rad1=0.95, rad2=1.0, theta1=90, theta2=270)\nmapdl.vplot(show_lines=False, quality=4, show_bounds=True)"
      ]
    },
    {
      "cell_type": "markdown",
      "metadata": {},
      "source": [
        "APDL Command: SPH5\n==================\n\nCreate a spherical volume anywhere on the working plane.\n\nThis example creates a sphere with one point at `(1, 1)` and one point\nat `(2, 2)`\n"
      ]
    },
    {
      "cell_type": "code",
      "execution_count": null,
      "metadata": {
        "collapsed": false
      },
      "outputs": [],
      "source": [
        "mapdl.clear()\nmapdl.prep7()\n\nvnum = mapdl.sph5(xedge1=1, yedge1=1, xedge2=2, yedge2=2)\nmapdl.vplot(show_lines=False, show_bounds=True, smooth_shading=True)"
      ]
    },
    {
      "cell_type": "markdown",
      "metadata": {},
      "source": [
        "APDL Command: TORUS\n===================\n\nCreate a toroidal volume.\n\nThis example creates a torus with an inner minor radius of 1, an\nintermediate radii of 2, and a major radius of 5. The values 0 and 180\ndefine the starting and ending angles of the torus.\n"
      ]
    },
    {
      "cell_type": "code",
      "execution_count": null,
      "metadata": {
        "collapsed": false
      },
      "outputs": [],
      "source": [
        "mapdl.clear()\nmapdl.prep7()\n\nvnum = mapdl.torus(rad1=5, rad2=1, rad3=2, theta1=0, theta2=180)\nmapdl.vplot(show_lines=False, show_bounds=True, smooth_shading=False)"
      ]
    },
    {
      "cell_type": "markdown",
      "metadata": {},
      "source": [
        "stop mapdl\n"
      ]
    },
    {
      "cell_type": "code",
      "execution_count": null,
      "metadata": {
        "collapsed": false
      },
      "outputs": [],
      "source": [
        "mapdl.exit()"
      ]
    }
  ],
  "metadata": {
    "kernelspec": {
      "display_name": "Python 3",
      "language": "python",
      "name": "python3"
    },
    "language_info": {
      "codemirror_mode": {
        "name": "ipython",
        "version": 3
      },
      "file_extension": ".py",
      "mimetype": "text/x-python",
      "name": "python",
      "nbconvert_exporter": "python",
      "pygments_lexer": "ipython3",
      "version": "3.8.14"
    }
  },
  "nbformat": 4,
  "nbformat_minor": 0
}