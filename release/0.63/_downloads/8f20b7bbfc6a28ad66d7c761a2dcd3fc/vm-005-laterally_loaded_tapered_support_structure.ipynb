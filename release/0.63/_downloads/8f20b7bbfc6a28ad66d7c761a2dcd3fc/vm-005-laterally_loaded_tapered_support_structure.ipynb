{
  "cells": [
    {
      "cell_type": "code",
      "execution_count": null,
      "metadata": {
        "collapsed": false
      },
      "outputs": [],
      "source": [
        "%matplotlib inline"
      ]
    },
    {
      "cell_type": "markdown",
      "metadata": {},
      "source": [
        "Statically Indeterminate Reaction Force Analysis {#ref_vm5_example}\n================================================\n\nProblem Description:\n\n:   -   A cantilever beam of thickness $t$ and length $l$ has a depth\n        which tapers uniformly from $d$ at the tip to $3d$ at the wall.\n        It is loaded by a force $F$ at the tip, as shown. Find the\n        maximum bending stress at the mid-length ($X = l$) and the fixed\n        end of the beam.\n\nReference:\n\n:   -   S. H. Crandall, N. C. Dahl, An Introduction to the Mechanics of\n        Solids, McGraw-Hill Book Co., Inc., New York, NY, 1959, pg. 342,\n        problem 7.18.\n\nAnalysis Type(s):\n\n:   -   Static Analysis `ANTYPE=0`\n\nElement Type(s):\n\n:   -   2-D 4-Node Sructural Solid Elements (PLANE182)\n    -   2-D 8-Node Structural Solid Elements (PLANE183)\n\n![VM5 Problem Sketch](../../../_static/vm5_setup.png){width=\"400px\"}\n\nMaterial Properties\n\n:   -   $E = 30 \\cdot 10^6 psi$\n    -   $\\nu = 0.0$\n    -   $d = 3in$\n    -   $t = 2in$\n\nGeometric Properties:\n\n:   -   $l = 50 in$\n    -   $d = 3 in$\n    -   $t = 2 in$\n\nLoading:\n\n:   -   $F = 4000 lb$\n\nNotes:\n\n:   -   Two different solutions are obtained. The first solution uses\n        lower order PLANE182 elements and the second solution uses\n        higher order PLANE82 elements. The 2 inch thickness is\n        incorporated by using the plane stress with thickness option.\n        Poisson\\'s ratio is set to 0.0 to agree with beam theory.\n"
      ]
    },
    {
      "cell_type": "code",
      "execution_count": null,
      "metadata": {
        "collapsed": false
      },
      "outputs": [],
      "source": [
        "# sphinx_gallery_thumbnail_path = '_static/vm5_setup.png'"
      ]
    },
    {
      "cell_type": "markdown",
      "metadata": {},
      "source": [
        "Start MAPDL\n===========\n"
      ]
    },
    {
      "cell_type": "code",
      "execution_count": null,
      "metadata": {
        "collapsed": false
      },
      "outputs": [],
      "source": [
        "from ansys.mapdl.core import launch_mapdl\n\n# start mapdl and clear it\nmapdl = launch_mapdl()\nmapdl.clear()  # optional as MAPDL just started\n\n# enter verification example mode and the pre-processing routine\nmapdl.verify()\nmapdl.prep7()"
      ]
    },
    {
      "cell_type": "markdown",
      "metadata": {},
      "source": [
        "Define Material\n===============\n\nSet up the material using PLANE182 with a thickness of 2 (using real\nconstants), and create a material with a Young\\'s modulus of 30e6, and a\npoisson\\'s ratio of 0.0 to agree with beam theory.\n"
      ]
    },
    {
      "cell_type": "code",
      "execution_count": null,
      "metadata": {
        "collapsed": false
      },
      "outputs": [],
      "source": [
        "mapdl.antype(\"STATIC\")\nmapdl.et(1, \"PLANE182\", kop1=2, kop3=3)\nmapdl.r(1, 2)\nmapdl.mp(\"EX\", 1, 30e6)\nmapdl.mp(\"NUXY\", 1, 0.0)"
      ]
    },
    {
      "cell_type": "markdown",
      "metadata": {},
      "source": [
        "Define Geometry\n===============\n\nSet up the nodes and elements. This creates a mesh just like in the\nproblem setup.\n"
      ]
    },
    {
      "cell_type": "code",
      "execution_count": null,
      "metadata": {
        "collapsed": false
      },
      "outputs": [],
      "source": [
        "mapdl.n(1, 25)\nmapdl.n(7, 75)\nmapdl.fill()\nmapdl.n(8, 25, -3)\nmapdl.n(14, 75, -9)\nmapdl.fill()\nmapdl.e(2, 1, 8, 9)\nmapdl.egen(6, 1, 1)\nmapdl.eplot(show_node_numbering=True, cpos=\"xy\")"
      ]
    },
    {
      "cell_type": "markdown",
      "metadata": {},
      "source": [
        "Define Boundary Conditions\n==========================\n\nFix the nodes at the larger end (the \\\"wall\\\" end) and apply a vertical\nforce to the whole structure.\n"
      ]
    },
    {
      "cell_type": "code",
      "execution_count": null,
      "metadata": {
        "collapsed": false
      },
      "outputs": [],
      "source": [
        "# constrain nodes at fixed end\nmapdl.nsel(\"S\", \"LOC\", \"X\", 75)\nmapdl.d(\"ALL\", \"ALL\")\nmapdl.nsel(\"ALL\")\nmapdl.f(1, \"FY\", -4000)\nmapdl.finish()"
      ]
    },
    {
      "cell_type": "markdown",
      "metadata": {},
      "source": [
        "Solve\n=====\n\nEnter solution mode and solve the system.\n"
      ]
    },
    {
      "cell_type": "code",
      "execution_count": null,
      "metadata": {
        "collapsed": false
      },
      "outputs": [],
      "source": [
        "mapdl.run(\"/SOLU\")\nmapdl.solve()\nmapdl.finish()"
      ]
    },
    {
      "cell_type": "markdown",
      "metadata": {},
      "source": [
        "Post-processing\n===============\n\nEnter post-processing. Get the stress at the fixed end and the mid point\nof the structure by querying the stress at nodes closest to these\nlocations. We\\'ve gathered the code into a function because we\\'ll have\nuse for it later.\n"
      ]
    },
    {
      "cell_type": "code",
      "execution_count": null,
      "metadata": {
        "collapsed": false
      },
      "outputs": [],
      "source": [
        "def fetch_mid_and_end_stress(m):\n    q = m.queries\n    m.post1()\n    end = q.node(75.0, 0.0, 0.0)\n    fixed_end_stress = m.get_value(\"NODE\", end, \"S\", \"X\")\n    mid = q.node(50.0, 0.0, 0.0)\n    mid_stress = m.get_value(\"NODE\", mid, \"S\", \"EQV\")\n    return fixed_end_stress, mid_stress\n\n\nfixed_end_stress_182, mid_stress_182 = fetch_mid_and_end_stress(mapdl)"
      ]
    },
    {
      "cell_type": "markdown",
      "metadata": {},
      "source": [
        "Plotting\n========\n\nView the equivalent stress, and displacement, of the cantilever with a\n`displacement_factor` of 26 to scale up the deformation to a visible\namount.\n"
      ]
    },
    {
      "cell_type": "code",
      "execution_count": null,
      "metadata": {
        "collapsed": false
      },
      "outputs": [],
      "source": [
        "result = mapdl.result\nresult.plot_principal_nodal_stress(\n    0,\n    \"SEQV\",\n    show_edges=True,\n    show_displacement=True,\n    displacement_factor=26.0,\n    cmap=\"Oranges\",\n    cpos=\"xy\",\n)"
      ]
    },
    {
      "cell_type": "markdown",
      "metadata": {},
      "source": [
        "Redo with Plane 183\n===================\n\nNow we need to perform the simulation again but this time using the\nPLANE183 element type. We additionally remove midside nodes with `emid`.\n"
      ]
    },
    {
      "cell_type": "code",
      "execution_count": null,
      "metadata": {
        "collapsed": false
      },
      "outputs": [],
      "source": [
        "mapdl.prep7()\nmapdl.et(1, \"PLANE183\", kop3=3)\nmapdl.emid()\nmapdl.nsel(\"R\", \"LOC\", \"X\", 75)\nmapdl.nsel(\"R\", \"LOC\", \"Y\", -4.5)\n\nmapdl.d(\"ALL\", \"ALL\")\nmapdl.nsel(\"ALL\")\nmapdl.finish()\nmapdl.run(\"/SOLU\")\nmapdl.solve()\nmapdl.finish()\n\nmapdl.post1()\n# reuse our function from earlier\nfixed_end_stress_183, mid_stress_183 = fetch_mid_and_end_stress(mapdl)\nmapdl.finish()\n\nresult = mapdl.result\nresult.plot_principal_nodal_stress(\n    0,\n    \"SEQV\",\n    show_edges=True,\n    show_displacement=True,\n    displacement_factor=26.0,\n    cmap=\"Blues\",\n    cpos=\"xy\",\n)"
      ]
    },
    {
      "cell_type": "markdown",
      "metadata": {},
      "source": [
        "Check Results\n=============\n\nNow that we have the stresses we can compare them to the expected values\nof stress at the midpoint (8333) and the fixed end (7407) for both\nsimulations.\n"
      ]
    },
    {
      "cell_type": "code",
      "execution_count": null,
      "metadata": {
        "collapsed": false
      },
      "outputs": [],
      "source": [
        "results_182 = f\"\"\"\n-----------------  PLANE 182 RESULTS COMPARISON  ----------------\n|    LABEL    |   TARGET   |   Mechanical APDL   |   RATIO\n   mid stress      8333        {mid_stress_182:.2f}               {mid_stress_182 / 8333:.2f}\n   end stress      7407        {fixed_end_stress_182:.2f}               {fixed_end_stress_182 / 7407:.2f}\n----------------------------------------------------------------\n\"\"\"\n\nresults_183 = f\"\"\"\n-----------------  PLANE 183 RESULTS COMPARISON  ----------------\n|    LABEL    |   TARGET   |   Mechanical APDL   |   RATIO\n   mid stress      8333        {mid_stress_183:.2f}               {mid_stress_183 / 8333:.2f}\n   end stress      7407        {fixed_end_stress_183:.2f}               {fixed_end_stress_183 / 7407:.2f}\n----------------------------------------------------------------\n\"\"\"\nprint(results_182)\nprint(results_183)"
      ]
    },
    {
      "cell_type": "markdown",
      "metadata": {},
      "source": [
        "stop mapdl\n"
      ]
    },
    {
      "cell_type": "code",
      "execution_count": null,
      "metadata": {
        "collapsed": false
      },
      "outputs": [],
      "source": [
        "mapdl.exit()"
      ]
    }
  ],
  "metadata": {
    "kernelspec": {
      "display_name": "Python 3",
      "language": "python",
      "name": "python3"
    },
    "language_info": {
      "codemirror_mode": {
        "name": "ipython",
        "version": 3
      },
      "file_extension": ".py",
      "mimetype": "text/x-python",
      "name": "python",
      "nbconvert_exporter": "python",
      "pygments_lexer": "ipython3",
      "version": "3.8.14"
    }
  },
  "nbformat": 4,
  "nbformat_minor": 0
}