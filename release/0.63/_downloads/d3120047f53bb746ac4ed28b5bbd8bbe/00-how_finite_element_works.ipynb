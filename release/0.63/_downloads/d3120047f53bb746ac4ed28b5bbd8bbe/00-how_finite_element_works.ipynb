{
  "cells": [
    {
      "cell_type": "code",
      "execution_count": null,
      "metadata": {
        "collapsed": false
      },
      "outputs": [],
      "source": [
        "%matplotlib inline"
      ]
    },
    {
      "cell_type": "markdown",
      "metadata": {},
      "source": [
        "Build a Finite Element {#build_element_example}\n======================\n\nIn the following exercise we build the finite element machinery for a\nquadrilateral element using an isoparametric formulation and validate it\nwith PyMAPDL.\n\nTo illustrate it with a concrete example, we take a 2D element described\nby the following (x, y) node locations, an isotropic material (Young\\'s\nmodulus of 30e6 psi and Poission\\'s ratio of 0.25) and unit thickness,\nproviding a live implementation of the discussions in Daryl Logan\\'s A\nFirst Course in the Finite Element Method (2nd Ed., PWS Publishing\n1993).\n"
      ]
    },
    {
      "cell_type": "code",
      "execution_count": null,
      "metadata": {
        "collapsed": false
      },
      "outputs": [],
      "source": [
        "# sphinx_gallery_thumbnail_number = 2\nimport itertools\n\nimport matplotlib.pyplot as plt\nimport numpy as np\n\nnp.set_printoptions(linewidth=120)"
      ]
    },
    {
      "cell_type": "markdown",
      "metadata": {},
      "source": [
        "Deriving the stiffness matrix for a 2D linear rectangular element\n=================================================================\n\nBuild a basic 2D element with the following coordinates:\n\n$$\\begin{aligned}\n\\begin{matrix}\n(1, 2) \\\\ (8, 0) \\\\ (9, 4) \\\\ (4, 5)\n\\end{matrix}\n\\end{aligned}$$\n"
      ]
    },
    {
      "cell_type": "code",
      "execution_count": null,
      "metadata": {
        "collapsed": false
      },
      "outputs": [],
      "source": [
        "node_xy = [(1, 2), (8, 0), (9, 4), (4, 5)]\nnode_ids = list(range(1, 1 + 4))\nnodes = np.array(node_xy, dtype=float)\n\n\ndef plot_my_mesh(nodes, points=None):\n    fig = plt.figure(figsize=(6, 6))\n    ax = plt.gca()\n    plt.scatter(nodes[:, 0], nodes[:, 1])\n    if points is not None:\n        plot_pts = points if points.ndim > 1 else points[None, :]\n        plt.scatter(plot_pts[:, 0], plot_pts[:, 1])\n    nodes_around = np.reshape(np.take(nodes, range(10), mode=\"wrap\"), (-1, 2))\n    plt.plot(nodes_around[:, 0], nodes_around[:, 1])\n    for i, n in enumerate(nodes):\n        ax.annotate(i + 1, n + np.array([0.1, 0.1]))\n    plt.xlim(0, 10)\n    plt.ylim(0, 6)\n    plt.box(False)\n    ax.set_aspect(1)\n    plt.show()\n\n\nplot_my_mesh(nodes)"
      ]
    },
    {
      "cell_type": "markdown",
      "metadata": {},
      "source": [
        "We will create an element class `MyElementDemo` to carry all the data\nand methods necessary for this demonstration. Although we could program\nthe whole class at once (as done at the bottom of this exercise), we\nwill add data and methods piecemeal so we can comment on their meaning.\nWe will create an instance of this class that we\\'ll call `my_elem` to\nrepresent our specific element example\n"
      ]
    },
    {
      "cell_type": "code",
      "execution_count": null,
      "metadata": {
        "collapsed": false
      },
      "outputs": [],
      "source": [
        "class MyElementDemo:\n    def __init__(self, nodes):\n        self.nodes = nodes\n\n\nmy_elem = MyElementDemo(nodes)"
      ]
    },
    {
      "cell_type": "markdown",
      "metadata": {},
      "source": [
        "Shape Functions\n===============\n\nElement shape functions allow us to interpolate some quantity, e.g., a\ncomponent of displacement, from the corner nodes to any point throughout\nthe element. That way, as the structure deforms, we will know not only\nthe displacement at the nodes but also the displacements for any point\nwithin.\n\nWhat\\'s special for an isoparametric formulation is to select a\ncanonical shape for our 2D element. We assume that any 2D quadrilateral\ncan be mapped to a regular square, for example a domain in\n${\\rm I\\!R}^2$ such as $s\n\\in [-1,1]$ and $t\\in [-1,1]$. We derive all of our physical quantities\non that square and use the mapping to transform their values for the\nactual shapes of our elements. This transformation will help simplify\nthe calculation of integrals necessary for measuring how strain energy\naccumulates throughout the continuum of the element as the discrete\nnodes move and deform the shape.\n\nFor an isoparametric 2D element, we define 4 shape functions as follows:\n\n$$\\begin{aligned}\n\\begin{matrix}\nN_1 = \\frac{(1-s)\\cdot(1-t)}{4} \\\\\nN_2 = \\frac{(1+s)\\cdot(1-t)}{4} \\\\\nN_3 = \\frac{(1+s)\\cdot(1+t)}{4} \\\\\nN_4 = \\frac{(1-s)\\cdot(1+t)}{4}\n\\end{matrix}\n\\end{aligned}$$\n\nThese functions are built in such a way that the function at node $i$\nvanishes at all other nodes and their sum is 1 at all points in the\ndomain.\n\nFor fun, let\\'s plot them to see what each of them contributes to the\ninterpolation of the element\n"
      ]
    },
    {
      "cell_type": "code",
      "execution_count": null,
      "metadata": {
        "collapsed": false
      },
      "outputs": [],
      "source": [
        "s = np.linspace(-1, 1, 11)\nt = np.linspace(-1, 1, 11)\nS, T = np.meshgrid(s, t)\n\nfig = plt.figure(figsize=(10, 10))\n\nax1 = fig.add_subplot(2, 2, 1, projection=\"3d\")\nax1.plot_surface(S, T, 0.25 * (1 - S) * (1 - T))\nax1.title.set_text(r\"N1\")\n\nax2 = fig.add_subplot(2, 2, 2, projection=\"3d\")\nax2.plot_surface(S, T, 0.25 * (1 + S) * (1 - T))\nax2.title.set_text(r\"N2\")\n\nax3 = fig.add_subplot(2, 2, 3, projection=\"3d\")\nax3.plot_surface(S, T, 0.25 * (1 + S) * (1 + T))\nax3.title.set_text(r\"N3\")\n\nax4 = fig.add_subplot(2, 2, 4, projection=\"3d\")\nax4.plot_surface(S, T, 0.25 * (1 - S) * (1 + T))\nax4.title.set_text(r\"N4\")\n\nfig.tight_layout()\nplt.show()"
      ]
    },
    {
      "cell_type": "markdown",
      "metadata": {},
      "source": [
        "Let\\'s add the shape function method to our class\n"
      ]
    },
    {
      "cell_type": "code",
      "execution_count": null,
      "metadata": {
        "collapsed": false
      },
      "outputs": [],
      "source": [
        "def shape_functions(self, s, t):\n    return 0.25 * np.array(\n        [(1 - s) * (1 - t), (1 + s) * (1 - t), (1 + s) * (1 + t), (1 - s) * (1 + t)],\n        dtype=float,\n    )\n\n\nMyElementDemo.shape_functions = shape_functions"
      ]
    },
    {
      "cell_type": "markdown",
      "metadata": {},
      "source": [
        "To interpolate a quantity, e.g., position, from the nodes to arbitrary\npoints throughout the element we use the following operation.\n\n$$\\begin{aligned}\n\\begin{bmatrix}\nx \\\\ y \\end{bmatrix} =\n\\begin{bmatrix}\nN_{1}(s, t) & 0 & N_{2}(s, t) & 0 & N_{3}(s, t) & 0 & N_{4}(s, t) & 0 \\\\\n0 & N_{1}(s, t) & 0 & N_{2}(s, t) & 0 & N_{3}(s, t) & 0 & N_{4}(s, t)\n\\end{bmatrix} \\cdot\n\\begin{bmatrix}\n{}^1x \\\\ {}^1y \\\\ {}^2x \\\\ {}^2y \\\\ {}^3x \\\\ {}^3y \\\\ {}^4x \\\\ {}^4y\n\\end{bmatrix}\n\\end{aligned}$$\n\n$$\\mathbf{X}_{\\text{throughout}} = \\mathbf{N} \\cdot \\mathbf{X}_{\\text{nodal}}$$\n"
      ]
    },
    {
      "cell_type": "code",
      "execution_count": null,
      "metadata": {
        "collapsed": false
      },
      "outputs": [],
      "source": [
        "def N(self, s, t):\n    n_vec = self.shape_functions(s, t)\n    return np.array(\n        [\n            [n_vec[0], 0, n_vec[1], 0, n_vec[2], 0, n_vec[3], 0],\n            [0, n_vec[0], 0, n_vec[1], 0, n_vec[2], 0, n_vec[3]],\n        ]\n    )\n\n\nMyElementDemo.N = N"
      ]
    },
    {
      "cell_type": "markdown",
      "metadata": {},
      "source": [
        "To see how this is useful, let\\'s interpolate some common points. The\ncentroid of our isoparametric element was $(s,t) = (0, 0)$. Let\\'s see\nhow the interpolation obtains the equivalent point in our real element:\n"
      ]
    },
    {
      "cell_type": "code",
      "execution_count": null,
      "metadata": {
        "collapsed": false
      },
      "outputs": [],
      "source": [
        "def interpolate_nodal_values(self, s, t, nodal_values):\n    return self.N(s, t).dot(nodal_values.flatten())\n\n\nMyElementDemo.interpolate_nodal_values = interpolate_nodal_values\n\nmy_points = my_elem.interpolate_nodal_values(0, 0, nodes)\nmy_points"
      ]
    },
    {
      "cell_type": "markdown",
      "metadata": {},
      "source": [
        "Plotting the mesh.\n"
      ]
    },
    {
      "cell_type": "code",
      "execution_count": null,
      "metadata": {
        "collapsed": false
      },
      "outputs": [],
      "source": [
        "plot_my_mesh(nodes, my_elem.interpolate_nodal_values(0, 0, nodes))"
      ]
    },
    {
      "cell_type": "markdown",
      "metadata": {},
      "source": [
        "Gauss Quadrature\n================\n\nGauss Quadrature is a method for approximating the integral of a\nfunction $\\int f(x) dx$ by a finite sum $\\sum w_i\nf(x_i)$. By sampling the function $f(x)$ at a finite number of locations\nin the domain and properly scaling their values, it is possible to\nobtain an estimate of the integral. It turns out there are optimal\nlocations for the sampling points $x_i$ and their weight values $w_i$.\nFor a 2D function in the domain of our isoparametric element, i.e.,\n$(s,t) \\in {\\rm I\\!R}^2$ with $s \\in [-1,1]$ and $t\\in [-1,1]$, the\noptimal locations for 4 point-integration are:\n"
      ]
    },
    {
      "cell_type": "code",
      "execution_count": null,
      "metadata": {
        "collapsed": false
      },
      "outputs": [],
      "source": [
        "gauss_pts = (\n    np.array([[-1, -1], [1, -1], [1, 1], [-1, 1]], dtype=float) * 0.57735026918962\n)\n\nMyElementDemo.gauss_pts = gauss_pts\nMyElementDemo.gauss_pts"
      ]
    },
    {
      "cell_type": "markdown",
      "metadata": {},
      "source": [
        "Their locations in the element of interest\n"
      ]
    },
    {
      "cell_type": "code",
      "execution_count": null,
      "metadata": {
        "collapsed": false
      },
      "outputs": [],
      "source": [
        "gauss_pt_locs = np.stack(\n    [\n        my_elem.interpolate_nodal_values(*gauss_pt, nodes)\n        for gauss_pt in MyElementDemo.gauss_pts\n    ]\n)\n\nplot_my_mesh(nodes, gauss_pt_locs)"
      ]
    },
    {
      "cell_type": "markdown",
      "metadata": {},
      "source": [
        "Strain calculation\n==================\n\nStrain is related to displacement by a linear differential operator. For\n2D, we consider only its in-plain components:\n\n$$\\begin{aligned}\n\\mathbf{\\varepsilon} =\n\\begin{bmatrix}\n\\varepsilon_x \\\\ \\varepsilon_y \\\\ \\gamma_{xy}\n\\end{bmatrix}\n=\n\\begin{bmatrix}\n\\frac{\\partial u_x}{\\partial x} \\\\ \\frac{\\partial u_y}{\\partial y} \\\\\n\\frac{\\partial u_x}{\\partial y} + \\frac{\\partial u_y}{\\partial x}\n\\end{bmatrix}\n\\end{aligned}$$\n\nand infer the operator as follows:\n\n$$\\begin{aligned}\n\\begin{bmatrix}\n\\varepsilon_x \\\\ \\varepsilon_y \\\\ \\gamma_{xy}\n\\end{bmatrix}\n=\n\\begin{bmatrix}\n\\frac{\\partial \\left( ... \\right)}{\\partial x} & 0 \\\\\n0 & \\frac{\\partial \\left( ... \\right)}{\\partial y} \\\\\n\\frac{\\partial \\left( ... \\right)}{\\partial y} & \\frac{\\partial \\left( ... \\right)}{\\partial x}\n\\end{bmatrix} \\cdot\n\\begin{bmatrix}\nu_x \\\\ u_y\n\\end{bmatrix}\n\\end{aligned}$$\n"
      ]
    },
    {
      "cell_type": "markdown",
      "metadata": {},
      "source": [
        "We recall the displacements $\\begin{bmatrix}u_x &\nu_y\\end{bmatrix}^T$ are known throughout the element thanks to the shape\nfunctions. Thus\n\n$$\\begin{aligned}\n\\begin{bmatrix}\nu_x \\\\ u_y \\end{bmatrix} =\n\\begin{bmatrix}\nN_{1}(s, t) & 0 & N_{2}(s, t) & 0 & N_{3}(s, t) & 0 & N_{4}(s, t) & 0 \\\\\n0 & N_{1}(s, t) & 0 & N_{2}(s, t) & 0 & N_{3}(s, t) & 0 & N_{4}(s, t)\n\\end{bmatrix} \\cdot\n\\begin{bmatrix}\n{}^1u_x \\\\ {}^1u_y \\\\ {}^2u_x \\\\ {}^2u_y \\\\ {}^3u_x \\\\ {}^3u_y \\\\ {}^4u_x \\\\ {}^4u_y\n\\end{bmatrix}\n\\end{aligned}$$\n\n$$\\mathbf{u}_{\\text{throughout}} = \\mathbf{N} \\cdot \\mathbf{u}_{\\text{nodal}}$$\n"
      ]
    },
    {
      "cell_type": "markdown",
      "metadata": {},
      "source": [
        "To incorporate the shape functions into the expressions of strain above\nwe need to replace the differential operator relative to $x$ and $y$\nwith its equivalent expressed in terms of $s$ and $t$. This requires the\nchain rule, which in multivariate calculus is facilitated with a\nJacobian matrix (and its determinant):\n\n$$\\begin{aligned}\n\\begin{bmatrix}\n\\varepsilon_x \\\\ \\varepsilon_y \\\\ \\gamma_{xy}\n\\end{bmatrix}\n=\n\\frac{1}{\\det{\\mathbf{J}}} \\begin{bmatrix}\n\\frac{\\partial y}{\\partial t} \\frac{\\partial \\left( ... \\right)}{\\partial s} - \\frac{\\partial y}{\\partial s} \\frac{\\partial \\left( ... \\right)}{\\partial t} & 0 \\\\\n0 & \\frac{\\partial x}{\\partial s} \\frac{\\partial \\left( ... \\right)}{\\partial t} - \\frac{\\partial x}{\\partial t} \\frac{\\partial \\left( ... \\right)}{\\partial s} \\\\\n\\frac{\\partial x}{\\partial s} \\frac{\\partial \\left( ... \\right)}{\\partial t} - \\frac{\\partial x}{\\partial t} \\frac{\\partial \\left( ... \\right)}{\\partial s} & \\frac{\\partial y}{\\partial t} \\frac{\\partial \\left( ... \\right)}{\\partial s} - \\frac{\\partial y}{\\partial s} \\frac{\\partial \\left( ... \\right)}{\\partial t}\n\\end{bmatrix} \\cdot\n\\begin{bmatrix}\nu_x \\\\ u_y\n\\end{bmatrix}\n\\end{aligned}$$\n\n$$\\mathbf{\\varepsilon} =\n\\mathbf{D} \\cdot \\mathbf{u_{\\text{throughout}}}$$\n\nTherefore:\n\n$$\\begin{aligned}\n\\begin{bmatrix}\n\\varepsilon_x \\\\ \\varepsilon_y \\\\ \\gamma_{xy}\n\\end{bmatrix}\n=\n\\mathbf{D} \\cdot \\mathbf{N} \\cdot \\mathbf{u_{\\text{nodal}}}\n=\n\\mathbf{B} \\cdot  \\mathbf{u_{\\text{nodal}}}\n\\end{aligned}$$\n\nwhere\n\n$$\\begin{aligned}\n\\mathbf{D}=\n\\frac{1}{\\det{\\mathbf{J}}} \\begin{bmatrix}\n\\frac{\\partial y}{\\partial t} \\frac{\\partial \\left( ... \\right)}{\\partial s} - \\frac{\\partial y}{\\partial s} \\frac{\\partial \\left( ... \\right)}{\\partial t} & 0 \\\\\n0 & \\frac{\\partial x}{\\partial s} \\frac{\\partial \\left( ... \\right)}{\\partial t} - \\frac{\\partial x}{\\partial t} \\frac{\\partial \\left( ... \\right)}{\\partial s} \\\\\n\\frac{\\partial x}{\\partial s} \\frac{\\partial \\left( ... \\right)}{\\partial t} - \\frac{\\partial x}{\\partial t} \\frac{\\partial \\left( ... \\right)}{\\partial s} & \\frac{\\partial y}{\\partial t} \\frac{\\partial \\left( ... \\right)}{\\partial s} - \\frac{\\partial y}{\\partial s} \\frac{\\partial \\left( ... \\right)}{\\partial t}\n\\end{bmatrix}\n\\end{aligned}$$\n\nand\n\n$$\\begin{aligned}\n\\mathbf{J}=\n\\begin{bmatrix}\n\\frac{\\partial x}{\\partial s} & \\frac{\\partial y}{\\partial s} \\\\\n\\frac{\\partial x}{\\partial t} & \\frac{\\partial y}{\\partial t}\n\\end{bmatrix}\n\\end{aligned}$$\n"
      ]
    },
    {
      "cell_type": "markdown",
      "metadata": {},
      "source": [
        "Implementation: Jacobians\n=========================\n\nThe Jacobian can be obtained by substituting the expressions for\npositions $x$ and $y$ throughout as a function of the nodal locations\nwith the help of the shape functions. It turns out to be equivalent to\nthe following bilinear form:\n\n$$\\begin{aligned}\n\\begin{aligned}\n\\det{\\mathbf{J}} &=\n\\frac{1}{8}\n\\begin{bmatrix}{}^1x & {}^2x & {}^3x & {}^4x \\end{bmatrix} \\cdot\n\\begin{bmatrix}\n0 & 1 - t & t-s & s-1 \\\\\nt-1 & 0 & s+1 & -s-t \\\\\ns-t & -s-1 & 0 & t+1 \\\\\n1-s & s+t & -t-1 & 0 \\\\\n\\end{bmatrix} \\cdot\n\\begin{bmatrix}{}^1y \\\\ {}^2y \\\\ {}^3y \\\\ {}^4y \\end{bmatrix}\n\\\\&=\n\\mathbf{X_{\\text{locs}}}^T \\cdot\n\\begin{bmatrix}\n0 & 1 - t & t-s & s-1 \\\\\nt-1 & 0 & s+1 & -s-t \\\\\ns-t & -s-1 & 0 & t+1 \\\\\n1-s & s+t & -t-1 & 0 \\\\\n\\end{bmatrix} \\cdot\n\\mathbf{Y_{\\text{locs}}}\n\\end{aligned}\n\\end{aligned}$$\n"
      ]
    },
    {
      "cell_type": "markdown",
      "metadata": {},
      "source": [
        "We are now ready to implement it into our element\n"
      ]
    },
    {
      "cell_type": "code",
      "execution_count": null,
      "metadata": {
        "collapsed": false
      },
      "outputs": [],
      "source": [
        "def J(self, s, t):\n    upper = np.array(\n        [\n            [0, -t + 1, +t - s, +s - 1],\n            [0, 0, +s + 1, -s - t],\n            [0, 0, 0, +t + 1],\n            [0, 0, 0, 0],\n        ],\n        dtype=float,\n    )\n    temp = upper - upper.T\n    return 1.0 / 8 * self.nodes[:, 0].dot(temp).dot(self.nodes[:, 1])\n\n\nMyElementDemo.J = J"
      ]
    },
    {
      "cell_type": "markdown",
      "metadata": {},
      "source": [
        "Next, we investigate how the Jacobians vary within the element. First\nfor our subject element:\n"
      ]
    },
    {
      "cell_type": "code",
      "execution_count": null,
      "metadata": {
        "collapsed": false
      },
      "outputs": [],
      "source": [
        "my_elem.J(-1, -1), my_elem.J(0, 0), my_elem.J(1, 1)"
      ]
    },
    {
      "cell_type": "markdown",
      "metadata": {},
      "source": [
        "Implementation: B Matrix\n========================\n\nSimilarly, we can implement our expression for the B matrix, which\nconverts nodal displacements $\\mathbf{u_{\\text{nodal}}}$ to strains\n$\\mathbf{\\varepsilon}$, by substituting the D operator, the shape\nfunctions and nodal locations:\n\n$$\\begin{aligned}\n\\begin{bmatrix}\n\\varepsilon_x \\\\ \\varepsilon_y \\\\ \\gamma_{xy}\n\\end{bmatrix}\n=\n\\mathbf{B} \\cdot  \\mathbf{u_{\\text{nodal}}}\n\\end{aligned}$$\n\n$$\\mathbf{B} = \\frac{1}{\\det{\\mathbf{J}}}\n\\begin{bmatrix}\n\\mathbf{B_1} & \\mathbf{B_2} & \\mathbf{B_3} & \\mathbf{B_4}\n\\end{bmatrix}$$\n\nwhere\n\n$$\\begin{aligned}\n\\mathbf{B_i} =\n\\begin{bmatrix}\na \\frac{\\partial N_i}{\\partial s} - b \\frac{\\partial N_i}{\\partial t} & 0 \\\\\n0 & c \\frac{\\partial N_i}{\\partial t} - d \\frac{\\partial N_i}{\\partial s} \\\\\nc \\frac{\\partial N_i}{\\partial t} - d \\frac{\\partial N_i}{\\partial s} & a \\frac{\\partial N_i}{\\partial s} - b \\frac{\\partial N_i}{\\partial t}\n\\end{bmatrix}\n\\end{aligned}$$\n\nand\n\n$$\\begin{aligned}\n\\begin{bmatrix}\nd & c\\\\\na & b\n\\end{bmatrix}=\n\\frac{1}{4}\n\\begin{bmatrix} \\mathbf{X_{\\text{locs}}}^T \\\\ \\mathbf{Y_{\\text{locs}}}^T \\end{bmatrix}  \\cdot\n\\begin{bmatrix} \\mathbf{S} & \\mathbf{T} \\end{bmatrix}\n\\end{aligned}$$\n\nfor\n\n$$\\begin{aligned}\n\\mathbf{S} = \\begin{bmatrix} s - 1 \\\\ -(s+1) \\\\ s+1 \\\\ -(s-1) \\end{bmatrix}\n\\end{aligned}$$\n\n$$\\begin{aligned}\n\\mathbf{T} = \\begin{bmatrix} t - 1 \\\\ -(t-1) \\\\ t+1 \\\\ -(s+1) \\end{bmatrix}\n\\end{aligned}$$\n"
      ]
    },
    {
      "cell_type": "code",
      "execution_count": null,
      "metadata": {
        "collapsed": false
      },
      "outputs": [],
      "source": [
        "def grad_N(self, s, t):\n    return 0.25 * np.array(\n        [\n            [-(1 - t), +(1 - t), +(1 + t), -(1 + t)],\n            [-(1 - s), -(1 + s), +(1 + s), +(1 - s)],\n        ],\n        dtype=float,\n    )\n\n\ndef B(self, s, t):\n    j = self.J(s, t)\n    S = np.array([-1 + s, -1 - s, +1 + s, +1 - s], dtype=float)\n    T = np.array([-1 + t, +1 - t, +1 + t, -1 - t], dtype=float)\n    [d, c], [a, b] = (\n        0.25 * np.c_[self.nodes[:, 0], self.nodes[:, 1]].T.dot(np.c_[S, T])\n    ).tolist()\n    n = self.grad_N(s, t)\n\n    def _bi_(i):\n        return np.array(\n            [\n                [a * n[0, i] - b * n[1, i], 0],\n                [0, c * n[1, i] - d * n[0, i]],\n                [c * n[1, i] - d * n[0, i], a * n[0, i] - b * n[1, i]],\n            ],\n            dtype=float,\n        )\n\n    return 1.0 / j * np.c_[_bi_(0), _bi_(1), _bi_(2), _bi_(3)]\n\n\nMyElementDemo.grad_N = grad_N\nMyElementDemo.B = B\n\nmy_elem.B(0, 0)"
      ]
    },
    {
      "cell_type": "markdown",
      "metadata": {},
      "source": [
        "Stress Calculation\n==================\n\nThe leap from strains to stresses involves the constitutive model, i.e.,\nthe material properties. This demo assumes a very simple case, i.e., a\nlinear isotropic material which converts strains to stresses according\nto the following matrix:\n\n$$\\mathbf{\\sigma}\n=\n\\mathbf{C} \\cdot \\mathbf{\\varepsilon}$$\n\n$$\\begin{aligned}\n\\begin{bmatrix}\n\\sigma_x \\\\ \\sigma_y \\\\ \\tau_{xy}\n\\end{bmatrix}\n=\n\\begin{bmatrix}\n1 & \\nu & 0 \\\\\n\\nu & 1 & 0 \\\\\n0 & 0 & 1\n\\end{bmatrix}\n\\begin{bmatrix}\n\\varepsilon_x \\\\ \\varepsilon_y \\\\ \\gamma_{xy}\n\\end{bmatrix}\n\\end{aligned}$$\n"
      ]
    },
    {
      "cell_type": "code",
      "execution_count": null,
      "metadata": {
        "collapsed": false
      },
      "outputs": [],
      "source": [
        "class Isotropic:\n    def __init__(self, ex, nu):\n        self.nu = nu\n        self.ex = ex\n\n    def evaluate(self):\n        d = np.array(\n            [[1, self.nu, 0], [self.nu, 1, 0], [0, 0, (1 - self.nu) / 2.0]], dtype=float\n        )\n\n        return d * (self.ex / (1 - self.nu**2))\n\n\nisotropic = Isotropic(30e6, 0.25)"
      ]
    },
    {
      "cell_type": "markdown",
      "metadata": {},
      "source": [
        "Stiffness Calculation\n\nThe total energy of a system $E$, comprising an element on which nodal\nforces $\\mathbf{F}_{\\text{nodal}}$ are applied and undergoes nodal\ndeformation $\\mathbf{u}_{\\text{nodal}}$ is:\n\n$$E = - \\mathbf{F}_{\\text{nodal}} \\cdot \\mathbf{u}_{\\text{nodal}} + \\frac{1}{2} \\iiint_V{} \\mathbf{\\varepsilon}^T \\cdot \\mathbf{\\sigma} \\,dV$$\n\nThe first term stems from the work by the force at the nodes while the\nsecond measures the strain energy density accumulated throughout the\nelement volume as it deforms.\n\nAs we saw, both stress and strain relate back to the nodal displacements\nthrough the B (courtesy of the shape functions), i.e.,\n$\\mathbf{\\varepsilon} = \\mathbf{B} \\cdot \\mathbf{u}_{\\text{nodal}}$ and\n$\\mathbf{\\sigma} = \\mathbf{C} \\cdot \\mathbf{B} \\cdot\n\\mathbf{u}_{\\text{nodal}}$ thus:\n\n$$E = -\\mathbf{F}_{\\text{nodal}} \\cdot \\mathbf{u}_{\\text{nodal}} + \\frac{1}{2} \\iiint_V{} \\mathbf{u}_{\\text{nodal}}^T \\cdot \\mathbf{B}^T \\cdot \\mathbf{C} \\cdot \\mathbf{B} \\cdot \\mathbf{u}_{\\text{nodal}} \\,dV$$\n"
      ]
    },
    {
      "cell_type": "markdown",
      "metadata": {},
      "source": [
        "Our assumed linear shape functions are not as rich as the true functions\ngoverning the actual deformation of the structure in real life. Imagine\na Taylor expansion: our linear shape function captures up to the first\npolynomial term, whereas the true shape function could have arbitrarily\nmany beyond that. One way this shows up is in the total energy of our\nsystem. When constrained to use our limited fidelity shape functions the\nsystem will accumulate a higher total energy than that of the true\nsolution it is meant to approximate. To seek the best approximation, it\nmakes sense to find a minimum of this total energy relative to the\npossible solutions, i.e., nodal displacements\n$\\mathbf{u}_{\\text{nodal}}$. Loyal to our calculus roots, we look for\nthe minimum by taking the corresponding partial derivative:\n\n$$\\frac{\\partial E}{\\partial \\mathbf{u}_{\\text{nodal}}} = -\\mathbf{F}_{\\text{nodal}} + \\frac{1}{2} \\iiint_V{} \\mathbf{B}^T \\cdot \\mathbf{C} \\cdot \\mathbf{B} \\cdot \\mathbf{u}_{\\text{nodal}} \\,dV =0$$\n\n$$\\mathbf{F}_{\\text{nodal}}  = \\frac{1}{2} \\iiint_V{} \\mathbf{B}^T \\cdot \\mathbf{C} \\cdot \\mathbf{B} \\cdot \\mathbf{u}_{\\text{nodal}} \\,dV = \\mathbf{K} \\cdot \\mathbf{u}_{\\text{nodal}}$$\n\nThus, we\\'ve unlocked the Hooke\\'s law stiffness hidden in the integral:\n\n$$\\mathbf{K} = \\iiint_V{} \\mathbf{B}^T \\cdot \\mathbf{C} \\cdot \\mathbf{B} \\,dV$$\n"
      ]
    },
    {
      "cell_type": "markdown",
      "metadata": {},
      "source": [
        "For our planar element, assumed to have constant thickness $h$ and area\n$A$:\n\n$$\\mathbf{K} = h \\iint_A{} \\mathbf{B}^T \\cdot \\mathbf{C} \\cdot \\mathbf{B} \\,dA=h \\iint_A{} \\mathbf{B}^T \\cdot \\mathbf{C} \\cdot \\mathbf{B}   \\,dx \\,dy = h \\iint_A{} \\mathbf{B}^T \\cdot \\mathbf{C} \\cdot \\mathbf{B} \\cdot \\det(\\mathbf{J})  \\,ds \\,dt$$\n\nAnd the integral can be approximated by Gaussian quadrature through a\nweighted sum with the optimal sampling points for $\\mathbf{B}$:\n\n$$\\mathbf{K}\\approx\nh \\sum_{(s,t) \\in \\text{Gauss}} w(s,t) \\cdot \\mathbf{B}^T(s,t) \\cdot \\mathbf{C} \\cdot \\mathbf{B}(s,t) \\cdot \\det(\\mathbf{J}(s,t))$$\n\nThus the use of an isoparametric formulation allowed us to make this\nintegration easy, since the domain of integration is constant,\nregardless of the shape of the 2D quadrilateral at hand.\n"
      ]
    },
    {
      "cell_type": "code",
      "execution_count": null,
      "metadata": {
        "collapsed": false
      },
      "outputs": [],
      "source": [
        "def K(self, C):\n    tot = np.zeros((self.ndof, self.ndof), dtype=float)\n    for st in self.gauss_pts:\n        B = self.B(*(st.tolist()))\n        J = self.J(*(st.tolist()))\n        tot += B.T.dot(C).dot(B) * J\n\n    return tot\n\n\nMyElementDemo.K = K\nMyElementDemo.ndof = 8"
      ]
    },
    {
      "cell_type": "code",
      "execution_count": null,
      "metadata": {
        "collapsed": false
      },
      "outputs": [],
      "source": [
        "stiffness = my_elem.K(isotropic.evaluate())\nprint(stiffness)"
      ]
    },
    {
      "cell_type": "code",
      "execution_count": null,
      "metadata": {
        "collapsed": false
      },
      "outputs": [],
      "source": [
        "stiffness_scaled = np.round(stiffness / 1e4)\nprint(stiffness_scaled)"
      ]
    },
    {
      "cell_type": "markdown",
      "metadata": {},
      "source": [
        "Putting it all together\n=======================\n\nCreating [Elem2D]{.title-ref} class.\n"
      ]
    },
    {
      "cell_type": "code",
      "execution_count": null,
      "metadata": {
        "collapsed": false
      },
      "outputs": [],
      "source": [
        "class Elem2D:\n    gauss_pts = (\n        np.array([[-1, -1], [1, -1], [1, 1], [-1, 1]], dtype=float) * 0.57735026918962\n    )\n    nnodes = 4\n    ndof = 8\n\n    def __init__(self, nodes):\n        self.nodes = nodes\n\n    def B(self, s, t):\n        j = self.J(s, t)\n        S = np.array([-1 + s, -1 - s, +1 + s, +1 - s], dtype=float)\n        T = np.array([-1 + t, +1 - t, +1 + t, -1 - t], dtype=float)\n        [d, c], [a, b] = (\n            0.25 * np.c_[self.nodes[:, 0], self.nodes[:, 1]].T.dot(np.c_[S, T])\n        ).tolist()\n        n = self.__grad_Ni(s, t)\n\n        def _bi_(i):\n            return np.array(\n                [\n                    [a * n[0, i] - b * n[1, i], 0],\n                    [0, c * n[1, i] - d * n[0, i]],\n                    [c * n[1, i] - d * n[0, i], a * n[0, i] - b * n[1, i]],\n                ],\n                dtype=float,\n            )\n\n        return 1.0 / j * np.c_[_bi_(0), _bi_(1), _bi_(2), _bi_(3)]\n\n    def __Ni(self, s, t):\n        return 0.25 * np.array(\n            [\n                (1 - s) * (1 - t),\n                (1 + s) * (1 - t),\n                (1 + s) * (1 + t),\n                (1 - s) * (1 + t),\n            ],\n            dtype=float,\n        )\n\n    def __grad_Ni(self, s, t):\n        return 0.25 * np.array(\n            [\n                [-(1 - t), +(1 - t), +(1 + t), -(1 + t)],\n                [-(1 - s), -(1 + s), +(1 + s), +(1 - s)],\n            ],\n            dtype=float,\n        )\n\n    def J(self, s, t):\n        upper = np.array(\n            [\n                [0, -t + 1, +t - s, +s - 1],\n                [0, 0, +s + 1, -s - t],\n                [0, 0, 0, +t + 1],\n                [0, 0, 0, 0],\n            ],\n            dtype=float,\n        )\n        temp = upper - upper.T\n        return 1.0 / 8 * self.nodes[:, 0].dot(temp).dot(self.nodes[:, 1])\n\n    def k(self, C):\n        tot = np.zeros((self.ndof, self.ndof), dtype=float)\n        for st in self.gauss_pts:\n            B = self.B(*(st.tolist()))\n            J = self.J(*(st.tolist()))\n            tot += B.T.dot(C).dot(B) * J\n\n        return tot\n\n    def N(self, s, t):\n        n_vec = self.___Ni(s, t)\n        return np.array(\n            [\n                [n_vec[0], 0, n_vec[1], 0, n_vec[2], 0, n_vec[3], 0],\n                [0, n_vec[0], 0, n_vec[1], 0, n_vec[2], 0, n_vec[3]],\n            ]\n        )\n\n    def M(self, rho):\n        tot = np.zeros((8, 8), dtype=float)\n        for st in self.gauss_pts:\n            n_array = self.N(*(st.tolist()))\n            tot += n_array.T.dot(n_array)\n\n        return tot"
      ]
    },
    {
      "cell_type": "markdown",
      "metadata": {},
      "source": [
        "Isotropic class definition\n"
      ]
    },
    {
      "cell_type": "code",
      "execution_count": null,
      "metadata": {
        "collapsed": false
      },
      "outputs": [],
      "source": [
        "class Isotropic:\n    def __init__(self, ex, nu):\n        self.nu = nu\n        self.ex = ex\n\n    def evaluate(self):\n        d = np.array(\n            [[1, self.nu, 0], [self.nu, 1, 0], [0, 0, (1 - self.nu) / 2.0]], dtype=float\n        )\n\n        return d * (self.ex / (1 - self.nu**2))"
      ]
    },
    {
      "cell_type": "markdown",
      "metadata": {},
      "source": [
        "Aplying the created classes.\n"
      ]
    },
    {
      "cell_type": "code",
      "execution_count": null,
      "metadata": {
        "collapsed": false
      },
      "outputs": [],
      "source": [
        "isotropic = Isotropic(30e6, 0.25)\nelem = Elem2D(nodes)\n\nstiffness = elem.k(isotropic.evaluate())\n\nstiffness_scaled = np.round(stiffness / 1e4)\nprint(stiffness_scaled)"
      ]
    },
    {
      "cell_type": "markdown",
      "metadata": {},
      "source": [
        "Element in PyMAPDL\n==================\n\nNow let\\'s obtain the same stiffness matrix from MAPDL\n\nlaunch PyMAPDL\n"
      ]
    },
    {
      "cell_type": "code",
      "execution_count": null,
      "metadata": {
        "collapsed": false
      },
      "outputs": [],
      "source": [
        "from ansys.mapdl.core import launch_mapdl\n\nmapdl = launch_mapdl()\nmapdl.clear()"
      ]
    },
    {
      "cell_type": "markdown",
      "metadata": {},
      "source": [
        "Create a use a 2-D 4-Node Structural Solid element with matching\nmaterial properties.\n"
      ]
    },
    {
      "cell_type": "code",
      "execution_count": null,
      "metadata": {
        "collapsed": false
      },
      "outputs": [],
      "source": [
        "mapdl.prep7()\nmapdl.et(1, 182)\nmapdl.mp(\"ex\", 1, 30e6)  # Young's modulus\nmapdl.mp(\"nuxy\", 1, 0.25)  # Poisson's ratio\nmapdl.mp(\"dens\", 1, 1)\n# unit density"
      ]
    },
    {
      "cell_type": "markdown",
      "metadata": {},
      "source": [
        "Create the nodes at the same locations as above.\n"
      ]
    },
    {
      "cell_type": "code",
      "execution_count": null,
      "metadata": {
        "collapsed": false
      },
      "outputs": [],
      "source": [
        "for i, n in zip(node_ids, nodes):\n    mapdl.n(i, *n)"
      ]
    },
    {
      "cell_type": "markdown",
      "metadata": {},
      "source": [
        "Setup our element with the corresponding material properties.\n"
      ]
    },
    {
      "cell_type": "code",
      "execution_count": null,
      "metadata": {
        "collapsed": false
      },
      "outputs": [],
      "source": [
        "_ = mapdl.e(*node_ids)  # Using '_ =' to hide output."
      ]
    },
    {
      "cell_type": "markdown",
      "metadata": {},
      "source": [
        "Setup the static analysis.\n"
      ]
    },
    {
      "cell_type": "code",
      "execution_count": null,
      "metadata": {
        "collapsed": false
      },
      "outputs": [],
      "source": [
        "mapdl.slashsolu()\nmapdl.antype(\"static\", \"new\")"
      ]
    },
    {
      "cell_type": "markdown",
      "metadata": {},
      "source": [
        "Solve and permit one degree of freedom of each mode to be free per\nsolution.\n"
      ]
    },
    {
      "cell_type": "code",
      "execution_count": null,
      "metadata": {
        "collapsed": false
      },
      "outputs": [],
      "source": [
        "dof_list = list(itertools.product(node_ids, [\"ux\", \"uy\"]))\n\nfor node_id, dof in dof_list:\n    mapdl.d(\"all\", \"all\")\n    mapdl.d(node_id, dof, 1)\n    mapdl.solve()\n\nmapdl.finish()"
      ]
    },
    {
      "cell_type": "markdown",
      "metadata": {},
      "source": [
        "The columns of the stiffness matrix appear as nodal force reactions\n"
      ]
    },
    {
      "cell_type": "code",
      "execution_count": null,
      "metadata": {
        "collapsed": false
      },
      "outputs": [],
      "source": [
        "results = []\n\nfor i, _ in enumerate(dof_list):\n    mapdl.post1()\n    mapdl.set(i + 1)\n    prrsol_f = mapdl.prrsol(\"f\").to_array()[:, 1:]  # Omitting node column (0)\n    results.append(prrsol_f)\n\nfor txt in results:\n    print(txt)\n    print(\"=\" * 80)"
      ]
    },
    {
      "cell_type": "markdown",
      "metadata": {},
      "source": [
        "Now, apply this to the whole matrix and output it.\n"
      ]
    },
    {
      "cell_type": "code",
      "execution_count": null,
      "metadata": {
        "collapsed": false
      },
      "outputs": [],
      "source": [
        "stiffness_mapdl = np.array(results)\nstiffness_mapdl = stiffness_mapdl.reshape(8, 8)\nstiffnes_mapdl_scaled = np.round(stiffness_mapdl / 1e4)\nprint(stiffnes_mapdl_scaled)"
      ]
    },
    {
      "cell_type": "markdown",
      "metadata": {},
      "source": [
        "Which is identical to the stiffness matrix obtained from our academic\nformulation.\n"
      ]
    },
    {
      "cell_type": "code",
      "execution_count": null,
      "metadata": {
        "collapsed": false
      },
      "outputs": [],
      "source": [
        "print(stiffness_scaled)"
      ]
    },
    {
      "cell_type": "markdown",
      "metadata": {},
      "source": [
        "Show that the stiffness matrix in MAPDL matches what we derived.\n"
      ]
    },
    {
      "cell_type": "code",
      "execution_count": null,
      "metadata": {
        "collapsed": false
      },
      "outputs": [],
      "source": [
        "if np.allclose(stiffnes_mapdl_scaled, stiffness_scaled):\n    print(\"Both matrices are the equal within tolerance.\")"
      ]
    },
    {
      "cell_type": "markdown",
      "metadata": {},
      "source": [
        "stop mapdl\n"
      ]
    },
    {
      "cell_type": "code",
      "execution_count": null,
      "metadata": {
        "collapsed": false
      },
      "outputs": [],
      "source": [
        "mapdl.exit()"
      ]
    }
  ],
  "metadata": {
    "kernelspec": {
      "display_name": "Python 3",
      "language": "python",
      "name": "python3"
    },
    "language_info": {
      "codemirror_mode": {
        "name": "ipython",
        "version": 3
      },
      "file_extension": ".py",
      "mimetype": "text/x-python",
      "name": "python",
      "nbconvert_exporter": "python",
      "pygments_lexer": "ipython3",
      "version": "3.8.14"
    }
  },
  "nbformat": 4,
  "nbformat_minor": 0
}