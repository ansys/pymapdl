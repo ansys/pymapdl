{
  "cells": [
    {
      "cell_type": "code",
      "execution_count": null,
      "metadata": {
        "collapsed": false
      },
      "outputs": [],
      "source": [
        "%matplotlib inline"
      ]
    },
    {
      "cell_type": "markdown",
      "metadata": {},
      "source": [
        "Lines {#ref_basic-geometry-lines}\n=====\n\nThis example shows how you can use PyMAPDL to create basic geometry\nusing Pythonic PREP7 line commands.\n"
      ]
    },
    {
      "cell_type": "code",
      "execution_count": null,
      "metadata": {
        "collapsed": false
      },
      "outputs": [],
      "source": [
        "import numpy as np\n\nfrom ansys.mapdl.core import launch_mapdl\n\n# start MAPDL and enter the pre-processing routine\nmapdl = launch_mapdl()\nmapdl.clear()\nmapdl.prep7()\nprint(mapdl)"
      ]
    },
    {
      "cell_type": "markdown",
      "metadata": {},
      "source": [
        "APDL Command: L\n===============\n\nCreate a line between the two keypoints `(0, 0, 0)` and `(1, 0, 0)`\n"
      ]
    },
    {
      "cell_type": "code",
      "execution_count": null,
      "metadata": {
        "collapsed": false
      },
      "outputs": [],
      "source": [
        "k0 = mapdl.k(\"\", 0, 0, 0)\nk1 = mapdl.k(\"\", 1, 0, 0)\nlnum = mapdl.l(k0, k1)\nlnum"
      ]
    },
    {
      "cell_type": "markdown",
      "metadata": {},
      "source": [
        "APDL Command: LARC\n==================\n\nCreate a circular arc that travels between `(0, 0, 0)` and `(1, 1, 0)`\nwith a radius of curvature of 2. Plot the result.\n"
      ]
    },
    {
      "cell_type": "code",
      "execution_count": null,
      "metadata": {
        "collapsed": false
      },
      "outputs": [],
      "source": [
        "mapdl.clear()\nmapdl.prep7()\n\nk0 = mapdl.k(\"\", 0, 0, 0)\nk1 = mapdl.k(\"\", 1, 1, 0)\nk2 = mapdl.k(\"\", 0, 1, 0)\nlnum = mapdl.larc(k0, k1, k2, 2)\nmapdl.lplot(background=\"w\", color=\"k\", line_width=5, cpos=\"xy\")"
      ]
    },
    {
      "cell_type": "markdown",
      "metadata": {},
      "source": [
        "APDL Command: L2ANG\n===================\n\nCreate two circles and join them with a line. Plot the result.\n"
      ]
    },
    {
      "cell_type": "code",
      "execution_count": null,
      "metadata": {
        "collapsed": false
      },
      "outputs": [],
      "source": [
        "mapdl.clear()\nmapdl.prep7()\n\nk0 = mapdl.k(\"\", 0, 0, 0)\nk1 = mapdl.k(\"\", 0, 0, 1)\nk2 = mapdl.k(\"\", 0, 0, 0.5)\ncarc0 = mapdl.circle(k0, 1, k1)\ncarc1 = mapdl.circle(k2, 1, k1)\nlnum = mapdl.l2ang(carc0[0], carc1[0], 90, 90)\nmapdl.lplot(background=\"w\", color=\"k\", line_width=5)"
      ]
    },
    {
      "cell_type": "markdown",
      "metadata": {},
      "source": [
        "APDL Command: L2TAN\n===================\n\nCreate two circular arcs and connect them with a spline. Plot the\nresult.\n"
      ]
    },
    {
      "cell_type": "code",
      "execution_count": null,
      "metadata": {
        "collapsed": false
      },
      "outputs": [],
      "source": [
        "mapdl.clear()\nmapdl.prep7()\n\nk0 = mapdl.k(\"\", 0, 0, 0)\nk1 = mapdl.k(\"\", 0, 0, 1)\nk2 = mapdl.k(\"\", -1.5, 1.5, 0)\nk3 = mapdl.k(\"\", -1.5, 1.5, 1)\ncarc0 = mapdl.circle(k0, 1, k1, arc=90)\ncarc1 = mapdl.circle(k2, 1, k3, arc=90)\nlnum = mapdl.l2tan(1, 2)\nmapdl.lplot(background=\"w\", color=\"k\", line_width=5, cpos=\"xy\")"
      ]
    },
    {
      "cell_type": "markdown",
      "metadata": {},
      "source": [
        "APDL Command: LANG\n==================\n\nCreate a line from a line from `(0, 0, 0)` to `(1, 0, 0)` to a keypoint\nat `(1, 1, 1)` at an angle of 60 degrees. Plot the result.\n"
      ]
    },
    {
      "cell_type": "code",
      "execution_count": null,
      "metadata": {
        "collapsed": false
      },
      "outputs": [],
      "source": [
        "mapdl.clear()\nmapdl.prep7()\n\nk0 = mapdl.k(\"\", 0, 0, 0)\nk1 = mapdl.k(\"\", 1, 0, 0)\nlnum = mapdl.l(k0, k1)\nk2 = mapdl.k(\"\", 1, 1, 0)\nlnum = mapdl.lang(lnum, k2, 60)\nmapdl.lplot(background=\"w\", color=\"k\", line_width=5, cpos=\"xy\")"
      ]
    },
    {
      "cell_type": "markdown",
      "metadata": {},
      "source": [
        "APDL Command: LAREA\n===================\n\nGenerate a line on a square between its two corners.\n"
      ]
    },
    {
      "cell_type": "code",
      "execution_count": null,
      "metadata": {
        "collapsed": false
      },
      "outputs": [],
      "source": [
        "mapdl.clear()\nmapdl.prep7()\n\nk0 = mapdl.k(\"\", 0, 0, 0)\nk1 = mapdl.k(\"\", 1, 0, 0)\nk2 = mapdl.k(\"\", 1, 1, 0)\nk3 = mapdl.k(\"\", 0, 1, 0)\na0 = mapdl.a(k0, k1, k2, k3)\nlnum = mapdl.larea(k0, k2, a0)\nmapdl.lplot(background=\"w\", color=\"k\", line_width=5, cpos=\"xy\")"
      ]
    },
    {
      "cell_type": "markdown",
      "metadata": {},
      "source": [
        "APDL Command: LCOMB\n===================\n\nCreate two lines and combine them.\n"
      ]
    },
    {
      "cell_type": "code",
      "execution_count": null,
      "metadata": {
        "collapsed": false
      },
      "outputs": [],
      "source": [
        "k0 = mapdl.k(\"\", 0, 0, 0)\nk1 = mapdl.k(\"\", 1, 0, 0)\nk2 = mapdl.k(\"\", 2, 0, 0)\nl0 = mapdl.l(k0, k1)\nl1 = mapdl.l(k0, k2)\nlout = mapdl.lcomb(l0, l1)"
      ]
    },
    {
      "cell_type": "markdown",
      "metadata": {},
      "source": [
        "APDL Command: LDIV\n==================\n\nCreate a single line and divide it into 5 pieces.\n"
      ]
    },
    {
      "cell_type": "code",
      "execution_count": null,
      "metadata": {
        "collapsed": false
      },
      "outputs": [],
      "source": [
        "mapdl.clear()\nmapdl.prep7()\n\nk0 = mapdl.k(\"\", 0, 0, 0)\nk1 = mapdl.k(\"\", 1, 0, 0)\nl0 = mapdl.l(k0, k1)\nmapdl.ldiv(l0, ndiv=5)\nmapdl.lplot(background=\"w\", color=\"k\", line_width=5, cpos=\"xy\")"
      ]
    },
    {
      "cell_type": "markdown",
      "metadata": {},
      "source": [
        "APDL Command: LEXTND\n====================\n\nCreate a circular arc and extend it at one of its keypoints.\n"
      ]
    },
    {
      "cell_type": "code",
      "execution_count": null,
      "metadata": {
        "collapsed": false
      },
      "outputs": [],
      "source": [
        "mapdl.clear()\nmapdl.prep7()\n\nk0 = mapdl.k(\"\", 0, 0, 0)\nk1 = mapdl.k(\"\", 0, 0, 1)\ncarcs = mapdl.circle(k0, 1, k1, arc=90)\nlnum = mapdl.lextnd(carcs[0], 3, 1)\nmapdl.lplot(background=\"w\", color=\"k\", line_width=5, cpos=\"xy\")"
      ]
    },
    {
      "cell_type": "markdown",
      "metadata": {},
      "source": [
        "APDL Command: LFILLT\n====================\n\nCreate two intersecting lines at a right angle and add a fillet between\nthem.\n"
      ]
    },
    {
      "cell_type": "code",
      "execution_count": null,
      "metadata": {
        "collapsed": false
      },
      "outputs": [],
      "source": [
        "mapdl.clear()\nmapdl.prep7()\n\nk0 = mapdl.k(\"\", 0, 0, 0)\nk1 = mapdl.k(\"\", 0, 1, 0)\nk2 = mapdl.k(\"\", 1, 0, 0)\nl0 = mapdl.l(k0, k1)\nl1 = mapdl.l(k0, k2)\nlnum = mapdl.lfillt(l0, l1, 0.25)\nmapdl.lplot(background=\"w\", color=\"k\", line_width=5, cpos=\"xy\")"
      ]
    },
    {
      "cell_type": "markdown",
      "metadata": {},
      "source": [
        "APDL Command: LTAN\n==================\n\nCreate a circular arc and generate a tangent spline at the end of it\ndirected to a new keypoint.\n"
      ]
    },
    {
      "cell_type": "code",
      "execution_count": null,
      "metadata": {
        "collapsed": false
      },
      "outputs": [],
      "source": [
        "mapdl.clear()\nmapdl.prep7()\n\nk0 = mapdl.k(\"\", 0, 0, 0)\nk1 = mapdl.k(\"\", 0, 0, 1)\nk2 = mapdl.k(\"\", -1, 1.5, 0)\ncarc = mapdl.circle(k0, 1, k1, arc=90)\nlnum = mapdl.ltan(carc[0], k2)\nmapdl.lplot(background=\"w\", color=\"k\", line_width=5, cpos=\"xy\")"
      ]
    },
    {
      "cell_type": "markdown",
      "metadata": {},
      "source": [
        "APDL Command: SPLINE\n====================\n\nGenerate a segmented spline through 5 keypoints.\n"
      ]
    },
    {
      "cell_type": "code",
      "execution_count": null,
      "metadata": {
        "collapsed": false
      },
      "outputs": [],
      "source": [
        "mapdl.clear()\nmapdl.prep7()\n\nk0 = mapdl.k(\"\", 0, 0, 0)\nk1 = mapdl.k(\"\", 0.2, 0.2, 0)\nk2 = mapdl.k(\"\", 0.4, 0.3, 0)\nk3 = mapdl.k(\"\", 0.6, 0.5, 0)\nk4 = mapdl.k(\"\", 0.8, 0.3, 0)\nmapdl.spline(k0, k1, k2, k3, k4)\nmapdl.lplot(background=\"w\", color=\"k\", line_width=5, cpos=\"xy\")"
      ]
    },
    {
      "cell_type": "markdown",
      "metadata": {},
      "source": [
        "APDL Command: BSPLIN\n====================\n\nGenerate a single line from a spline fit to a series of keypoints.\nGenerate through `(0, 0, 0)`, `(0, 1, 0)` and `(1, 2, 0)`\n\nThis is different than the `spline` method as this creates a single line\nrather than multiple lines.\n"
      ]
    },
    {
      "cell_type": "code",
      "execution_count": null,
      "metadata": {
        "collapsed": false
      },
      "outputs": [],
      "source": [
        "mapdl.clear()\nmapdl.prep7()\n\nk0 = mapdl.k(\"\", 0, 0, 0)\nk1 = mapdl.k(\"\", 0, 1, 0)\nk2 = mapdl.k(\"\", 1, 2, 0)\nlnum = mapdl.bsplin(k0, k1, k2)\nmapdl.lplot(background=\"w\", color=\"k\", line_width=5, cpos=\"xy\")"
      ]
    },
    {
      "cell_type": "markdown",
      "metadata": {},
      "source": [
        "Line IDs\n========\n\nReturn an array of the line IDs\n"
      ]
    },
    {
      "cell_type": "code",
      "execution_count": null,
      "metadata": {
        "collapsed": false
      },
      "outputs": [],
      "source": [
        "lnum = mapdl.geometry.lnum\nlnum"
      ]
    },
    {
      "cell_type": "markdown",
      "metadata": {},
      "source": [
        "Line Geometry\n=============\n\nGet the VTK `PolyData` containing lines. This VTK mesh can be saved or\nplotted. For more details, visit <https://docs.pyvista.com>\n"
      ]
    },
    {
      "cell_type": "code",
      "execution_count": null,
      "metadata": {
        "collapsed": false
      },
      "outputs": [],
      "source": [
        "lines = mapdl.geometry.lines\nlines"
      ]
    },
    {
      "cell_type": "markdown",
      "metadata": {},
      "source": [
        "Line Selection\n==============\n\nThere are two approaches for selecting lines, the old \\\"legacy\\\" style\nand the new style. The old style is valuable for those who are\ncomfortable with the existing MAPDL commands, and new style is useful\nfor selecting lines in a pythonic manner.\n\nThis example generates a series of random lines and selects them\n"
      ]
    },
    {
      "cell_type": "code",
      "execution_count": null,
      "metadata": {
        "collapsed": false
      },
      "outputs": [],
      "source": [
        "mapdl.clear()\nmapdl.prep7()\n\n\ndef generate_random_line():\n    k0 = mapdl.k(\"\", *np.random.random(3))\n    k1 = mapdl.k(\"\", *np.random.random(3))\n    mapdl.l(k0, k1)\n\n\n# create 20 random lines\nfor _ in range(20):\n    generate_random_line()\n\n# Print the line numbers\nprint(mapdl.geometry.lnum)"
      ]
    },
    {
      "cell_type": "markdown",
      "metadata": {},
      "source": [
        "Select every other line with the old style command.\n"
      ]
    },
    {
      "cell_type": "code",
      "execution_count": null,
      "metadata": {
        "collapsed": false
      },
      "outputs": [],
      "source": [
        "mapdl.ksel(\"S\", \"KP\", \"\", 1, 20, 2)\nprint(mapdl.geometry.lnum)"
      ]
    },
    {
      "cell_type": "markdown",
      "metadata": {},
      "source": [
        "Select every other line with the new style command.\n\nNote that the item IDs are 1 based in MAPDL, while Python ranges are 0\nbased.\n"
      ]
    },
    {
      "cell_type": "code",
      "execution_count": null,
      "metadata": {
        "collapsed": false
      },
      "outputs": [],
      "source": [
        "mapdl.geometry.line_select(range(1, 21, 2))\nprint(mapdl.geometry.lnum)"
      ]
    },
    {
      "cell_type": "markdown",
      "metadata": {},
      "source": [
        "Select lines from a list\n\nNote that you can `return_selected` if you want to see what you have\nselected. This is helpful when reselecting from existing areas.\n\nNote that you could use a numpy array here as well.\n"
      ]
    },
    {
      "cell_type": "code",
      "execution_count": null,
      "metadata": {
        "collapsed": false
      },
      "outputs": [],
      "source": [
        "items = mapdl.geometry.line_select([1, 5, 10, 20], return_selected=True)\nprint(items)"
      ]
    },
    {
      "cell_type": "markdown",
      "metadata": {},
      "source": [
        "APDL Command: LPLOT\n===================\n\nPlot colored lines while displaying the keypoint numbers.\n\nThere are a variety of plotting options available for all the common\nplotting methods.\n"
      ]
    },
    {
      "cell_type": "code",
      "execution_count": null,
      "metadata": {
        "collapsed": false
      },
      "outputs": [],
      "source": [
        "mapdl.lplot(\n    show_keypoint_numbering=True,\n    color_lines=True,\n    show_line_numbering=False,\n    background=\"black\",\n    show_bounds=True,\n    line_width=5,\n    cpos=\"xy\",\n    font_size=26,\n)"
      ]
    },
    {
      "cell_type": "markdown",
      "metadata": {},
      "source": [
        "stop mapdl\n"
      ]
    },
    {
      "cell_type": "code",
      "execution_count": null,
      "metadata": {
        "collapsed": false
      },
      "outputs": [],
      "source": [
        "mapdl.exit()"
      ]
    }
  ],
  "metadata": {
    "kernelspec": {
      "display_name": "Python 3",
      "language": "python",
      "name": "python3"
    },
    "language_info": {
      "codemirror_mode": {
        "name": "ipython",
        "version": 3
      },
      "file_extension": ".py",
      "mimetype": "text/x-python",
      "name": "python",
      "nbconvert_exporter": "python",
      "pygments_lexer": "ipython3",
      "version": "3.8.14"
    }
  },
  "nbformat": 4,
  "nbformat_minor": 0
}