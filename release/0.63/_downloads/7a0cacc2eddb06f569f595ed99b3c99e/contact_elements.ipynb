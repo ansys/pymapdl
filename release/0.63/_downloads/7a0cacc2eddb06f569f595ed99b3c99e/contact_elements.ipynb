{
  "cells": [
    {
      "cell_type": "code",
      "execution_count": null,
      "metadata": {
        "collapsed": false
      },
      "outputs": [],
      "source": [
        "%matplotlib inline"
      ]
    },
    {
      "cell_type": "markdown",
      "metadata": {},
      "source": [
        "Contact Element Example {#ref_contact_example}\n=======================\n\nThis example demonstrates how to create contact elements for general\ncontact.\n\nBegin by launching MAPDL.\n"
      ]
    },
    {
      "cell_type": "code",
      "execution_count": null,
      "metadata": {
        "collapsed": false
      },
      "outputs": [],
      "source": [
        "from ansys.mapdl import core as pymapdl\n\nmapdl = pymapdl.launch_mapdl()"
      ]
    },
    {
      "cell_type": "markdown",
      "metadata": {},
      "source": [
        "Enter the pre-processor, create a block and mesh it with tetrahedral\nelements.\n"
      ]
    },
    {
      "cell_type": "code",
      "execution_count": null,
      "metadata": {
        "collapsed": false
      },
      "outputs": [],
      "source": [
        "mapdl.prep7()\n\nvnum0 = mapdl.block(0, 1, 0, 1, 0, 0.5)\n\nmapdl.et(1, 187)\nmapdl.esize(0.1)\n\nmapdl.vmesh(vnum0)\nmapdl.eplot()"
      ]
    },
    {
      "cell_type": "markdown",
      "metadata": {},
      "source": [
        "Second a volume block above the existing block and mesh it with\nquadratic hexahedral elements. Ensure that these blocks do not touch by\nstarting it slightly higher than the existing block.\n\nNote how these two blocks do not touch and the mesh is non-conformal.\n"
      ]
    },
    {
      "cell_type": "code",
      "execution_count": null,
      "metadata": {
        "collapsed": false
      },
      "outputs": [],
      "source": [
        "mapdl.esize(0.09)\nmapdl.et(2, 186)\nmapdl.type(2)\nvnum1 = mapdl.block(0, 1, 0, 1, 0.50001, 1)\nmapdl.vmesh(vnum1)\nmapdl.eplot()"
      ]
    },
    {
      "cell_type": "markdown",
      "metadata": {},
      "source": [
        "Select all the elements at the intersection between the two blocks and\ngenerate contact elements.\n"
      ]
    },
    {
      "cell_type": "code",
      "execution_count": null,
      "metadata": {
        "collapsed": false
      },
      "outputs": [],
      "source": [
        "mapdl.nsel(\"s\", \"loc\", \"z\", 0.5, 0.50001)\nmapdl.esln(\"s\")\noutput = mapdl.gcgen(\"NEW\", splitkey=\"SPLIT\", selopt=\"SELECT\")\nprint(output)"
      ]
    },
    {
      "cell_type": "markdown",
      "metadata": {},
      "source": [
        "Plot the contact element pairs. Note from the command output above that\nthe section IDs are 5 and 6.\n\nHere, we plot the element mesh as a wire-frame to show that the contact\npairs overlap.\n"
      ]
    },
    {
      "cell_type": "code",
      "execution_count": null,
      "metadata": {
        "collapsed": false
      },
      "outputs": [],
      "source": [
        "mapdl.esel(\"S\", \"SEC\", vmin=5, vmax=6)\nmapdl.eplot(style=\"wireframe\", line_width=3)"
      ]
    },
    {
      "cell_type": "markdown",
      "metadata": {},
      "source": [
        "stop mapdl\n"
      ]
    },
    {
      "cell_type": "code",
      "execution_count": null,
      "metadata": {
        "collapsed": false
      },
      "outputs": [],
      "source": [
        "mapdl.exit()"
      ]
    }
  ],
  "metadata": {
    "kernelspec": {
      "display_name": "Python 3",
      "language": "python",
      "name": "python3"
    },
    "language_info": {
      "codemirror_mode": {
        "name": "ipython",
        "version": 3
      },
      "file_extension": ".py",
      "mimetype": "text/x-python",
      "name": "python",
      "nbconvert_exporter": "python",
      "pygments_lexer": "ipython3",
      "version": "3.8.14"
    }
  },
  "nbformat": 4,
  "nbformat_minor": 0
}