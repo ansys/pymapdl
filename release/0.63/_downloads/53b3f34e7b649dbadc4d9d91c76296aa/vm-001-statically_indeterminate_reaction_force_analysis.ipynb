{
  "cells": [
    {
      "cell_type": "code",
      "execution_count": null,
      "metadata": {
        "collapsed": false
      },
      "outputs": [],
      "source": [
        "%matplotlib inline"
      ]
    },
    {
      "cell_type": "markdown",
      "metadata": {},
      "source": [
        "Statically Indeterminate Reaction Force Analysis {#ref_statically_indeterminate_example}\n================================================\n\nProblem Description:\n\n:   -   A prismatical bar with built-in ends is loaded axially at two\n        intermediate cross sections. Determine the reactions $R_1$ and\n        $R_2$.\n\nReference:\n\n:   -   S. Timoshenko, Strength of Materials, Part I, Elementary Theory\n        and Problems, 3rd Edition, D. Van Nostrand Co., Inc., New York,\n        NY, 1955, pg. 26, problem 10.\n\nAnalysis Type(s):\n\n:   -   Static Analysis `ANTYPE=0`\n\nElement Type(s):\n\n:   -   3-D Spar (or Truss) Elements (LINK180)\n\n![VM1 Problem Sketch](../../../_static/vm1_setup.png){width=\"400px\"}\n\nMaterial Properties\n\n:   -   $E = 30 \\cdot 10^6 psi$\n\nGeometric Properties:\n\n:   -   $a = b = 0.3$\n    -   $l = 10 in$\n\nLoading:\n\n:   -   $F_1 = 2*F_2 = 1000 lb$\n\nAnalytical Equations:\n\n:   -   $P = R_1 + R_2$ where $P$ is load.\n    -   $\\frac{R_2}{R_1} = \\frac{a}{b}$ Where $a$ and $b$ are the ratios\n        of distances between the load and the wall.\n"
      ]
    },
    {
      "cell_type": "code",
      "execution_count": null,
      "metadata": {
        "collapsed": false
      },
      "outputs": [],
      "source": [
        "# sphinx_gallery_thumbnail_path = '_static/vm1_setup.png'\n\nfrom ansys.mapdl.core import launch_mapdl\n\n# start mapdl and clear it\nmapdl = launch_mapdl()\nmapdl.clear()  # optional as MAPDL just started\n\n# enter verification example mode and the pre-processing routine\nmapdl.verify()\nmapdl.prep7()"
      ]
    },
    {
      "cell_type": "markdown",
      "metadata": {},
      "source": [
        "Define Material\n===============\n\nSet up the material and its type (a single material, with a linking-type\nsection and a Young\\'s modulus of 30e6).\n"
      ]
    },
    {
      "cell_type": "code",
      "execution_count": null,
      "metadata": {
        "collapsed": false
      },
      "outputs": [],
      "source": [
        "mapdl.antype(\"STATIC\")\nmapdl.et(1, \"LINK180\")\nmapdl.sectype(1, \"LINK\")\nmapdl.secdata(1)\nmapdl.mp(\"EX\", 1, 30e6)"
      ]
    },
    {
      "cell_type": "markdown",
      "metadata": {},
      "source": [
        "Define Geometry\n===============\n\nSet up the nodes and elements. This creates a mesh just like in the\nproblem setup.\n"
      ]
    },
    {
      "cell_type": "code",
      "execution_count": null,
      "metadata": {
        "collapsed": false
      },
      "outputs": [],
      "source": [
        "mapdl.n(1, 0, 0)\nmapdl.n(2, 0, 4)\nmapdl.n(3, 0, 7)\nmapdl.n(4, 0, 10)\nmapdl.e(1, 2)\nmapdl.egen(3, 1, 1)"
      ]
    },
    {
      "cell_type": "markdown",
      "metadata": {},
      "source": [
        "Define Boundary Conditions\n==========================\n\nFull constrain nodes 1 and 4, by incrementing from node 1 to node 4 in\nsteps of 3. Apply y-direction forces to nodes 2 and 3, with values of\n-500 lb and -1000 lb respectively. Then exit prep7.\n\nEffectiely, this sets: - $F_1 = 2*F_2 = 1000 lb$\n"
      ]
    },
    {
      "cell_type": "code",
      "execution_count": null,
      "metadata": {
        "collapsed": false
      },
      "outputs": [],
      "source": [
        "mapdl.d(1, \"ALL\", \"\", \"\", 4, 3)\nmapdl.f(2, \"FY\", -500)\nmapdl.f(3, \"FY\", -1000)\nmapdl.finish()"
      ]
    },
    {
      "cell_type": "markdown",
      "metadata": {},
      "source": [
        "Solve\n=====\n\nEnter solution mode and solve the system.\n"
      ]
    },
    {
      "cell_type": "code",
      "execution_count": null,
      "metadata": {
        "collapsed": false
      },
      "outputs": [],
      "source": [
        "mapdl.run(\"/SOLU\")\nout = mapdl.solve()\nmapdl.finish()"
      ]
    },
    {
      "cell_type": "markdown",
      "metadata": {},
      "source": [
        "Post-processing\n===============\n\nEnter post-processing. Select the nodes at `y=10` and `y=0`, and sum the\nforces there. Then store the y-components in two variables: `reaction_1`\nand `reaction_2`.\n"
      ]
    },
    {
      "cell_type": "code",
      "execution_count": null,
      "metadata": {
        "collapsed": false
      },
      "outputs": [],
      "source": [
        "mapdl.post1()\nmapdl.nsel(\"S\", \"LOC\", \"Y\", 10)\nmapdl.fsum()\nreaction_1 = mapdl.get(\"REAC_1\", \"FSUM\", \"\", \"ITEM\", \"FY\")\nmapdl.nsel(\"S\", \"LOC\", \"Y\", 0)\nmapdl.fsum()\nreaction_2 = mapdl.get(\"REAC_2\", \"FSUM\", \"\", \"ITEM\", \"FY\")"
      ]
    },
    {
      "cell_type": "markdown",
      "metadata": {},
      "source": [
        "Check Results\n=============\n\nNow that we have the reaction forces we can compare them to the expected\nvalues of 900 lbs and 600 lbs for reactions 1 and 2 respectively.\n\nAnalytical results obtained from: - $P = R_1 + R_2$ where $P$ is load of\n1500 lbs - $\\frac{R_2}{R_1} = \\frac{a}{b}$\n\nHint: Solve for each reaction force independently.\n"
      ]
    },
    {
      "cell_type": "code",
      "execution_count": null,
      "metadata": {
        "collapsed": false
      },
      "outputs": [],
      "source": [
        "results = f\"\"\"\n    ---------------------  RESULTS COMPARISON  ---------------------\n    |   TARGET   |   Mechanical APDL   |   RATIO\n    /INPUT FILE=    LINE=       0\n    R1, lb          900.0       {abs(reaction_1)}   {abs(reaction_1) / 900}\n    R2, lb          600.0       {abs(reaction_2)}   {abs(reaction_2) / 600}\n    ----------------------------------------------------------------\n    \"\"\"\nprint(results)"
      ]
    },
    {
      "cell_type": "markdown",
      "metadata": {},
      "source": [
        "stop mapdl\n"
      ]
    },
    {
      "cell_type": "code",
      "execution_count": null,
      "metadata": {
        "collapsed": false
      },
      "outputs": [],
      "source": [
        "mapdl.exit()"
      ]
    }
  ],
  "metadata": {
    "kernelspec": {
      "display_name": "Python 3",
      "language": "python",
      "name": "python3"
    },
    "language_info": {
      "codemirror_mode": {
        "name": "ipython",
        "version": 3
      },
      "file_extension": ".py",
      "mimetype": "text/x-python",
      "name": "python",
      "nbconvert_exporter": "python",
      "pygments_lexer": "ipython3",
      "version": "3.8.14"
    }
  },
  "nbformat": 4,
  "nbformat_minor": 0
}