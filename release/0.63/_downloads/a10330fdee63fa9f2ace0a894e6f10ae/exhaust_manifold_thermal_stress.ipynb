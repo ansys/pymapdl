{
  "cells": [
    {
      "cell_type": "code",
      "execution_count": null,
      "metadata": {
        "collapsed": false
      },
      "outputs": [],
      "source": [
        "%matplotlib inline"
      ]
    },
    {
      "cell_type": "markdown",
      "metadata": {},
      "source": [
        "Thermal-structural analysis of exhaust manifold {#exhaust_mainfold_thermal_stress}\n===============================================\n\n**Summary**: This example illustrates how to map results from a CFD\nanalysis and perform a Finite Element (FE) analysis.\n\nObjective\n---------\n\nIn this example, we will perform an FE analysis to compute the thermal\nstresses developed in an exhaust manifold. The manifold is made of\nstructural steel and the temperature distribution in it is obtained from\na CFD run. We import this data and map it onto FE mesh to define thermal\nload at each node using Gaussian interpolation kernel.\n\n![Exhaust Manifold CFD Results](../../../images/manifold.gif){.align-center\nwidth=\"400px\"}\n\nProcedure\n---------\n\n-   Launch MAPDL instance\n-   Import geometry, assign material properties, and generate FE mesh.\n-   Import temperature distribution and map it on FE mesh\n-   Define BCs and use imported temperature distribution to define\n    thermal load.\n-   Solve the model and plot the results of interest.\n\nAdditional Packages used\n------------------------\n\n-   [Numpy](https://numpy.org) for using data as arrays\n-   [Pandas](https://pandas.pydata.org) to import csv file (to install\n    use: **pip install pandas**)\n-   [PyVista](https://docs.pyvista.org) for performing Gauissian\n    interpolation\n\nBoundary Conditions\n-------------------\n\n-   Highlighted faces are fully constrained.\n\n![Boundary Conditions used for FE Analysis](../../../images/manifold_boundary_conditions.png){.align-center\nwidth=\"800px\"}\n"
      ]
    },
    {
      "cell_type": "markdown",
      "metadata": {},
      "source": [
        "Import all necessary modules and launch an instance of MAPDL\n============================================================\n"
      ]
    },
    {
      "cell_type": "code",
      "execution_count": null,
      "metadata": {
        "collapsed": false
      },
      "outputs": [],
      "source": [
        "import numpy as np\nimport pandas as pd\nimport pyvista as pv\n\nfrom ansys.mapdl.core import launch_mapdl\nfrom ansys.mapdl.core.examples import download_manifold_example_data\n\n# start mapdl\nmapdl = launch_mapdl()\nprint(mapdl)"
      ]
    },
    {
      "cell_type": "markdown",
      "metadata": {},
      "source": [
        "Import geometry, assign material properties and generate a mesh.\n================================================================\n"
      ]
    },
    {
      "cell_type": "code",
      "execution_count": null,
      "metadata": {
        "collapsed": false
      },
      "outputs": [],
      "source": [
        "# download the necessary files\npaths = download_manifold_example_data()\ngeometry = paths[\"geometry\"]\nmapping_data = paths[\"mapping_data\"]\n\n# reset mapdl & import geometry\nmapdl.clear()\nmapdl.input(geometry)\n\n# Define element attributes\n# Second-order tetrahedral elements (SOLID187)\nmapdl.prep7()\nmapdl.et(1, \"SOLID187\")\n\n# Define material properties of structural steel\nE = 2e11  # Youngs modulus\nNU = 0.3  # Poisson's ratio\nCTE = 1.2e-5  # Coeff. of thermal expansion\nmapdl.mp(\"EX\", 1, E)\nmapdl.mp(\"PRXY\", 1, NU)\nmapdl.mp(\"ALPX\", 1, CTE)\n\n# Define mesh controls and generate mesh\nmapdl.esize(0.0075)\nmapdl.vmesh(\"all\")\n\n# Save mesh as VTK object\nprint(mapdl.mesh)\ngrid = mapdl.mesh.grid  # save mesh as a VTK object"
      ]
    },
    {
      "cell_type": "markdown",
      "metadata": {},
      "source": [
        "Import and map temperature data to FE mesh\n==========================================\n"
      ]
    },
    {
      "cell_type": "code",
      "execution_count": null,
      "metadata": {
        "collapsed": false
      },
      "outputs": [],
      "source": [
        "# Import csv file and save data to a NumPy array\ntemperature_file = pd.read_csv(mapping_data, sep=\",\", header=None, low_memory=False)\ntemperature_data = temperature_file.values  # Save data to a NumPy array\nnd_temp_data = temperature_data[1:, 1:].astype(float)  # Change data type to Float\n\n# Map temperature data to FE mesh\n# Convert imported data into PolyData format\nwrapped = pv.PolyData(nd_temp_data[:, :3])  # Convert NumPy array to PolyData format\nwrapped[\"temperature\"] = nd_temp_data[\n    :, 3\n]  # Add a scalar variable 'temperature' to PolyData\n\n# Perform data mapping\ninter_grid = grid.interpolate(\n    wrapped, sharpness=5, radius=0.0001, strategy=\"closest_point\", progress_bar=True\n)  # Map the imported data to MAPDL grid\ninter_grid.plot(show_edges=False)  # Plot the interpolated data on MAPDL grid\ntemperature_load_val = pv.convert_array(\n    pv.convert_array(inter_grid.active_scalars)\n)  # Save temperatures interpolated to each node as NumPy array\nnode_num = inter_grid.point_data[\"ansys_node_num\"]  # Save node numbers as NumPy array"
      ]
    },
    {
      "cell_type": "markdown",
      "metadata": {},
      "source": [
        "Apply loads and boundary conditions and solve the model\n=======================================================\n"
      ]
    },
    {
      "cell_type": "code",
      "execution_count": null,
      "metadata": {
        "collapsed": false
      },
      "outputs": [],
      "source": [
        "# Read all nodal coords. to an array & extract the X and Y min. bounds\narray_nodes = mapdl.mesh.nodes\nXmin = np.amin(array_nodes[:, 0])\nYmin = np.amin(array_nodes[:, 1])\n\n# Enter /SOLU processor to apply loads and BCs\nmapdl.finish()\nmapdl.slashsolu()\n\n# Enter non-interactive mode to assign thermal load at each node using imported data\nwith mapdl.non_interactive:\n    for node, temp in zip(node_num, temperature_load_val):\n        mapdl.bf(node, \"TEMP\", temp)\n# Use the X and Y min. bounds to select nodes from five surfaces that are to be fixed and created a component and fix all DOFs.\nmapdl.nsel(\"s\", \"LOC\", \"X\", Xmin)  # Select all nodes whose X coord.=Xmin\nmapdl.nsel(\n    \"a\", \"LOC\", \"Y\", Ymin\n)  # Select all nodes whose Y coord.=Ymin and add to previous selection\nmapdl.cm(\"fixed_nodes\", \"NODE\")  # Create a nodal component 'fixed_nodes'\nmapdl.allsel()  # Revert active selection to full model\nmapdl.d(\n    \"fixed_nodes\", \"all\", 0\n)  # Impose fully fixed constraint on component created earlier\n\n# Solve the model\noutput = mapdl.solve()\nprint(output)"
      ]
    },
    {
      "cell_type": "markdown",
      "metadata": {},
      "source": [
        "Post-processing\n===============\n"
      ]
    },
    {
      "cell_type": "code",
      "execution_count": null,
      "metadata": {
        "collapsed": false
      },
      "outputs": [],
      "source": [
        "# Enter post-processor\nmapdl.post1()\nmapdl.set(1, 1)  # Select first load step\nmapdl.post_processing.plot_nodal_eqv_stress()  # Plot equivalent stress"
      ]
    },
    {
      "cell_type": "markdown",
      "metadata": {},
      "source": [
        "Exit MAPDL instance\n===================\n"
      ]
    },
    {
      "cell_type": "code",
      "execution_count": null,
      "metadata": {
        "collapsed": false
      },
      "outputs": [],
      "source": [
        "mapdl.exit()"
      ]
    }
  ],
  "metadata": {
    "kernelspec": {
      "display_name": "Python 3",
      "language": "python",
      "name": "python3"
    },
    "language_info": {
      "codemirror_mode": {
        "name": "ipython",
        "version": 3
      },
      "file_extension": ".py",
      "mimetype": "text/x-python",
      "name": "python",
      "nbconvert_exporter": "python",
      "pygments_lexer": "ipython3",
      "version": "3.8.14"
    }
  },
  "nbformat": 4,
  "nbformat_minor": 0
}