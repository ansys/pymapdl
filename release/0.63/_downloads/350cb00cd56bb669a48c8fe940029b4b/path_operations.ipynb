{
  "cells": [
    {
      "cell_type": "code",
      "execution_count": null,
      "metadata": {
        "collapsed": false
      },
      "outputs": [],
      "source": [
        "%matplotlib inline"
      ]
    },
    {
      "cell_type": "markdown",
      "metadata": {},
      "source": [
        "Path Operations within pyMAPDL and MAPDL {#ref_path_operation}\n========================================\n\nThis tutorial shows how you can use pyansys and MAPDL to interpolate\nalong a path for stress. This shows some advanced features of the\n[pyvista]{.title-ref} module to perform the interpolation.\n\nFirst, start MAPDL as a service and disable all but error messages.\n"
      ]
    },
    {
      "cell_type": "code",
      "execution_count": null,
      "metadata": {
        "collapsed": false
      },
      "outputs": [],
      "source": [
        "# sphinx_gallery_thumbnail_number = 3\n\nimport matplotlib.pyplot as plt\nimport numpy as np\nimport pyvista as pv\n\nfrom ansys.mapdl.core import launch_mapdl\n\nmapdl = launch_mapdl(loglevel=\"ERROR\")"
      ]
    },
    {
      "cell_type": "markdown",
      "metadata": {},
      "source": [
        "MAPDL: Solve a Beam with a Non-Uniform Load\n===========================================\n\nCreate a beam, apply a load, and solve for the static solution.\n"
      ]
    },
    {
      "cell_type": "code",
      "execution_count": null,
      "metadata": {
        "collapsed": false
      },
      "outputs": [],
      "source": [
        "# beam dimensions\nwidth_ = 0.5\nheight_ = 2\nlength_ = 10\n\n# simple 3D beam\nmapdl.clear()\nmapdl.prep7()\nmapdl.mp(\"EX\", 1, 70000)\nmapdl.mp(\"NUXY\", 1, 0.3)\nmapdl.csys(0)\nmapdl.blc4(0, 0, 0.5, 2, length_)\nmapdl.et(1, \"SOLID186\")\nmapdl.type(1)\nmapdl.keyopt(1, 2, 1)\nmapdl.desize(\"\", 100)\n\nmapdl.vmesh(\"ALL\")\n# mapdl.eplot()\n\n# fixed constraint\nmapdl.nsel(\"s\", \"loc\", \"z\", 0)\nmapdl.d(\"all\", \"ux\", 0)\nmapdl.d(\"all\", \"uy\", 0)\nmapdl.d(\"all\", \"uz\", 0)\n\n# arbitrary non-uniform load\nmapdl.nsel(\"s\", \"loc\", \"z\", length_)\nmapdl.f(\"all\", \"fz\", 1)\nmapdl.f(\"all\", \"fy\", 10)\nmapdl.nsel(\"r\", \"loc\", \"y\", 0)\nmapdl.f(\"all\", \"fx\", 10)\nmapdl.allsel()\nmapdl.run(\"/solu\")\nsol_output = mapdl.solve()\n\n# plot the normalized global displacement\nmapdl.post_processing.plot_nodal_displacement(lighting=False, show_edges=True)"
      ]
    },
    {
      "cell_type": "markdown",
      "metadata": {},
      "source": [
        "Post-Processing - MAPDL Path Operation\n======================================\n\nCompute the stress along a path within MAPDL and convert the result to a\nnumpy array\n"
      ]
    },
    {
      "cell_type": "code",
      "execution_count": null,
      "metadata": {
        "collapsed": false
      },
      "outputs": [],
      "source": [
        "mapdl.post1()\nmapdl.set(1, 1)\n# mapdl.plesol(\"s\", \"int\")\n\n# path definition\npl_end = (0.5 * width_, height_, 0.5 * length_)\npl_start = (0.5 * width_, 0, 0.5 * length_)\n\nmapdl.run(\"width_ = %f\" % width_)\nmapdl.run(\"height_ = %f\" % height_)\nmapdl.run(\"length_ = %f\" % length_)\n\nmapdl.run(\"pl_end = node(0.5*width_, height_, 0.5*length_)\")\nmapdl.run(\"pl_start = node(0.5*width_, 0, 0.5*length_)\")\nmapdl.path(\"my_path\", 2, ndiv=100)\nmapdl.ppath(1, \"pl_start\")\nmapdl.ppath(2, \"pl_end\")\n\n# mapping components of interest to path.\nmapdl.pdef(\"Sx_my_path\", \"s\", \"x\")\nmapdl.pdef(\"Sy_my_path\", \"s\", \"y\")\nmapdl.pdef(\"Sz_my_path\", \"s\", \"z\")\nmapdl.pdef(\"Sxy_my_path\", \"s\", \"xy\")\nmapdl.pdef(\"Syz_my_path\", \"s\", \"yz\")\nmapdl.pdef(\"Szx_my_path\", \"s\", \"xz\")\n\n# Extract the path results from MAPDL and send to a numpy array\nnsigfig = 10\nmapdl.header(\"OFF\", \"OFF\", \"OFF\", \"OFF\", \"OFF\", \"OFF\")\nmapdl.format(\"\", \"E\", nsigfig + 9, nsigfig)\nmapdl.page(1e9, \"\", -1, 240)\n\npath_out = mapdl.prpath(\n    \"Sx_my_path\",\n    \"Sy_my_path\",\n    \"Sz_my_path\",\n    \"Sxy_my_path\",\n    \"Syz_my_path\",\n    \"Szx_my_path\",\n)\ntable = np.genfromtxt(path_out.splitlines()[1:])\nprint(\"Numpy Array from MAPDL Shape:\", table.shape)"
      ]
    },
    {
      "cell_type": "markdown",
      "metadata": {},
      "source": [
        "Comparing with Path Operation Within [pyvista]{.title-ref}\n==========================================================\n\nThe same path operation can be performed within [pyvista]{.title-ref} by\nsaving the resulting stress and storing within the underlying\n`UnstructuredGrid`\n\nTake note that there is slight piece-wise behavior in both MAPDL\\'s and\nVTK\\'s interpoltion methods (both of which result in nearly identical\ninterpolations). The underlying algorithm of VTK is:\n\n    The `vtkProbeFilter`, once it finds the cell containing a query\n    point, uses the cell's interpolation functions to perform the\n    interpolate / compute the point attributes.\n"
      ]
    },
    {
      "cell_type": "code",
      "execution_count": null,
      "metadata": {
        "collapsed": false
      },
      "outputs": [],
      "source": [
        "# same thing in pyvista\nrst = mapdl.result\nnnum, stress = rst.nodal_stress(0)\n\n# get SYZ stress\nstress_yz = stress[:, 5]\n\n# Assign the YZ stress to the underlying grid within the result instance.\n# For this example, NAN values must be replaced with 0 for the\n# interpolation to succeed\nstress_yz[np.isnan(stress_yz)] = 0\nrst.grid[\"Stress YZ\"] = stress_yz\n\n# Create a line and sample over it\nline = pv.Line(pl_start, pl_end, resolution=100)\nout = line.sample(rst.grid)  # bug where the interpolation must be run twice\nout = line.sample(rst.grid)\n# Note: We could have used a spline (or really, any dataset), and\n# interpolated over it instead of a simple line.\n\n# plot the interpolated stress from VTK and MAPDL\nplt.plot(out.points[:, 1], out[\"Stress YZ\"], \"x\", label=\"Stress vtk\")\nplt.plot(table[:, 0], table[:, 6], label=\"Stress MAPDL\")\nplt.legend()\nplt.xlabel(\"Y Position (in.)\")\nplt.ylabel(\"Stress YZ (psi)\")\nplt.show()"
      ]
    },
    {
      "cell_type": "markdown",
      "metadata": {},
      "source": [
        "2D Slice Interpolation\n======================\n\nTake a 2D slice along the beam and plot it alongside the stress at the\nline.\n\nNote that this slice occurs between the edge nodes of this beam,\nnecessitating interpolation as stress/strain is (in general)\nextrapolated to the edge nodes of ANSYS FEMs.\n"
      ]
    },
    {
      "cell_type": "code",
      "execution_count": null,
      "metadata": {
        "collapsed": false
      },
      "outputs": [],
      "source": [
        "stress_slice = rst.grid.slice(\"z\", pl_start)\n\n# can plot this individually\n# stress_slice.plot(scalars=stress_slice['Stress YZ'],\n#                   scalar_bar_args={'title': 'Stress YZ'})\n\n# good camera position (determined manually using pl.camera_position)\ncpos = [(3.2, 4, 8), (0.25, 1.0, 5.0), (0.0, 0.0, 1.0)]\nmax_ = np.max((out[\"Stress YZ\"].max(), stress_slice[\"Stress YZ\"].max()))\nmin_ = np.min((out[\"Stress YZ\"].min(), stress_slice[\"Stress YZ\"].min()))\nclim = [min_, max_]\n\npl = pv.Plotter()\npl.add_mesh(\n    out,\n    scalars=out[\"Stress YZ\"],\n    line_width=10,\n    clim=clim,\n    scalar_bar_args={\"title\": \"Stress YZ\"},\n)\npl.add_mesh(\n    stress_slice, scalars=\"Stress YZ\", opacity=0.25, clim=clim, show_scalar_bar=False\n)\npl.add_mesh(rst.grid, color=\"w\", style=\"wireframe\", show_scalar_bar=False)\npl.camera_position = cpos\n_ = pl.show()"
      ]
    },
    {
      "cell_type": "markdown",
      "metadata": {},
      "source": [
        "stop mapdl\n"
      ]
    },
    {
      "cell_type": "code",
      "execution_count": null,
      "metadata": {
        "collapsed": false
      },
      "outputs": [],
      "source": [
        "mapdl.exit()"
      ]
    }
  ],
  "metadata": {
    "kernelspec": {
      "display_name": "Python 3",
      "language": "python",
      "name": "python3"
    },
    "language_info": {
      "codemirror_mode": {
        "name": "ipython",
        "version": 3
      },
      "file_extension": ".py",
      "mimetype": "text/x-python",
      "name": "python",
      "nbconvert_exporter": "python",
      "pygments_lexer": "ipython3",
      "version": "3.8.14"
    }
  },
  "nbformat": 4,
  "nbformat_minor": 0
}