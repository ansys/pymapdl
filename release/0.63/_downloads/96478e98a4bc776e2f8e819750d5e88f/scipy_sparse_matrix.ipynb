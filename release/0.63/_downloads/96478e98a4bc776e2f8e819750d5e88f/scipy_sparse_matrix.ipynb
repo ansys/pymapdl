{
  "cells": [
    {
      "cell_type": "code",
      "execution_count": null,
      "metadata": {
        "collapsed": false
      },
      "outputs": [],
      "source": [
        "%matplotlib inline"
      ]
    },
    {
      "cell_type": "markdown",
      "metadata": {},
      "source": [
        "APDLMath Sparse Matrices and SciPy Sparse Matrices\n==================================================\n\nThis tutorial will show how to get APDLMath sparse matrices (typically\nstiffness or mass matrices extracted from APDL .Full Files) into SciPy\nSparse Matrices.\n"
      ]
    },
    {
      "cell_type": "code",
      "execution_count": null,
      "metadata": {
        "collapsed": false
      },
      "outputs": [],
      "source": [
        "import matplotlib.pylab as plt\n\nfrom ansys.mapdl.core import launch_mapdl\nfrom ansys.mapdl.core.examples import vmfiles\n\nmapdl = launch_mapdl()\nmm = mapdl.math"
      ]
    },
    {
      "cell_type": "markdown",
      "metadata": {},
      "source": [
        "Load and solve verification manual example 153. Then load the stiffness\nmatrix into APDLmath.\n"
      ]
    },
    {
      "cell_type": "code",
      "execution_count": null,
      "metadata": {
        "collapsed": false
      },
      "outputs": [],
      "source": [
        "out = mapdl.input(vmfiles[\"vm153\"])\nk = mm.stiff(fname=\"PRSMEMB.full\")\nk"
      ]
    },
    {
      "cell_type": "markdown",
      "metadata": {},
      "source": [
        "Copy this APDLMath Sparse Matrix to a SciPy CSR matrix and plot the\ngraph of the sparse matrix\n"
      ]
    },
    {
      "cell_type": "code",
      "execution_count": null,
      "metadata": {
        "collapsed": false
      },
      "outputs": [],
      "source": [
        "pk = k.asarray()\nplt.spy(pk)"
      ]
    },
    {
      "cell_type": "markdown",
      "metadata": {},
      "source": [
        "You can access the 3 vectors that describe this sparse matrix with.\n\n-   `pk.data`\n-   `pk.indices`\n-   `pk.indptr`\n\nSee the `scipy` documentation of the csr matrix at\n[scipy.sparse.csr\\_matrix](https://docs.scipy.org/doc/scipy/reference/generated/scipy.sparse.csr_matrix.html)\nfor additional details.\n"
      ]
    },
    {
      "cell_type": "code",
      "execution_count": null,
      "metadata": {
        "collapsed": false
      },
      "outputs": [],
      "source": [
        "print(pk.data[:10])\nprint(pk.indices[:10])\nprint(pk.indptr[:10])"
      ]
    },
    {
      "cell_type": "markdown",
      "metadata": {},
      "source": [
        "\\#\\#\\# Create a APDLMath Sparse Matrix from a SciPy Sparse CSR Matrix\n\nHere, we transfer the `scipy` CSR matrix back to MAPDL. While this\nexample uses a matrix that was originally within MAPDL, you can load any\nCSR matrix to MAPDL.\n"
      ]
    },
    {
      "cell_type": "code",
      "execution_count": null,
      "metadata": {
        "collapsed": false
      },
      "outputs": [],
      "source": [
        "my_mat = mm.matrix(pk, \"my_mat\", triu=True)\nmy_mat"
      ]
    },
    {
      "cell_type": "markdown",
      "metadata": {},
      "source": [
        "Check initial matrix `k` and `my_mat` are exactly the sames: We compute\nthe norm of the difference, should be zero\n"
      ]
    },
    {
      "cell_type": "code",
      "execution_count": null,
      "metadata": {
        "collapsed": false
      },
      "outputs": [],
      "source": [
        "msub = k - my_mat\nmm.norm(msub)"
      ]
    },
    {
      "cell_type": "markdown",
      "metadata": {},
      "source": [
        "CSR Representation in MAPDL\n===========================\n\nPrinting the list of objects in the MAPDL space, we find:\n\n-   2 SMAT objects, corresponding to the `k`, `MSub` matrices,\n-   with encrypted names\n-   The `my_mat` SMAT object. Its size is zero, because the 3\n-   vectors are stored separately\n-   the 3 vectors of the CSR my\\_mat structure: `MY_MAT_PTR`,\n    `MY_MAT_IND`\n-   and `MY_MAT_DATA`\n"
      ]
    },
    {
      "cell_type": "code",
      "execution_count": null,
      "metadata": {
        "collapsed": false
      },
      "outputs": [],
      "source": [
        "mm.status()"
      ]
    },
    {
      "cell_type": "markdown",
      "metadata": {},
      "source": [
        "MAPDL Python Matrix Correspondence\n==================================\n\nTo determine which MAPDL object corresponds to which Python object,\naccess the id property of the Python object.\n"
      ]
    },
    {
      "cell_type": "code",
      "execution_count": null,
      "metadata": {
        "collapsed": false
      },
      "outputs": [],
      "source": [
        "print(\"name(k)=\" + k.id)\nprint(\"name(my_mat)=\" + my_mat.id)\nprint(\"name(msub)=\" + msub.id)"
      ]
    },
    {
      "cell_type": "markdown",
      "metadata": {},
      "source": [
        "stop mapdl\n"
      ]
    },
    {
      "cell_type": "code",
      "execution_count": null,
      "metadata": {
        "collapsed": false
      },
      "outputs": [],
      "source": [
        "mapdl.exit()"
      ]
    }
  ],
  "metadata": {
    "kernelspec": {
      "display_name": "Python 3",
      "language": "python",
      "name": "python3"
    },
    "language_info": {
      "codemirror_mode": {
        "name": "ipython",
        "version": 3
      },
      "file_extension": ".py",
      "mimetype": "text/x-python",
      "name": "python",
      "nbconvert_exporter": "python",
      "pygments_lexer": "ipython3",
      "version": "3.8.14"
    }
  },
  "nbformat": 4,
  "nbformat_minor": 0
}