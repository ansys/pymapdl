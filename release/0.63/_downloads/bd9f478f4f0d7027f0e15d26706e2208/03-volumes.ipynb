{
  "cells": [
    {
      "cell_type": "code",
      "execution_count": null,
      "metadata": {
        "collapsed": false
      },
      "outputs": [],
      "source": [
        "%matplotlib inline"
      ]
    },
    {
      "cell_type": "markdown",
      "metadata": {},
      "source": [
        "Volumes {#ref_basic-geometry-volumes}\n=======\n\nThis example shows how you can use PyMAPDL to create basic geometry\nusing Pythonic PREP7 volume commands.\n"
      ]
    },
    {
      "cell_type": "code",
      "execution_count": null,
      "metadata": {
        "collapsed": false
      },
      "outputs": [],
      "source": [
        "import numpy as np\n\nfrom ansys.mapdl.core import launch_mapdl\n\n# start MAPDL and enter the pre-processing routine\nmapdl = launch_mapdl()\nmapdl.clear()\nmapdl.prep7()\nprint(mapdl)"
      ]
    },
    {
      "cell_type": "markdown",
      "metadata": {},
      "source": [
        "APDL Command: V\n===============\n\nDefine a volume through keypoints.\n"
      ]
    },
    {
      "cell_type": "code",
      "execution_count": null,
      "metadata": {
        "collapsed": false
      },
      "outputs": [],
      "source": [
        "# Create a simple cube volume.\n\nk0 = mapdl.k(\"\", 0, 0, 0)\nk1 = mapdl.k(\"\", 1, 0, 0)\nk2 = mapdl.k(\"\", 1, 1, 0)\nk3 = mapdl.k(\"\", 0, 1, 0)\nk4 = mapdl.k(\"\", 0, 0, 1)\nk5 = mapdl.k(\"\", 1, 0, 1)\nk6 = mapdl.k(\"\", 1, 1, 1)\nk7 = mapdl.k(\"\", 0, 1, 1)\nv0 = mapdl.v(k0, k1, k2, k3, k4, k5, k6, k7)\nmapdl.vplot(show_lines=True)"
      ]
    },
    {
      "cell_type": "markdown",
      "metadata": {},
      "source": [
        "Create a triangular prism\n"
      ]
    },
    {
      "cell_type": "code",
      "execution_count": null,
      "metadata": {
        "collapsed": false
      },
      "outputs": [],
      "source": [
        "mapdl.clear()\nmapdl.prep7()\n\nk0 = mapdl.k(\"\", 0, 0, 0)\nk1 = mapdl.k(\"\", 1, 0, 0)\nk2 = mapdl.k(\"\", 1, 1, 0)\nk3 = mapdl.k(\"\", 0, 1, 0)\nk4 = mapdl.k(\"\", 0, 0, 1)\nk5 = mapdl.k(\"\", 1, 0, 1)\nk6 = mapdl.k(\"\", 1, 1, 1)\nk7 = mapdl.k(\"\", 0, 1, 1)\nv1 = mapdl.v(k0, k1, k2, k2, k4, k5, k6, k6)\nmapdl.vplot(show_lines=True)"
      ]
    },
    {
      "cell_type": "markdown",
      "metadata": {},
      "source": [
        "Create a triangular prism\n"
      ]
    },
    {
      "cell_type": "code",
      "execution_count": null,
      "metadata": {
        "collapsed": false
      },
      "outputs": [],
      "source": [
        "mapdl.clear()\nmapdl.prep7()\n\nk0 = mapdl.k(\"\", 0, 0, 0)\nk1 = mapdl.k(\"\", 1, 0, 0)\nk2 = mapdl.k(\"\", 1, 1, 0)\nk3 = mapdl.k(\"\", 0, 0, 1)\nv0 = mapdl.v(k0, k1, k2, k2, k3, k3, k3, k3)\nmapdl.vplot(show_lines=True)"
      ]
    },
    {
      "cell_type": "markdown",
      "metadata": {},
      "source": [
        "APDL Command: VA\n================\n\nGenerate a volume bounded by existing areas.\n\nCreate a simple tetrahedral bounded by 4 areas\n"
      ]
    },
    {
      "cell_type": "code",
      "execution_count": null,
      "metadata": {
        "collapsed": false
      },
      "outputs": [],
      "source": [
        "mapdl.clear()\nmapdl.prep7()\nk0 = mapdl.k(\"\", -1, 0, 0)\nk1 = mapdl.k(\"\", 1, 0, 0)\nk2 = mapdl.k(\"\", 1, 1, 0)\nk3 = mapdl.k(\"\", 1, 0.5, 1)\n\n# create faces\na0 = mapdl.a(k0, k1, k2)\na1 = mapdl.a(k0, k1, k3)\na2 = mapdl.a(k1, k2, k3)\na3 = mapdl.a(k0, k2, k3)\n\n# generate and plot the volume\nvnum = mapdl.va(a0, a1, a2, a3)\nmapdl.aplot(show_lines=True, show_bounds=True)"
      ]
    },
    {
      "cell_type": "markdown",
      "metadata": {},
      "source": [
        "APDL Command: VDRAG\n===================\n\nGenerate volumes by dragging an area pattern along a path.\n\nCreate a square with a hole in it and drag it along an arc.\n"
      ]
    },
    {
      "cell_type": "code",
      "execution_count": null,
      "metadata": {
        "collapsed": false
      },
      "outputs": [],
      "source": [
        "mapdl.clear()\nmapdl.prep7()\n\n# create a square with a hole in it.\nanum0 = mapdl.blc4(0, 0, 1, 1)\nanum1 = mapdl.blc4(0.25, 0.25, 0.5, 0.5)\naout = mapdl.asba(anum0, anum1)\n\nk0 = mapdl.k(\"\", 0, 0, 0)\nk1 = mapdl.k(\"\", 1, 0, 1)\nk2 = mapdl.k(\"\", 1, 0, 0)\nl0 = mapdl.larc(k0, k1, k2, 2)\nmapdl.vdrag(aout, nlp1=l0)\nmapdl.vplot(show_lines=True, quality=5)"
      ]
    },
    {
      "cell_type": "markdown",
      "metadata": {},
      "source": [
        "APDL Command: VEXT\n==================\n\nGenerate additional volumes by extruding areas.\n\nCreate a basic cylinder by extruding a circle.\n"
      ]
    },
    {
      "cell_type": "code",
      "execution_count": null,
      "metadata": {
        "collapsed": false
      },
      "outputs": [],
      "source": [
        "mapdl.clear()\nmapdl.prep7()\n\n# first, create an area from a circle\nk0 = mapdl.k(\"\", 0, 0, 0)\nk1 = mapdl.k(\"\", 0, 0, 1)\nk2 = mapdl.k(\"\", 0, 0, 0.5)\ncarc0 = mapdl.circle(k0, 1, k1)\na0 = mapdl.al(*carc0)\n\n# next, extrude it and plot it\nmapdl.vext(a0, dz=4)\nmapdl.vplot(show_lines=True, quality=5)"
      ]
    },
    {
      "cell_type": "markdown",
      "metadata": {},
      "source": [
        "Create a tapered cylinder by using the `rx` and `ry` parameters.\n"
      ]
    },
    {
      "cell_type": "code",
      "execution_count": null,
      "metadata": {
        "collapsed": false
      },
      "outputs": [],
      "source": [
        "mapdl.vdele(\"all\")\nmapdl.vext(a0, dz=4, rx=0.3, ry=0.3, rz=1)\nmapdl.vplot(show_lines=True, quality=5)"
      ]
    },
    {
      "cell_type": "markdown",
      "metadata": {},
      "source": [
        "APDL Command: VROTAT\n====================\n\nGenerate cylindrical volumes by rotating an area pattern about an axis.\n\nRotate a circle about the Z axis to create a hoop\n"
      ]
    },
    {
      "cell_type": "code",
      "execution_count": null,
      "metadata": {
        "collapsed": false
      },
      "outputs": [],
      "source": [
        "mapdl.clear()\nmapdl.prep7()\n\n# first, create an area from a circle\nhoop_radius = 10\nhoop_thickness = 0.5\nk0 = mapdl.k(\"\", hoop_radius, 0, 0)\nk1 = mapdl.k(\"\", hoop_radius, 1, 0)\nk2 = mapdl.k(\"\", hoop_radius, 0, hoop_thickness)\ncarc0 = mapdl.circle(k0, 1, k1)\na0 = mapdl.al(*carc0)\n\n# define a Z-axis\nk_axis0 = mapdl.k(\"\", 0, 0, 0)\nk_axis1 = mapdl.k(\"\", 0, 0, 1)\n\n# Rotate about the Z-axis.  By default it will rotate all 360 degrees\nmapdl.vrotat(a0, pax1=k_axis0, pax2=k_axis1)\nmapdl.vplot(show_lines=True, quality=5)"
      ]
    },
    {
      "cell_type": "markdown",
      "metadata": {},
      "source": [
        "APDL Command: VSYMM\n===================\n\nGenerate volumes from a volume pattern by symmetry reflection.\n\nCreate four blocks by reflecting a single block across the YZ and then\nXZ planes.\n"
      ]
    },
    {
      "cell_type": "code",
      "execution_count": null,
      "metadata": {
        "collapsed": false
      },
      "outputs": [],
      "source": [
        "mapdl.clear()\nmapdl.prep7()\n\nvnum = mapdl.blc4(1, 1, 1, 1, depth=1)\nmapdl.vsymm(\"X\", vnum)\nmapdl.vsymm(\"Y\", \"ALL\")\n\nmapdl.vplot(show_lines=True, show_bounds=True)"
      ]
    },
    {
      "cell_type": "markdown",
      "metadata": {},
      "source": [
        "Volume IDs\n==========\n\nReturn an array of the volume numbers.\n"
      ]
    },
    {
      "cell_type": "code",
      "execution_count": null,
      "metadata": {
        "collapsed": false
      },
      "outputs": [],
      "source": [
        "vnum = mapdl.geometry.vnum\nvnum"
      ]
    },
    {
      "cell_type": "markdown",
      "metadata": {},
      "source": [
        "Volume Geometry\n===============\n\nVolume geometry can be accessed from the `geometry.areas` method.\n"
      ]
    },
    {
      "cell_type": "code",
      "execution_count": null,
      "metadata": {
        "collapsed": false
      },
      "outputs": [],
      "source": [
        "volume_mesh = mapdl.geometry.areas(merge=True)\nvolume_mesh"
      ]
    },
    {
      "cell_type": "markdown",
      "metadata": {},
      "source": [
        "Volume Selection\n================\n\nThere are two approaches for selecting volumes, the old \\\"legacy\\\" style\nand the new style. The old style is valuable for those who are\ncomfortable with the existing MAPDL commands, and new style is useful\nfor selecting volumes in a pythonic manner.\n\nThis example generates a series of random volumes and selects them\n"
      ]
    },
    {
      "cell_type": "code",
      "execution_count": null,
      "metadata": {
        "collapsed": false
      },
      "outputs": [],
      "source": [
        "mapdl.clear()\nmapdl.prep7()\n\n\ndef generate_random_volume():\n    start_x, start_y, height, width, depth = np.random.random(5)\n    mapdl.blc4(start_x * 10, start_y * 10, height, width, depth)\n\n\n# create 20 random volumes\nfor _ in range(20):\n    generate_random_volume()\n\n# Print the volume numbers\nprint(mapdl.geometry.vnum)"
      ]
    },
    {
      "cell_type": "markdown",
      "metadata": {},
      "source": [
        "Select every other volume with the old style command.\n"
      ]
    },
    {
      "cell_type": "code",
      "execution_count": null,
      "metadata": {
        "collapsed": false
      },
      "outputs": [],
      "source": [
        "mapdl.vsel(\"S\", \"VOLU\", \"\", 1, 20, 2)\nprint(mapdl.geometry.vnum)"
      ]
    },
    {
      "cell_type": "markdown",
      "metadata": {},
      "source": [
        "Select every other volume with the new style command.\n\nNote that the item IDs are 1 based in MAPDL, while Python ranges are 0\nbased.\n"
      ]
    },
    {
      "cell_type": "code",
      "execution_count": null,
      "metadata": {
        "collapsed": false
      },
      "outputs": [],
      "source": [
        "mapdl.geometry.volume_select(range(1, 21, 2))\nprint(mapdl.geometry.vnum)"
      ]
    },
    {
      "cell_type": "markdown",
      "metadata": {},
      "source": [
        "Select volumes from a list\n\nNote that you can `return_selected` if you want to see what you have\nselected. This is helpful when reselecting from existing areas.\n\nNote that you could use a numpy array here as well.\n"
      ]
    },
    {
      "cell_type": "code",
      "execution_count": null,
      "metadata": {
        "collapsed": false
      },
      "outputs": [],
      "source": [
        "items = mapdl.geometry.volume_select([1, 5, 10, 20], return_selected=True)\nprint(items)"
      ]
    },
    {
      "cell_type": "markdown",
      "metadata": {},
      "source": [
        "APDL Command: VPLOT\n===================\n\nPlot colored volumes while displaying the keypoint numbers.\n\nThere are a variety of plotting options available for all the common\nplotting methods.\n"
      ]
    },
    {
      "cell_type": "code",
      "execution_count": null,
      "metadata": {
        "collapsed": false
      },
      "outputs": [],
      "source": [
        "mapdl.clear()\nmapdl.prep7()\n\n# Create basic demo geometry\nmapdl.cyl4(xcenter=0, ycenter=0, rad1=1, theta1=0, rad2=2, depth=1)\nmapdl.vsymm(\"Y\", \"ALL\")\n\n# Plot while showing bounds and disabling extra line plotting.\nmapdl.vplot(show_bounds=True, show_lines=False, quality=5)"
      ]
    },
    {
      "cell_type": "markdown",
      "metadata": {},
      "source": [
        "stop mapdl\n"
      ]
    },
    {
      "cell_type": "code",
      "execution_count": null,
      "metadata": {
        "collapsed": false
      },
      "outputs": [],
      "source": [
        "mapdl.exit()"
      ]
    }
  ],
  "metadata": {
    "kernelspec": {
      "display_name": "Python 3",
      "language": "python",
      "name": "python3"
    },
    "language_info": {
      "codemirror_mode": {
        "name": "ipython",
        "version": 3
      },
      "file_extension": ".py",
      "mimetype": "text/x-python",
      "name": "python",
      "nbconvert_exporter": "python",
      "pygments_lexer": "ipython3",
      "version": "3.8.14"
    }
  },
  "nbformat": 4,
  "nbformat_minor": 0
}