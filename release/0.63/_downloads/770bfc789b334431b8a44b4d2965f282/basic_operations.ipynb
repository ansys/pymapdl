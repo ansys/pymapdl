{
  "cells": [
    {
      "cell_type": "code",
      "execution_count": null,
      "metadata": {
        "collapsed": false
      },
      "outputs": [],
      "source": [
        "%matplotlib inline"
      ]
    },
    {
      "cell_type": "markdown",
      "metadata": {},
      "source": [
        "PyMAPDL APDLMath Basic Operations {#ref_mapdl_math_basic}\n=================================\n\nThis tutorial shows how you can use pymapdl to use APDL math for basic\noperations on APDLMath vectors and matrices in the APDL memory\nworkspace.\n\nThe [ansys.mapdl.math]{.title-ref} submodule gives access to APDLMath\nfeatures inside PyMAPDL.\n"
      ]
    },
    {
      "cell_type": "code",
      "execution_count": null,
      "metadata": {
        "collapsed": false
      },
      "outputs": [],
      "source": [
        "import numpy as np\n\nfrom ansys.mapdl.core import launch_mapdl\n\n# Start MAPDL as a service and create an APDLMath object.\nmapdl = launch_mapdl()\nmm = mapdl.math"
      ]
    },
    {
      "cell_type": "markdown",
      "metadata": {},
      "source": [
        "Create and Manipulate Vectors\n=============================\n\nCreate 2 APDLMath vectors of size 5. $\\vec{v}$ is initialized with ones,\n\\$vec{w}\\$ is filled with random values\n\nCorresponding APDLMath commands - [\\*VEC,V,D,ALLOC,5]{.title-ref} -\n[\\*INIT,V,CONST,1]{.title-ref} - [\\*VEC,W,D,ALLOC,5]{.title-ref} -\n[\\*INIT,W,RAND]{.title-ref}\n"
      ]
    },
    {
      "cell_type": "code",
      "execution_count": null,
      "metadata": {
        "collapsed": false
      },
      "outputs": [],
      "source": [
        "v = mm.ones(5)\nw = mm.rand(5)\nprint(w)"
      ]
    },
    {
      "cell_type": "markdown",
      "metadata": {},
      "source": [
        "Use operators on vectors\n========================\n\nJust like [numpy]{.title-ref} PyMAPDL APDLMath vectors can be have most\nof the standard operators (e.g. `+, -, +=, -=, *=`)\n\nHere we form $\\vec{z}=\\vec{v}+\\vec{w}$\n\nThen we compute $\\|z\\|_2$ (the default [norm]{.title-ref} is nrm2, but\nyou can use [.norm(\\'nrm1\\')]{.title-ref} or\n[.norm(\\'nrminf\\')]{.title-ref} for different normals. See\n[help(z.norm)]{.title-ref} for additional details.\n\nAPDLMath Commands: - [\\*VEC,Z,D,COPY,V]{.title-ref} -\n[\\*AXPY,1,,W,1,,Z]{.title-ref} - [\\*NRM,Z,,nrmval]{.title-ref}\n"
      ]
    },
    {
      "cell_type": "code",
      "execution_count": null,
      "metadata": {
        "collapsed": false
      },
      "outputs": [],
      "source": [
        "z = v + w\nz.norm()"
      ]
    },
    {
      "cell_type": "markdown",
      "metadata": {},
      "source": [
        "Methods\n=======\n\nAlternatively you can use methods, following the numpy standards.\nAvailable methods are:\n\n-   [mm.add()]{.title-ref}\n-   [mm.subtract()]{.title-ref}\n-   [mm.dot()]{.title-ref}\n\nEquivalent operator: [z = v + w]{.title-ref}\n\nEquivalent APDLMath Commands: - [\\*VEC,Z,D,COPY,V]{.title-ref} -\n[\\*AXPY,1,,W,1,,Z]{.title-ref}\n"
      ]
    },
    {
      "cell_type": "code",
      "execution_count": null,
      "metadata": {
        "collapsed": false
      },
      "outputs": [],
      "source": [
        "z = mm.add(v, w)\nz.norm()"
      ]
    },
    {
      "cell_type": "markdown",
      "metadata": {},
      "source": [
        "Subtraction\n\nEquivalent operator: z = v - w\n\nEquivalent APDLMath Commands: - [\\*VEC,Z,D,COPY,V]{.title-ref} -\n[\\*AXPY,-1,,W,1,,Z]{.title-ref}\n"
      ]
    },
    {
      "cell_type": "code",
      "execution_count": null,
      "metadata": {
        "collapsed": false
      },
      "outputs": [],
      "source": [
        "z = mm.subtract(v, w)\nprint(z)"
      ]
    },
    {
      "cell_type": "markdown",
      "metadata": {},
      "source": [
        "Dot product of 2 vectors\n\nEquivalent APDLMath Command: [\\*DOT,V,W,dotval]{.title-ref}\n"
      ]
    },
    {
      "cell_type": "code",
      "execution_count": null,
      "metadata": {
        "collapsed": false
      },
      "outputs": [],
      "source": [
        "vw = mm.dot(v, w)\nprint(\"Dot product :\", str(vw))"
      ]
    },
    {
      "cell_type": "markdown",
      "metadata": {},
      "source": [
        "Perform an in-place operations (without copying vectors)\n========================================================\n\nIn-Place Addition\n\nMAPDL Commands: - [\\*AXPY,1,,V,1,,Z]{.title-ref} -\n[\\*PRINT,Z]{.title-ref}\n"
      ]
    },
    {
      "cell_type": "code",
      "execution_count": null,
      "metadata": {
        "collapsed": false
      },
      "outputs": [],
      "source": [
        "v += v\nprint(v)"
      ]
    },
    {
      "cell_type": "markdown",
      "metadata": {},
      "source": [
        "In-Place Multiplication\n\nMAPDL Command: [\\*SCAL,v,2]{.title-ref}\n"
      ]
    },
    {
      "cell_type": "code",
      "execution_count": null,
      "metadata": {
        "collapsed": false
      },
      "outputs": [],
      "source": [
        "v *= 2\nprint(v)"
      ]
    },
    {
      "cell_type": "markdown",
      "metadata": {},
      "source": [
        "In-Place Multiplication\n"
      ]
    },
    {
      "cell_type": "code",
      "execution_count": null,
      "metadata": {
        "collapsed": false
      },
      "outputs": [],
      "source": [
        "v /= 2.0\nprint(v)"
      ]
    },
    {
      "cell_type": "markdown",
      "metadata": {},
      "source": [
        "Working with Dense Matrices\n===========================\n\nAllocate two dense matrices with random values.\n\nMAPDL Commands:\n\n-   [\\*DMAT,m1,D,ALLOC,4,5]{.title-ref}\n-   [\\*INIT,m1,RAND]{.title-ref}\n-   [\\*DMAT,m1,D,ALLOC,4,5]{.title-ref}\n-   [\\*INIT,m1,CONST,1]{.title-ref}\n"
      ]
    },
    {
      "cell_type": "code",
      "execution_count": null,
      "metadata": {
        "collapsed": false
      },
      "outputs": [],
      "source": [
        "m1 = mm.rand(4, 5)\nm2 = mm.ones(4, 5)\nm1, m2"
      ]
    },
    {
      "cell_type": "markdown",
      "metadata": {},
      "source": [
        "**Add** these 2 dense matrices, and **scale** the result matrix.\n\nMapdl Commands - [\\*DMAT,m3,D,COPY,m1]{.title-ref} -\n[\\*AXPY,1,,m2,1,,m3]{.title-ref}\n"
      ]
    },
    {
      "cell_type": "code",
      "execution_count": null,
      "metadata": {
        "collapsed": false
      },
      "outputs": [],
      "source": [
        "m3 = m1 + m2\nprint(m3)\n\nm3 *= 2\nprint(m3)"
      ]
    },
    {
      "cell_type": "markdown",
      "metadata": {},
      "source": [
        "**\\*Transpose**\\* a Matrix\n"
      ]
    },
    {
      "cell_type": "code",
      "execution_count": null,
      "metadata": {
        "collapsed": false
      },
      "outputs": [],
      "source": [
        "m4 = m3.T\nprint(m4)"
      ]
    },
    {
      "cell_type": "markdown",
      "metadata": {},
      "source": [
        "As for vectors, methods are also available as an alternative to\noperators.\n"
      ]
    },
    {
      "cell_type": "code",
      "execution_count": null,
      "metadata": {
        "collapsed": false
      },
      "outputs": [],
      "source": [
        "m3 = mm.add(m1, m2)\nprint(m3)"
      ]
    },
    {
      "cell_type": "markdown",
      "metadata": {},
      "source": [
        "Compute a matrix vector multiplication\n"
      ]
    },
    {
      "cell_type": "code",
      "execution_count": null,
      "metadata": {
        "collapsed": false
      },
      "outputs": [],
      "source": [
        "mw = m3.dot(m4)\nprint(mw)"
      ]
    },
    {
      "cell_type": "markdown",
      "metadata": {},
      "source": [
        "APDLMath matrices can be identified by printing, viewing their types, or\nwith using the [\\_\\_repr\\_\\_]{.title-ref} method by simply typing out\nthe variable\n\nAPDLMath Matrix\n===============\n"
      ]
    },
    {
      "cell_type": "code",
      "execution_count": null,
      "metadata": {
        "collapsed": false
      },
      "outputs": [],
      "source": [
        "type(m1)\nprint(m1)\nm1"
      ]
    },
    {
      "cell_type": "markdown",
      "metadata": {},
      "source": [
        "APDLMath Vector\n"
      ]
    },
    {
      "cell_type": "code",
      "execution_count": null,
      "metadata": {
        "collapsed": false
      },
      "outputs": [],
      "source": [
        "type(w)\nprint(w)\nw"
      ]
    },
    {
      "cell_type": "markdown",
      "metadata": {},
      "source": [
        "Numpy methods on APDLMath objects\n=================================\n\nRegardless of the underlying APDLMath object type, you are generally\nable to perform most numpy or scipy operations on these arrays. You can\ndo this one of two ways. First, you can convert a matrix to a numpy\narray:\n"
      ]
    },
    {
      "cell_type": "code",
      "execution_count": null,
      "metadata": {
        "collapsed": false
      },
      "outputs": [],
      "source": [
        "apdl_mat = mm.rand(5, 5)\nnp_mat = apdl_mat.asarray()\nprint(np_mat)"
      ]
    },
    {
      "cell_type": "markdown",
      "metadata": {},
      "source": [
        "Alternatively, you can simply use numpy to compute the max of the array\n\nThis works because PyMAPDL copies over the matrix to the local python\nmemory and then computes the max using numpy.\n"
      ]
    },
    {
      "cell_type": "code",
      "execution_count": null,
      "metadata": {
        "collapsed": false
      },
      "outputs": [],
      "source": [
        "print(np.max(apdl_mat))"
      ]
    },
    {
      "cell_type": "markdown",
      "metadata": {},
      "source": [
        "This works for most numpy operations, but keep in mind that operations\nthat are supported within MAPDL (such as adding or multiplying arrays)\nwill compute much faster as the data is not copied.\n"
      ]
    },
    {
      "cell_type": "code",
      "execution_count": null,
      "metadata": {
        "collapsed": false
      },
      "outputs": [],
      "source": [
        "apdl_arr = mm.rand(5, 5)\nnp_array = apdl_mat.asarray()\nprint(np.allclose(apdl_mat, np_array))"
      ]
    },
    {
      "cell_type": "markdown",
      "metadata": {},
      "source": [
        "stop mapdl\n"
      ]
    },
    {
      "cell_type": "code",
      "execution_count": null,
      "metadata": {
        "collapsed": false
      },
      "outputs": [],
      "source": [
        "mapdl.exit()"
      ]
    }
  ],
  "metadata": {
    "kernelspec": {
      "display_name": "Python 3",
      "language": "python",
      "name": "python3"
    },
    "language_info": {
      "codemirror_mode": {
        "name": "ipython",
        "version": 3
      },
      "file_extension": ".py",
      "mimetype": "text/x-python",
      "name": "python",
      "nbconvert_exporter": "python",
      "pygments_lexer": "ipython3",
      "version": "3.8.14"
    }
  },
  "nbformat": 4,
  "nbformat_minor": 0
}