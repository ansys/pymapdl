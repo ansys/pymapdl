{
  "cells": [
    {
      "cell_type": "code",
      "execution_count": null,
      "metadata": {
        "collapsed": false
      },
      "outputs": [],
      "source": [
        "%matplotlib inline"
      ]
    },
    {
      "cell_type": "markdown",
      "metadata": {},
      "source": [
        "Generating and Extracting Rotational Displacement {#ref_rotational_displacement_example}\n=================================================\n\nNot all element types have rotational degrees of freedom, but generally,\n\\\"shell\\\" ones do. In this example we create a square shell with\nthickness of 0.1 and bend it, creating rotational displacement.\n\nWe subsequently plot the cumulative principal stresses and use\n`ansys.mapdl.core.inline_functions.Query`{.interpreted-text\nrole=\"class\"} to extract the exact values of rotational displacement at\nthe four corners of our square.\n"
      ]
    },
    {
      "cell_type": "code",
      "execution_count": null,
      "metadata": {
        "collapsed": false
      },
      "outputs": [],
      "source": [
        "# start MAPDL and enter the pre-processing routine\nfrom ansys.mapdl.core import launch_mapdl\n\nmapdl = launch_mapdl()\nmapdl.prep7()"
      ]
    },
    {
      "cell_type": "markdown",
      "metadata": {},
      "source": [
        "Mesh Setup\n==========\n\nIn this example we create a simple 2D square, 1 x 1 in dimension, and\ngive it the [\\'SHELL181\\']{.title-ref} element type because this type\nhas rotational degrees of freedom. Following this we:\n\n-   Give the material an elastic modulus of 2e5 (EX)\n-   Give the material a major poissons ratio of 0.3 (PRXY)\n-   Set the section type to \\'SHELL\\'\n-   Set the thickness to 0.1\n-   Set the element size to 0.2\n-   Mesh the square\n-   Plot the mesh\n"
      ]
    },
    {
      "cell_type": "code",
      "execution_count": null,
      "metadata": {
        "collapsed": false
      },
      "outputs": [],
      "source": [
        "mapdl.et(1, \"SHELL181\")\nmapdl.mp(\"EX\", 1, 2e5)\nmapdl.mp(\"PRXY\", 1, 0.3)\nmapdl.rectng(0, 1, 0, 1)\nmapdl.sectype(1, \"SHELL\")\nmapdl.secdata(0.1)\nmapdl.esize(0.2)\nmapdl.amesh(\"all\")\nmapdl.eplot()"
      ]
    },
    {
      "cell_type": "markdown",
      "metadata": {},
      "source": [
        "Applying Boundary Conditions\n============================\n\n-   Enter solution mode\n-   Set analysis type to [\\'STATIC\\']{.title-ref}\n-   Remove all degrees of freedom for nodes at `x = 0`\n-   Apply a displacement of `uz = -0.1` at `x = 1`\n-   Select all nodes\n-   Solve the model\n"
      ]
    },
    {
      "cell_type": "code",
      "execution_count": null,
      "metadata": {
        "collapsed": false
      },
      "outputs": [],
      "source": [
        "mapdl.run(\"/SOLU\")\nmapdl.antype(\"STATIC\")\nmapdl.nsel(\"s\", \"loc\", \"x\", 0)\nmapdl.d(\"all\", \"all\")\nmapdl.nsel(\"s\", \"loc\", \"x\", 1)\nmapdl.d(\"all\", \"uz\", -0.1)\nmapdl.allsel(\"all\")\nmapdl.solve()"
      ]
    },
    {
      "cell_type": "markdown",
      "metadata": {},
      "source": [
        "Plotting Stresses\n=================\n\n-   Extract the results\n-   Plot the cumulative (0) equivalent stress (SEQV)\n    -   Set the colormap to \\'plasma\\' because it is perceptually\n        uniform\n    -   Show displacement so that we can see any deformation\n"
      ]
    },
    {
      "cell_type": "code",
      "execution_count": null,
      "metadata": {
        "collapsed": false
      },
      "outputs": [],
      "source": [
        "result = mapdl.result\nresult.plot_principal_nodal_stress(\n    0, \"SEQV\", show_edges=True, cmap=\"plasma\", show_displacement=True\n)"
      ]
    },
    {
      "cell_type": "markdown",
      "metadata": {},
      "source": [
        "Extracting Rotational Displacements\n===================================\n\n-   Get a `ansys.mapdl.core.inline_functions.Query`{.interpreted-text\n    role=\"class\"} instance from the `queries` property\n-   Locate the nodes at the four corners of the square\n-   Extract all 3 rotational displacement components for each one\n-   Print them all\n"
      ]
    },
    {
      "cell_type": "code",
      "execution_count": null,
      "metadata": {
        "collapsed": false
      },
      "outputs": [],
      "source": [
        "q = mapdl.queries\n\nnode1 = q.node(0, 0, 0)\nnode2 = q.node(0, 1, 0)\nnode3 = q.node(1, 0, 0)\nnode4 = q.node(1, 1, 0)\n\nnodes = [node1, node2, node3, node4]\n\nrotations = [(q.rotx(n), q.roty(n), q.rotz(n)) for n in nodes]\n\nmessage = f\"\"\"\n(0,1) B _________ C (1,1)\n       |         |\n       |         |\n       |         |\n       |_________|\n(0,0) A           D (1,0)\n\nN | (x_rot_disp, y_rot_disp, z_rot_disp)\n--|------------------------------------\nA | {rotations[0][0]:11.6f},{rotations[0][1]:11.6f},{rotations[0][2]:11.6f}\nB | {rotations[1][0]:11.6f},{rotations[1][1]:11.6f},{rotations[1][2]:11.6f}\nC | {rotations[2][0]:11.6f},{rotations[2][1]:11.6f},{rotations[2][2]:11.6f}\nD | {rotations[3][0]:11.6f},{rotations[3][1]:11.6f},{rotations[3][2]:11.6f}\n\n\"\"\"\n\nprint(message)"
      ]
    },
    {
      "cell_type": "markdown",
      "metadata": {},
      "source": [
        "stop mapdl\n"
      ]
    },
    {
      "cell_type": "code",
      "execution_count": null,
      "metadata": {
        "collapsed": false
      },
      "outputs": [],
      "source": [
        "mapdl.exit()"
      ]
    }
  ],
  "metadata": {
    "kernelspec": {
      "display_name": "Python 3",
      "language": "python",
      "name": "python3"
    },
    "language_info": {
      "codemirror_mode": {
        "name": "ipython",
        "version": 3
      },
      "file_extension": ".py",
      "mimetype": "text/x-python",
      "name": "python",
      "nbconvert_exporter": "python",
      "pygments_lexer": "ipython3",
      "version": "3.8.14"
    }
  },
  "nbformat": 4,
  "nbformat_minor": 0
}