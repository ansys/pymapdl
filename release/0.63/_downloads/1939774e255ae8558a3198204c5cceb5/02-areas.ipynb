{
  "cells": [
    {
      "cell_type": "code",
      "execution_count": null,
      "metadata": {
        "collapsed": false
      },
      "outputs": [],
      "source": [
        "%matplotlib inline"
      ]
    },
    {
      "cell_type": "markdown",
      "metadata": {},
      "source": [
        "Areas {#ref_basic-geometry-areas}\n=====\n\nThis example shows how you can use PyMAPDL to create basic geometry\nusing Pythonic PREP7 area commands.\n"
      ]
    },
    {
      "cell_type": "code",
      "execution_count": null,
      "metadata": {
        "collapsed": false
      },
      "outputs": [],
      "source": [
        "import numpy as np\n\nfrom ansys.mapdl.core import launch_mapdl\n\n# start MAPDL and enter the pre-processing routine\nmapdl = launch_mapdl()\nmapdl.clear()\nmapdl.prep7()\nprint(mapdl)"
      ]
    },
    {
      "cell_type": "markdown",
      "metadata": {},
      "source": [
        "APDL Command: A\n===============\n\nCreate a simple triangle in the XY plane using three keypoints.\n"
      ]
    },
    {
      "cell_type": "code",
      "execution_count": null,
      "metadata": {
        "collapsed": false
      },
      "outputs": [],
      "source": [
        "k0 = mapdl.k(\"\", 0, 0, 0)\nk1 = mapdl.k(\"\", 1, 0, 0)\nk2 = mapdl.k(\"\", 0, 1, 0)\na0 = mapdl.a(k0, k1, k2)\nmapdl.aplot(show_lines=True, line_width=5, show_bounds=True, cpos=\"xy\")"
      ]
    },
    {
      "cell_type": "markdown",
      "metadata": {},
      "source": [
        "APDL Command: AL\n================\n\nCreate an area from four lines.\n"
      ]
    },
    {
      "cell_type": "code",
      "execution_count": null,
      "metadata": {
        "collapsed": false
      },
      "outputs": [],
      "source": [
        "mapdl.clear()\nmapdl.prep7()\n\nk0 = mapdl.k(\"\", 0, 0, 0)\nk1 = mapdl.k(\"\", 1, 0, 0)\nk2 = mapdl.k(\"\", 1, 1, 0)\nk3 = mapdl.k(\"\", 0, 1, 0)\nl0 = mapdl.l(k0, k1)\nl1 = mapdl.l(k1, k2)\nl2 = mapdl.l(k2, k3)\nl3 = mapdl.l(k3, k0)\nanum = mapdl.al(l0, l1, l2, l3)\nmapdl.aplot(show_lines=True, line_width=5, show_bounds=True, cpos=\"xy\")"
      ]
    },
    {
      "cell_type": "markdown",
      "metadata": {},
      "source": [
        "APDL Command: ADRAG\n===================\n\nGenerate areas by dragging a line pattern along a path.\n\nDrag a circle between two keypoints to create an area\n"
      ]
    },
    {
      "cell_type": "code",
      "execution_count": null,
      "metadata": {
        "collapsed": false
      },
      "outputs": [],
      "source": [
        "mapdl.clear()\nmapdl.prep7()\n\nk0 = mapdl.k(\"\", 0, 0, 0)\nk1 = mapdl.k(\"\", 0, 0, 1)\ncarc = mapdl.circle(k0, 1, k1, arc=90)\nl0 = mapdl.l(k0, k1)\nmapdl.adrag(carc[0], nlp1=l0)\nmapdl.aplot(show_lines=True, line_width=5, show_bounds=True, smooth_shading=True)"
      ]
    },
    {
      "cell_type": "markdown",
      "metadata": {},
      "source": [
        "APDL Command: ASBA\n==================\n\nSubtract a `0.5 x 0.5` rectangle from a `1 x 1` rectangle.\n"
      ]
    },
    {
      "cell_type": "code",
      "execution_count": null,
      "metadata": {
        "collapsed": false
      },
      "outputs": [],
      "source": [
        "mapdl.clear()\nmapdl.prep7()\n\nanum0 = mapdl.blc4(0, 0, 1, 1)\nanum1 = mapdl.blc4(0.25, 0.25, 0.5, 0.5)\naout = mapdl.asba(anum0, anum1)\nmapdl.aplot(show_lines=True, line_width=5, show_bounds=True, cpos=\"xy\")"
      ]
    },
    {
      "cell_type": "markdown",
      "metadata": {},
      "source": [
        "Area IDs\n========\n\nReturn an array of the area IDs\n"
      ]
    },
    {
      "cell_type": "code",
      "execution_count": null,
      "metadata": {
        "collapsed": false
      },
      "outputs": [],
      "source": [
        "anum = mapdl.geometry.anum\nanum"
      ]
    },
    {
      "cell_type": "markdown",
      "metadata": {},
      "source": [
        "Area Geometry\n=============\n\nGet the VTK `PolyData` containing lines. This VTK mesh can be saved or\nplotted. For more details, visit <https://docs.pyvista.com>\n\nNote that this is a method so you can select the quality of the areas\n(mesh density), and if you would like a merged output or individual\nmeshes.\n"
      ]
    },
    {
      "cell_type": "code",
      "execution_count": null,
      "metadata": {
        "collapsed": false
      },
      "outputs": [],
      "source": [
        "areas = mapdl.geometry.areas(quality=3)\nareas"
      ]
    },
    {
      "cell_type": "markdown",
      "metadata": {},
      "source": [
        "Merged Area Geometry\n====================\n"
      ]
    },
    {
      "cell_type": "code",
      "execution_count": null,
      "metadata": {
        "collapsed": false
      },
      "outputs": [],
      "source": [
        "area = mapdl.geometry.areas(quality=3, merge=True)\narea\n\n# optionally save the area, or plot it\n# area.save('mesh.vtk')\n# area.plot()"
      ]
    },
    {
      "cell_type": "markdown",
      "metadata": {},
      "source": [
        "Area Selection\n==============\n\nThere are two approaches for selecting areas, the old \\\"legacy\\\" style\nand the new style. The old style is valuable for those who are\ncomfortable with the existing MAPDL commands, and new style is useful\nfor selecting areas in a pythonic manner.\n\nThis example generates a series of random squares and selects them\n"
      ]
    },
    {
      "cell_type": "code",
      "execution_count": null,
      "metadata": {
        "collapsed": false
      },
      "outputs": [],
      "source": [
        "mapdl.clear()\nmapdl.prep7()\n\n\ndef generate_random_area():\n    start_x, start_y, height, width = np.random.random(4)\n    mapdl.blc4(start_x * 10, start_y * 10, height, width)\n\n\n# create 20 random rectangles\nfor i in range(20):\n    generate_random_area()\n\n# Print the area numbers\nprint(mapdl.geometry.anum)"
      ]
    },
    {
      "cell_type": "markdown",
      "metadata": {},
      "source": [
        "Select every other area with the old style command.\n"
      ]
    },
    {
      "cell_type": "code",
      "execution_count": null,
      "metadata": {
        "collapsed": false
      },
      "outputs": [],
      "source": [
        "mapdl.asel(\"S\", \"AREA\", \"\", 1, 20, 2)\nprint(mapdl.geometry.anum)"
      ]
    },
    {
      "cell_type": "markdown",
      "metadata": {},
      "source": [
        "Select every other area with the new style command.\n\nNote that the Area IDs are 1 based in MAPDL, while Python ranges are 0\nbased.\n"
      ]
    },
    {
      "cell_type": "code",
      "execution_count": null,
      "metadata": {
        "collapsed": false
      },
      "outputs": [],
      "source": [
        "mapdl.geometry.area_select(range(1, 21, 2))\nprint(mapdl.geometry.anum)"
      ]
    },
    {
      "cell_type": "markdown",
      "metadata": {},
      "source": [
        "Select areas from a list\n\nNote that you can `return_selected` if you want to see what you have\nselected. This is helpful when reselecting from existing areas.\n"
      ]
    },
    {
      "cell_type": "code",
      "execution_count": null,
      "metadata": {
        "collapsed": false
      },
      "outputs": [],
      "source": [
        "items = mapdl.geometry.area_select([1, 5, 10, 20], return_selected=True)\nprint(items)"
      ]
    },
    {
      "cell_type": "markdown",
      "metadata": {},
      "source": [
        "APDL Command: APLOT\n===================\n\nThis method uses VTK and pyvista to generate a dynamic 3D plot.\n\nThere are a variety of plotting options available for all the common\nplotting methods. Here, we enable the bounds and show the lines of the\nplot while increasing the plot quality with the `quality` parameter.\n\nNote that the [cpos]{.title-ref} keyword argument can be used to\ndescribe the camera direction from the following:\n\n-   `iso` - Isometric view\n-   `xy` - XY Plane view\n-   `xz` - XZ Plane view\n-   `yx` - YX Plane view\n-   `yz` - YZ Plane view\n-   `zx` - ZX Plane view\n-   `zy` - ZY Plane view\n"
      ]
    },
    {
      "cell_type": "code",
      "execution_count": null,
      "metadata": {
        "collapsed": false
      },
      "outputs": [],
      "source": [
        "mapdl.aplot(quality=1, show_bounds=True, cpos=\"iso\", show_lines=True)"
      ]
    },
    {
      "cell_type": "markdown",
      "metadata": {},
      "source": [
        "stop mapdl\n"
      ]
    },
    {
      "cell_type": "code",
      "execution_count": null,
      "metadata": {
        "collapsed": false
      },
      "outputs": [],
      "source": [
        "mapdl.exit()"
      ]
    }
  ],
  "metadata": {
    "kernelspec": {
      "display_name": "Python 3",
      "language": "python",
      "name": "python3"
    },
    "language_info": {
      "codemirror_mode": {
        "name": "ipython",
        "version": 3
      },
      "file_extension": ".py",
      "mimetype": "text/x-python",
      "name": "python",
      "nbconvert_exporter": "python",
      "pygments_lexer": "ipython3",
      "version": "3.8.14"
    }
  },
  "nbformat": 4,
  "nbformat_minor": 0
}