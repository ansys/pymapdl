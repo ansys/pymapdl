{
  "cells": [
    {
      "cell_type": "code",
      "execution_count": null,
      "metadata": {
        "collapsed": false
      },
      "outputs": [],
      "source": [
        "%matplotlib inline"
      ]
    },
    {
      "cell_type": "markdown",
      "metadata": {},
      "source": [
        "Manipulate APDLMath vectors or dense matrices as NumPy Arrays\n=============================================================\n\nThis example demonstrates how to exchange data between MAPDL and Python\nvia numpy arrays.\n\n::: {.note}\n::: {.title}\nNote\n:::\n\nThis example requires Ansys 2021R2.\n:::\n"
      ]
    },
    {
      "cell_type": "code",
      "execution_count": null,
      "metadata": {
        "collapsed": false
      },
      "outputs": [],
      "source": [
        "import numpy as np\n\nfrom ansys.mapdl.core import launch_mapdl\n\n# Start MAPDL as a service and disable all but error messages.\n# Create an APDLMath object.\nmapdl = launch_mapdl()\nmm = mapdl.math"
      ]
    },
    {
      "cell_type": "markdown",
      "metadata": {},
      "source": [
        "Convert an APDLMath Vector into an NumPy Array\n==============================================\n\nFirst, allocate a APDLMath vector with 10 doubles\n"
      ]
    },
    {
      "cell_type": "code",
      "execution_count": null,
      "metadata": {
        "collapsed": false
      },
      "outputs": [],
      "source": [
        "apdl_vec = mm.ones(10)\nprint(apdl_vec)"
      ]
    },
    {
      "cell_type": "markdown",
      "metadata": {},
      "source": [
        "Then create an numpy array from this APDLMath vector.\n\nNote that these are two separate objects: memory is duplicated.\nModifying one object does not modify its clone.\n"
      ]
    },
    {
      "cell_type": "code",
      "execution_count": null,
      "metadata": {
        "collapsed": false
      },
      "outputs": [],
      "source": [
        "pv = apdl_vec.asarray()\nprint(pv)"
      ]
    },
    {
      "cell_type": "markdown",
      "metadata": {},
      "source": [
        "You can then manipulate this numpy array with all existing numpy\nfeatures\n"
      ]
    },
    {
      "cell_type": "code",
      "execution_count": null,
      "metadata": {
        "collapsed": false
      },
      "outputs": [],
      "source": [
        "pv = (pv + 1) ** 2\nprint(pv)"
      ]
    },
    {
      "cell_type": "markdown",
      "metadata": {},
      "source": [
        "Alternatively, the APDLMath object can be operated on directly with\nnumpy with the numpy methods.\n"
      ]
    },
    {
      "cell_type": "code",
      "execution_count": null,
      "metadata": {
        "collapsed": false
      },
      "outputs": [],
      "source": [
        "print(np.max(apdl_vec))\nprint(np.linalg.norm(apdl_vec))"
      ]
    },
    {
      "cell_type": "markdown",
      "metadata": {},
      "source": [
        "Note that some methods have APDL corollaries, and these methods are more\nefficient if performed within MAPDL.\n\nFor example, the norm method can be performed within MAPDL\n"
      ]
    },
    {
      "cell_type": "code",
      "execution_count": null,
      "metadata": {
        "collapsed": false
      },
      "outputs": [],
      "source": [
        "print(apdl_vec.norm(), np.linalg.norm(apdl_vec))"
      ]
    },
    {
      "cell_type": "markdown",
      "metadata": {},
      "source": [
        "Copy a NumPy Array to an APDLMath vector\n========================================\n\nYou can push back any numpy vector or 2D array to MAPDL. This creates a\nnew APDLMath, which in this case is named `'NewVec'`.\n"
      ]
    },
    {
      "cell_type": "code",
      "execution_count": null,
      "metadata": {
        "collapsed": false
      },
      "outputs": [],
      "source": [
        "mm.set_vec(pv, \"NewVec\")\n\n# verify this vector exists\nprint(mm)"
      ]
    },
    {
      "cell_type": "markdown",
      "metadata": {},
      "source": [
        "Create a Python handle to this vector by specifying its name\n"
      ]
    },
    {
      "cell_type": "code",
      "execution_count": null,
      "metadata": {
        "collapsed": false
      },
      "outputs": [],
      "source": [
        "v2 = mm.vec(name=\"NewVec\")\nprint(v2)"
      ]
    },
    {
      "cell_type": "markdown",
      "metadata": {},
      "source": [
        "Dense Numpy Arrays\n==================\n\nThe same features apply to dense APDL matrices and numpy arrays.\n\nAllow allocate an APDLMath Dense Matrix and convert it to a numpy array\n"
      ]
    },
    {
      "cell_type": "code",
      "execution_count": null,
      "metadata": {
        "collapsed": false
      },
      "outputs": [],
      "source": [
        "apdl_mat = mm.rand(3, 3)\nnp_arr = apdl_mat.asarray()\n\nassert np.allclose(apdl_mat, np_arr)\nprint(apdl_mat)\nprint(np_arr)"
      ]
    },
    {
      "cell_type": "markdown",
      "metadata": {},
      "source": [
        "You can load numpy array to APDL with the matrix method\n"
      ]
    },
    {
      "cell_type": "code",
      "execution_count": null,
      "metadata": {
        "collapsed": false
      },
      "outputs": [],
      "source": [
        "np_rand = np.random.random((4, 4))\nans_mat = mm.matrix(np_rand)\n\n# print the autogenerated name of the this matrix\nprint(ans_mat.id)"
      ]
    },
    {
      "cell_type": "markdown",
      "metadata": {},
      "source": [
        "Load this matrix from APDL and verify it is identical\n"
      ]
    },
    {
      "cell_type": "code",
      "execution_count": null,
      "metadata": {
        "collapsed": false
      },
      "outputs": [],
      "source": [
        "from_ans = ans_mat.asarray()\nprint(np.allclose(from_ans, np_rand))"
      ]
    },
    {
      "cell_type": "markdown",
      "metadata": {},
      "source": [
        "stop mapdl\n"
      ]
    },
    {
      "cell_type": "code",
      "execution_count": null,
      "metadata": {
        "collapsed": false
      },
      "outputs": [],
      "source": [
        "mapdl.exit()"
      ]
    }
  ],
  "metadata": {
    "kernelspec": {
      "display_name": "Python 3",
      "language": "python",
      "name": "python3"
    },
    "language_info": {
      "codemirror_mode": {
        "name": "ipython",
        "version": 3
      },
      "file_extension": ".py",
      "mimetype": "text/x-python",
      "name": "python",
      "nbconvert_exporter": "python",
      "pygments_lexer": "ipython3",
      "version": "3.9.16"
    }
  },
  "nbformat": 4,
  "nbformat_minor": 0
}